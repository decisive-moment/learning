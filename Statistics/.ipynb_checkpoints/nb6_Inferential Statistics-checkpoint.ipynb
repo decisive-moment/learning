{
 "cells": [
  {
   "cell_type": "markdown",
   "id": "5f89ff48-298a-488e-aa3f-32825794d491",
   "metadata": {},
   "source": [
    "# Hypothesis Testing"
   ]
  },
  {
   "cell_type": "markdown",
   "id": "e4d648a5-7a72-489e-a272-4cd9adae08ef",
   "metadata": {},
   "source": [
    "Chaitanya Anand <br>\n",
    "(https://github.com/decisive-moment) <br>\n",
    "Created on: Nov 09, 2024 <br>\n",
    "Last Edit: Nov 10, 2024 <br>\n",
    "Some notes on confidence intervals:  <br>\n",
    "- Coursera course on inferential statistics (course 4 of a 5 part specialization on Methods and Statistics in Social Sciences): <br>\n",
    "https://www.coursera.org/learn/inferential-statistics"
   ]
  },
  {
   "cell_type": "markdown",
   "id": "e8e69726-767a-478b-a0be-2c6432186c76",
   "metadata": {},
   "source": [
    "### 1. Comparing Two Groups"
   ]
  },
  {
   "cell_type": "code",
   "execution_count": null,
   "id": "9f5a7438-954b-43ed-aade-71efac9c4396",
   "metadata": {},
   "outputs": [],
   "source": []
  },
  {
   "cell_type": "code",
   "execution_count": null,
   "id": "c7a81524-e726-4a72-b3cc-4bfb2a34162a",
   "metadata": {},
   "outputs": [],
   "source": []
  },
  {
   "cell_type": "code",
   "execution_count": null,
   "id": "e8bd3d87-3685-427f-a836-4dbdedcfdab1",
   "metadata": {},
   "outputs": [],
   "source": []
  },
  {
   "cell_type": "code",
   "execution_count": null,
   "id": "753c7670-f164-4532-b610-b2a1d485c989",
   "metadata": {},
   "outputs": [],
   "source": []
  },
  {
   "cell_type": "code",
   "execution_count": null,
   "id": "6af424e2-ef43-4040-90fe-261890360465",
   "metadata": {},
   "outputs": [],
   "source": []
  },
  {
   "cell_type": "code",
   "execution_count": null,
   "id": "e2bd3fb5-e638-428e-a197-530c969d36dc",
   "metadata": {},
   "outputs": [],
   "source": []
  },
  {
   "cell_type": "code",
   "execution_count": null,
   "id": "f3e2dde2-f940-4186-a156-d4728a83ebe4",
   "metadata": {},
   "outputs": [],
   "source": []
  },
  {
   "cell_type": "code",
   "execution_count": null,
   "id": "7bab2fea-2eb7-4067-9b3d-194d17f86aa0",
   "metadata": {},
   "outputs": [],
   "source": []
  },
  {
   "cell_type": "code",
   "execution_count": null,
   "id": "7abc1659-5a44-4749-b469-7438b87021b4",
   "metadata": {},
   "outputs": [],
   "source": []
  },
  {
   "cell_type": "code",
   "execution_count": null,
   "id": "51e141c2-ba98-4151-9414-089925ab2104",
   "metadata": {},
   "outputs": [],
   "source": []
  },
  {
   "cell_type": "code",
   "execution_count": null,
   "id": "93c026e8-5f64-4d75-90a2-fb388b1ea4cd",
   "metadata": {},
   "outputs": [],
   "source": []
  },
  {
   "cell_type": "code",
   "execution_count": null,
   "id": "0b9eac60-7f85-4ae8-be56-db2debf8ca6e",
   "metadata": {},
   "outputs": [],
   "source": []
  },
  {
   "cell_type": "code",
   "execution_count": null,
   "id": "6976a127-1cc4-479d-9d8d-379406526e88",
   "metadata": {},
   "outputs": [],
   "source": []
  },
  {
   "cell_type": "code",
   "execution_count": null,
   "id": "da40ab43-f9dc-4730-a32e-48748e420cbf",
   "metadata": {},
   "outputs": [],
   "source": []
  },
  {
   "cell_type": "code",
   "execution_count": null,
   "id": "01a3b5d1-159d-4ab3-89ca-966f54e13170",
   "metadata": {},
   "outputs": [],
   "source": []
  },
  {
   "cell_type": "code",
   "execution_count": null,
   "id": "bf977a60-7ed1-4ddc-844b-1129a09ed791",
   "metadata": {},
   "outputs": [],
   "source": []
  },
  {
   "cell_type": "code",
   "execution_count": null,
   "id": "d8678cef-d59a-4948-a55f-9779c3f5b6dd",
   "metadata": {},
   "outputs": [],
   "source": []
  },
  {
   "cell_type": "code",
   "execution_count": null,
   "id": "56406048-faa5-4214-ba89-4fc2c7470270",
   "metadata": {},
   "outputs": [],
   "source": []
  },
  {
   "cell_type": "code",
   "execution_count": null,
   "id": "5cca0b8f-8570-4ccd-8682-43ec0d630684",
   "metadata": {},
   "outputs": [],
   "source": []
  }
 ],
 "metadata": {
  "kernelspec": {
   "display_name": "R",
   "language": "R",
   "name": "ir"
  },
  "language_info": {
   "codemirror_mode": "r",
   "file_extension": ".r",
   "mimetype": "text/x-r-source",
   "name": "R",
   "pygments_lexer": "r",
   "version": "4.4.0"
  }
 },
 "nbformat": 4,
 "nbformat_minor": 5
}
