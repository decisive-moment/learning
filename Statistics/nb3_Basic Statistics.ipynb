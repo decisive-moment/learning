{
 "cells": [
  {
   "cell_type": "markdown",
   "id": "5f89ff48-298a-488e-aa3f-32825794d491",
   "metadata": {},
   "source": [
    "# Basic Statistics"
   ]
  },
  {
   "cell_type": "markdown",
   "id": "e4d648a5-7a72-489e-a272-4cd9adae08ef",
   "metadata": {},
   "source": [
    "Chaitanya Anand <br>\n",
    "(https://github.com/decisive-moment) <br>\n",
    "Created on: Nov 09, 2024 <br>\n",
    "Last Edit: Nov 09, 2024 <br>\n",
    "Some notes on basic statistics:  <br>\n",
    "- Coursera course on basic statistics (course 1 of a 5 part specialization on Methods and Statistics in Social Sciences): <br>\n",
    "https://www.coursera.org/learn/basic-statistics"
   ]
  },
  {
   "cell_type": "markdown",
   "id": "a12f8f95-6227-47c0-8285-a2cc591e0fa7",
   "metadata": {},
   "source": [
    "### 1. Data: Cases and variables"
   ]
  },
  {
   "cell_type": "code",
   "execution_count": null,
   "id": "c6d28829-929d-4312-9ee2-ba1b14835503",
   "metadata": {},
   "outputs": [],
   "source": []
  },
  {
   "cell_type": "code",
   "execution_count": null,
   "id": "5810b656-d22b-485e-9c68-554bf06bde78",
   "metadata": {},
   "outputs": [],
   "source": []
  },
  {
   "cell_type": "markdown",
   "id": "109f1cc8-f6a8-4166-b7bf-1ad313400da0",
   "metadata": {},
   "source": [
    "### 2. Measures of central tendency"
   ]
  },
  {
   "cell_type": "code",
   "execution_count": null,
   "id": "cc5addb9-cd9c-4ea3-9463-3a1a2f5249bb",
   "metadata": {},
   "outputs": [],
   "source": []
  },
  {
   "cell_type": "code",
   "execution_count": null,
   "id": "4cdaf4e1-a962-4406-9f50-dba66387c1fd",
   "metadata": {},
   "outputs": [],
   "source": []
  },
  {
   "cell_type": "code",
   "execution_count": null,
   "id": "7d2a7687-8902-4c9c-aea4-66ef6f11b89e",
   "metadata": {},
   "outputs": [],
   "source": []
  },
  {
   "cell_type": "code",
   "execution_count": null,
   "id": "e885a44d-570c-470d-9c7d-f9781e12dfc6",
   "metadata": {},
   "outputs": [],
   "source": []
  },
  {
   "cell_type": "markdown",
   "id": "4b177957-b6f1-4743-b6f5-d5db7fb29596",
   "metadata": {},
   "source": [
    "### 3. Measures of dispersion"
   ]
  },
  {
   "cell_type": "code",
   "execution_count": null,
   "id": "f689eb89-7d30-4f93-a97c-f8c1d0d3ba1c",
   "metadata": {},
   "outputs": [],
   "source": []
  },
  {
   "cell_type": "code",
   "execution_count": null,
   "id": "0f25db9d-5cd3-4b70-9ad6-81053bc5856e",
   "metadata": {},
   "outputs": [],
   "source": []
  },
  {
   "cell_type": "code",
   "execution_count": null,
   "id": "bdabe412-46a6-4a5b-afe3-aa2c53835f64",
   "metadata": {},
   "outputs": [],
   "source": []
  },
  {
   "cell_type": "markdown",
   "id": "5b8fbcf9-78e1-4083-a6e3-84cf2f051a43",
   "metadata": {},
   "source": [
    "### 4. Z score"
   ]
  },
  {
   "cell_type": "markdown",
   "id": "b61f2941-0812-4a79-865f-4dafadc3b18b",
   "metadata": {},
   "source": [
    "The Z score of a data point in a dataset is the measure of number of standard deviations it is removed from the mean"
   ]
  },
  {
   "cell_type": "markdown",
   "id": "a3fab3de-d898-4209-ba5f-4f18ae5aa051",
   "metadata": {},
   "source": [
    "z scores are useful to determine how extreme(or how typical) a particular observation is in a dataset."
   ]
  },
  {
   "cell_type": "markdown",
   "id": "e396f892-50bd-4807-9f48-1764ea4e36d9",
   "metadata": {},
   "source": [
    "If we convert all the values of a variable to the z score, we are said to have standardised the variable.\n",
    "A standardised variable has mean equal to zero and standard deviation equal to 1"
   ]
  },
  {
   "cell_type": "markdown",
   "id": "f27caa53-b8df-4d97-99e6-a52b5bf5e017",
   "metadata": {},
   "source": [
    "### 5. Frequency tables"
   ]
  },
  {
   "cell_type": "code",
   "execution_count": null,
   "id": "f4cd1d4f-e78a-43f1-a780-55570122cfe7",
   "metadata": {},
   "outputs": [],
   "source": []
  },
  {
   "cell_type": "code",
   "execution_count": null,
   "id": "e83d63e5-2ed8-4329-8a2a-8ef9ce3bacb3",
   "metadata": {},
   "outputs": [],
   "source": []
  },
  {
   "cell_type": "code",
   "execution_count": null,
   "id": "509f2b9c-8f0e-4e6b-805e-41597bd98049",
   "metadata": {},
   "outputs": [],
   "source": []
  },
  {
   "cell_type": "code",
   "execution_count": null,
   "id": "2b3d9a8e-d943-4df1-9ab7-535214ed87e9",
   "metadata": {},
   "outputs": [],
   "source": []
  },
  {
   "cell_type": "code",
   "execution_count": null,
   "id": "53d832ee-3f27-4dba-93b7-fa1bf95a6f9e",
   "metadata": {},
   "outputs": [],
   "source": []
  },
  {
   "cell_type": "markdown",
   "id": "979ed91e-3a9b-4688-9af3-cf322938aa67",
   "metadata": {},
   "source": [
    "### 6. Contingency tables and scatter plots"
   ]
  },
  {
   "cell_type": "code",
   "execution_count": null,
   "id": "c54ba4b3-393f-44d4-9609-dc4197871b36",
   "metadata": {},
   "outputs": [],
   "source": []
  },
  {
   "cell_type": "code",
   "execution_count": null,
   "id": "c1c47032-ee4c-4bb9-ab8b-0e23d61f58e2",
   "metadata": {},
   "outputs": [],
   "source": []
  },
  {
   "cell_type": "code",
   "execution_count": null,
   "id": "737dc937-c467-4033-ac0d-3398f5bc3580",
   "metadata": {},
   "outputs": [],
   "source": []
  },
  {
   "cell_type": "code",
   "execution_count": null,
   "id": "cfa3c71a-24f3-4a1a-bc9f-0043a0e6d0a1",
   "metadata": {},
   "outputs": [],
   "source": []
  },
  {
   "cell_type": "markdown",
   "id": "a0082ce7-3bdf-4274-b872-07011b84499d",
   "metadata": {},
   "source": [
    "### 7. Pearson's Correlation Coefficient (Pearson's R)"
   ]
  },
  {
   "cell_type": "markdown",
   "id": "24869e46-dec9-42f8-b1d9-9603e770df21",
   "metadata": {},
   "source": [
    "While a scatter plot lets us visualise the relationship between two quantative variables. It does not tell us exactly how strong this relationship is. The Pearson's correlation coefficient tells us the direction and the strength of two quantitative linear variables"
   ]
  },
  {
   "cell_type": "markdown",
   "id": "2a4d4e5a-0d1a-4aa7-9d79-5722c927b949",
   "metadata": {},
   "source": [
    "$\n",
    "\\begin{align}\n",
    "r = \\frac{\\sum{Z_x Z_y}}{n-1} \\\\\n",
    "\\end{align}\n",
    "$<br>"
   ]
  },
  {
   "cell_type": "markdown",
   "id": "31434f68-f26e-4a49-b93d-11522b310bf6",
   "metadata": {},
   "source": [
    "### 8. Regression"
   ]
  },
  {
   "cell_type": "markdown",
   "id": "964858c2-340f-43fe-aba4-df3b28948318",
   "metadata": {},
   "source": [
    "Assumptions required for regression to be valid:\n",
    "- Linear Relationship: The core premise of multiple linear regression is the existence of a linear relationship between the dependent (outcome) variable and the independent variables. This linearity can be visually inspected using scatterplots, which should reveal a straight-line relationship rather than a curvilinear one.\n",
    "- Multivariate Normality: The analysis assumes that the residuals (the differences between observed and predicted values) are normally distributed. This assumption can be assessed by examining histograms or Q-Q plots of the residuals, or through statistical tests such as the Kolmogorov-Smirnov test.\n",
    "- No Multicollinearity: It is essential that the independent variables are not too highly correlated with each other, a condition known as multicollinearity. This can be checked using:\n",
    "Correlation matrices, where correlation coefficients should ideally be below 0.80.\n",
    "Variance Inflation Factor (VIF), with VIF values above 10 indicating problematic multicollinearity. Solutions may include centering the data (subtracting the mean score from each observation) or removing the variables causing multicollinearity.\n",
    "- Homoscedasticity: The variance of error terms (residuals) should be consistent across all levels of the independent variables. A scatterplot of residuals versus predicted values should not display any discernible pattern, such as a cone-shaped distribution, which would indicate heteroscedasticity. Addressing heteroscedasticity might involve data transformation or adding a quadratic term to the model."
   ]
  },
  {
   "cell_type": "markdown",
   "id": "f2da9bd6-c83e-4d0c-8456-5f1ebefb93e7",
   "metadata": {},
   "source": [
    "Satrt with a random line\n",
    "Adjust the line in order to minimise the sum of least squares of the residuals of the individual datapoints from the line"
   ]
  },
  {
   "cell_type": "markdown",
   "id": "5d900153-6e0e-430f-9410-3394e6e76546",
   "metadata": {},
   "source": [
    "r square is a measure of how well the line fits the data. Two intuitive explanations:\n",
    "1. How much lesser is the residual of the datapoints from the regression line as compared to the residuals from the mean (i.e how mcuch better does the line explain the data as compared to the mean)\n",
    "2. How much of the variation on the target variable is explained by the predictor variable"
   ]
  },
  {
   "cell_type": "code",
   "execution_count": null,
   "id": "1b8e9fe2-f07d-44d1-b2c4-a6f03428da6b",
   "metadata": {},
   "outputs": [],
   "source": []
  },
  {
   "cell_type": "code",
   "execution_count": null,
   "id": "39a32409-dbca-47a0-b5fb-359cac08736a",
   "metadata": {},
   "outputs": [],
   "source": []
  },
  {
   "cell_type": "code",
   "execution_count": null,
   "id": "0b9eac60-7f85-4ae8-be56-db2debf8ca6e",
   "metadata": {},
   "outputs": [],
   "source": []
  },
  {
   "cell_type": "code",
   "execution_count": null,
   "id": "6976a127-1cc4-479d-9d8d-379406526e88",
   "metadata": {},
   "outputs": [],
   "source": []
  },
  {
   "cell_type": "code",
   "execution_count": null,
   "id": "da40ab43-f9dc-4730-a32e-48748e420cbf",
   "metadata": {},
   "outputs": [],
   "source": []
  },
  {
   "cell_type": "code",
   "execution_count": null,
   "id": "01a3b5d1-159d-4ab3-89ca-966f54e13170",
   "metadata": {},
   "outputs": [],
   "source": []
  },
  {
   "cell_type": "code",
   "execution_count": null,
   "id": "bf977a60-7ed1-4ddc-844b-1129a09ed791",
   "metadata": {},
   "outputs": [],
   "source": []
  },
  {
   "cell_type": "code",
   "execution_count": null,
   "id": "d8678cef-d59a-4948-a55f-9779c3f5b6dd",
   "metadata": {},
   "outputs": [],
   "source": []
  },
  {
   "cell_type": "code",
   "execution_count": null,
   "id": "56406048-faa5-4214-ba89-4fc2c7470270",
   "metadata": {},
   "outputs": [],
   "source": []
  },
  {
   "cell_type": "code",
   "execution_count": null,
   "id": "5cca0b8f-8570-4ccd-8682-43ec0d630684",
   "metadata": {},
   "outputs": [],
   "source": []
  }
 ],
 "metadata": {
  "kernelspec": {
   "display_name": "R",
   "language": "R",
   "name": "ir"
  },
  "language_info": {
   "codemirror_mode": "r",
   "file_extension": ".r",
   "mimetype": "text/x-r-source",
   "name": "R",
   "pygments_lexer": "r",
   "version": "4.4.0"
  }
 },
 "nbformat": 4,
 "nbformat_minor": 5
}
