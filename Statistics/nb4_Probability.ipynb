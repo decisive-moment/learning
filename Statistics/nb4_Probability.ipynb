{
 "cells": [
  {
   "cell_type": "markdown",
   "id": "5f89ff48-298a-488e-aa3f-32825794d491",
   "metadata": {},
   "source": [
    "# Probability"
   ]
  },
  {
   "cell_type": "markdown",
   "id": "e4d648a5-7a72-489e-a272-4cd9adae08ef",
   "metadata": {},
   "source": [
    "Chaitanya Anand <br>\n",
    "(https://github.com/decisive-moment) <br>\n",
    "Created on: Nov 09, 2024 <br>\n",
    "Last Edit: Nov 09, 2024 <br>\n",
    "Some notes on basic basics of probability:  <br>\n",
    "- Coursera course on basic statistics (course 1 of a 5 part specialization on Methods and Statistics in Social Sciences): <br>\n",
    "https://www.coursera.org/learn/basic-statistics"
   ]
  },
  {
   "cell_type": "markdown",
   "id": "bef483a2-b604-49e3-8485-6c2eb9973c53",
   "metadata": {},
   "source": [
    "### 1. Baye's Law"
   ]
  },
  {
   "cell_type": "markdown",
   "id": "e0966efe-47a6-4301-b4f8-cc1fa94138e0",
   "metadata": {},
   "source": [
    "$\n",
    "\\begin{align}\n",
    "P(A|B) = \\frac{P(B|A) \\times P(A)}{P(B)}\n",
    "\\end{align}\n",
    "$<br>\n",
    "\n",
    "Can be derived from:<br>\n",
    "$\n",
    "\\begin{align}\n",
    "P(A \\land B) = P(B|A) \\times P(A)\n",
    "\\end{align}\n",
    "$<br>\n",
    "\n",
    "which is equivalent to:<br>\n",
    "$\n",
    "\\begin{align}\n",
    "P(A \\land B) = P(A|B) \\times P(B)\n",
    "\\end{align}\n",
    "$<br>\n",
    "\n",
    "Hence:<br>\n",
    "$\n",
    "\\begin{align}\n",
    "P(B|A) \\times P(A) = P(A|B) \\times P(B)\n",
    "\\end{align}\n",
    "$<br>"
   ]
  },
  {
   "cell_type": "code",
   "execution_count": null,
   "id": "00d48560-c312-4909-8135-a84edf184e7b",
   "metadata": {},
   "outputs": [],
   "source": []
  },
  {
   "cell_type": "code",
   "execution_count": null,
   "id": "64a68007-3b5d-4eaf-9ddc-61e6452cfb5e",
   "metadata": {},
   "outputs": [],
   "source": []
  },
  {
   "cell_type": "code",
   "execution_count": null,
   "id": "e0e48672-d8d8-4bad-b423-249f642fc3b4",
   "metadata": {},
   "outputs": [],
   "source": []
  },
  {
   "cell_type": "code",
   "execution_count": null,
   "id": "ff82ba70-bbe7-4d31-9997-2cddb87e1454",
   "metadata": {},
   "outputs": [],
   "source": []
  },
  {
   "cell_type": "code",
   "execution_count": null,
   "id": "3a8d3cd2-cb7d-4c77-a785-ae1cd51765e8",
   "metadata": {},
   "outputs": [],
   "source": []
  },
  {
   "cell_type": "code",
   "execution_count": null,
   "id": "b87cad3f-1c2e-413a-a48b-f80e94b22aee",
   "metadata": {},
   "outputs": [],
   "source": []
  },
  {
   "cell_type": "code",
   "execution_count": null,
   "id": "9358d724-af0e-4c49-886b-d27aab7699d9",
   "metadata": {},
   "outputs": [],
   "source": []
  },
  {
   "cell_type": "code",
   "execution_count": null,
   "id": "ef29ff83-4ecc-4085-8c26-57424132b8e1",
   "metadata": {},
   "outputs": [],
   "source": []
  },
  {
   "cell_type": "code",
   "execution_count": null,
   "id": "847f9663-68c7-4427-a1a3-dbaabc7199d6",
   "metadata": {},
   "outputs": [],
   "source": []
  },
  {
   "cell_type": "code",
   "execution_count": null,
   "id": "48ae0ff9-7cb7-4e46-82e0-3351bcae3fdb",
   "metadata": {},
   "outputs": [],
   "source": []
  },
  {
   "cell_type": "code",
   "execution_count": null,
   "id": "64fc823d-63ad-4c50-a097-32bbeb38117a",
   "metadata": {},
   "outputs": [],
   "source": []
  },
  {
   "cell_type": "code",
   "execution_count": null,
   "id": "bb186a2a-fcc0-447f-93aa-4a53fc76217a",
   "metadata": {},
   "outputs": [],
   "source": []
  },
  {
   "cell_type": "code",
   "execution_count": null,
   "id": "f5f62756-ae9f-4065-97c3-b2eb730a8469",
   "metadata": {},
   "outputs": [],
   "source": []
  },
  {
   "cell_type": "markdown",
   "id": "f2da9bd6-c83e-4d0c-8456-5f1ebefb93e7",
   "metadata": {},
   "source": [
    "Satrt with a random line\n",
    "Adjust the line in order to minimise the sum of least squares of the residuals of the individual datapoints from the line"
   ]
  },
  {
   "cell_type": "markdown",
   "id": "5d900153-6e0e-430f-9410-3394e6e76546",
   "metadata": {},
   "source": [
    "r square is a measure of how well the line fits the data. Two intuitive explanations:\n",
    "1. How much lesser is the residual of the datapoints from the regression line as compared to the residuals from the mean (i.e how mcuch better does the line explain the data as compared to the mean)\n",
    "2. How much of the variation on the target variable is explained by the predictor variable"
   ]
  },
  {
   "cell_type": "code",
   "execution_count": null,
   "id": "1b8e9fe2-f07d-44d1-b2c4-a6f03428da6b",
   "metadata": {},
   "outputs": [],
   "source": []
  },
  {
   "cell_type": "code",
   "execution_count": null,
   "id": "39a32409-dbca-47a0-b5fb-359cac08736a",
   "metadata": {},
   "outputs": [],
   "source": []
  },
  {
   "cell_type": "code",
   "execution_count": null,
   "id": "0b9eac60-7f85-4ae8-be56-db2debf8ca6e",
   "metadata": {},
   "outputs": [],
   "source": []
  },
  {
   "cell_type": "code",
   "execution_count": null,
   "id": "6976a127-1cc4-479d-9d8d-379406526e88",
   "metadata": {},
   "outputs": [],
   "source": []
  },
  {
   "cell_type": "code",
   "execution_count": null,
   "id": "da40ab43-f9dc-4730-a32e-48748e420cbf",
   "metadata": {},
   "outputs": [],
   "source": []
  },
  {
   "cell_type": "code",
   "execution_count": null,
   "id": "01a3b5d1-159d-4ab3-89ca-966f54e13170",
   "metadata": {},
   "outputs": [],
   "source": []
  },
  {
   "cell_type": "code",
   "execution_count": null,
   "id": "bf977a60-7ed1-4ddc-844b-1129a09ed791",
   "metadata": {},
   "outputs": [],
   "source": []
  },
  {
   "cell_type": "code",
   "execution_count": null,
   "id": "d8678cef-d59a-4948-a55f-9779c3f5b6dd",
   "metadata": {},
   "outputs": [],
   "source": []
  },
  {
   "cell_type": "code",
   "execution_count": null,
   "id": "56406048-faa5-4214-ba89-4fc2c7470270",
   "metadata": {},
   "outputs": [],
   "source": []
  },
  {
   "cell_type": "code",
   "execution_count": null,
   "id": "5cca0b8f-8570-4ccd-8682-43ec0d630684",
   "metadata": {},
   "outputs": [],
   "source": []
  }
 ],
 "metadata": {
  "kernelspec": {
   "display_name": "R",
   "language": "R",
   "name": "ir"
  },
  "language_info": {
   "codemirror_mode": "r",
   "file_extension": ".r",
   "mimetype": "text/x-r-source",
   "name": "R",
   "pygments_lexer": "r",
   "version": "4.4.0"
  }
 },
 "nbformat": 4,
 "nbformat_minor": 5
}
