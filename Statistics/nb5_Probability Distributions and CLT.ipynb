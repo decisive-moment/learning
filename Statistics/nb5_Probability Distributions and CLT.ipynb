{
 "cells": [
  {
   "cell_type": "markdown",
   "id": "5f89ff48-298a-488e-aa3f-32825794d491",
   "metadata": {},
   "source": [
    "# Probability"
   ]
  },
  {
   "cell_type": "markdown",
   "id": "e4d648a5-7a72-489e-a272-4cd9adae08ef",
   "metadata": {},
   "source": [
    "Chaitanya Anand <br>\n",
    "(https://github.com/decisive-moment) <br>\n",
    "Created on: Nov 09, 2024 <br>\n",
    "Last Edit: Nov 09, 2024 <br>\n",
    "Some notes on basic basics of probability distributions:  <br>\n",
    "- Coursera course on basic statistics (course 1 of a 5 part specialization on Methods and Statistics in Social Sciences): <br>\n",
    "https://www.coursera.org/learn/basic-statistics"
   ]
  },
  {
   "cell_type": "markdown",
   "id": "bef483a2-b604-49e3-8485-6c2eb9973c53",
   "metadata": {},
   "source": [
    "### 1. Binomial distribution"
   ]
  },
  {
   "cell_type": "markdown",
   "id": "e0966efe-47a6-4301-b4f8-cc1fa94138e0",
   "metadata": {},
   "source": [
    "The Binomial distribution describes the probability of observing x number of successes in a series of n binary random events (known as trials) with probability of success p in each trial. The Binomial distribution is described by.<br>\n",
    "\n",
    "$\n",
    "\\begin{align}\n",
    "P(x) = ^{n}C_{x}p^x(1-p)^{n-x} = \\frac{n!}{x!(n-x)!} p^x(1-p)^{n-x}\n",
    "\\end{align}\n",
    "$<br>\n",
    "\n",
    "The distribution is characterised by n and p and has a mean and standard deviations as follows<br>\n",
    "$\n",
    "\\begin{align}\n",
    "\\mu = n \\times p\n",
    "\\end{align}\n",
    "$<br>\n",
    "\n",
    "$\n",
    "\\begin{align}\n",
    "\\sigma = \\sqrt{np(1-p)}\n",
    "\\end{align}\n",
    "$<br>"
   ]
  },
  {
   "cell_type": "markdown",
   "id": "2204caea-b673-421b-bcba-d11fa1ae307f",
   "metadata": {},
   "source": [
    "### 2. Poission Distribution"
   ]
  },
  {
   "cell_type": "markdown",
   "id": "14cf834d-3e35-4454-891d-5ee739070ff3",
   "metadata": {},
   "source": [
    "### 3. Normal Distribution"
   ]
  },
  {
   "cell_type": "code",
   "execution_count": null,
   "id": "2cabcec0-8769-4169-a4fd-df295d03f931",
   "metadata": {},
   "outputs": [],
   "source": []
  },
  {
   "cell_type": "code",
   "execution_count": null,
   "id": "e5114dbc-8238-46c2-a7f3-4d64d23e2095",
   "metadata": {},
   "outputs": [],
   "source": []
  },
  {
   "cell_type": "markdown",
   "id": "808c1a12-26f1-453d-ba42-6b9ae4803ecf",
   "metadata": {},
   "source": [
    "### Sampling Distribution of the sample mean and the Central Limit Theorem"
   ]
  },
  {
   "cell_type": "markdown",
   "id": "cb3b68c6-a81f-4c54-988b-c6f3d3fab5a9",
   "metadata": {},
   "source": [
    "The mean value of a parameter $x_i$ of each individual $i$ in a population of size $N$ is defined as:<br>\n",
    "$\n",
    "\\begin{align}\n",
    "\\mu = \\frac{\\sum x_i}{N}\n",
    "\\end{align}\n",
    "$<br>\n",
    "\n",
    "The variance of the same parameter $x_i$ of the same population is defined as:<br>\n",
    "$\n",
    "\\begin{align}\n",
    "\\sigma = \\frac{\\sum (x_i - \\mu)^2}{N}\n",
    "\\end{align}\n",
    "$<br>\n",
    "\n",
    "\n",
    "A sample of size $n$ is drawn from the population. We can calculate the mean and variance of this sample as:<br>\n",
    "$\n",
    "\\begin{align}\n",
    "\\bar x = \\frac{\\sum x_i}{n}\n",
    "\\end{align}\n",
    "$<br>\n",
    "\n",
    "$\n",
    "\\begin{align}\n",
    "\\hat \\sigma = \\frac{\\sum (x_i - \\bar x)^2}{n}\n",
    "\\end{align}\n",
    "$<br>\n"
   ]
  },
  {
   "cell_type": "markdown",
   "id": "a9c5c621-5ac1-4993-b194-eb602afc217c",
   "metadata": {},
   "source": [
    "On repeated sampling, the expected value of $\\bar x$ is the same as the sample mean $\\mu$. Stating this formally, let $\\bar X$ be a random variable that represents the mean of each trial of random sampling of size n<br>\n",
    "\n",
    "$\n",
    "\\begin{align}\n",
    "E(\\bar X) = \\mu\n",
    "\\end{align}\n",
    "$<br>\n",
    "\n",
    "$\n",
    "\\begin{align}\n",
    "Var(\\bar X) = \\frac{\\sigma^2}{n}\n",
    "\\end{align}\n",
    "$<br>"
   ]
  },
  {
   "cell_type": "markdown",
   "id": "5a20759e-86e0-4d9f-a004-bf81906efed4",
   "metadata": {},
   "source": [
    "The central limit theoram (CLT) states that the distribution ..."
   ]
  },
  {
   "cell_type": "markdown",
   "id": "e6cf9625-db7c-4ac4-a1aa-cbfc80ad8c16",
   "metadata": {},
   "source": [
    "Mean of sampling distribution always tends to the mean of the population<br>\n",
    "1. For numberical variables:<br>\n",
    "$\n",
    "\\begin{align}\n",
    "\\mu_\\bar{x} = \\mu\n",
    "\\end{align}\n",
    "$<br>\n",
    "2. For proportions of categorical variables where pi is the population proportion:<br>\n",
    "$\n",
    "\\begin{align}\n",
    "\\mu_p = \\pi\n",
    "\\end{align}\n",
    "$<br>"
   ]
  },
  {
   "cell_type": "markdown",
   "id": "2f549322-7d8c-40ff-a495-7f153ffbfd26",
   "metadata": {},
   "source": [
    "The standard deviation of the sampling distribution\n",
    "1. For numerical variables:<br>\n",
    "$\n",
    "\\begin{align}\n",
    "\\sigma_\\bar{x} = \\frac{\\sigma}{\\sqrt{n}}\n",
    "\\end{align}\n",
    "$<br>\n",
    "2. For proportions of categorical variables where pi is the population proportion:<br>\n",
    "$\n",
    "\\begin{align}\n",
    "\\sigma_p = \\sqrt{\\frac{\\pi(1-\\pi)}{n-1}}\n",
    "\\end{align}\n",
    "$<br>"
   ]
  },
  {
   "cell_type": "markdown",
   "id": "f416bac7-1f4f-4ca5-9c35-a060e213eb29",
   "metadata": {},
   "source": [
    "### Sampling Distribution of the sample standard deviation"
   ]
  },
  {
   "cell_type": "markdown",
   "id": "9da8cd3e-9d17-4696-8711-3a81cd6fc4fb",
   "metadata": {},
   "source": [
    "https://stats.libretexts.org/Courses/Saint_Mary's_College_Notre_Dame/DSCI_500B_Essential_Probability_Theory_for_Data_Science_(Kuter)/07%3A_The_Sample_Variance_and_Other_Distributions/7.2%3A_Sample_Variance"
   ]
  },
  {
   "cell_type": "markdown",
   "id": "366e0016-9bc7-42b0-83a2-523777d11b87",
   "metadata": {},
   "source": [
    "The mean value of a parameter $x_i$ of each individual $i$ in a population of size $N$ is defined as:<br>\n",
    "$\n",
    "\\begin{align}\n",
    "\\mu = \\frac{\\sum x_i}{N}\n",
    "\\end{align}\n",
    "$<br>\n",
    "\n",
    "The variance of the same parameter $x_i$ of the same population is defined as:<br>\n",
    "$\n",
    "\\begin{align}\n",
    "\\sigma = \\frac{\\sum (x_i - \\mu)^2}{N}\n",
    "\\end{align}\n",
    "$<br>\n",
    "\n",
    "\n",
    "A sample of size $n$ is drawn from the population. We can calculate the mean and variance of this sample as:<br>\n",
    "$\n",
    "\\begin{align}\n",
    "\\bar x = \\frac{\\sum x_i}{n}\n",
    "\\end{align}\n",
    "$<br>\n",
    "\n",
    "$\n",
    "\\begin{align}\n",
    "\\hat \\sigma = \\frac{\\sum (x_i - \\bar x)^2}{n}\n",
    "\\end{align}\n",
    "$<br>\n"
   ]
  },
  {
   "cell_type": "markdown",
   "id": "5e3abf68-ceb9-44c2-93ca-d33d1ea9317a",
   "metadata": {},
   "source": [
    "The variance as calculated above is a biased estimator of the population standard deviation\n",
    "\n",
    "We define a new statistic called the sample standard deviation $S$ to get an unbiased estimator of the population standard deviation:\n",
    "(add derivation later..)\n",
    "\n",
    "$\n",
    "\\begin{align}\n",
    "S = \\frac{\\sum (x_i - \\bar x)^2}{n-1}\n",
    "\\end{align}\n",
    "$<br>\n"
   ]
  },
  {
   "cell_type": "markdown",
   "id": "86682fd1-bed1-4136-9958-0f0380defa20",
   "metadata": {},
   "source": [
    "The sample standard deviation $S$ is an unbiased estimator of the population standard deviation $\\sigma$. For normally distributed populations, we can determine the distribution of the sampling distribution of the sample standard deviation<br>\n",
    "\n",
    "#### Sampling distribution of standard deviation for normally distributed populations\n",
    "We know that the sum of square of $n$ standard deviates, follows the chi-square distribution $\\chi^2_{n-1}$ with degrees of freedom $n-1$ as the population sum of square of standard deviates. i.e. <br>\n",
    "\n",
    "$\n",
    "\\begin{align}\n",
    "\\frac{(n-1)S^2}{\\sigma^2} \\stackrel{}{\\sim} \\chi^2_{n-1}\n",
    "\\end{align}\n",
    "$<br>\n",
    "\n",
    "Note that $S$ is the only random variable here as $\\sigma$ is a constant\n"
   ]
  },
  {
   "cell_type": "code",
   "execution_count": null,
   "id": "9358d724-af0e-4c49-886b-d27aab7699d9",
   "metadata": {},
   "outputs": [],
   "source": []
  },
  {
   "cell_type": "code",
   "execution_count": null,
   "id": "ef29ff83-4ecc-4085-8c26-57424132b8e1",
   "metadata": {},
   "outputs": [],
   "source": []
  },
  {
   "cell_type": "code",
   "execution_count": null,
   "id": "847f9663-68c7-4427-a1a3-dbaabc7199d6",
   "metadata": {},
   "outputs": [],
   "source": []
  },
  {
   "cell_type": "code",
   "execution_count": null,
   "id": "48ae0ff9-7cb7-4e46-82e0-3351bcae3fdb",
   "metadata": {},
   "outputs": [],
   "source": []
  },
  {
   "cell_type": "code",
   "execution_count": null,
   "id": "64fc823d-63ad-4c50-a097-32bbeb38117a",
   "metadata": {},
   "outputs": [],
   "source": []
  },
  {
   "cell_type": "code",
   "execution_count": null,
   "id": "bb186a2a-fcc0-447f-93aa-4a53fc76217a",
   "metadata": {},
   "outputs": [],
   "source": []
  },
  {
   "cell_type": "code",
   "execution_count": null,
   "id": "f5f62756-ae9f-4065-97c3-b2eb730a8469",
   "metadata": {},
   "outputs": [],
   "source": []
  },
  {
   "cell_type": "code",
   "execution_count": null,
   "id": "1b8e9fe2-f07d-44d1-b2c4-a6f03428da6b",
   "metadata": {},
   "outputs": [],
   "source": []
  },
  {
   "cell_type": "code",
   "execution_count": null,
   "id": "39a32409-dbca-47a0-b5fb-359cac08736a",
   "metadata": {},
   "outputs": [],
   "source": []
  },
  {
   "cell_type": "code",
   "execution_count": null,
   "id": "0b9eac60-7f85-4ae8-be56-db2debf8ca6e",
   "metadata": {},
   "outputs": [],
   "source": []
  },
  {
   "cell_type": "code",
   "execution_count": null,
   "id": "6976a127-1cc4-479d-9d8d-379406526e88",
   "metadata": {},
   "outputs": [],
   "source": []
  },
  {
   "cell_type": "code",
   "execution_count": null,
   "id": "da40ab43-f9dc-4730-a32e-48748e420cbf",
   "metadata": {},
   "outputs": [],
   "source": []
  },
  {
   "cell_type": "code",
   "execution_count": null,
   "id": "01a3b5d1-159d-4ab3-89ca-966f54e13170",
   "metadata": {},
   "outputs": [],
   "source": []
  },
  {
   "cell_type": "code",
   "execution_count": null,
   "id": "bf977a60-7ed1-4ddc-844b-1129a09ed791",
   "metadata": {},
   "outputs": [],
   "source": []
  },
  {
   "cell_type": "code",
   "execution_count": null,
   "id": "d8678cef-d59a-4948-a55f-9779c3f5b6dd",
   "metadata": {},
   "outputs": [],
   "source": []
  },
  {
   "cell_type": "code",
   "execution_count": null,
   "id": "56406048-faa5-4214-ba89-4fc2c7470270",
   "metadata": {},
   "outputs": [],
   "source": []
  },
  {
   "cell_type": "code",
   "execution_count": null,
   "id": "5cca0b8f-8570-4ccd-8682-43ec0d630684",
   "metadata": {},
   "outputs": [],
   "source": []
  }
 ],
 "metadata": {
  "kernelspec": {
   "display_name": "R",
   "language": "R",
   "name": "ir"
  },
  "language_info": {
   "codemirror_mode": "r",
   "file_extension": ".r",
   "mimetype": "text/x-r-source",
   "name": "R",
   "pygments_lexer": "r",
   "version": "4.4.0"
  }
 },
 "nbformat": 4,
 "nbformat_minor": 5
}
