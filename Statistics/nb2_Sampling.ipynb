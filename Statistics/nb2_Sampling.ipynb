{
 "cells": [
  {
   "cell_type": "markdown",
   "id": "5f89ff48-298a-488e-aa3f-32825794d491",
   "metadata": {},
   "source": [
    "# Sampling"
   ]
  },
  {
   "cell_type": "markdown",
   "id": "e4d648a5-7a72-489e-a272-4cd9adae08ef",
   "metadata": {},
   "source": [
    "Chaitanya Anand <br>\n",
    "(https://github.com/decisive-moment) <br>\n",
    "Created on: Nov 09, 2024 <br>\n",
    "Last Edit: Nov 09, 2024 <br>\n",
    "Some notes on sampling:  <br>\n",
    "- Coursera course on quantative methods (course 1 of a 5 part specialization on Methods and Statistics in Social Sciences): https://www.coursera.org/learn/quantitative-methods?specialization=social-science"
   ]
  },
  {
   "cell_type": "markdown",
   "id": "25a76430-d3d4-47d7-92bb-a01841c04eb6",
   "metadata": {},
   "source": [
    "### 1. Sampling as a way to improve the internal and external validity of a study"
   ]
  },
  {
   "cell_type": "code",
   "execution_count": null,
   "id": "39b1e899-00e7-4c59-94ce-da4b4e3381c3",
   "metadata": {},
   "outputs": [],
   "source": []
  },
  {
   "cell_type": "code",
   "execution_count": null,
   "id": "1653acbd-0c80-47dc-963d-e035647d6444",
   "metadata": {},
   "outputs": [],
   "source": []
  },
  {
   "cell_type": "code",
   "execution_count": null,
   "id": "4ea79e27-7555-4007-a808-9cb6029d03b0",
   "metadata": {},
   "outputs": [],
   "source": []
  },
  {
   "cell_type": "markdown",
   "id": "0e3d7274-6b30-4141-881b-aa0b92805458",
   "metadata": {},
   "source": [
    "### 2. Kinds of sampling"
   ]
  },
  {
   "cell_type": "markdown",
   "id": "fb68e4e1-d5d8-41a1-a5bb-4a8e525ce8ee",
   "metadata": {},
   "source": [
    "1. Probability sampling:<br>\n",
    "   a.) Simple random sampling<br>\n",
    "   b.) Stratified random sampling<br>\n",
    "   c.) Multi stage cluster sampling<br>\n",
    "2. Non probability sampling:<br>\n",
    "   a.) Convenience sampling<br>\n",
    "   b.) Snowball sampling<br>\n",
    "   c.) Porposive sampling<br>\n",
    "   d.) Quota sampling<br>"
   ]
  },
  {
   "cell_type": "markdown",
   "id": "e507d0ff-7560-4038-9343-a3b12585a144",
   "metadata": {},
   "source": [
    "### 3. Errors in a scientific study"
   ]
  },
  {
   "cell_type": "markdown",
   "id": "f710930f-f52d-4d10-9048-479d7b48b1bc",
   "metadata": {},
   "source": [
    "1. Random error (a.k.a sampling error)\n",
    "2. Systematic error (a.k.a non sampling error)<br>\n",
    "   a.) Sampling bias (when we have chosen a non random method of sampling, there is a chance of under or over representation of certain characteristics in the population)<br>\n",
    "   b.) Non response (Even when a random sampling method is chosen, certain sample elements may chose to not respond or consent to being a part of the study (even in digital product studies when user declines cookies say)<br>\n",
    "   c.) Incomplete sampling universe<br>\n",
    "   d.) Data collection/measurement errors<br>\n",
    "   e.) Data processing errors<br>\n",
    "\n",
    "   <br><br>\n",
    "   Sampling errors can be estimated and reported, estimating non sampling errors are much harder"
   ]
  },
  {
   "cell_type": "code",
   "execution_count": null,
   "id": "84bafd1f-55f2-4e03-b8f8-9e8583ab1762",
   "metadata": {},
   "outputs": [],
   "source": []
  },
  {
   "cell_type": "code",
   "execution_count": null,
   "id": "de763fb2-2b9b-4dde-bcda-0e8db6486496",
   "metadata": {},
   "outputs": [],
   "source": []
  },
  {
   "cell_type": "code",
   "execution_count": null,
   "id": "737dc937-c467-4033-ac0d-3398f5bc3580",
   "metadata": {},
   "outputs": [],
   "source": []
  },
  {
   "cell_type": "code",
   "execution_count": null,
   "id": "cfa3c71a-24f3-4a1a-bc9f-0043a0e6d0a1",
   "metadata": {},
   "outputs": [],
   "source": []
  },
  {
   "cell_type": "code",
   "execution_count": null,
   "id": "dd04cadf-a9c4-41b8-af51-f4df65f47b6d",
   "metadata": {},
   "outputs": [],
   "source": []
  },
  {
   "cell_type": "code",
   "execution_count": null,
   "id": "c120e97b-1ab7-4f8e-8779-4d13e8188056",
   "metadata": {},
   "outputs": [],
   "source": []
  },
  {
   "cell_type": "code",
   "execution_count": null,
   "id": "56406048-faa5-4214-ba89-4fc2c7470270",
   "metadata": {},
   "outputs": [],
   "source": []
  },
  {
   "cell_type": "code",
   "execution_count": null,
   "id": "5cca0b8f-8570-4ccd-8682-43ec0d630684",
   "metadata": {},
   "outputs": [],
   "source": []
  }
 ],
 "metadata": {
  "kernelspec": {
   "display_name": "R",
   "language": "R",
   "name": "ir"
  },
  "language_info": {
   "codemirror_mode": "r",
   "file_extension": ".r",
   "mimetype": "text/x-r-source",
   "name": "R",
   "pygments_lexer": "r",
   "version": "4.4.0"
  }
 },
 "nbformat": 4,
 "nbformat_minor": 5
}
