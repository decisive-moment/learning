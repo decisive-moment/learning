{
 "cells": [
  {
   "cell_type": "code",
   "execution_count": 1,
   "metadata": {},
   "outputs": [
    {
     "name": "stderr",
     "output_type": "stream",
     "text": [
      "\n",
      "Attaching package: ‘dplyr’\n",
      "\n",
      "The following objects are masked from ‘package:stats’:\n",
      "\n",
      "    filter, lag\n",
      "\n",
      "The following objects are masked from ‘package:base’:\n",
      "\n",
      "    intersect, setdiff, setequal, union\n",
      "\n"
     ]
    }
   ],
   "source": [
    "library(dplyr)\n",
    "library(ggplot2)\n",
    "\n",
    "setwd('/Users/chaitanyaanand/Code/Learning/RWorkingDir/')"
   ]
  },
  {
   "cell_type": "markdown",
   "metadata": {},
   "source": [
    "# Binomial Distribution"
   ]
  },
  {
   "cell_type": "code",
   "execution_count": 48,
   "metadata": {},
   "outputs": [
    {
     "data": {
      "text/html": [
       "<ol class=list-inline>\n",
       "\t<li>4</li>\n",
       "\t<li>4</li>\n",
       "\t<li>4</li>\n",
       "\t<li>3</li>\n",
       "\t<li>2</li>\n",
       "\t<li>3</li>\n",
       "\t<li>3</li>\n",
       "\t<li>2</li>\n",
       "\t<li>1</li>\n",
       "\t<li>4</li>\n",
       "</ol>\n"
      ],
      "text/latex": [
       "\\begin{enumerate*}\n",
       "\\item 4\n",
       "\\item 4\n",
       "\\item 4\n",
       "\\item 3\n",
       "\\item 2\n",
       "\\item 3\n",
       "\\item 3\n",
       "\\item 2\n",
       "\\item 1\n",
       "\\item 4\n",
       "\\end{enumerate*}\n"
      ],
      "text/markdown": [
       "1. 4\n",
       "2. 4\n",
       "3. 4\n",
       "4. 3\n",
       "5. 2\n",
       "6. 3\n",
       "7. 3\n",
       "8. 2\n",
       "9. 1\n",
       "10. 4\n",
       "\n",
       "\n"
      ],
      "text/plain": [
       " [1] 4 4 4 3 2 3 3 2 1 4"
      ]
     },
     "metadata": {},
     "output_type": "display_data"
    }
   ],
   "source": [
    "# rbinom (generate random variates)\n",
    "# Generate 'n' samples, each of sample size 'size'\n",
    "# from a binomial distribution with parameter 'prob'\n",
    "\n",
    "rbinom(n = 10, size = 4, prob = 0.6)"
   ]
  },
  {
   "cell_type": "code",
   "execution_count": 35,
   "metadata": {},
   "outputs": [
    {
     "data": {
      "text/html": [
       "0.0256"
      ],
      "text/latex": [
       "0.0256"
      ],
      "text/markdown": [
       "0.0256"
      ],
      "text/plain": [
       "[1] 0.0256"
      ]
     },
     "metadata": {},
     "output_type": "display_data"
    }
   ],
   "source": [
    "# dbinom (probability density)\n",
    "# Calculate the probability of getting 'x' successes\n",
    "# out of 'size' number of trials from a\n",
    "# binomial distribution with parameter 'prob'\n",
    "\n",
    "dbinom(x = 0, size = 4, prob = 0.6, log = FALSE)"
   ]
  },
  {
   "cell_type": "code",
   "execution_count": 47,
   "metadata": {},
   "outputs": [
    {
     "data": {
      "text/html": [
       "0.5248"
      ],
      "text/latex": [
       "0.5248"
      ],
      "text/markdown": [
       "0.5248"
      ],
      "text/plain": [
       "[1] 0.5248"
      ]
     },
     "metadata": {},
     "output_type": "display_data"
    },
    {
     "data": {
      "text/html": [
       "0.5248"
      ],
      "text/latex": [
       "0.5248"
      ],
      "text/markdown": [
       "0.5248"
      ],
      "text/plain": [
       "[1] 0.5248"
      ]
     },
     "metadata": {},
     "output_type": "display_data"
    }
   ],
   "source": [
    "# pbinom (cumulative probability density)\n",
    "# Calculate the probability of getting 'q' or less successes\n",
    "# 'size' number of trials from a\n",
    "# binomial distribution with parameter 'prob'\n",
    "\n",
    "pbinom(q = 2, size = 4, prob = 0.6)\n",
    "# Equivalent to\n",
    "dbinom(x = 0, size = 4, prob = 0.6, log = FALSE) +\n",
    "dbinom(x = 1, size = 4, prob = 0.6, log = FALSE) +\n",
    "dbinom(x = 2, size = 4, prob = 0.6, log = FALSE)"
   ]
  },
  {
   "cell_type": "code",
   "execution_count": 37,
   "metadata": {},
   "outputs": [
    {
     "data": {
      "text/html": [
       "2"
      ],
      "text/latex": [
       "2"
      ],
      "text/markdown": [
       "2"
      ],
      "text/plain": [
       "[1] 2"
      ]
     },
     "metadata": {},
     "output_type": "display_data"
    }
   ],
   "source": [
    "# qbinom (inverse binomial function)\n",
    "# Calculate the number of success 'q' corresponding to a 'p' probability\n",
    "# 'size' number of trials from a\n",
    "# binomial distribution with parameter p = 'prob'\n",
    "\n",
    "qbinom(p = 0.52, size = 4, prob = 0.6)"
   ]
  },
  {
   "cell_type": "markdown",
   "metadata": {},
   "source": [
    "# Normal Distribution"
   ]
  },
  {
   "cell_type": "code",
   "execution_count": 46,
   "metadata": {},
   "outputs": [
    {
     "data": {
      "text/html": [
       "<ol class=list-inline>\n",
       "\t<li>3.07493284070992</li>\n",
       "\t<li>2.60045137906054</li>\n",
       "\t<li>4.23728088034339</li>\n",
       "\t<li>5.04224973866875</li>\n",
       "\t<li>4.751475194177</li>\n",
       "\t<li>1.95114023645112</li>\n",
       "\t<li>7.32620412560199</li>\n",
       "\t<li>4.2420153677634</li>\n",
       "\t<li>7.28228641535343</li>\n",
       "\t<li>3.9349126497885</li>\n",
       "</ol>\n"
      ],
      "text/latex": [
       "\\begin{enumerate*}\n",
       "\\item 3.07493284070992\n",
       "\\item 2.60045137906054\n",
       "\\item 4.23728088034339\n",
       "\\item 5.04224973866875\n",
       "\\item 4.751475194177\n",
       "\\item 1.95114023645112\n",
       "\\item 7.32620412560199\n",
       "\\item 4.2420153677634\n",
       "\\item 7.28228641535343\n",
       "\\item 3.9349126497885\n",
       "\\end{enumerate*}\n"
      ],
      "text/markdown": [
       "1. 3.07493284070992\n",
       "2. 2.60045137906054\n",
       "3. 4.23728088034339\n",
       "4. 5.04224973866875\n",
       "5. 4.751475194177\n",
       "6. 1.95114023645112\n",
       "7. 7.32620412560199\n",
       "8. 4.2420153677634\n",
       "9. 7.28228641535343\n",
       "10. 3.9349126497885\n",
       "\n",
       "\n"
      ],
      "text/plain": [
       " [1] 3.074933 2.600451 4.237281 5.042250 4.751475 1.951140 7.326204 4.242015\n",
       " [9] 7.282286 3.934913"
      ]
     },
     "metadata": {},
     "output_type": "display_data"
    },
    {
     "data": {
      "text/html": [
       "0.0647587978329459"
      ],
      "text/latex": [
       "0.0647587978329459"
      ],
      "text/markdown": [
       "0.0647587978329459"
      ],
      "text/plain": [
       "[1] 0.0647588"
      ]
     },
     "metadata": {},
     "output_type": "display_data"
    },
    {
     "data": {
      "text/html": [
       "0.0668072012688581"
      ],
      "text/latex": [
       "0.0668072012688581"
      ],
      "text/markdown": [
       "0.0668072012688581"
      ],
      "text/plain": [
       "[1] 0.0668072"
      ]
     },
     "metadata": {},
     "output_type": "display_data"
    },
    {
     "data": {
      "text/html": [
       "1.99999689201932"
      ],
      "text/latex": [
       "1.99999689201932"
      ],
      "text/markdown": [
       "1.99999689201932"
      ],
      "text/plain": [
       "[1] 1.999997"
      ]
     },
     "metadata": {},
     "output_type": "display_data"
    }
   ],
   "source": [
    "rnorm(n = 10, mean = 5, sd = 2)\n",
    "dnorm(x = 2, mean = 5, sd = 2)\n",
    "pnorm(q = 2, mean = 5, sd = 2)\n",
    "qnorm(p = 0.066807, mean = 5, sd = 2)"
   ]
  },
  {
   "cell_type": "markdown",
   "metadata": {},
   "source": [
    "# Poission Distribution"
   ]
  },
  {
   "cell_type": "code",
   "execution_count": 81,
   "metadata": {},
   "outputs": [
    {
     "data": {
      "text/html": [
       "<ol class=list-inline>\n",
       "\t<li>0</li>\n",
       "\t<li>0</li>\n",
       "\t<li>0</li>\n",
       "\t<li>0</li>\n",
       "\t<li>0</li>\n",
       "\t<li>0</li>\n",
       "\t<li>0</li>\n",
       "\t<li>0</li>\n",
       "\t<li>0</li>\n",
       "\t<li>0</li>\n",
       "</ol>\n"
      ],
      "text/latex": [
       "\\begin{enumerate*}\n",
       "\\item 0\n",
       "\\item 0\n",
       "\\item 0\n",
       "\\item 0\n",
       "\\item 0\n",
       "\\item 0\n",
       "\\item 0\n",
       "\\item 0\n",
       "\\item 0\n",
       "\\item 0\n",
       "\\end{enumerate*}\n"
      ],
      "text/markdown": [
       "1. 0\n",
       "2. 0\n",
       "3. 0\n",
       "4. 0\n",
       "5. 0\n",
       "6. 0\n",
       "7. 0\n",
       "8. 0\n",
       "9. 0\n",
       "10. 0\n",
       "\n",
       "\n"
      ],
      "text/plain": [
       " [1] 0 0 0 0 0 0 0 0 0 0"
      ]
     },
     "metadata": {},
     "output_type": "display_data"
    },
    {
     "data": {
      "text/html": [
       "1"
      ],
      "text/latex": [
       "1"
      ],
      "text/markdown": [
       "1"
      ],
      "text/plain": [
       "[1] 1"
      ]
     },
     "metadata": {},
     "output_type": "display_data"
    },
    {
     "data": {
      "text/html": [
       "4.99950002499918e-09"
      ],
      "text/latex": [
       "4.99950002499918e-09"
      ],
      "text/markdown": [
       "4.99950002499918e-09"
      ],
      "text/plain": [
       "[1] 4.9995e-09"
      ]
     },
     "metadata": {},
     "output_type": "display_data"
    },
    {
     "data": {
      "text/html": [
       "0.999999995000333"
      ],
      "text/latex": [
       "0.999999995000333"
      ],
      "text/markdown": [
       "0.999999995000333"
      ],
      "text/plain": [
       "[1] 1"
      ]
     },
     "metadata": {},
     "output_type": "display_data"
    },
    {
     "data": {
      "text/html": [
       "0"
      ],
      "text/latex": [
       "0"
      ],
      "text/markdown": [
       "0"
      ],
      "text/plain": [
       "[1] 0"
      ]
     },
     "metadata": {},
     "output_type": "display_data"
    }
   ],
   "source": [
    "rpois(n = 10, lambda = 0.0001)\n",
    "sum(rpois(n = 10000, lambda = 0.0001))\n",
    "dpois(x = 2, lambda = 0.0001)\n",
    "ppois(q = 1, lambda = 0.0001)\n",
    "qpois(p = 0.1, lambda = 0.0001)"
   ]
  },
  {
   "cell_type": "markdown",
   "metadata": {},
   "source": [
    "# As p -> 0, Binomial -> Poission"
   ]
  },
  {
   "cell_type": "code",
   "execution_count": 90,
   "metadata": {},
   "outputs": [
    {
     "data": {
      "text/html": [
       "0.001"
      ],
      "text/latex": [
       "0.001"
      ],
      "text/markdown": [
       "0.001"
      ],
      "text/plain": [
       "[1] 0.001"
      ]
     },
     "metadata": {},
     "output_type": "display_data"
    },
    {
     "data": {
      "text/html": [
       "0.000999000499833376"
      ],
      "text/latex": [
       "0.000999000499833376"
      ],
      "text/markdown": [
       "0.000999000499833376"
      ],
      "text/plain": [
       "[1] 0.0009990005"
      ]
     },
     "metadata": {},
     "output_type": "display_data"
    }
   ],
   "source": [
    "dbinom(x = 1, size = 1, prob = 0.001)\n",
    "dpois(x = 1, lambda = 0.001)"
   ]
  },
  {
   "cell_type": "code",
   "execution_count": 92,
   "metadata": {},
   "outputs": [
    {
     "data": {
      "text/html": [
       "0.3"
      ],
      "text/latex": [
       "0.3"
      ],
      "text/markdown": [
       "0.3"
      ],
      "text/plain": [
       "[1] 0.3"
      ]
     },
     "metadata": {},
     "output_type": "display_data"
    },
    {
     "data": {
      "text/html": [
       "0.222245466204515"
      ],
      "text/latex": [
       "0.222245466204515"
      ],
      "text/markdown": [
       "0.222245466204515"
      ],
      "text/plain": [
       "[1] 0.2222455"
      ]
     },
     "metadata": {},
     "output_type": "display_data"
    }
   ],
   "source": [
    "dbinom(x = 1, size = 1, prob = 0.3)\n",
    "dpois(x = 1, lambda = 0.3)"
   ]
  },
  {
   "cell_type": "markdown",
   "metadata": {},
   "source": [
    "# T Distribution"
   ]
  },
  {
   "cell_type": "code",
   "execution_count": 105,
   "metadata": {},
   "outputs": [
    {
     "data": {
      "text/html": [
       "<ol class=list-inline>\n",
       "\t<li>1.50512580610861</li>\n",
       "\t<li>-0.635538213004008</li>\n",
       "\t<li>3.13669376168108</li>\n",
       "\t<li>0.67199372234571</li>\n",
       "\t<li>-0.742451718357516</li>\n",
       "\t<li>1.11033789132796</li>\n",
       "\t<li>-3.17387724942853</li>\n",
       "\t<li>2.77330245254979</li>\n",
       "\t<li>-2.33287953636362</li>\n",
       "\t<li>0.268370368097304</li>\n",
       "</ol>\n"
      ],
      "text/latex": [
       "\\begin{enumerate*}\n",
       "\\item 1.50512580610861\n",
       "\\item -0.635538213004008\n",
       "\\item 3.13669376168108\n",
       "\\item 0.67199372234571\n",
       "\\item -0.742451718357516\n",
       "\\item 1.11033789132796\n",
       "\\item -3.17387724942853\n",
       "\\item 2.77330245254979\n",
       "\\item -2.33287953636362\n",
       "\\item 0.268370368097304\n",
       "\\end{enumerate*}\n"
      ],
      "text/markdown": [
       "1. 1.50512580610861\n",
       "2. -0.635538213004008\n",
       "3. 3.13669376168108\n",
       "4. 0.67199372234571\n",
       "5. -0.742451718357516\n",
       "6. 1.11033789132796\n",
       "7. -3.17387724942853\n",
       "8. 2.77330245254979\n",
       "9. -2.33287953636362\n",
       "10. 0.268370368097304\n",
       "\n",
       "\n"
      ],
      "text/plain": [
       " [1]  1.5051258 -0.6355382  3.1366938  0.6719937 -0.7424517  1.1103379\n",
       " [7] -3.1738772  2.7733025 -2.3328795  0.2683704"
      ]
     },
     "metadata": {},
     "output_type": "display_data"
    },
    {
     "data": {
      "text/html": [
       "0.00670820393249937"
      ],
      "text/latex": [
       "0.00670820393249937"
      ],
      "text/markdown": [
       "0.00670820393249937"
      ],
      "text/plain": [
       "[1] 0.006708204"
      ]
     },
     "metadata": {},
     "output_type": "display_data"
    },
    {
     "data": {
      "text/html": [
       "0.497750016874841"
      ],
      "text/latex": [
       "0.497750016874841"
      ],
      "text/markdown": [
       "0.497750016874841"
      ],
      "text/plain": [
       "[1] 0.49775"
      ]
     },
     "metadata": {},
     "output_type": "display_data"
    },
    {
     "data": {
      "text/html": [
       "0.00800010666914137"
      ],
      "text/latex": [
       "0.00800010666914137"
      ],
      "text/markdown": [
       "0.00800010666914137"
      ],
      "text/plain": [
       "[1] 0.008000107"
      ]
     },
     "metadata": {},
     "output_type": "display_data"
    }
   ],
   "source": [
    "# The T distribution, also known as the Student’s t-distribution,\n",
    "# is a type of probability distribution that is similar to the\n",
    "# normal distribution with its bell shape but has heavier tails.\n",
    "# T distributions have a greater chance for extreme values than\n",
    "# normal distributions, hence the fatter tails.\n",
    "\n",
    "# Tail heaviness is determined by a parameter of the T distribution\n",
    "# called degrees of freedom, with smaller values giving heavier tails,\n",
    "# and with higher values making the T distribution resemble a standard\n",
    "# normal distribution with a mean of 0, and a standard deviation of 1.\n",
    "# The T distribution is also known as \"Student's T Distribution.\"\n",
    "\n",
    "# The T distribution is a continuous probability distribution of the\n",
    "# z-score when the estimated standard deviation is used in the\n",
    "# denominator rather than the true standard deviation.\n",
    "\n",
    "rt(n = 10, df = 4, ncp = 0)\n",
    "dt(x = 4, df = 4, ncp = 0, log = FALSE)\n",
    "pt(q = 0.006, df = 4, ncp = 0, lower.tail = FALSE, log.p = FALSE)\n",
    "qt(p = 0.497, df = 4, ncp = 0, lower.tail = FALSE, log.p = FALSE)"
   ]
  },
  {
   "cell_type": "markdown",
   "metadata": {},
   "source": [
    "# Chi Square Distribution"
   ]
  },
  {
   "cell_type": "code",
   "execution_count": 2,
   "metadata": {},
   "outputs": [
    {
     "data": {
      "text/html": [
       "<style>\n",
       ".list-inline {list-style: none; margin:0; padding: 0}\n",
       ".list-inline>li {display: inline-block}\n",
       ".list-inline>li:not(:last-child)::after {content: \"\\00b7\"; padding: 0 .5ex}\n",
       "</style>\n",
       "<ol class=list-inline><li>5.78208246282502</li><li>3.37795496067939</li><li>3.12587959171524</li><li>9.74658034719255</li><li>1.17262069431244</li><li>1.5518522729314</li><li>3.93799856625453</li><li>4.93303277616685</li><li>4.13430432295672</li><li>4.95401165523597</li></ol>\n"
      ],
      "text/latex": [
       "\\begin{enumerate*}\n",
       "\\item 5.78208246282502\n",
       "\\item 3.37795496067939\n",
       "\\item 3.12587959171524\n",
       "\\item 9.74658034719255\n",
       "\\item 1.17262069431244\n",
       "\\item 1.5518522729314\n",
       "\\item 3.93799856625453\n",
       "\\item 4.93303277616685\n",
       "\\item 4.13430432295672\n",
       "\\item 4.95401165523597\n",
       "\\end{enumerate*}\n"
      ],
      "text/markdown": [
       "1. 5.78208246282502\n",
       "2. 3.37795496067939\n",
       "3. 3.12587959171524\n",
       "4. 9.74658034719255\n",
       "5. 1.17262069431244\n",
       "6. 1.5518522729314\n",
       "7. 3.93799856625453\n",
       "8. 4.93303277616685\n",
       "9. 4.13430432295672\n",
       "10. 4.95401165523597\n",
       "\n",
       "\n"
      ],
      "text/plain": [
       " [1] 5.782082 3.377955 3.125880 9.746580 1.172621 1.551852 3.937999 4.933033\n",
       " [9] 4.134304 4.954012"
      ]
     },
     "metadata": {},
     "output_type": "display_data"
    },
    {
     "data": {
      "text/html": [
       "0.135335283236613"
      ],
      "text/latex": [
       "0.135335283236613"
      ],
      "text/markdown": [
       "0.135335283236613"
      ],
      "text/plain": [
       "[1] 0.1353353"
      ]
     },
     "metadata": {},
     "output_type": "display_data"
    },
    {
     "data": {
      "text/html": [
       "0.999995508989883"
      ],
      "text/latex": [
       "0.999995508989883"
      ],
      "text/markdown": [
       "0.999995508989883"
      ],
      "text/plain": [
       "[1] 0.9999955"
      ]
     },
     "metadata": {},
     "output_type": "display_data"
    },
    {
     "data": {
      "text/html": [
       "3.37588112702799"
      ],
      "text/latex": [
       "3.37588112702799"
      ],
      "text/markdown": [
       "3.37588112702799"
      ],
      "text/plain": [
       "[1] 3.375881"
      ]
     },
     "metadata": {},
     "output_type": "display_data"
    }
   ],
   "source": [
    "# The Chi Square distribution is the distribution of the sum of squared\n",
    "# standard normal deviates. The degrees of freedom of the distribution is\n",
    "# equal to the number of standard normal deviates being summed\n",
    "\n",
    "rchisq(n = 10, df = 4, ncp = 0)\n",
    "dchisq(x = 4, df = 4, ncp = 0, log = FALSE)\n",
    "pchisq(q = 0.006, df = 4, ncp = 0, lower.tail = FALSE, log.p = FALSE)\n",
    "qchisq(p = 0.497, df = 4, ncp = 0, lower.tail = FALSE, log.p = FALSE)"
   ]
  },
  {
   "cell_type": "markdown",
   "metadata": {},
   "source": [
    "# F Distribution"
   ]
  },
  {
   "cell_type": "code",
   "execution_count": 107,
   "metadata": {},
   "outputs": [
    {
     "data": {
      "text/html": [
       "<ol class=list-inline>\n",
       "\t<li>0.351250388933429</li>\n",
       "\t<li>3.99291765488896</li>\n",
       "\t<li>0.147055969946917</li>\n",
       "\t<li>1.02843965518026</li>\n",
       "\t<li>0.0238099438302878</li>\n",
       "\t<li>0.498496499963871</li>\n",
       "\t<li>1.11422227818826</li>\n",
       "\t<li>2.75198281318787</li>\n",
       "\t<li>7.37716508474761</li>\n",
       "\t<li>2.10406040459819</li>\n",
       "</ol>\n"
      ],
      "text/latex": [
       "\\begin{enumerate*}\n",
       "\\item 0.351250388933429\n",
       "\\item 3.99291765488896\n",
       "\\item 0.147055969946917\n",
       "\\item 1.02843965518026\n",
       "\\item 0.0238099438302878\n",
       "\\item 0.498496499963871\n",
       "\\item 1.11422227818826\n",
       "\\item 2.75198281318787\n",
       "\\item 7.37716508474761\n",
       "\\item 2.10406040459819\n",
       "\\end{enumerate*}\n"
      ],
      "text/markdown": [
       "1. 0.351250388933429\n",
       "2. 3.99291765488896\n",
       "3. 0.147055969946917\n",
       "4. 1.02843965518026\n",
       "5. 0.0238099438302878\n",
       "6. 0.498496499963871\n",
       "7. 1.11422227818826\n",
       "8. 2.75198281318787\n",
       "9. 7.37716508474761\n",
       "10. 2.10406040459819\n",
       "\n",
       "\n"
      ],
      "text/plain": [
       " [1] 0.35125039 3.99291765 0.14705597 1.02843966 0.02380994 0.49849650\n",
       " [7] 1.11422228 2.75198281 7.37716508 2.10406040"
      ]
     },
     "metadata": {},
     "output_type": "display_data"
    },
    {
     "data": {
      "text/html": [
       "0.0384"
      ],
      "text/latex": [
       "0.0384"
      ],
      "text/markdown": [
       "0.0384"
      ],
      "text/plain": [
       "[1] 0.0384"
      ]
     },
     "metadata": {},
     "output_type": "display_data"
    },
    {
     "data": {
      "text/html": [
       "0.999893708745004"
      ],
      "text/latex": [
       "0.999893708745004"
      ],
      "text/markdown": [
       "0.999893708745004"
      ],
      "text/plain": [
       "[1] 0.9998937"
      ]
     },
     "metadata": {},
     "output_type": "display_data"
    },
    {
     "data": {
      "text/html": [
       "1.00803217152481"
      ],
      "text/latex": [
       "1.00803217152481"
      ],
      "text/markdown": [
       "1.00803217152481"
      ],
      "text/plain": [
       "[1] 1.008032"
      ]
     },
     "metadata": {},
     "output_type": "display_data"
    }
   ],
   "source": [
    "# In probability theory and statistics, the F-distribution,\n",
    "# also known as Snedecor's F distribution or the Fisher–Snedecor\n",
    "# distribution is a continuous probability distribution that arises\n",
    "# frequently as the null distribution of a test statistic,\n",
    "# most notably in the analysis of variance\n",
    "\n",
    "# a probability density function that is used especially in\n",
    "# analysis of variance and is a function of the ratio of two\n",
    "# independent random variables each of which has a chi-square\n",
    "# distribution and is divided by its number of degrees of freedom.\n",
    "\n",
    "rf(n = 10, df1 = 4, df2 = 4, ncp = 0)\n",
    "df(x = 4, df1 = 4, df2 = 4, ncp = 0, log = FALSE)\n",
    "pf(q = 0.006, df1 = 4, df2 = 4, ncp = 0, lower.tail = FALSE, log.p = FALSE)\n",
    "qf(p = 0.497, df1 = 4, df2 = 4, ncp = 0, lower.tail = FALSE, log.p = FALSE)"
   ]
  },
  {
   "cell_type": "code",
   "execution_count": null,
   "metadata": {},
   "outputs": [],
   "source": []
  }
 ],
 "metadata": {
  "kernelspec": {
   "display_name": "R",
   "language": "R",
   "name": "ir"
  },
  "language_info": {
   "codemirror_mode": "r",
   "file_extension": ".r",
   "mimetype": "text/x-r-source",
   "name": "R",
   "pygments_lexer": "r",
   "version": "4.4.0"
  }
 },
 "nbformat": 4,
 "nbformat_minor": 4
}
