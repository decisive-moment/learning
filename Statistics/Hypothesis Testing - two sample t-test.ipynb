{
 "cells": [
  {
   "cell_type": "markdown",
   "metadata": {
    "colab_type": "text",
    "id": "4zwGi5wUwINl"
   },
   "source": [
    "# Two Sample t-test\n",
    "Chaitanya Anand <br>\n",
    "(https://github.com/decisive-moment) <br>\n",
    "Created on: Jan 04, 2020 <br>\n",
    "Last Edit: March 03, 2020 <br>\n",
    "Notebook to demonstrate two sample t-test using R. <br> Deliberately not used R's inbuilt t.test function in order to explore the inner workings of the test. <br><br>\n",
    "This notebook assumes that the reader is familiar with the theory of hypothesis testing. If not then I would recommend reading up on the basics before going through the code. <br><br>\n",
    "Some resources that I have found useful for learning hypothesis testing are: <br>(By no means an exhaustive list. One may pick up any resource on introductry statistics) <br>\n",
    "- Design and Analysis of Experiments by Montgomery ISBN-13: 978-1118146927\n",
    "- Coursera course on inferential statistics: https://www.coursera.org/learn/inferential-statistics/home/welcome"
   ]
  },
  {
   "cell_type": "code",
   "execution_count": null,
   "metadata": {
    "colab": {},
    "colab_type": "code",
    "id": "5blbQgbXwINt"
   },
   "outputs": [],
   "source": [
    "# Loading important libraries\n",
    "library(dplyr)\n",
    "library(ggplot2)"
   ]
  },
  {
   "cell_type": "markdown",
   "metadata": {
    "colab_type": "text",
    "id": "usZjEWvMwIOF"
   },
   "source": [
    "### Important Formulas\n",
    "\n",
    "Degrees of freedom for the equal variance case<br>\n",
    "$\n",
    "\\begin{align}\n",
    "df = n_1 + n_2 - 2 \\\\\n",
    "\\end{align}\n",
    "$<br>\n",
    "\n",
    "Degrees of freedom for the unequal variance case<br>\n",
    "$\n",
    "\\begin{align}\n",
    "df = \\frac{\\left(\\frac{s_1^2}{n_1}+\\frac{s_2^2}{n_2}\\right)^2}{\\frac{\\left(\\frac{s_1^2}{n_1}\\right)^2}{n_1-1} + \\frac{\\left(\\frac{s_2^2}{n_2}\\right)^2}{n_2-1}}\\\\\n",
    "\\end{align}\n",
    "$<br>\n",
    "\n",
    "Standard deviation for the equal variance case<br>\n",
    "$\n",
    "\\begin{align}\n",
    "s_{\\bar{X_1}-\\bar{X_2}}=\\sqrt{\\frac{(n_1-1)s_1^2-(n_2-1)s_2^2}{n_1+n_2-2}}\\\\\n",
    "\\end{align}\n",
    "$<br>\n",
    "\n",
    "Standard deviation for the unequal variance case<br>\n",
    "$\n",
    "\\begin{align}\n",
    "s_{\\bar{X_1}-\\bar{X_2}}=\\sqrt{s_1^2+s_2^2}\n",
    "\\end{align}\n",
    "$\n",
    "\n",
    "Standard error for the equal variance case<br>\n",
    "$\n",
    "\\begin{align}\n",
    "SE_{\\bar{X_1}-\\bar{X_2}}=\\sqrt{\\left(\\frac{(n_1-1)s_1^2-(n_2-1)s_2^2}{n_1+n_2-2}\\right)\\left(\\frac{1}{n_1}+\\frac{1}{n_2}\\right)}\\\\\n",
    "\\end{align}\n",
    "$<br>\n",
    "\n",
    "Standard error for the unequal variance case<br>\n",
    "$\n",
    "\\begin{align}\n",
    "SE_{\\bar{X_1}-\\bar{X_2}}=\\sqrt{\\frac{s_1^2}{n_1}+\\frac{s_2^2}{n_2}}\n",
    "\\end{align}\n",
    "$"
   ]
  },
  {
   "cell_type": "markdown",
   "metadata": {
    "colab_type": "text",
    "id": "qoHwDrHMwIOJ"
   },
   "source": [
    "### Data Generation Process"
   ]
  },
  {
   "cell_type": "code",
   "execution_count": null,
   "metadata": {
    "colab": {},
    "colab_type": "code",
    "id": "lAH4LQVawION"
   },
   "outputs": [],
   "source": [
    "#### -------- Parameters of the experiment\n",
    "# Number of trials from the first random process\n",
    "n1 = 100\n",
    "# Number of trials from the second random process\n",
    "n2 = 100\n",
    "# Chosen significance level\n",
    "alpha = 0.05\n",
    "# Assume equal variance of the two samples?\n",
    "eqvar = FALSE\n",
    "# Two tailed or one tailed test?\n",
    "twotail = TRUE\n",
    "\n",
    "#### -------- Population parameters\n",
    "# Actual population mean of the first random process\n",
    "mu1 = 11\n",
    "# Actual population mean of the second random process\n",
    "mu2 = 12\n",
    "# Actual population standard deviation of the first random process\n",
    "sigma1 = 3\n",
    "# Actual population standard deviation of the econd random process\n",
    "sigma2 = 2"
   ]
  },
  {
   "cell_type": "code",
   "execution_count": null,
   "metadata": {
    "colab": {},
    "colab_type": "code",
    "id": "AaVj4MeYwIOa"
   },
   "outputs": [],
   "source": [
    "#### -------- Let us say have collected some data from the two random processes\n",
    "# The rnorm function in r helps us simulate exactly this\n",
    "# The function will generate 'n' random values drawn from a\n",
    "# normal distribution of the specified parameters (mu and sigma)\n",
    "\n",
    "treatment1_data <- rnorm(n = n1, mean = mu1, sd = sigma1)\n",
    "treatment2_data <- rnorm(n = n2, mean = mu2, sd = sigma2)\n",
    "\n",
    "# We will keep the true difference in a variable for calculating power of the test later on\n",
    "true_difference = mu1 - mu2"
   ]
  },
  {
   "cell_type": "code",
   "execution_count": null,
   "metadata": {
    "colab": {},
    "colab_type": "code",
    "id": "Z4ykNHKHwIOm"
   },
   "outputs": [],
   "source": [
    "# We shall treat the population parameters as unknowm\n",
    "# throughout the hypothesis testing process\n",
    "# their only purpose was to obtain the simulated data\n",
    "# in the previous step\n",
    "\n",
    "# Deleting them from memory\n",
    "rm(mu1, mu2, sigma1, sigma2)"
   ]
  },
  {
   "cell_type": "markdown",
   "metadata": {
    "colab_type": "text",
    "id": "Aksi4oPAIjWb"
   },
   "source": [
    "### Stating the  Hypothesis\n",
    "Let us say we have collected some data from two treatments (variations) of a random process. <br>\n",
    "e.g. Measuring the height of plants where one group of seedlings is grown in clay soil (treatment 1) and another group is grown in loamy soil (treatment 2). We now want to detect if clay soil (treatment 1) and loamy soil (treatment 2) differ in their effect on plant growth.\n",
    "\n",
    "The null hypothesis in this case would be:\n",
    "\\begin{align}\n",
    "H_0: \\mu_1 - \\mu_2 = 0\n",
    "\\end{align}\n",
    "\n",
    "The alternative hypothesis can be stated as (assuming we have no reason to believe one type of soil is better than the other):\n",
    "\\begin{align}\n",
    "H_1: \\mu_1 - \\mu_2 \\neq 0\n",
    "\\end{align}"
   ]
  },
  {
   "cell_type": "markdown",
   "metadata": {
    "colab_type": "text",
    "id": "kOY03ap2wIOv"
   },
   "source": [
    "### Calculating Sample Statistics"
   ]
  },
  {
   "cell_type": "code",
   "execution_count": 189,
   "metadata": {
    "colab": {
     "base_uri": "https://localhost:8080/",
     "height": 34
    },
    "colab_type": "code",
    "id": "Ym4XEnCIwIOz",
    "outputId": "a1d421c9-c1f1-4256-87cc-4fcd029c21c5"
   },
   "outputs": [
    {
     "name": "stdout",
     "output_type": "stream",
     "text": [
      " num [1:100] 8.47 14.81 12.32 15.22 11.58 ...\n"
     ]
    }
   ],
   "source": [
    "# Data collected from random process 1\n",
    "glimpse(treatment1_data)"
   ]
  },
  {
   "cell_type": "code",
   "execution_count": 190,
   "metadata": {
    "colab": {
     "base_uri": "https://localhost:8080/",
     "height": 34
    },
    "colab_type": "code",
    "id": "-pcxqr3AwIO_",
    "outputId": "0d11e94c-f818-4458-89cd-bc4148c7eb21"
   },
   "outputs": [
    {
     "name": "stdout",
     "output_type": "stream",
     "text": [
      " num [1:100] 10.6 11.7 10.9 13.7 13.1 ...\n"
     ]
    }
   ],
   "source": [
    "# Data collected from random process 2\n",
    "glimpse(treatment2_data)"
   ]
  },
  {
   "cell_type": "code",
   "execution_count": null,
   "metadata": {
    "colab": {},
    "colab_type": "code",
    "id": "qy7PCrOHwIPK"
   },
   "outputs": [],
   "source": [
    "# Sample mean of data collected from process 1\n",
    "x1_bar = mean(treatment1_data)\n",
    "# Sample mean of data collected from process 2\n",
    "x2_bar = mean(treatment2_data)\n",
    "\n",
    "# Sample standard deviation of data collected from process 1\n",
    "s1 = sd(treatment1_data)\n",
    "# Sample standard deviation of data collected from process 2\n",
    "s2 = sd(treatment2_data)\n",
    "\n",
    "# Estimate of the population standard deviation\n",
    "# Obtained using the sample standard deviations\n",
    "# Since we are now treating the actual population parameters as unknown\n",
    "# (please see the section on important formulas at the begining of this document)\n",
    "\n",
    "var = ifelse(eqvar,\n",
    "\n",
    "              # Equal standard deviation case\n",
    "              # (i.e. assuming that the two process have the same standard deviation)\n",
    "              (((((n1 -1)*(s1^2)) + ((n2 -1)*(s2^2)))/(n1+n2-2))),\n",
    "\n",
    "              # Unequal standard deviation case\n",
    "              # (i.e. assuming that the two process have different standard deviation)\n",
    "              (s1^2) + (s2^2)\n",
    ")\n",
    "sd = var^(1/2)\n",
    "\n",
    "\n",
    "# Standard error\n",
    "# (please see the section on important formulas at the begining of this document)\n",
    "se = ifelse(eqvar,\n",
    "\n",
    "              # Equal standard deviation case\n",
    "              # (i.e. assuming that the two process have the same standard deviation)\n",
    "              (((((n1 -1)*(s1^2)) + ((n2 -1)*(s2^2)))/(n1+n2-2))*((1/n1) + (1/n2)))^(1/2),\n",
    "\n",
    "              # Unequal standard deviation case\n",
    "              # (i.e. assuming that the two process have different standard deviation)\n",
    "              (((s1^2)/n1) + ((s2^2)/n2))^(1/2)\n",
    ")\n",
    "\n",
    "\n",
    "# Degrees of freedom\n",
    "# (please see the section on important formulas at the begining of this document)\n",
    "# Equal standard deviation case\n",
    "df = ifelse(eqvar,\n",
    "\n",
    "              # Equal standard deviation case\n",
    "              # (i.e. assuming that the two process have the same standard deviation)\n",
    "              n1 + n2 - 2,\n",
    "\n",
    "              # Unequal standard deviation case\n",
    "              # (i.e. assuming that the two process have different standard deviation)\n",
    "              (((s1^2/n1) + (s2^2/n2))^2)/\n",
    "                (((s1^2/n1)^2/(n1-1)) + (((s2^2/n2)^2)/(n2-1)))\n",
    ")\n",
    "\n",
    "# Observed effect (diffference between the two treatments i.e. random processes)\n",
    "observed_dfference = x1_bar - x2_bar\n",
    "# z value of the observed effect\n",
    "# Since null hypothesis is that the difference in means is zero\n",
    "# The sampling distribution is centered at mu = 0\n",
    "z = (0 - observed_dfference)/se"
   ]
  },
  {
   "cell_type": "code",
   "execution_count": 192,
   "metadata": {
    "colab": {
     "base_uri": "https://localhost:8080/",
     "height": 69
    },
    "colab_type": "code",
    "id": "MNDz7VR3wIPY",
    "outputId": "f2917f86-70e7-4959-c2e5-6a9784e95dd1"
   },
   "outputs": [
    {
     "data": {
      "text/html": [
       "10.8199384941606"
      ],
      "text/latex": [
       "10.8199384941606"
      ],
      "text/markdown": [
       "10.8199384941606"
      ],
      "text/plain": [
       "[1] 10.81994"
      ]
     },
     "metadata": {
      "tags": []
     },
     "output_type": "display_data"
    },
    {
     "data": {
      "text/html": [
       "11.8721668489412"
      ],
      "text/latex": [
       "11.8721668489412"
      ],
      "text/markdown": [
       "11.8721668489412"
      ],
      "text/plain": [
       "[1] 11.87217"
      ]
     },
     "metadata": {
      "tags": []
     },
     "output_type": "display_data"
    },
    {
     "data": {
      "text/html": [
       "-1.05222835478061"
      ],
      "text/latex": [
       "-1.05222835478061"
      ],
      "text/markdown": [
       "-1.05222835478061"
      ],
      "text/plain": [
       "[1] -1.052228"
      ]
     },
     "metadata": {
      "tags": []
     },
     "output_type": "display_data"
    }
   ],
   "source": [
    "x1_bar\n",
    "x2_bar\n",
    "x1_bar-x2_bar"
   ]
  },
  {
   "cell_type": "code",
   "execution_count": 193,
   "metadata": {
    "colab": {
     "base_uri": "https://localhost:8080/",
     "height": 52
    },
    "colab_type": "code",
    "id": "kCif-DVSwIPh",
    "outputId": "ae7a5acc-495b-4c2a-94b2-f16c57367211"
   },
   "outputs": [
    {
     "data": {
      "text/html": [
       "3.22898833968084"
      ],
      "text/latex": [
       "3.22898833968084"
      ],
      "text/markdown": [
       "3.22898833968084"
      ],
      "text/plain": [
       "[1] 3.228988"
      ]
     },
     "metadata": {
      "tags": []
     },
     "output_type": "display_data"
    },
    {
     "data": {
      "text/html": [
       "1.9650143992599"
      ],
      "text/latex": [
       "1.9650143992599"
      ],
      "text/markdown": [
       "1.9650143992599"
      ],
      "text/plain": [
       "[1] 1.965014"
      ]
     },
     "metadata": {
      "tags": []
     },
     "output_type": "display_data"
    }
   ],
   "source": [
    "s1\n",
    "s2"
   ]
  },
  {
   "cell_type": "code",
   "execution_count": 194,
   "metadata": {
    "colab": {
     "base_uri": "https://localhost:8080/",
     "height": 52
    },
    "colab_type": "code",
    "id": "TMmk7KNTwIPr",
    "outputId": "986b21ac-6339-4bff-8d52-3fbf7f07d787"
   },
   "outputs": [
    {
     "data": {
      "text/html": [
       "0.377990043348943"
      ],
      "text/latex": [
       "0.377990043348943"
      ],
      "text/markdown": [
       "0.377990043348943"
      ],
      "text/plain": [
       "[1] 0.37799"
      ]
     },
     "metadata": {
      "tags": []
     },
     "output_type": "display_data"
    },
    {
     "data": {
      "text/html": [
       "2.78374622108563"
      ],
      "text/latex": [
       "2.78374622108563"
      ],
      "text/markdown": [
       "2.78374622108563"
      ],
      "text/plain": [
       "[1] 2.783746"
      ]
     },
     "metadata": {
      "tags": []
     },
     "output_type": "display_data"
    }
   ],
   "source": [
    "se\n",
    "z"
   ]
  },
  {
   "cell_type": "markdown",
   "metadata": {
    "colab_type": "text",
    "id": "XUp-79hUwIP2"
   },
   "source": [
    "### Step by Steb Procedure"
   ]
  },
  {
   "cell_type": "markdown",
   "metadata": {
    "colab_type": "text",
    "id": "qt2wAg7ywIP5"
   },
   "source": [
    "H0: Treatment 1 and Treatment 2 are not diferent i.e. mu1 = mu2 or mu1 - mu2 = 0 <br>\n",
    "H1: Treatment 1 and Treatment 2 are the same i.e. mu1 != mu2 or mu1 - mu2 != 0 <br>"
   ]
  },
  {
   "cell_type": "code",
   "execution_count": 195,
   "metadata": {
    "colab": {
     "base_uri": "https://localhost:8080/",
     "height": 52
    },
    "colab_type": "code",
    "id": "J2AliAs0wIP9",
    "outputId": "711e9148-bc62-450e-e437-d1435bdac7f4"
   },
   "outputs": [
    {
     "data": {
      "text/html": [
       "'6.00715e-03'"
      ],
      "text/latex": [
       "'6.00715e-03'"
      ],
      "text/markdown": [
       "'6.00715e-03'"
      ],
      "text/plain": [
       "[1] \"6.00715e-03\""
      ]
     },
     "metadata": {
      "tags": []
     },
     "output_type": "display_data"
    },
    {
     "data": {
      "text/html": [
       "'0.00601'"
      ],
      "text/latex": [
       "'0.00601'"
      ],
      "text/markdown": [
       "'0.00601'"
      ],
      "text/plain": [
       "[1] \"0.00601\""
      ]
     },
     "metadata": {
      "tags": []
     },
     "output_type": "display_data"
    }
   ],
   "source": [
    "p = pt(q = z, df = df, lower.tail = ifelse(observed_dfference > 0, TRUE, FALSE), log.p = FALSE)\n",
    "  p = ifelse(twotail,\n",
    "              p*2,\n",
    "              p\n",
    "  )\n",
    "format(p, scientific = TRUE)\n",
    "format(round(p, 5), scientific = FALSE)"
   ]
  },
  {
   "cell_type": "code",
   "execution_count": 196,
   "metadata": {
    "colab": {
     "base_uri": "https://localhost:8080/",
     "height": 34
    },
    "colab_type": "code",
    "id": "GRLYsZmpwIQM",
    "outputId": "2a98ad7b-fc3e-4816-f1f7-5f56398815cc"
   },
   "outputs": [
    {
     "data": {
      "text/html": [
       "'We reject the null hypothesis'"
      ],
      "text/latex": [
       "'We reject the null hypothesis'"
      ],
      "text/markdown": [
       "'We reject the null hypothesis'"
      ],
      "text/plain": [
       "[1] \"We reject the null hypothesis\""
      ]
     },
     "metadata": {
      "tags": []
     },
     "output_type": "display_data"
    }
   ],
   "source": [
    "ifelse(p < alpha, \"We reject the null hypothesis\", \"We fail to reject the null hypothesis\")"
   ]
  },
  {
   "cell_type": "markdown",
   "metadata": {
    "colab_type": "text",
    "id": "UIYVWNCEwIQW"
   },
   "source": [
    "### Alternative Approaoch - Confidence Interval"
   ]
  },
  {
   "cell_type": "code",
   "execution_count": null,
   "metadata": {
    "colab": {},
    "colab_type": "code",
    "id": "Ij7HM3vVwIQZ"
   },
   "outputs": [],
   "source": [
    "critical_value = qt(p = ifelse(twotail, alpha/2, alpha), df = df, lower.tail = TRUE, log.p = FALSE)\n",
    "lower_limit = ifelse(sign(critical_value) == 1 & sign (observed_dfference) == 1,\n",
    "                 observed_dfference - (critical_value*se),\n",
    "                 observed_dfference + (critical_value*se))\n",
    "upper_limit = ifelse(sign(critical_value) == 1 & sign (observed_dfference) == 1,\n",
    "                 observed_dfference + (critical_value*se),\n",
    "                 observed_dfference - (critical_value*se))\n",
    "ci = c(lower_limit, observed_dfference, upper_limit)\n",
    "\n",
    "\n",
    "power = 1-ifelse(twotail,\n",
    "    \n",
    "                    pt(q = ifelse(true_difference > 0,\n",
    "                                  (abs(critical_value*se) - true_difference)/se,\n",
    "                                  (abs(true_difference) - abs(critical_value*se))/se),\n",
    "                       df = df,\n",
    "                       lower.tail = ifelse(true_difference > 0, TRUE, FALSE),\n",
    "                       log.p = FALSE) -\n",
    "                    pt(q = ifelse(true_difference > 0,\n",
    "                                  (- abs(true_difference) - abs(critical_value*se))/se,\n",
    "                                  (abs(true_difference) + abs(critical_value*se))/se),\n",
    "                       df = df,\n",
    "                       lower.tail = ifelse(true_difference > 0, TRUE, FALSE), log.p = FALSE),\n",
    "\n",
    "                    pt(q = ifelse(true_difference > 0,\n",
    "                                  (abs(critical_value*se) - true_difference)/se,\n",
    "                                  (abs(true_difference) -  abs(critical_value*se))/se),\n",
    "                       df = df, lower.tail = ifelse(true_difference > 0, TRUE, FALSE),\n",
    "                       log.p = FALSE))\n",
    "    "
   ]
  },
  {
   "cell_type": "code",
   "execution_count": 198,
   "metadata": {
    "colab": {
     "base_uri": "https://localhost:8080/",
     "height": 34
    },
    "colab_type": "code",
    "id": "6Iuz5gxewIQk",
    "outputId": "04f26757-27b1-4c92-8447-10b1298bea91"
   },
   "outputs": [
    {
     "data": {
      "text/html": [
       "<style>\n",
       ".list-inline {list-style: none; margin:0; padding: 0}\n",
       ".list-inline>li {display: inline-block}\n",
       ".list-inline>li:not(:last-child)::after {content: \"\\00b7\"; padding: 0 .5ex}\n",
       "</style>\n",
       "<ol class=list-inline><li>-1.79860030613254</li><li>-1.05222835478061</li><li>-0.305856403428684</li></ol>\n"
      ],
      "text/latex": [
       "\\begin{enumerate*}\n",
       "\\item -1.79860030613254\n",
       "\\item -1.05222835478061\n",
       "\\item -0.305856403428684\n",
       "\\end{enumerate*}\n"
      ],
      "text/markdown": [
       "1. -1.79860030613254\n",
       "2. -1.05222835478061\n",
       "3. -0.305856403428684\n",
       "\n",
       "\n"
      ],
      "text/plain": [
       "[1] -1.7986003 -1.0522284 -0.3058564"
      ]
     },
     "metadata": {
      "tags": []
     },
     "output_type": "display_data"
    }
   ],
   "source": [
    "ci"
   ]
  },
  {
   "cell_type": "code",
   "execution_count": 199,
   "metadata": {
    "colab": {
     "base_uri": "https://localhost:8080/",
     "height": 34
    },
    "colab_type": "code",
    "id": "fOVdargcpY3a",
    "outputId": "b31b39a0-ecb8-4c62-df92-5911cf051f8a"
   },
   "outputs": [
    {
     "data": {
      "text/html": [
       "0.748417396424504"
      ],
      "text/latex": [
       "0.748417396424504"
      ],
      "text/markdown": [
       "0.748417396424504"
      ],
      "text/plain": [
       "[1] 0.7484174"
      ]
     },
     "metadata": {
      "tags": []
     },
     "output_type": "display_data"
    }
   ],
   "source": [
    "power"
   ]
  },
  {
   "cell_type": "code",
   "execution_count": 200,
   "metadata": {
    "colab": {
     "base_uri": "https://localhost:8080/",
     "height": 34
    },
    "colab_type": "code",
    "id": "OUIPLB9swIQw",
    "outputId": "c23b4c7d-f64f-48fe-84e8-b2deafaaf597"
   },
   "outputs": [
    {
     "data": {
      "text/html": [
       "'The confidence interval (corresponding to chosen alpha) does not contain 0'"
      ],
      "text/latex": [
       "'The confidence interval (corresponding to chosen alpha) does not contain 0'"
      ],
      "text/markdown": [
       "'The confidence interval (corresponding to chosen alpha) does not contain 0'"
      ],
      "text/plain": [
       "[1] \"The confidence interval (corresponding to chosen alpha) does not contain 0\""
      ]
     },
     "metadata": {
      "tags": []
     },
     "output_type": "display_data"
    }
   ],
   "source": [
    "ifelse(0 >= ci[1] & 0 <= ci[3],\n",
    "       \"The confidence interval contains zero\",\n",
    "       \"The confidence interval (corresponding to chosen alpha) does not contain 0\")"
   ]
  },
  {
   "cell_type": "markdown",
   "metadata": {
    "colab_type": "text",
    "id": "agWa76zTVNRi"
   },
   "source": [
    "### Verifying the results using R's inbuilt t.test function"
   ]
  },
  {
   "cell_type": "code",
   "execution_count": 201,
   "metadata": {
    "colab": {
     "base_uri": "https://localhost:8080/",
     "height": 208
    },
    "colab_type": "code",
    "id": "-uoduoxJUwwp",
    "outputId": "11fe8dda-372d-4f9c-f4d8-0ee54cf834b8"
   },
   "outputs": [
    {
     "data": {
      "text/plain": [
       "\n",
       "\tWelch Two Sample t-test\n",
       "\n",
       "data:  treatment1_data and treatment2_data\n",
       "t = -2.7837, df = 163.48, p-value = 0.006007\n",
       "alternative hypothesis: true difference in means is not equal to 0\n",
       "95 percent confidence interval:\n",
       " -1.7986003 -0.3058564\n",
       "sample estimates:\n",
       "mean of x mean of y \n",
       " 10.81994  11.87217 \n"
      ]
     },
     "metadata": {
      "tags": []
     },
     "output_type": "display_data"
    }
   ],
   "source": [
    "t.test(treatment1_data,\n",
    "       treatment2_data,\n",
    "       mu = 0,\n",
    "       paired = FALSE,\n",
    "       var.equal = eqvar,\n",
    "       alternative = ifelse(twotail, \"two.sided\", \"one.sided\"),\n",
    "       conf.level = 1 - alpha)"
   ]
  },
  {
   "cell_type": "markdown",
   "metadata": {
    "colab_type": "text",
    "id": "Q178JxzqwIQ8"
   },
   "source": [
    "### Encapsulating the above process in a function (to enable iterative experimentation)"
   ]
  },
  {
   "cell_type": "code",
   "execution_count": null,
   "metadata": {
    "colab": {},
    "colab_type": "code",
    "id": "DAqE7ANPwIQ_"
   },
   "outputs": [],
   "source": [
    "two_sample_t <- function(n1, n2, alpha, mu1, mu2, sigma1, sigma2, eqvar, twotail, validate = FALSE) {\n",
    "    \n",
    "    true_difference = mu1 - mu2\n",
    "    \n",
    "    # Generating data\n",
    "    treatment1_data <- rnorm(n = n1, mean = mu1, sd = sigma1)\n",
    "    treatment2_data <- rnorm(n = n2, mean = mu2, sd = sigma2)\n",
    "    \n",
    "\n",
    "    # Sample mean of data collected from process 1\n",
    "    x1_bar = mean(treatment1_data)\n",
    "    # Sample mean of data collected from process 2\n",
    "    x2_bar = mean(treatment2_data)\n",
    "\n",
    "    # Sample standard deviation of data collected from process 1\n",
    "    s1 = sd(treatment1_data)\n",
    "    # Sample standard deviation of data collected from process 2\n",
    "    s2 = sd(treatment2_data)\n",
    "\n",
    "    # Estimate of the population standard deviation\n",
    "    # Obtained using the sample standard deviations\n",
    "    # Since we are now treating the actual population parameters as unknown\n",
    "    # (please see the section on important formulas at the begining of this document)\n",
    "\n",
    "    var = ifelse(eqvar,\n",
    "\n",
    "                  # Equal standard deviation case\n",
    "                  # (i.e. assuming that the two process have the same standard deviation)\n",
    "                  (((((n1 -1)*(s1^2)) + ((n2 -1)*(s2^2)))/(n1+n2-2))),\n",
    "\n",
    "                  # Unequal standard deviation case\n",
    "                  # (i.e. assuming that the two process have different standard deviation)\n",
    "                  (s1^2) + (s2^2)\n",
    "    )\n",
    "    sd = var^(1/2)\n",
    "\n",
    "\n",
    "    # Standard error\n",
    "    # (please see the section on important formulas at the begining of this document)\n",
    "    se = ifelse(eqvar,\n",
    "\n",
    "                  # Equal standard deviation case\n",
    "                  # (i.e. assuming that the two process have the same standard deviation)\n",
    "                  (((((n1 -1)*(s1^2)) + ((n2 -1)*(s2^2)))/(n1+n2-2))*((1/n1) + (1/n2)))^(1/2),\n",
    "\n",
    "                  # Unequal standard deviation case\n",
    "                  # (i.e. assuming that the two process have different standard deviation)\n",
    "                  (((s1^2)/n1) + ((s2^2)/n2))^(1/2)\n",
    "    )\n",
    "\n",
    "\n",
    "    # Degrees of freedom\n",
    "    # (please see the section on important formulas at the begining of this document)\n",
    "    # Equal standard deviation case\n",
    "    df = ifelse(eqvar,\n",
    "\n",
    "                  # Equal standard deviation case\n",
    "                  # (i.e. assuming that the two process have the same standard deviation)\n",
    "                  n1 + n2 - 2,\n",
    "\n",
    "                  # Unequal standard deviation case\n",
    "                  # (i.e. assuming that the two process have different standard deviation)\n",
    "                  (((s1^2/n1) + (s2^2/n2))^2)/\n",
    "                    (((s1^2/n1)^2/(n1-1)) + (((s2^2/n2)^2)/(n2-1)))\n",
    "    )\n",
    "\n",
    "    # Observed effect (diffference between the two treatments i.e. random processes)\n",
    "    observed_dfference = x1_bar - x2_bar\n",
    "    # z value of the observed effect\n",
    "    # Since null hypothesis is that the difference in means is zero\n",
    "    # The sampling distribution is centered at mu = 0\n",
    "    z = (0 - observed_dfference)/se\n",
    "\n",
    "\n",
    "\n",
    "\n",
    "\n",
    "\n",
    "\n",
    "\n",
    "\n",
    "\n",
    "\n",
    "\n",
    "    # Calculating p-value\n",
    "    p = pt(q = z, df = df, lower.tail = ifelse(observed_dfference > 0, TRUE, FALSE), log.p = FALSE)\n",
    "    p = ifelse(twotail,\n",
    "                p*2,\n",
    "                p\n",
    "    )\n",
    "    # format(p, scientific = TRUE)\n",
    "    # format(round(p, 5), scientific = FALSE)\n",
    "    \n",
    "    # Calculating the cnfidence interval\n",
    "    critical_value = qt(p = ifelse(twotail, alpha/2, alpha), df = df, lower.tail = TRUE, log.p = FALSE)\n",
    "    lower_limit = ifelse(sign(critical_value) == 1 & sign (observed_dfference) == 1,\n",
    "                    observed_dfference - (critical_value*se),\n",
    "                    observed_dfference + (critical_value*se))\n",
    "    upper_limit = ifelse(sign(critical_value) == 1 & sign (observed_dfference) == 1,\n",
    "                    observed_dfference + (critical_value*se),\n",
    "                    observed_dfference - (critical_value*se))\n",
    "    ci = c(lower_limit, observed_dfference, upper_limit)\n",
    "\n",
    "    power = 1 - ifelse(twotail,\n",
    "    \n",
    "                    pt(q = ifelse(true_difference > 0,\n",
    "                                  (abs(critical_value*se) - true_difference)/se,\n",
    "                                  (abs(true_difference) - abs(critical_value*se))/se),\n",
    "                       df = df,\n",
    "                       lower.tail = ifelse(true_difference > 0, TRUE, FALSE),\n",
    "                       log.p = FALSE) -\n",
    "                    pt(q = ifelse(true_difference > 0,\n",
    "                                  (- abs(true_difference) - abs(critical_value*se))/se,\n",
    "                                  (abs(true_difference) + abs(critical_value*se))/se),\n",
    "                       df = df,\n",
    "                       lower.tail = ifelse(true_difference > 0, TRUE, FALSE), log.p = FALSE),\n",
    "\n",
    "                    pt(q = ifelse(true_difference > 0,\n",
    "                                  (abs(critical_value*se) - true_difference)/se,\n",
    "                                  (abs(true_difference) -  abs(critical_value*se))/se),\n",
    "                       df = df, lower.tail = ifelse(true_difference > 0, TRUE, FALSE),\n",
    "                       log.p = FALSE))\n",
    "    \n",
    "    # Results of the hypothesis test\n",
    "    null_hypothesis_test_method <- ifelse(p <= alpha, \"We reject the null hypothesis\", \"We fail to reject the null hypothesis\")\n",
    "    confidence_interval_method <- ifelse(ci[1] <= 0 & 0 <= ci[3],\n",
    "       \"The confidence interval contains zero\",\n",
    "       \"The confidence interval (corresponding to chosen alpha) does not contain 0\")\n",
    "    \n",
    "    ret <- list(ifelse(null_hypothesis_test_method == \"We reject the null hypothesis\" &\n",
    "                  confidence_interval_method == \"The confidence interval (corresponding to chosen alpha) does not contain 0\", \"Reject\",\n",
    "                  \n",
    "                  ifelse(null_hypothesis_test_method == \"We fail to reject the null hypothesis\" &\n",
    "                         confidence_interval_method == \"The confidence interval contains zero\", \"Fail to reject\",\n",
    "                         \"ERROR\")),\n",
    "                         power = power,\n",
    "                p = p,\n",
    "                ci = ci,\n",
    "                x1_bar = x1_bar,\n",
    "                x2_bar = x2_bar,\n",
    "                s1 = s1,\n",
    "                s2 = s2,\n",
    "                se = se)\n",
    "\n",
    "    # Validatoin\n",
    "    if(validate){\n",
    "          print(t.test(treatment1_data,\n",
    "          treatment2_data,\n",
    "          mu = 0,\n",
    "          paired = FALSE,\n",
    "          var.equal = eqvar,\n",
    "          alternative = ifelse(twotail, \"two.sided\", ifelse(mu1 > mu2, \"greater\", \"less\")),\n",
    "          conf.level = 1 - alpha))\n",
    "    }\n",
    "    \n",
    "    return(ret)\n",
    "}"
   ]
  },
  {
   "cell_type": "code",
   "execution_count": null,
   "metadata": {
    "colab": {},
    "colab_type": "code",
    "id": "pPp2-1Bwzbfm"
   },
   "outputs": [],
   "source": [
    "two_sample_t_power <- function(alpha, n1, n2, actual_effect_size, sigma1, sigma2, eqvar, twotail) {\n",
    "        se = (((sigma1^2)/n1) + ((sigma2^2)/n2))^(1/2)\n",
    "        df = ifelse(eqvar,\n",
    "\n",
    "                          # Equal standard deviation case\n",
    "                          # (i.e. assuming that the two process have the same standard deviation)\n",
    "                          n1 + n2 - 2,\n",
    "\n",
    "                          # Unequal standard deviation case\n",
    "                          # (i.e. assuming that the two process have different standard deviation)\n",
    "                          (((sigma1^2/n1) + (sigma2^2/n2))^2)/\n",
    "                            (((sigma1^2/n1)^2/(n1-1)) + (((sigma1^2/n2)^2)/(n2-1)))\n",
    "            )\n",
    "        critical_value = qt(p = ifelse(twotail, alpha/2, alpha), df = df, lower.tail = ifelse(actual_effect_size > 0, TRUE, FALSE), log.p = FALSE)\n",
    "        power = 1 - ifelse(twotail,\n",
    "            \n",
    "                            pt(q = ifelse(actual_effect_size > 0,\n",
    "                                          (abs(critical_value*se) - actual_effect_size)/se,\n",
    "                                          (abs(actual_effect_size) - abs(critical_value*se))/se),\n",
    "                               df = df,\n",
    "                               lower.tail = ifelse(actual_effect_size > 0, TRUE, FALSE), log.p = FALSE) -\n",
    "                            pt(q = ifelse(actual_effect_size > 0,\n",
    "                                         ( - abs(actual_effect_size) - abs(critical_value*se))/se,\n",
    "                                          (abs(actual_effect_size) + abs(critical_value*se))/se),\n",
    "                               df = df, lower.tail = ifelse(actual_effect_size > 0, TRUE, FALSE), log.p = FALSE),\n",
    "\n",
    "                            pt(q = ifelse(actual_effect_size > 0,\n",
    "                                          (abs(critical_value*se) - actual_effect_size)/se,\n",
    "                                          (abs(actual_effect_size) - abs(critical_value*se))/se),\n",
    "                               df = df, lower.tail = ifelse(actual_effect_size > 0, TRUE, FALSE), log.p = FALSE))\n",
    "\n",
    "        return(power)\n",
    "}"
   ]
  },
  {
   "cell_type": "code",
   "execution_count": 204,
   "metadata": {
    "colab": {
     "base_uri": "https://localhost:8080/",
     "height": 583
    },
    "colab_type": "code",
    "id": "NdQkbLRKwIRI",
    "outputId": "3d20e29a-917f-4121-e5dc-3e73742b2c17"
   },
   "outputs": [
    {
     "name": "stdout",
     "output_type": "stream",
     "text": [
      "[1] \"power = 0.999999913285151\"\n",
      "\n",
      "\tWelch Two Sample t-test\n",
      "\n",
      "data:  treatment1_data and treatment2_data\n",
      "t = -9.1184, df = 197.66, p-value < 2.2e-16\n",
      "alternative hypothesis: true difference in means is less than 0\n",
      "95 percent confidence interval:\n",
      "      -Inf -3.072152\n",
      "sample estimates:\n",
      "mean of x mean of y \n",
      " 10.79571  14.54791 \n",
      "\n"
     ]
    },
    {
     "data": {
      "text/html": [
       "<dl>\n",
       "\t<dt>[[1]]</dt>\n",
       "\t\t<dd>'Reject'</dd>\n",
       "\t<dt>$power</dt>\n",
       "\t\t<dd>0.999999970571505</dd>\n",
       "\t<dt>$p</dt>\n",
       "\t\t<dd>4.38043625881001e-17</dd>\n",
       "\t<dt>$ci</dt>\n",
       "\t\t<dd><style>\n",
       ".list-inline {list-style: none; margin:0; padding: 0}\n",
       ".list-inline>li {display: inline-block}\n",
       ".list-inline>li:not(:last-child)::after {content: \"\\00b7\"; padding: 0 .5ex}\n",
       "</style>\n",
       "<ol class=list-inline><li>-4.43223481577633</li><li>-3.75219342731348</li><li>-3.07215203885063</li></ol>\n",
       "</dd>\n",
       "\t<dt>$x1_bar</dt>\n",
       "\t\t<dd>10.7957146562517</dd>\n",
       "\t<dt>$x2_bar</dt>\n",
       "\t\t<dd>14.5479080835652</dd>\n",
       "\t<dt>$s1</dt>\n",
       "\t\t<dd>2.96956764249849</dd>\n",
       "\t<dt>$s2</dt>\n",
       "\t\t<dd>2.84863732424474</dd>\n",
       "\t<dt>$se</dt>\n",
       "\t\t<dd>0.411498075189354</dd>\n",
       "</dl>\n"
      ],
      "text/latex": [
       "\\begin{description}\n",
       "\\item[{[[1]]}] 'Reject'\n",
       "\\item[\\$power] 0.999999970571505\n",
       "\\item[\\$p] 4.38043625881001e-17\n",
       "\\item[\\$ci] \\begin{enumerate*}\n",
       "\\item -4.43223481577633\n",
       "\\item -3.75219342731348\n",
       "\\item -3.07215203885063\n",
       "\\end{enumerate*}\n",
       "\n",
       "\\item[\\$x1\\_bar] 10.7957146562517\n",
       "\\item[\\$x2\\_bar] 14.5479080835652\n",
       "\\item[\\$s1] 2.96956764249849\n",
       "\\item[\\$s2] 2.84863732424474\n",
       "\\item[\\$se] 0.411498075189354\n",
       "\\end{description}\n"
      ],
      "text/markdown": [
       "[[1]]\n",
       ":   'Reject'\n",
       "$power\n",
       ":   0.999999970571505\n",
       "$p\n",
       ":   4.38043625881001e-17\n",
       "$ci\n",
       ":   1. -4.43223481577633\n",
       "2. -3.75219342731348\n",
       "3. -3.07215203885063\n",
       "\n",
       "\n",
       "\n",
       "$x1_bar\n",
       ":   10.7957146562517\n",
       "$x2_bar\n",
       ":   14.5479080835652\n",
       "$s1\n",
       ":   2.96956764249849\n",
       "$s2\n",
       ":   2.84863732424474\n",
       "$se\n",
       ":   0.411498075189354\n",
       "\n",
       "\n"
      ],
      "text/plain": [
       "[[1]]\n",
       "[1] \"Reject\"\n",
       "\n",
       "$power\n",
       "[1] 1\n",
       "\n",
       "$p\n",
       "[1] 4.380436e-17\n",
       "\n",
       "$ci\n",
       "[1] -4.432235 -3.752193 -3.072152\n",
       "\n",
       "$x1_bar\n",
       "[1] 10.79571\n",
       "\n",
       "$x2_bar\n",
       "[1] 14.54791\n",
       "\n",
       "$s1\n",
       "[1] 2.969568\n",
       "\n",
       "$s2\n",
       "[1] 2.848637\n",
       "\n",
       "$se\n",
       "[1] 0.4114981\n"
      ]
     },
     "metadata": {
      "tags": []
     },
     "output_type": "display_data"
    }
   ],
   "source": [
    "# Parameters of the experiment\n",
    "exp1_n1 = 100\n",
    "exp1_n2 = 100\n",
    "exp1_alpha = 0.05\n",
    "exp1_eqvar = FALSE\n",
    "exp1_twotail = FALSE\n",
    "\n",
    "# Population parameters\n",
    "\n",
    "exp1_mu1 = 11\n",
    "exp1_mu2 = 14\n",
    "exp1_sigma1 = 3\n",
    "exp1_sigma2 = 3\n",
    "\n",
    "\n",
    "\n",
    "\n",
    "print(paste0(\"power = \", two_sample_t_power(alpha = exp1_alpha,\n",
    "                                            n1 = exp1_n1,\n",
    "                                            n2 = exp1_n2,\n",
    "                                            actual_effect_size = exp1_mu1 - exp1_mu2,\n",
    "                                            sigma1 = exp1_sigma1,\n",
    "                                            sigma2 = exp1_sigma2,\n",
    "                                            eqvar = exp1_eqvar,\n",
    "                                            twotail = exp1_twotail)))\n",
    "\n",
    "two_sample_t(n1 = exp1_n1,\n",
    "             n2 = exp1_n2,\n",
    "             alpha = exp1_alpha,\n",
    "             mu1 = exp1_mu1,\n",
    "             mu2 = exp1_mu2,\n",
    "             sigma1 = exp1_sigma1,\n",
    "             sigma2 = exp1_sigma2,\n",
    "             eqvar = exp1_eqvar,\n",
    "             twotail = exp1_twotail,\n",
    "             validate = TRUE)"
   ]
  },
  {
   "cell_type": "code",
   "execution_count": 205,
   "metadata": {
    "colab": {
     "base_uri": "https://localhost:8080/",
     "height": 86
    },
    "colab_type": "code",
    "id": "41FQqZNxwIRS",
    "outputId": "10988958-19e1-4f05-9ab9-f55bbfbf31d0",
    "scrolled": true
   },
   "outputs": [
    {
     "name": "stdout",
     "output_type": "stream",
     "text": [
      "[1] \"power = 0.0500000000000003\"\n"
     ]
    },
    {
     "data": {
      "text/plain": [
       "results\n",
       "Fail to reject         Reject \n",
       "            96              4 "
      ]
     },
     "metadata": {
      "tags": []
     },
     "output_type": "display_data"
    }
   ],
   "source": [
    "# Iterate\n",
    "\n",
    "# Parameters of the experiment\n",
    "exp1_n1 = 100\n",
    "exp1_n2 = 100\n",
    "exp1_alpha = 0.05\n",
    "exp1_eqvar = FALSE\n",
    "exp1_twotail = TRUE\n",
    "\n",
    "# Population parameters\n",
    "\n",
    "exp1_mu1 = 12\n",
    "exp1_mu2 = 12\n",
    "exp1_sigma1 = 3\n",
    "exp1_sigma2 = 3\n",
    "\n",
    "print(paste0(\"power = \", two_sample_t_power(alpha = exp1_alpha,\n",
    "                                            n1 = exp1_n1,\n",
    "                                            n2 = exp1_n2,\n",
    "                                            actual_effect_size = exp1_mu1 - exp1_mu2,\n",
    "                                            sigma1 = exp1_sigma1,\n",
    "                                            sigma2 = exp1_sigma2,\n",
    "                                            eqvar = exp1_eqvar,\n",
    "                                            twotail = exp1_twotail)))\n",
    "\n",
    "results <- c()\n",
    "for(i in 1:100){\n",
    "    res = two_sample_t(n1 = exp1_n1,\n",
    "                       n2 = exp1_n2,\n",
    "                       alpha = exp1_alpha,\n",
    "                       mu1 = exp1_mu1,\n",
    "                       mu2 = exp1_mu2,\n",
    "                       sigma1 = exp1_sigma1,\n",
    "                       sigma2 = exp1_sigma2,\n",
    "                       eqvar = exp1_eqvar,\n",
    "                       twotail = exp1_twotail)\n",
    "    results[i] = res[[1]]\n",
    "    # ifelse(results[i] == \"Reject\", print(res),NA)\n",
    "}\n",
    "table(results)\n",
    "\n",
    "# Expected frequency of type 1 error = 5%\n",
    "# i.e. probability of rejecting the null hypothesis when it is actually true"
   ]
  },
  {
   "cell_type": "code",
   "execution_count": 216,
   "metadata": {
    "colab": {
     "base_uri": "https://localhost:8080/",
     "height": 86
    },
    "colab_type": "code",
    "id": "ZTUwjyfbwIRt",
    "outputId": "67c3b980-b0a8-492d-ccd1-623332f28d69",
    "scrolled": true
   },
   "outputs": [
    {
     "name": "stdout",
     "output_type": "stream",
     "text": [
      "[1] \"power = 0.0499999999999999\"\n"
     ]
    },
    {
     "data": {
      "text/plain": [
       "results\n",
       "Fail to reject         Reject \n",
       "            89             11 "
      ]
     },
     "metadata": {
      "tags": []
     },
     "output_type": "display_data"
    }
   ],
   "source": [
    "# Iterate\n",
    "\n",
    "# Parameters of the experiment\n",
    "exp1_n1 = 1000000\n",
    "exp1_n2 = 1000000\n",
    "exp1_alpha = 0.05\n",
    "exp1_eqvar = TRUE\n",
    "exp1_twotail = FALSE\n",
    "\n",
    "# Population parameters\n",
    "\n",
    "exp1_mu1 = 11\n",
    "exp1_mu2 = 11\n",
    "exp1_sigma1 = 3\n",
    "exp1_sigma2 = 3\n",
    "\n",
    "print(paste0(\"power = \", two_sample_t_power(alpha = exp1_alpha,\n",
    "                                            n1 = exp1_n1,\n",
    "                                            n2 = exp1_n2,\n",
    "                                            actual_effect_size = exp1_mu1 - exp1_mu2,\n",
    "                                            sigma1 = exp1_sigma1,\n",
    "                                            sigma2 = exp1_sigma2,\n",
    "                                            eqvar = exp1_eqvar,\n",
    "                                            twotail = exp1_twotail)))\n",
    "\n",
    "\n",
    "\n",
    "results <- c()\n",
    "for(i in 1:100){\n",
    "    res = two_sample_t(n1 = exp1_n1,\n",
    "                       n2 = exp1_n2,\n",
    "                       alpha = exp1_alpha,\n",
    "                       mu1 = exp1_mu1,\n",
    "                       mu2 = exp1_mu2,\n",
    "                       sigma1 = exp1_sigma1,\n",
    "                       sigma2 = exp1_sigma2,\n",
    "                       eqvar = exp1_eqvar,\n",
    "                       twotail = exp1_twotail)\n",
    "    results[i] = res[[1]]\n",
    "    # ifelse(results[i] == \"Reject\", print(res),NA)\n",
    "}\n",
    "table(results)\n",
    "\n",
    "# Expected frequency of type I error = 5%\n",
    "# i.e. probability of rejecting the null hypothesis when it is actually true"
   ]
  },
  {
   "cell_type": "code",
   "execution_count": 212,
   "metadata": {
    "colab": {
     "base_uri": "https://localhost:8080/",
     "height": 86
    },
    "colab_type": "code",
    "id": "Q4Rc_p6uwIR1",
    "outputId": "28554ed9-2925-4e8c-bd12-a7c3decb5526",
    "scrolled": true
   },
   "outputs": [
    {
     "name": "stdout",
     "output_type": "stream",
     "text": [
      "[1] \"power = 1\"\n"
     ]
    },
    {
     "data": {
      "text/plain": [
       "results\n",
       "Reject \n",
       "   100 "
      ]
     },
     "metadata": {
      "tags": []
     },
     "output_type": "display_data"
    }
   ],
   "source": [
    "# Iterate\n",
    "\n",
    "# Parameters of the experiment\n",
    "exp1_n1 = 1000000\n",
    "exp1_n2 = 1000000\n",
    "exp1_alpha = 0.05\n",
    "exp1_eqvar = TRUE\n",
    "exp1_twotail = FALSE\n",
    "\n",
    "# Population parameters\n",
    "\n",
    "exp1_mu1 = 15\n",
    "exp1_mu2 = 11\n",
    "exp1_sigma1 = 3\n",
    "exp1_sigma2 = 3\n",
    "\n",
    "print(paste0(\"power = \", two_sample_t_power(alpha = exp1_alpha,\n",
    "                                            n1 = exp1_n1,\n",
    "                                            n2 = exp1_n2,\n",
    "                                            actual_effect_size = exp1_mu1 - exp1_mu2,\n",
    "                                            sigma1 = exp1_sigma1,\n",
    "                                            sigma2 = exp1_sigma2,\n",
    "                                            eqvar = exp1_eqvar,\n",
    "                                            twotail = exp1_twotail)))\n",
    "\n",
    "\n",
    "\n",
    "results <- c()\n",
    "for(i in 1:100){\n",
    "    res = two_sample_t(n1 = exp1_n1,\n",
    "                       n2 = exp1_n2,\n",
    "                       alpha = exp1_alpha,\n",
    "                       mu1 = exp1_mu1,\n",
    "                       mu2 = exp1_mu2,\n",
    "                       sigma1 = exp1_sigma1,\n",
    "                       sigma2 = exp1_sigma2,\n",
    "                       eqvar = exp1_eqvar,\n",
    "                       twotail = exp1_twotail)\n",
    "    results[i] = res[[1]]\n",
    "    # ifelse(results[i] == \"Reject\", print(res),NA)\n",
    "}\n",
    "table(results)\n",
    "\n",
    "# Expected frequency of type II error  = 0% (since power = 1)\n",
    "# i.e. probability of failing to reject the null hypothesis when it is actually false"
   ]
  },
  {
   "cell_type": "code",
   "execution_count": 213,
   "metadata": {
    "colab": {
     "base_uri": "https://localhost:8080/",
     "height": 86
    },
    "colab_type": "code",
    "id": "osx4kcGawISA",
    "outputId": "c5716452-87b7-4e4d-f88b-211850600b7e"
   },
   "outputs": [
    {
     "name": "stdout",
     "output_type": "stream",
     "text": [
      "[1] \"power = 0.759005750597752\"\n"
     ]
    },
    {
     "data": {
      "text/plain": [
       "results\n",
       "Fail to reject         Reject \n",
       "            26             74 "
      ]
     },
     "metadata": {
      "tags": []
     },
     "output_type": "display_data"
    }
   ],
   "source": [
    "# Iterate\n",
    "\n",
    "# Parameters of the experiment\n",
    "exp1_n1 = 100\n",
    "exp1_n2 = 100\n",
    "exp1_alpha = 0.05\n",
    "exp1_eqvar = TRUE\n",
    "exp1_twotail = FALSE\n",
    "\n",
    "# Population parameters\n",
    "\n",
    "exp1_mu1 = 12\n",
    "exp1_mu2 = 11\n",
    "exp1_sigma1 = 3\n",
    "exp1_sigma2 = 3\n",
    "\n",
    "\n",
    "print(paste0(\"power = \", two_sample_t_power(alpha = exp1_alpha,\n",
    "                                            n1 = exp1_n1,\n",
    "                                            n2 = exp1_n2,\n",
    "                                            actual_effect_size = exp1_mu1 - exp1_mu2,\n",
    "                                            sigma1 = exp1_sigma1,\n",
    "                                            sigma2 = exp1_sigma2,\n",
    "                                            eqvar = exp1_eqvar,\n",
    "                                            twotail = exp1_twotail)))\n",
    "\n",
    "\n",
    "results <- c()\n",
    "for(i in 1:100){\n",
    "    res = two_sample_t(n1 = exp1_n1,\n",
    "                       n2 = exp1_n2,\n",
    "                       alpha = exp1_alpha,\n",
    "                       mu1 = exp1_mu1,\n",
    "                       mu2 = exp1_mu2,\n",
    "                       sigma1 = exp1_sigma1,\n",
    "                       sigma2 = exp1_sigma2,\n",
    "                       eqvar = exp1_eqvar,\n",
    "                       twotail = exp1_twotail)\n",
    "    results[i] = res[[1]]\n",
    "    # ifelse(results[i] == \"Reject\", print(res),NA)\n",
    "}\n",
    "table(results)\n",
    "\n",
    "# Expected frequency of type II error  = 25% (since power = 1)\n",
    "# i.e. probability of failing to reject the null hypothesis when it is actually false"
   ]
  },
  {
   "cell_type": "code",
   "execution_count": 217,
   "metadata": {
    "colab": {
     "base_uri": "https://localhost:8080/",
     "height": 86
    },
    "colab_type": "code",
    "id": "5IfW6A9GwISG",
    "outputId": "0b27cdf3-d366-4355-cfc7-d3d24bc3d811",
    "scrolled": true
   },
   "outputs": [
    {
     "name": "stdout",
     "output_type": "stream",
     "text": [
      "[1] \"power = 0.0499999999999999\"\n"
     ]
    },
    {
     "data": {
      "text/plain": [
       "results\n",
       "Fail to reject         Reject \n",
       "            90             10 "
      ]
     },
     "metadata": {
      "tags": []
     },
     "output_type": "display_data"
    }
   ],
   "source": [
    "# Iterate\n",
    "\n",
    "# Parameters of the experiment\n",
    "exp1_n1 = 1000000\n",
    "exp1_n2 = 1000000\n",
    "exp1_alpha = 0.05\n",
    "exp1_eqvar = TRUE\n",
    "exp1_twotail = FALSE\n",
    "\n",
    "# Population parameters\n",
    "\n",
    "exp1_mu1 = 11\n",
    "exp1_mu2 = 11\n",
    "exp1_sigma1 = 3\n",
    "exp1_sigma2 = 3\n",
    "\n",
    "\n",
    "print(paste0(\"power = \", two_sample_t_power(alpha = exp1_alpha,\n",
    "                                            n1 = exp1_n1,\n",
    "                                            n2 = exp1_n2,\n",
    "                                            actual_effect_size = exp1_mu1 - exp1_mu2,\n",
    "                                            sigma1 = exp1_sigma1,\n",
    "                                            sigma2 = exp1_sigma2,\n",
    "                                            eqvar = exp1_eqvar,\n",
    "                                            twotail = exp1_twotail)))\n",
    "\n",
    "results <- c()\n",
    "for(i in 1:100){\n",
    "    res = two_sample_t(n1 = exp1_n1,\n",
    "                       n2 = exp1_n2,\n",
    "                       alpha = exp1_alpha,\n",
    "                       mu1 = exp1_mu1,\n",
    "                       mu2 = exp1_mu2,\n",
    "                       sigma1 = exp1_sigma1,\n",
    "                       sigma2 = exp1_sigma2,\n",
    "                       eqvar = exp1_eqvar,\n",
    "                       twotail = exp1_twotail)\n",
    "    results[i] = res[[1]]\n",
    "    # ifelse(results[i] == \"Reject\", print(res),NA)\n",
    "}\n",
    "table(results)\n",
    "\n",
    "\n",
    "# Expected frequency of type I error = 5%\n",
    "# i.e. probability of rejecting the null hypothesis when it is actually true"
   ]
  },
  {
   "cell_type": "code",
   "execution_count": null,
   "metadata": {
    "colab": {},
    "colab_type": "code",
    "id": "JUjRSkLpwISL"
   },
   "outputs": [],
   "source": []
  }
 ],
 "metadata": {
  "celltoolbar": "Raw Cell Format",
  "colab": {
   "name": "Hypothesis Testing - two sample t-test.ipynb",
   "provenance": []
  },
  "kernelspec": {
   "display_name": "R",
   "language": "R",
   "name": "ir"
  },
  "language_info": {
   "codemirror_mode": "r",
   "file_extension": ".r",
   "mimetype": "text/x-r-source",
   "name": "R",
   "pygments_lexer": "r",
   "version": "4.4.0"
  }
 },
 "nbformat": 4,
 "nbformat_minor": 4
}
