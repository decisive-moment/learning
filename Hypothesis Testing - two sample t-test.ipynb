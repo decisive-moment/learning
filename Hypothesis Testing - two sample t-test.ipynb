{
  "nbformat": 4,
  "nbformat_minor": 0,
  "metadata": {
    "celltoolbar": "Raw Cell Format",
    "kernelspec": {
      "display_name": "R",
      "language": "R",
      "name": "ir"
    },
    "language_info": {
      "codemirror_mode": "r",
      "file_extension": ".r",
      "mimetype": "text/x-r-source",
      "name": "R",
      "pygments_lexer": "r",
      "version": "3.6.2"
    },
    "colab": {
      "name": "Hypothesis Testing - two sample t-test.ipynb",
      "provenance": []
    }
  },
  "cells": [
    {
      "cell_type": "markdown",
      "metadata": {
        "id": "4zwGi5wUwINl",
        "colab_type": "text"
      },
      "source": [
        "# Two Sample t-test\n",
        "Chaitanya Anand <br>\n",
        "(https://github.com/decisive-moment) <br>\n",
        "Created on: Jan 04, 2020 <br>\n",
        "Last Edit: March 03, 2020 <br>\n",
        "Notebook to demonstrate two sample t-test using R. <br> Deliberately not used R's inbuilt t.test function in order to explore the inner workings of the test. <br><br>\n",
        "This notebook assumes that the reader is familiar with the theory of hypothesis testing. If not then I would recommend reading up on the basics before going through the code. <br><br>\n",
        "Some resources that I have found useful for learning hypothesis testing are: <br>(By no means an exhaustive list. One may pick up any resource on introductry statistics) <br>\n",
        "- Design and Analysis of Experiments by Montgomery ISBN-13: 978-1118146927\n",
        "- Coursera course on inferential statistics: https://www.coursera.org/learn/inferential-statistics/home/welcome"
      ]
    },
    {
      "cell_type": "code",
      "metadata": {
        "id": "5blbQgbXwINt",
        "colab_type": "code",
        "colab": {}
      },
      "source": [
        "# Loading important libraries\n",
        "library(dplyr)\n",
        "library(ggplot2)"
      ],
      "execution_count": 0,
      "outputs": []
    },
    {
      "cell_type": "markdown",
      "metadata": {
        "id": "usZjEWvMwIOF",
        "colab_type": "text"
      },
      "source": [
        "### Important Formulas\n",
        "\n",
        "Degrees of freedom for the equal variance case<br>\n",
        "$\n",
        "\\begin{align}\n",
        "df = n_1 + n_2 - 2 \\\\\n",
        "\\end{align}\n",
        "$<br>\n",
        "\n",
        "Degrees of freedom for the unequal variance case<br>\n",
        "$\n",
        "\\begin{align}\n",
        "df = \\frac{\\left(\\frac{s_1^2}{n_1}+\\frac{s_2^2}{n_2}\\right)^2}{\\frac{\\left(\\frac{s_1^2}{n_1}\\right)^2}{n_1-1} + \\frac{\\left(\\frac{s_2^2}{n_2}\\right)^2}{n_2-1}}\\\\\n",
        "\\end{align}\n",
        "$<br>\n",
        "\n",
        "Standard deviation for the equal variance case<br>\n",
        "$\n",
        "\\begin{align}\n",
        "s_{\\bar{X_1}-\\bar{X_2}}=\\sqrt{\\frac{(n_1-1)s_1^2-(n_2-1)s_2^2}{n_1+n_2-2}}\\\\\n",
        "\\end{align}\n",
        "$<br>\n",
        "\n",
        "Standard deviation for the unequal variance case<br>\n",
        "$\n",
        "\\begin{align}\n",
        "s_{\\bar{X_1}-\\bar{X_2}}=\\sqrt{s_1^2+s_2^2}\n",
        "\\end{align}\n",
        "$\n",
        "\n",
        "Standard error for the equal variance case<br>\n",
        "$\n",
        "\\begin{align}\n",
        "SE_{\\bar{X_1}-\\bar{X_2}}=\\sqrt{\\left(\\frac{(n_1-1)s_1^2-(n_2-1)s_2^2}{n_1+n_2-2}\\right)\\left(\\frac{1}{n_1}+\\frac{1}{n_2}\\right)}\\\\\n",
        "\\end{align}\n",
        "$<br>\n",
        "\n",
        "Standard error for the unequal variance case<br>\n",
        "$\n",
        "\\begin{align}\n",
        "SE_{\\bar{X_1}-\\bar{X_2}}=\\sqrt{\\frac{s_1^2}{n_1}+\\frac{s_2^2}{n_2}}\n",
        "\\end{align}\n",
        "$"
      ]
    },
    {
      "cell_type": "markdown",
      "metadata": {
        "id": "qoHwDrHMwIOJ",
        "colab_type": "text"
      },
      "source": [
        "### Data Generation Process"
      ]
    },
    {
      "cell_type": "code",
      "metadata": {
        "id": "lAH4LQVawION",
        "colab_type": "code",
        "colab": {}
      },
      "source": [
        "#### -------- Parameters of the experiment\n",
        "# Number of trials from the first random process\n",
        "n1 = 100\n",
        "# Number of trials from the second random process\n",
        "n2 = 100\n",
        "# Chosen significance level\n",
        "alpha = 0.05\n",
        "# Assume equal variance of the two samples?\n",
        "eqvar = FALSE\n",
        "# Two tailed or one tailed test?\n",
        "twotail = TRUE\n",
        "\n",
        "#### -------- Population parameters\n",
        "# Actual population mean of the first random process\n",
        "mu1 = 11\n",
        "# Actual population mean of the second random process\n",
        "mu2 = 12\n",
        "# Actual population standard deviation of the first random process\n",
        "sigma1 = 3\n",
        "# Actual population standard deviation of the econd random process\n",
        "sigma2 = 2"
      ],
      "execution_count": 0,
      "outputs": []
    },
    {
      "cell_type": "code",
      "metadata": {
        "id": "AaVj4MeYwIOa",
        "colab_type": "code",
        "colab": {}
      },
      "source": [
        "#### -------- Let us say have collected some data from the two random processes\n",
        "# The rnorm function in r helps us simulate exactly this\n",
        "# The function will generate 'n' random values drawn from a\n",
        "# normal distribution of the specified parameters (mu and sigma)\n",
        "\n",
        "treatment1_data <- rnorm(n = n1, mean = mu1, sd = sigma1)\n",
        "treatment2_data <- rnorm(n = n2, mean = mu2, sd = sigma2)"
      ],
      "execution_count": 0,
      "outputs": []
    },
    {
      "cell_type": "code",
      "metadata": {
        "id": "Z4ykNHKHwIOm",
        "colab_type": "code",
        "colab": {}
      },
      "source": [
        "# We shall treat the population parameters as unknowm\n",
        "# throughout the hypothesis testing process\n",
        "# their only purpose was to obtain the simulated data\n",
        "# in the previous step\n",
        "\n",
        "# Deleting them from memory\n",
        "rm(mu1, mu2, sigma1, sigma2)"
      ],
      "execution_count": 0,
      "outputs": []
    },
    {
      "cell_type": "markdown",
      "metadata": {
        "id": "Aksi4oPAIjWb",
        "colab_type": "text"
      },
      "source": [
        "### Stating the  Hypothesis\n",
        "Let us say we have collected some data from two treatments (variations) of a random process. <br>\n",
        "e.g. Measuring the height of plants where one group of seedlings is grown in clay soil (treatment 1) and another group is grown in loamy soil (treatment 2). We now want to detect if clay soil (treatment 1) and loamy soil (treatment 2) differ in their effect on plant growth.\n",
        "\n",
        "The null hypothesis in this case would be:\n",
        "\\begin{align}\n",
        "H_0: \\mu_1 - \\mu_2 = 0\n",
        "\\end{align}\n",
        "\n",
        "The alternative hypothesis can be stated as (assuming we have no reason to believe one type of soil is better than the other):\n",
        "\\begin{align}\n",
        "H_1: \\mu_1 - \\mu_2 \\neq 0\n",
        "\\end{align}"
      ]
    },
    {
      "cell_type": "markdown",
      "metadata": {
        "id": "kOY03ap2wIOv",
        "colab_type": "text"
      },
      "source": [
        "### Calculating Sample Statistics"
      ]
    },
    {
      "cell_type": "code",
      "metadata": {
        "id": "Ym4XEnCIwIOz",
        "colab_type": "code",
        "colab": {
          "base_uri": "https://localhost:8080/",
          "height": 34
        },
        "outputId": "b9fcbed3-ca52-42df-c3e2-8af1fd02df0b"
      },
      "source": [
        "# Data collected from random process 1\n",
        "glimpse(treatment1_data)"
      ],
      "execution_count": 63,
      "outputs": [
        {
          "output_type": "stream",
          "text": [
            " num [1:100] 11.3 10.6 13.3 14.3 11.3 ...\n"
          ],
          "name": "stdout"
        }
      ]
    },
    {
      "cell_type": "code",
      "metadata": {
        "id": "-pcxqr3AwIO_",
        "colab_type": "code",
        "colab": {
          "base_uri": "https://localhost:8080/",
          "height": 34
        },
        "outputId": "4626a402-a4c6-4cc1-899c-dc23c62cb81a"
      },
      "source": [
        "# Data collected from random process 2\n",
        "glimpse(treatment2_data)"
      ],
      "execution_count": 64,
      "outputs": [
        {
          "output_type": "stream",
          "text": [
            " num [1:100] 11.88 11.9 12.94 8.33 11.17 ...\n"
          ],
          "name": "stdout"
        }
      ]
    },
    {
      "cell_type": "code",
      "metadata": {
        "id": "qy7PCrOHwIPK",
        "colab_type": "code",
        "colab": {}
      },
      "source": [
        "# Sample mean of data collected from process 1\n",
        "x1_bar = mean(treatment1_data)\n",
        "# Sample mean of data collected from process 2\n",
        "x2_bar = mean(treatment2_data)\n",
        "\n",
        "# Sample standard deviation of data collected from process 1\n",
        "s1 = sd(treatment1_data)\n",
        "# Sample standard deviation of data collected from process 2\n",
        "s2 = sd(treatment2_data)\n",
        "\n",
        "# Estimate of the population standard deviation\n",
        "# Obtained using the sample standard deviations\n",
        "# Since we are now treating the actual population parameters as unknown\n",
        "# (please see the section on important formulas at the begining of this document)\n",
        "\n",
        "var = ifelse(eqvar,\n",
        "\n",
        "              # Equal standard deviation case\n",
        "              # (i.e. assuming that the two process have the same standard deviation)\n",
        "              (((((n1 -1)*(s1^2)) + ((n2 -1)*(s2^2)))/(n1+n2-2))),\n",
        "\n",
        "              # Unequal standard deviation case\n",
        "              # (i.e. assuming that the two process have different standard deviation)\n",
        "              (s1^2) + (s2^2)\n",
        ")\n",
        "sd = var^(1/2)\n",
        "\n",
        "\n",
        "# Standard error\n",
        "# (please see the section on important formulas at the begining of this document)\n",
        "se = ifelse(eqvar,\n",
        "\n",
        "              # Equal standard deviation case\n",
        "              # (i.e. assuming that the two process have the same standard deviation)\n",
        "              (((((n1 -1)*(s1^2)) + ((n2 -1)*(s2^2)))/(n1+n2-2))*((1/n1) + (1/n2)))^(1/2),\n",
        "\n",
        "              # Unequal standard deviation case\n",
        "              # (i.e. assuming that the two process have different standard deviation)\n",
        "              (((s1^2)/n1) + ((s2^2)/n2))^(1/2)\n",
        ")\n",
        "\n",
        "\n",
        "# Degrees of freedom\n",
        "# (please see the section on important formulas at the begining of this document)\n",
        "# Equal standard deviation case\n",
        "df = ifelse(eqvar,\n",
        "\n",
        "              # Equal standard deviation case\n",
        "              # (i.e. assuming that the two process have the same standard deviation)\n",
        "              n1 + n2 - 2,\n",
        "\n",
        "              # Unequal standard deviation case\n",
        "              # (i.e. assuming that the two process have different standard deviation)\n",
        "              (((s1^2/n1) + (s2^2/n2))^2)/\n",
        "                (((s1^2/n1)^2/(n1-1)) + (((s2^2/n2)^2)/(n2-1)))\n",
        ")\n",
        "\n",
        "# Observed effect (diffference between the two treatments i.e. random processes)\n",
        "observed_dfference = x1_bar - x2_bar\n",
        "# z value of the observed effect\n",
        "# Since null hypothesis is that the difference in means is zero\n",
        "# The sampling distribution is centered at mu = 0\n",
        "z = (0 - observed_dfference)/se"
      ],
      "execution_count": 0,
      "outputs": []
    },
    {
      "cell_type": "code",
      "metadata": {
        "id": "MNDz7VR3wIPY",
        "colab_type": "code",
        "colab": {
          "base_uri": "https://localhost:8080/",
          "height": 69
        },
        "outputId": "9aced433-665f-462e-f5bc-3d11f1a6b081"
      },
      "source": [
        "x1_bar\n",
        "x2_bar\n",
        "x1_bar-x2_bar"
      ],
      "execution_count": 66,
      "outputs": [
        {
          "output_type": "display_data",
          "data": {
            "text/plain": [
              "[1] 10.64781"
            ],
            "text/latex": "10.6478114662034",
            "text/markdown": "10.6478114662034",
            "text/html": [
              "10.6478114662034"
            ]
          },
          "metadata": {
            "tags": []
          }
        },
        {
          "output_type": "display_data",
          "data": {
            "text/plain": [
              "[1] 12.00728"
            ],
            "text/latex": "12.007280317968",
            "text/markdown": "12.007280317968",
            "text/html": [
              "12.007280317968"
            ]
          },
          "metadata": {
            "tags": []
          }
        },
        {
          "output_type": "display_data",
          "data": {
            "text/plain": [
              "[1] -1.359469"
            ],
            "text/latex": "-1.35946885176464",
            "text/markdown": "-1.35946885176464",
            "text/html": [
              "-1.35946885176464"
            ]
          },
          "metadata": {
            "tags": []
          }
        }
      ]
    },
    {
      "cell_type": "code",
      "metadata": {
        "id": "kCif-DVSwIPh",
        "colab_type": "code",
        "colab": {
          "base_uri": "https://localhost:8080/",
          "height": 52
        },
        "outputId": "5a3ab8b0-ff45-4af3-d48e-05d4cfb0b4c7"
      },
      "source": [
        "s1\n",
        "s2"
      ],
      "execution_count": 67,
      "outputs": [
        {
          "output_type": "display_data",
          "data": {
            "text/plain": [
              "[1] 2.553093"
            ],
            "text/latex": "2.55309343266605",
            "text/markdown": "2.55309343266605",
            "text/html": [
              "2.55309343266605"
            ]
          },
          "metadata": {
            "tags": []
          }
        },
        {
          "output_type": "display_data",
          "data": {
            "text/plain": [
              "[1] 1.867611"
            ],
            "text/latex": "1.86761092843661",
            "text/markdown": "1.86761092843661",
            "text/html": [
              "1.86761092843661"
            ]
          },
          "metadata": {
            "tags": []
          }
        }
      ]
    },
    {
      "cell_type": "code",
      "metadata": {
        "id": "TMmk7KNTwIPr",
        "colab_type": "code",
        "colab": {
          "base_uri": "https://localhost:8080/",
          "height": 52
        },
        "outputId": "0a731ffb-4b13-460c-85ec-95b4109e04fd"
      },
      "source": [
        "se\n",
        "z"
      ],
      "execution_count": 68,
      "outputs": [
        {
          "output_type": "display_data",
          "data": {
            "text/plain": [
              "[1] 0.3163267"
            ],
            "text/latex": "0.316326676964469",
            "text/markdown": "0.316326676964469",
            "text/html": [
              "0.316326676964469"
            ]
          },
          "metadata": {
            "tags": []
          }
        },
        {
          "output_type": "display_data",
          "data": {
            "text/plain": [
              "[1] 4.297674"
            ],
            "text/latex": "4.29767373656361",
            "text/markdown": "4.29767373656361",
            "text/html": [
              "4.29767373656361"
            ]
          },
          "metadata": {
            "tags": []
          }
        }
      ]
    },
    {
      "cell_type": "markdown",
      "metadata": {
        "id": "XUp-79hUwIP2",
        "colab_type": "text"
      },
      "source": [
        "### Step by Steb Procedure"
      ]
    },
    {
      "cell_type": "markdown",
      "metadata": {
        "id": "qt2wAg7ywIP5",
        "colab_type": "text"
      },
      "source": [
        "H0: Treatment 1 and Treatment 2 are not diferent i.e. mu1 = mu2 or mu1 - mu2 = 0 <br>\n",
        "H1: Treatment 1 and Treatment 2 are the same i.e. mu1 != mu2 or mu1 - mu2 != 0 <br>"
      ]
    },
    {
      "cell_type": "code",
      "metadata": {
        "id": "J2AliAs0wIP9",
        "colab_type": "code",
        "colab": {
          "base_uri": "https://localhost:8080/",
          "height": 52
        },
        "outputId": "e98e49ef-79e6-4c71-cc2b-d040f461bb94"
      },
      "source": [
        "p = pt(q = z, df = df, lower.tail = TRUE, log.p = FALSE)\n",
        "p = ifelse(twotail,\n",
        "            ifelse(p > 0.5, (1-p), p)*2,\n",
        "            ifelse(p > 0.5, (1-p), p)\n",
        ")\n",
        "format(p, scientific = TRUE)\n",
        "format(round(p, 5), scientific = FALSE)"
      ],
      "execution_count": 76,
      "outputs": [
        {
          "output_type": "display_data",
          "data": {
            "text/plain": [
              "[1] \"2.812031e-05\""
            ],
            "text/latex": "'2.812031e-05'",
            "text/markdown": "'2.812031e-05'",
            "text/html": [
              "'2.812031e-05'"
            ]
          },
          "metadata": {
            "tags": []
          }
        },
        {
          "output_type": "display_data",
          "data": {
            "text/plain": [
              "[1] \"0.00003\""
            ],
            "text/latex": "'0.00003'",
            "text/markdown": "'0.00003'",
            "text/html": [
              "'0.00003'"
            ]
          },
          "metadata": {
            "tags": []
          }
        }
      ]
    },
    {
      "cell_type": "code",
      "metadata": {
        "id": "GRLYsZmpwIQM",
        "colab_type": "code",
        "colab": {
          "base_uri": "https://localhost:8080/",
          "height": 34
        },
        "outputId": "e8ec6f2b-7380-4320-f86d-99d6cd3ac018"
      },
      "source": [
        "ifelse(p < alpha, \"We reject the null hypothesis\", \"We fail to reject the null hypothesis\")"
      ],
      "execution_count": 70,
      "outputs": [
        {
          "output_type": "display_data",
          "data": {
            "text/plain": [
              "[1] \"We reject the null hypothesis\""
            ],
            "text/latex": "'We reject the null hypothesis'",
            "text/markdown": "'We reject the null hypothesis'",
            "text/html": [
              "'We reject the null hypothesis'"
            ]
          },
          "metadata": {
            "tags": []
          }
        }
      ]
    },
    {
      "cell_type": "markdown",
      "metadata": {
        "id": "UIYVWNCEwIQW",
        "colab_type": "text"
      },
      "source": [
        "### Alternative Approaoch - Confidence Interval"
      ]
    },
    {
      "cell_type": "code",
      "metadata": {
        "id": "Ij7HM3vVwIQZ",
        "colab_type": "code",
        "colab": {}
      },
      "source": [
        "critical_value = qt(p = alpha/2, df = df, lower.tail = TRUE, log.p = FALSE)\n",
        "lower_limit = ifelse(sign(critical_value) == 1 & sign (observed_dfference) == 1,\n",
        "                 observed_dfference - (critical_value*se),\n",
        "                 observed_dfference + (critical_value*se))\n",
        "upper_limit = ifelse(sign(critical_value) == 1 & sign (observed_dfference) == 1,\n",
        "                 observed_dfference + (critical_value*se),\n",
        "                 observed_dfference - (critical_value*se))\n",
        "ci = c(lower_limit, observed_dfference, upper_limit)"
      ],
      "execution_count": 0,
      "outputs": []
    },
    {
      "cell_type": "code",
      "metadata": {
        "id": "6Iuz5gxewIQk",
        "colab_type": "code",
        "colab": {
          "base_uri": "https://localhost:8080/",
          "height": 34
        },
        "outputId": "5e1e07ed-7a2a-41a5-b960-bfd6b30ca1fa"
      },
      "source": [
        "ci"
      ],
      "execution_count": 78,
      "outputs": [
        {
          "output_type": "display_data",
          "data": {
            "text/plain": [
              "[1] -1.9836226 -1.3594689 -0.7353151"
            ],
            "text/latex": "\\begin{enumerate*}\n\\item -1.98362257795599\n\\item -1.35946885176464\n\\item -0.735315125573289\n\\end{enumerate*}\n",
            "text/markdown": "1. -1.98362257795599\n2. -1.35946885176464\n3. -0.735315125573289\n\n\n",
            "text/html": [
              "<style>\n",
              ".list-inline {list-style: none; margin:0; padding: 0}\n",
              ".list-inline>li {display: inline-block}\n",
              ".list-inline>li:not(:last-child)::after {content: \"\\00b7\"; padding: 0 .5ex}\n",
              "</style>\n",
              "<ol class=list-inline><li>-1.98362257795599</li><li>-1.35946885176464</li><li>-0.735315125573289</li></ol>\n"
            ]
          },
          "metadata": {
            "tags": []
          }
        }
      ]
    },
    {
      "cell_type": "code",
      "metadata": {
        "id": "OUIPLB9swIQw",
        "colab_type": "code",
        "colab": {
          "base_uri": "https://localhost:8080/",
          "height": 34
        },
        "outputId": "83ea5a08-c091-43c3-fdb4-18376520d3af"
      },
      "source": [
        "ifelse(0 >= ci[1] & 0 <= ci[3],\n",
        "       \"The confidence interval contains zero\",\n",
        "       \"The confidence interval (corresponding to chosen alpha) does not contain 0\")"
      ],
      "execution_count": 79,
      "outputs": [
        {
          "output_type": "display_data",
          "data": {
            "text/plain": [
              "[1] \"The confidence interval (corresponding to chosen alpha) does not contain 0\""
            ],
            "text/latex": "'The confidence interval (corresponding to chosen alpha) does not contain 0'",
            "text/markdown": "'The confidence interval (corresponding to chosen alpha) does not contain 0'",
            "text/html": [
              "'The confidence interval (corresponding to chosen alpha) does not contain 0'"
            ]
          },
          "metadata": {
            "tags": []
          }
        }
      ]
    },
    {
      "cell_type": "markdown",
      "metadata": {
        "id": "agWa76zTVNRi",
        "colab_type": "text"
      },
      "source": [
        "### Verifying the results using R's inbuilt t.test function"
      ]
    },
    {
      "cell_type": "code",
      "metadata": {
        "id": "-uoduoxJUwwp",
        "colab_type": "code",
        "colab": {
          "base_uri": "https://localhost:8080/",
          "height": 208
        },
        "outputId": "7d90e312-effb-4ee3-d9b7-b7aaf8aa430b"
      },
      "source": [
        "t.test(treatment1_data,\n",
        "       treatment2_data,\n",
        "       mu = 0,\n",
        "       paired = FALSE,\n",
        "       var.equal = eqvar,\n",
        "       alternative = ifelse(twotail, \"two.sided\", \"one.sided\"),\n",
        "       conf.level = 1 - alpha)"
      ],
      "execution_count": 80,
      "outputs": [
        {
          "output_type": "display_data",
          "data": {
            "text/plain": [
              "\n",
              "\tWelch Two Sample t-test\n",
              "\n",
              "data:  treatment1_data and treatment2_data\n",
              "t = -4.2977, df = 181.37, p-value = 2.812e-05\n",
              "alternative hypothesis: true difference in means is not equal to 0\n",
              "95 percent confidence interval:\n",
              " -1.9836226 -0.7353151\n",
              "sample estimates:\n",
              "mean of x mean of y \n",
              " 10.64781  12.00728 \n"
            ]
          },
          "metadata": {
            "tags": []
          }
        }
      ]
    },
    {
      "cell_type": "markdown",
      "metadata": {
        "id": "Q178JxzqwIQ8",
        "colab_type": "text"
      },
      "source": [
        "### Encapsulating the above process in a function (to enable iterative experimentation)"
      ]
    },
    {
      "cell_type": "code",
      "metadata": {
        "id": "DAqE7ANPwIQ_",
        "colab_type": "code",
        "colab": {}
      },
      "source": [
        "two_sample_t <- function(n1, n2, alpha, mu1, mu2, sigma1, sigma2, eqvar, twotail) {\n",
        "    # Generating data\n",
        "    treatment1_data <- rnorm(n = n1, mean = mu1, sd = sigma1)\n",
        "    treatment2_data <- rnorm(n = n2, mean = mu2, sd = sigma2)\n",
        "    \n",
        "\n",
        "    # Sample mean of data collected from process 1\n",
        "    x1_bar = mean(treatment1_data)\n",
        "    # Sample mean of data collected from process 2\n",
        "    x2_bar = mean(treatment2_data)\n",
        "\n",
        "    # Sample standard deviation of data collected from process 1\n",
        "    s1 = sd(treatment1_data)\n",
        "    # Sample standard deviation of data collected from process 2\n",
        "    s2 = sd(treatment2_data)\n",
        "\n",
        "    # Estimate of the population standard deviation\n",
        "    # Obtained using the sample standard deviations\n",
        "    # Since we are now treating the actual population parameters as unknown\n",
        "    # (please see the section on important formulas at the begining of this document)\n",
        "\n",
        "    var = ifelse(eqvar,\n",
        "\n",
        "                  # Equal standard deviation case\n",
        "                  # (i.e. assuming that the two process have the same standard deviation)\n",
        "                  (((((n1 -1)*(s1^2)) + ((n2 -1)*(s2^2)))/(n1+n2-2))),\n",
        "\n",
        "                  # Unequal standard deviation case\n",
        "                  # (i.e. assuming that the two process have different standard deviation)\n",
        "                  (s1^2) + (s2^2)\n",
        "    )\n",
        "    sd = var^(1/2)\n",
        "\n",
        "\n",
        "    # Standard error\n",
        "    # (please see the section on important formulas at the begining of this document)\n",
        "    se = ifelse(eqvar,\n",
        "\n",
        "                  # Equal standard deviation case\n",
        "                  # (i.e. assuming that the two process have the same standard deviation)\n",
        "                  (((((n1 -1)*(s1^2)) + ((n2 -1)*(s2^2)))/(n1+n2-2))*((1/n1) + (1/n2)))^(1/2),\n",
        "\n",
        "                  # Unequal standard deviation case\n",
        "                  # (i.e. assuming that the two process have different standard deviation)\n",
        "                  (((s1^2)/n1) + ((s2^2)/n2))^(1/2)\n",
        "    )\n",
        "\n",
        "\n",
        "    # Degrees of freedom\n",
        "    # (please see the section on important formulas at the begining of this document)\n",
        "    # Equal standard deviation case\n",
        "    df = ifelse(eqvar,\n",
        "\n",
        "                  # Equal standard deviation case\n",
        "                  # (i.e. assuming that the two process have the same standard deviation)\n",
        "                  n1 + n2 - 2,\n",
        "\n",
        "                  # Unequal standard deviation case\n",
        "                  # (i.e. assuming that the two process have different standard deviation)\n",
        "                  (((s1^2/n1) + (s2^2/n2))^2)/\n",
        "                    (((s1^2/n1)^2/(n1-1)) + (((s2^2/n2)^2)/(n2-1)))\n",
        "    )\n",
        "\n",
        "    # Observed effect (diffference between the two treatments i.e. random processes)\n",
        "    observed_dfference = x1_bar - x2_bar\n",
        "    # z value of the observed effect\n",
        "    # Since null hypothesis is that the difference in means is zero\n",
        "    # The sampling distribution is centered at mu = 0\n",
        "    z = (0 - observed_dfference)/se\n",
        "\n",
        "\n",
        "\n",
        "\n",
        "\n",
        "\n",
        "\n",
        "\n",
        "\n",
        "\n",
        "\n",
        "\n",
        "    # Calculating p-value\n",
        "    p = pt(q = z, df = df, lower.tail = TRUE, log.p = FALSE)\n",
        "    p = ifelse(twotail,\n",
        "                ifelse(p > 0.5, (1-p), p)*2,\n",
        "                ifelse(p > 0.5, (1-p), p)\n",
        "    )\n",
        "    # format(p, scientific = TRUE)\n",
        "    # format(round(p, 5), scientific = FALSE)\n",
        "    \n",
        "    # Calculating the cnfidence interval\n",
        "    critical_value = qt(p = alpha/2, df = df, lower.tail = TRUE, log.p = FALSE)\n",
        "    lower_limit = ifelse(sign(critical_value) == 1 & sign (observed_dfference) == 1,\n",
        "                    observed_dfference - (critical_value*se),\n",
        "                    observed_dfference + (critical_value*se))\n",
        "    upper_limit = ifelse(sign(critical_value) == 1 & sign (observed_dfference) == 1,\n",
        "                    observed_dfference + (critical_value*se),\n",
        "                    observed_dfference - (critical_value*se))\n",
        "    ci = c(lower_limit, observed_dfference, upper_limit)\n",
        "    \n",
        "    # Results of the hypothesis test\n",
        "    null_hypothesis_test_method <- ifelse(p <= alpha, \"We reject the null hypothesis\", \"We fail to reject the null hypothesis\")\n",
        "    confidence_interval_method <- ifelse(ci[1] <= 0 & 0 <= ci[3],\n",
        "       \"The confidence interval contains zero\",\n",
        "       \"The confidence interval (corresponding to chosen alpha) does not contain 0\")\n",
        "    \n",
        "    ret <- list(ifelse(null_hypothesis_test_method == \"We reject the null hypothesis\" &\n",
        "                  confidence_interval_method == \"The confidence interval (corresponding to chosen alpha) does not contain 0\", \"Reject\",\n",
        "                  \n",
        "                  ifelse(null_hypothesis_test_method == \"We fail to reject the null hypothesis\" &\n",
        "                         confidence_interval_method == \"The confidence interval contains zero\", \"Fail to reject\",\n",
        "                         \"ERROR\")),\n",
        "                p = p,\n",
        "                ci = ci,\n",
        "                x1_bar = x1_bar,\n",
        "                x2_bar = x2_bar,\n",
        "                s1 = s1,\n",
        "                s2 = s2,\n",
        "                se = se)\n",
        "    \n",
        "    return(ret)\n",
        "}"
      ],
      "execution_count": 0,
      "outputs": []
    },
    {
      "cell_type": "code",
      "metadata": {
        "id": "NdQkbLRKwIRI",
        "colab_type": "code",
        "colab": {
          "base_uri": "https://localhost:8080/",
          "height": 323
        },
        "outputId": "d8aa4877-c694-4674-b283-1ec2379d63cf"
      },
      "source": [
        "# Parameters of the experiment\n",
        "exp1_n1 = 100\n",
        "exp1_n2 = 100\n",
        "exp1_alpha = 0.05\n",
        "exp1_eqvar = FALSE\n",
        "exp1_twotail = TRUE\n",
        "\n",
        "# Population parameters\n",
        "\n",
        "exp1_mu1 = 12\n",
        "exp1_mu2 = 11\n",
        "exp1_sigma1 = 3\n",
        "exp1_sigma2 = 3\n",
        "\n",
        "two_sample_t(n1 = exp1_n1,\n",
        "             n2 = exp1_n2,\n",
        "             alpha = exp1_alpha,\n",
        "             mu1 = exp1_mu1,\n",
        "             mu2 = exp1_mu2,\n",
        "             sigma1 = exp1_sigma1,\n",
        "             sigma2 = exp1_sigma2,\n",
        "             eqvar = exp1_eqvar,\n",
        "             twotail = exp1_twotail)"
      ],
      "execution_count": 83,
      "outputs": [
        {
          "output_type": "display_data",
          "data": {
            "text/plain": [
              "[[1]]\n",
              "[1] \"Fail to reject\"\n",
              "\n",
              "$p\n",
              "[1] 0.1252101\n",
              "\n",
              "$ci\n",
              "[1] -0.1876336  0.6683944  1.5244223\n",
              "\n",
              "$x1_bar\n",
              "[1] 11.81131\n",
              "\n",
              "$x2_bar\n",
              "[1] 11.14291\n",
              "\n",
              "$s1\n",
              "[1] 3.170339\n",
              "\n",
              "$s2\n",
              "[1] 2.964979\n",
              "\n",
              "$se\n",
              "[1] 0.4340755\n"
            ],
            "text/latex": "\\begin{description}\n\\item[{[[1]]}] 'Fail to reject'\n\\item[\\$p] 0.125210065069234\n\\item[\\$ci] \\begin{enumerate*}\n\\item -0.187633599667761\n\\item 0.66839435022893\n\\item 1.52442230012562\n\\end{enumerate*}\n\n\\item[\\$x1\\_bar] 11.8113055894631\n\\item[\\$x2\\_bar] 11.1429112392342\n\\item[\\$s1] 3.17033949526681\n\\item[\\$s2] 2.96497872324134\n\\item[\\$se] 0.434075469757535\n\\end{description}\n",
            "text/markdown": "[[1]]\n:   'Fail to reject'\n$p\n:   0.125210065069234\n$ci\n:   1. -0.187633599667761\n2. 0.66839435022893\n3. 1.52442230012562\n\n\n\n$x1_bar\n:   11.8113055894631\n$x2_bar\n:   11.1429112392342\n$s1\n:   3.17033949526681\n$s2\n:   2.96497872324134\n$se\n:   0.434075469757535\n\n\n",
            "text/html": [
              "<dl>\n",
              "\t<dt>[[1]]</dt>\n",
              "\t\t<dd>'Fail to reject'</dd>\n",
              "\t<dt>$p</dt>\n",
              "\t\t<dd>0.125210065069234</dd>\n",
              "\t<dt>$ci</dt>\n",
              "\t\t<dd><style>\n",
              ".list-inline {list-style: none; margin:0; padding: 0}\n",
              ".list-inline>li {display: inline-block}\n",
              ".list-inline>li:not(:last-child)::after {content: \"\\00b7\"; padding: 0 .5ex}\n",
              "</style>\n",
              "<ol class=list-inline><li>-0.187633599667761</li><li>0.66839435022893</li><li>1.52442230012562</li></ol>\n",
              "</dd>\n",
              "\t<dt>$x1_bar</dt>\n",
              "\t\t<dd>11.8113055894631</dd>\n",
              "\t<dt>$x2_bar</dt>\n",
              "\t\t<dd>11.1429112392342</dd>\n",
              "\t<dt>$s1</dt>\n",
              "\t\t<dd>3.17033949526681</dd>\n",
              "\t<dt>$s2</dt>\n",
              "\t\t<dd>2.96497872324134</dd>\n",
              "\t<dt>$se</dt>\n",
              "\t\t<dd>0.434075469757535</dd>\n",
              "</dl>\n"
            ]
          },
          "metadata": {
            "tags": []
          }
        }
      ]
    },
    {
      "cell_type": "code",
      "metadata": {
        "scrolled": true,
        "id": "41FQqZNxwIRS",
        "colab_type": "code",
        "colab": {
          "base_uri": "https://localhost:8080/",
          "height": 1000
        },
        "outputId": "715a5b72-bb99-42b6-80cc-b9bd48b63df7"
      },
      "source": [
        "# Iterate\n",
        "\n",
        "# Parameters of the experiment\n",
        "exp1_n1 = 100\n",
        "exp1_n2 = 100\n",
        "exp1_alpha = 0.05\n",
        "exp1_eqvar = FALSE\n",
        "exp1_twotail = TRUE\n",
        "\n",
        "# Population parameters\n",
        "\n",
        "exp1_mu1 = 12\n",
        "exp1_mu2 = 12\n",
        "exp1_sigma1 = 3\n",
        "exp1_sigma2 = 3\n",
        "\n",
        "\n",
        "\n",
        "results <- c()\n",
        "for(i in 1:100){\n",
        "    res = two_sample_t(n1 = exp1_n1,\n",
        "                       n2 = exp1_n2,\n",
        "                       alpha = exp1_alpha,\n",
        "                       mu1 = exp1_mu1,\n",
        "                       mu2 = exp1_mu2,\n",
        "                       sigma1 = exp1_sigma1,\n",
        "                       sigma2 = exp1_sigma2,\n",
        "                       eqvar = exp1_eqvar,\n",
        "                       twotail = exp1_twotail)\n",
        "    results[i] = res[[1]]\n",
        "    ifelse(results[i] == \"Reject\", print(res),NA)\n",
        "}\n",
        "table(results)"
      ],
      "execution_count": 85,
      "outputs": [
        {
          "output_type": "stream",
          "text": [
            "[[1]]\n",
            "[1] \"Reject\"\n",
            "\n",
            "$p\n",
            "[1] 0.03691539\n",
            "\n",
            "$ci\n",
            "[1] 0.05870906 0.95669473 1.85468039\n",
            "\n",
            "$x1_bar\n",
            "[1] 12.16177\n",
            "\n",
            "$x2_bar\n",
            "[1] 11.20507\n",
            "\n",
            "$s1\n",
            "[1] 2.909029\n",
            "\n",
            "$s2\n",
            "[1] 3.502085\n",
            "\n",
            "$se\n",
            "[1] 0.4552697\n",
            "\n",
            "[[1]]\n",
            "[1] \"Reject\"\n",
            "\n",
            "$p\n",
            "[1] 0.03260578\n",
            "\n",
            "$ci\n",
            "[1] 0.07589424 0.90719227 1.73849031\n",
            "\n",
            "$x1_bar\n",
            "[1] 12.70373\n",
            "\n",
            "$x2_bar\n",
            "[1] 11.79654\n",
            "\n",
            "$s1\n",
            "[1] 2.794583\n",
            "\n",
            "$s2\n",
            "[1] 3.155519\n",
            "\n",
            "$se\n",
            "[1] 0.4215091\n",
            "\n",
            "[[1]]\n",
            "[1] \"Reject\"\n",
            "\n",
            "$p\n",
            "[1] 0.007800936\n",
            "\n",
            "$ci\n",
            "[1] -1.9048316 -1.0987429 -0.2926542\n",
            "\n",
            "$x1_bar\n",
            "[1] 11.67175\n",
            "\n",
            "$x2_bar\n",
            "[1] 12.7705\n",
            "\n",
            "$s1\n",
            "[1] 2.906256\n",
            "\n",
            "$s2\n",
            "[1] 2.874441\n",
            "\n",
            "$se\n",
            "[1] 0.4087632\n",
            "\n",
            "[[1]]\n",
            "[1] \"Reject\"\n",
            "\n",
            "$p\n",
            "[1] 0.02821413\n",
            "\n",
            "$ci\n",
            "[1] 0.1065485 0.9873877 1.8682269\n",
            "\n",
            "$x1_bar\n",
            "[1] 12.47069\n",
            "\n",
            "$x2_bar\n",
            "[1] 11.4833\n",
            "\n",
            "$s1\n",
            "[1] 2.972353\n",
            "\n",
            "$s2\n",
            "[1] 3.333653\n",
            "\n",
            "$se\n",
            "[1] 0.4466332\n",
            "\n"
          ],
          "name": "stdout"
        },
        {
          "output_type": "display_data",
          "data": {
            "text/plain": [
              "results\n",
              "Fail to reject         Reject \n",
              "            96              4 "
            ]
          },
          "metadata": {
            "tags": []
          }
        }
      ]
    },
    {
      "cell_type": "code",
      "metadata": {
        "scrolled": true,
        "id": "ZTUwjyfbwIRt",
        "colab_type": "code",
        "colab": {
          "base_uri": "https://localhost:8080/",
          "height": 1000
        },
        "outputId": "8beee9c3-8392-4d23-85e4-c8822e3e2bec"
      },
      "source": [
        "# Iterate\n",
        "\n",
        "# Parameters of the experiment\n",
        "exp1_n1 = 1000000\n",
        "exp1_n2 = 1000000\n",
        "exp1_alpha = 0.05\n",
        "exp1_eqvar = TRUE\n",
        "exp1_twotail = FALSE\n",
        "\n",
        "# Population parameters\n",
        "\n",
        "exp1_mu1 = 11\n",
        "exp1_mu2 = 11\n",
        "exp1_sigma1 = 3\n",
        "exp1_sigma2 = 3\n",
        "\n",
        "\n",
        "\n",
        "results <- c()\n",
        "for(i in 1:100){\n",
        "    res = two_sample_t(n1 = exp1_n1,\n",
        "                       n2 = exp1_n2,\n",
        "                       alpha = exp1_alpha,\n",
        "                       mu1 = exp1_mu1,\n",
        "                       mu2 = exp1_mu2,\n",
        "                       sigma1 = exp1_sigma1,\n",
        "                       sigma2 = exp1_sigma2,\n",
        "                       eqvar = exp1_eqvar,\n",
        "                       twotail = exp1_twotail)\n",
        "    results[i] = res[[1]]\n",
        "    ifelse(results[i] == \"Reject\", print(res),NA)\n",
        "}\n",
        "table(results)"
      ],
      "execution_count": 86,
      "outputs": [
        {
          "output_type": "stream",
          "text": [
            "[[1]]\n",
            "[1] \"Reject\"\n",
            "\n",
            "$p\n",
            "[1] 0.005041232\n",
            "\n",
            "$ci\n",
            "[1] 0.002603458 0.010927236 0.019251014\n",
            "\n",
            "$x1_bar\n",
            "[1] 11.00489\n",
            "\n",
            "$x2_bar\n",
            "[1] 10.99397\n",
            "\n",
            "$s1\n",
            "[1] 3.00011\n",
            "\n",
            "$s2\n",
            "[1] 3.005912\n",
            "\n",
            "$se\n",
            "[1] 0.004246901\n",
            "\n",
            "[[1]]\n",
            "[1] \"Reject\"\n",
            "\n",
            "$p\n",
            "[1] 0.01571685\n",
            "\n",
            "$ci\n",
            "[1] 0.0008124829 0.0091248264 0.0174371698\n",
            "\n",
            "$x1_bar\n",
            "[1] 11.00704\n",
            "\n",
            "$x2_bar\n",
            "[1] 10.99792\n",
            "\n",
            "$s1\n",
            "[1] 3.000365\n",
            "\n",
            "$s2\n",
            "[1] 2.997408\n",
            "\n",
            "$se\n",
            "[1] 0.004241067\n",
            "\n",
            "[[1]]\n",
            "[1] \"Reject\"\n",
            "\n",
            "$p\n",
            "[1] 0.004667369\n",
            "\n",
            "$ci\n",
            "[1] 0.002707692 0.011005263 0.019302835\n",
            "\n",
            "$x1_bar\n",
            "[1] 11.00925\n",
            "\n",
            "$x2_bar\n",
            "[1] 10.99824\n",
            "\n",
            "$s1\n",
            "[1] 2.99257\n",
            "\n",
            "$s2\n",
            "[1] 2.994545\n",
            "\n",
            "$se\n",
            "[1] 0.00423353\n",
            "\n",
            "[[1]]\n",
            "[1] \"Reject\"\n",
            "\n",
            "$p\n",
            "[1] 0.00723687\n",
            "\n",
            "$ci\n",
            "[1] -0.018685164 -0.010371846 -0.002058528\n",
            "\n",
            "$x1_bar\n",
            "[1] 10.99729\n",
            "\n",
            "$x2_bar\n",
            "[1] 11.00766\n",
            "\n",
            "$s1\n",
            "[1] 2.997972\n",
            "\n",
            "$s2\n",
            "[1] 3.000505\n",
            "\n",
            "$se\n",
            "[1] 0.004241564\n",
            "\n",
            "[[1]]\n",
            "[1] \"Reject\"\n",
            "\n",
            "$p\n",
            "[1] 0.01762342\n",
            "\n",
            "$ci\n",
            "[1] 0.0006176233 0.0089346401 0.0172516568\n",
            "\n",
            "$x1_bar\n",
            "[1] 11.0034\n",
            "\n",
            "$x2_bar\n",
            "[1] 10.99447\n",
            "\n",
            "$s1\n",
            "[1] 3.000972\n",
            "\n",
            "$s2\n",
            "[1] 3.000175\n",
            "\n",
            "$se\n",
            "[1] 0.004243451\n",
            "\n"
          ],
          "name": "stdout"
        },
        {
          "output_type": "display_data",
          "data": {
            "text/plain": [
              "results\n",
              "         ERROR Fail to reject         Reject \n",
              "             6             89              5 "
            ]
          },
          "metadata": {
            "tags": []
          }
        }
      ]
    },
    {
      "cell_type": "code",
      "metadata": {
        "scrolled": true,
        "id": "Q4Rc_p6uwIR1",
        "colab_type": "code",
        "colab": {
          "base_uri": "https://localhost:8080/",
          "height": 69
        },
        "outputId": "43603fde-aa02-48e6-e958-023a59d8c647"
      },
      "source": [
        "# Iterate\n",
        "\n",
        "# Parameters of the experiment\n",
        "exp1_n1 = 1000000\n",
        "exp1_n2 = 1000000\n",
        "exp1_alpha = 0.05\n",
        "exp1_eqvar = TRUE\n",
        "exp1_twotail = FALSE\n",
        "\n",
        "# Population parameters\n",
        "\n",
        "exp1_mu1 = 11\n",
        "exp1_mu2 = 11\n",
        "exp1_sigma1 = 3\n",
        "exp1_sigma2 = 3\n",
        "\n",
        "\n",
        "\n",
        "results <- c()\n",
        "for(i in 1:100){\n",
        "    res = two_sample_t(n1 = exp1_n1,\n",
        "                       n2 = exp1_n2,\n",
        "                       alpha = exp1_alpha,\n",
        "                       mu1 = exp1_mu1,\n",
        "                       mu2 = exp1_mu2,\n",
        "                       sigma1 = exp1_sigma1,\n",
        "                       sigma2 = exp1_sigma2,\n",
        "                       eqvar = exp1_eqvar,\n",
        "                       twotail = exp1_twotail)\n",
        "    results[i] = res[[1]]\n",
        "    # ifelse(results[i] == \"Reject\", print(res),NA)\n",
        "}\n",
        "table(results)"
      ],
      "execution_count": 87,
      "outputs": [
        {
          "output_type": "display_data",
          "data": {
            "text/plain": [
              "results\n",
              "         ERROR Fail to reject         Reject \n",
              "             4             94              2 "
            ]
          },
          "metadata": {
            "tags": []
          }
        }
      ]
    },
    {
      "cell_type": "code",
      "metadata": {
        "id": "osx4kcGawISA",
        "colab_type": "code",
        "colab": {
          "base_uri": "https://localhost:8080/",
          "height": 69
        },
        "outputId": "b164bef8-6c88-46d8-bb27-ce391f6978b7"
      },
      "source": [
        "# Iterate\n",
        "\n",
        "# Parameters of the experiment\n",
        "exp1_n1 = 100\n",
        "exp1_n2 = 100\n",
        "exp1_alpha = 0.05\n",
        "exp1_eqvar = TRUE\n",
        "exp1_twotail = FALSE\n",
        "\n",
        "# Population parameters\n",
        "\n",
        "exp1_mu1 = 12\n",
        "exp1_mu2 = 11\n",
        "exp1_sigma1 = 3\n",
        "exp1_sigma2 = 3\n",
        "\n",
        "\n",
        "\n",
        "results <- c()\n",
        "for(i in 1:100){\n",
        "    res = two_sample_t(n1 = exp1_n1,\n",
        "                       n2 = exp1_n2,\n",
        "                       alpha = exp1_alpha,\n",
        "                       mu1 = exp1_mu1,\n",
        "                       mu2 = exp1_mu2,\n",
        "                       sigma1 = exp1_sigma1,\n",
        "                       sigma2 = exp1_sigma2,\n",
        "                       eqvar = exp1_eqvar,\n",
        "                       twotail = exp1_twotail)\n",
        "    results[i] = res[[1]]\n",
        "    # ifelse(results[i] == \"Reject\", print(res),NA)\n",
        "}\n",
        "table(results)"
      ],
      "execution_count": 88,
      "outputs": [
        {
          "output_type": "display_data",
          "data": {
            "text/plain": [
              "results\n",
              "         ERROR Fail to reject         Reject \n",
              "            14             25             61 "
            ]
          },
          "metadata": {
            "tags": []
          }
        }
      ]
    },
    {
      "cell_type": "code",
      "metadata": {
        "scrolled": true,
        "id": "5IfW6A9GwISG",
        "colab_type": "code",
        "colab": {
          "base_uri": "https://localhost:8080/",
          "height": 1000
        },
        "outputId": "a597f28a-be88-4e0a-a413-9be73c4c7e43"
      },
      "source": [
        "# Iterate\n",
        "\n",
        "# Parameters of the experiment\n",
        "exp1_n1 = 1000000\n",
        "exp1_n2 = 1000000\n",
        "exp1_alpha = 0.05\n",
        "exp1_eqvar = TRUE\n",
        "exp1_twotail = FALSE\n",
        "\n",
        "# Population parameters\n",
        "\n",
        "exp1_mu1 = 11\n",
        "exp1_mu2 = 11\n",
        "exp1_sigma1 = 3\n",
        "exp1_sigma2 = 3\n",
        "\n",
        "\n",
        "\n",
        "results <- c()\n",
        "for(i in 1:100){\n",
        "    res = two_sample_t(n1 = exp1_n1,\n",
        "                       n2 = exp1_n2,\n",
        "                       alpha = exp1_alpha,\n",
        "                       mu1 = exp1_mu1,\n",
        "                       mu2 = exp1_mu2,\n",
        "                       sigma1 = exp1_sigma1,\n",
        "                       sigma2 = exp1_sigma2,\n",
        "                       eqvar = exp1_eqvar,\n",
        "                       twotail = exp1_twotail)\n",
        "    results[i] = res[[1]]\n",
        "    ifelse(results[i] == \"Reject\", print(res),NA)\n",
        "}\n",
        "table(results)"
      ],
      "execution_count": 89,
      "outputs": [
        {
          "output_type": "stream",
          "text": [
            "[[1]]\n",
            "[1] \"Reject\"\n",
            "\n",
            "$p\n",
            "[1] 0.02249163\n",
            "\n",
            "$ci\n",
            "[1] 0.0001903504 0.0085092823 0.0168282142\n",
            "\n",
            "$x1_bar\n",
            "[1] 11.00502\n",
            "\n",
            "$x2_bar\n",
            "[1] 10.99651\n",
            "\n",
            "$s1\n",
            "[1] 3.001731\n",
            "\n",
            "$s2\n",
            "[1] 3.000798\n",
            "\n",
            "$se\n",
            "[1] 0.004244428\n",
            "\n",
            "[[1]]\n",
            "[1] \"Reject\"\n",
            "\n",
            "$p\n",
            "[1] 0.02144019\n",
            "\n",
            "$ci\n",
            "[1] 0.0002752346 0.0085860563 0.0168968780\n",
            "\n",
            "$x1_bar\n",
            "[1] 11.00601\n",
            "\n",
            "$x2_bar\n",
            "[1] 10.99742\n",
            "\n",
            "$s1\n",
            "[1] 2.999806\n",
            "\n",
            "$s2\n",
            "[1] 2.99687\n",
            "\n",
            "$se\n",
            "[1] 0.004240291\n",
            "\n",
            "[[1]]\n",
            "[1] \"Reject\"\n",
            "\n",
            "$p\n",
            "[1] 0.01748825\n",
            "\n",
            "$ci\n",
            "[1] -0.0172590406 -0.0089448431 -0.0006306455\n",
            "\n",
            "$x1_bar\n",
            "[1] 10.99693\n",
            "\n",
            "$x2_bar\n",
            "[1] 11.00588\n",
            "\n",
            "$s1\n",
            "[1] 2.997627\n",
            "\n",
            "$s2\n",
            "[1] 3.001484\n",
            "\n",
            "$se\n",
            "[1] 0.004242013\n",
            "\n",
            "[[1]]\n",
            "[1] \"Reject\"\n",
            "\n",
            "$p\n",
            "[1] 0.02311591\n",
            "\n",
            "$ci\n",
            "[1] 0.0001413311 0.0084580946 0.0167748581\n",
            "\n",
            "$x1_bar\n",
            "[1] 11.00481\n",
            "\n",
            "$x2_bar\n",
            "[1] 10.99635\n",
            "\n",
            "$s1\n",
            "[1] 3.001224\n",
            "\n",
            "$s2\n",
            "[1] 2.99974\n",
            "\n",
            "$se\n",
            "[1] 0.004243322\n",
            "\n"
          ],
          "name": "stdout"
        },
        {
          "output_type": "display_data",
          "data": {
            "text/plain": [
              "results\n",
              "         ERROR Fail to reject         Reject \n",
              "             3             93              4 "
            ]
          },
          "metadata": {
            "tags": []
          }
        }
      ]
    },
    {
      "cell_type": "code",
      "metadata": {
        "id": "JUjRSkLpwISL",
        "colab_type": "code",
        "colab": {}
      },
      "source": [
        ""
      ],
      "execution_count": 0,
      "outputs": []
    }
  ]
}