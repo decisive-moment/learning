{
  "nbformat": 4,
  "nbformat_minor": 0,
  "metadata": {
    "celltoolbar": "Raw Cell Format",
    "kernelspec": {
      "display_name": "R",
      "language": "R",
      "name": "ir"
    },
    "language_info": {
      "codemirror_mode": "r",
      "file_extension": ".r",
      "mimetype": "text/x-r-source",
      "name": "R",
      "pygments_lexer": "r",
      "version": "3.6.2"
    },
    "colab": {
      "name": "Hypothesis Testing - two sample t-test.ipynb",
      "provenance": []
    }
  },
  "cells": [
    {
      "cell_type": "markdown",
      "metadata": {
        "id": "4zwGi5wUwINl",
        "colab_type": "text"
      },
      "source": [
        "# Two Sample t-test"
      ]
    },
    {
      "cell_type": "code",
      "metadata": {
        "id": "5blbQgbXwINt",
        "colab_type": "code",
        "colab": {}
      },
      "source": [
        "library(dplyr)\n",
        "library(ggplot2)"
      ],
      "execution_count": 0,
      "outputs": []
    },
    {
      "cell_type": "markdown",
      "metadata": {
        "id": "usZjEWvMwIOF",
        "colab_type": "text"
      },
      "source": [
        "### Important Formulas\n",
        "\n",
        "Degrees of freedom for the equal variance case<br>\n",
        "$\n",
        "\\begin{align}\n",
        "df = n_1 + n_2 - 2 \\\\\n",
        "\\end{align}\n",
        "$<br>\n",
        "\n",
        "Degrees of freedom for the unequal variance case<br>\n",
        "$\n",
        "\\begin{align}\n",
        "df = \\frac{\\left(\\frac{s_1^2}{n_1}+\\frac{s_2^2}{n_2}\\right)^2}{\\frac{\\left(\\frac{s_1^2}{n_1}\\right)^2}{n_1-1} + \\frac{\\left(\\frac{s_2^2}{n_2}\\right)^2}{n_2-1}}\\\\\n",
        "\\end{align}\n",
        "$<br>\n",
        "\n",
        "Standard deviation for the equal variance case<br>\n",
        "$\n",
        "\\begin{align}\n",
        "s_{\\bar{X_1}-\\bar{X_2}}=\\sqrt{\\frac{(n_1-1)s_1^2-(n_2-2)s_2^2}{n_1+n_2-2}}\\\\\n",
        "\\end{align}\n",
        "$<br>\n",
        "\n",
        "Standard deviation for the unequal variance case<br>\n",
        "$\n",
        "\\begin{align}\n",
        "s_{\\bar{X_1}-\\bar{X_2}}=\\sqrt{s_1^2+s_2^2}\n",
        "\\end{align}\n",
        "$\n",
        "\n",
        "Standard error for the equal variance case<br>\n",
        "$\n",
        "\\begin{align}\n",
        "SE_{\\bar{X_1}-\\bar{X_2}}=\\sqrt{\\left(\\frac{(n_1-1)s_1^2-(n_2-2)s_2^2}{n_1+n_2-2}\\right)\\left(\\frac{1}{n_1}+\\frac{1}{n_2}\\right)}\\\\\n",
        "\\end{align}\n",
        "$<br>\n",
        "\n",
        "Standard error for the unequal variance case<br>\n",
        "$\n",
        "\\begin{align}\n",
        "SE_{\\bar{X_1}-\\bar{X_2}}=\\sqrt{\\frac{s_1^2}{n_1}+\\frac{s_2^2}{n_2}}\n",
        "\\end{align}\n",
        "$"
      ]
    },
    {
      "cell_type": "markdown",
      "metadata": {
        "id": "qoHwDrHMwIOJ",
        "colab_type": "text"
      },
      "source": [
        "### Data Generation Process"
      ]
    },
    {
      "cell_type": "code",
      "metadata": {
        "id": "lAH4LQVawION",
        "colab_type": "code",
        "colab": {}
      },
      "source": [
        "# Parameters of the experiment\n",
        "n1 = 100\n",
        "n2 = 100\n",
        "alpha = 0.05\n",
        "\n",
        "# Population parameters\n",
        "\n",
        "mu1 = 11\n",
        "mu2 = 12\n",
        "sigma1 = 3\n",
        "sigma2 = 2"
      ],
      "execution_count": 0,
      "outputs": []
    },
    {
      "cell_type": "code",
      "metadata": {
        "id": "AaVj4MeYwIOa",
        "colab_type": "code",
        "colab": {}
      },
      "source": [
        "# Let us say we have some data from two random processes\n",
        "\n",
        "treatment1_data <- rnorm(n = n1, mean = mu1, sd = sigma1)\n",
        "treatment2_data <- rnorm(n = n2, mean = mu2, sd = sigma2)"
      ],
      "execution_count": 0,
      "outputs": []
    },
    {
      "cell_type": "code",
      "metadata": {
        "id": "Z4ykNHKHwIOm",
        "colab_type": "code",
        "colab": {}
      },
      "source": [
        "# Parameters of the population distribution to be treated as unknown throughout the hypothesis testing process\n",
        "rm(mu1, mu2, sigma1, sigma2)"
      ],
      "execution_count": 0,
      "outputs": []
    },
    {
      "cell_type": "markdown",
      "metadata": {
        "id": "kOY03ap2wIOv",
        "colab_type": "text"
      },
      "source": [
        "### Calculating Sample Statistics"
      ]
    },
    {
      "cell_type": "code",
      "metadata": {
        "id": "Ym4XEnCIwIOz",
        "colab_type": "code",
        "colab": {
          "base_uri": "https://localhost:8080/",
          "height": 34
        },
        "outputId": "88c15532-ff4a-48a2-d044-6d47c2e7cfaa"
      },
      "source": [
        "glimpse(treatment1_data)"
      ],
      "execution_count": 7,
      "outputs": [
        {
          "output_type": "stream",
          "text": [
            " num [1:100] 14.69 10.85 8.87 11.19 7.71 ...\n"
          ],
          "name": "stdout"
        }
      ]
    },
    {
      "cell_type": "code",
      "metadata": {
        "id": "-pcxqr3AwIO_",
        "colab_type": "code",
        "colab": {
          "base_uri": "https://localhost:8080/",
          "height": 34
        },
        "outputId": "30755c20-d28f-4251-f904-1232497d000a"
      },
      "source": [
        "glimpse(treatment2_data)"
      ],
      "execution_count": 8,
      "outputs": [
        {
          "output_type": "stream",
          "text": [
            " num [1:100] 10.5 14.4 14.2 12.7 12.6 ...\n"
          ],
          "name": "stdout"
        }
      ]
    },
    {
      "cell_type": "code",
      "metadata": {
        "id": "qy7PCrOHwIPK",
        "colab_type": "code",
        "colab": {}
      },
      "source": [
        "\n",
        "x1_bar = mean(treatment1_data)\n",
        "x2_bar = mean(treatment2_data)\n",
        "\n",
        "s1 = sd(treatment1_data)\n",
        "s2 = sd(treatment2_data)\n",
        "\n",
        "sd = (((((n1 -1)*(s1^2)) + ((n2 -1)*(s2^2)))/(n1+n2-2)))^(1/2)\n",
        "se = (((((n1 -1)*(s1^2)) + ((n2 -1)*(s2^2)))/(n1+n2-2))*((1/n1) + (1/n2)))^(1/2)\n",
        "df = n1 + n2 - 1\n",
        "observed_dfference = x1_bar - x2_bar\n",
        "z = (0 - observed_dfference)/se"
      ],
      "execution_count": 0,
      "outputs": []
    },
    {
      "cell_type": "code",
      "metadata": {
        "id": "MNDz7VR3wIPY",
        "colab_type": "code",
        "colab": {
          "base_uri": "https://localhost:8080/",
          "height": 69
        },
        "outputId": "86264c5e-b0a3-4088-ce5b-bfd797d2daa3"
      },
      "source": [
        "x1_bar\n",
        "x2_bar\n",
        "x1_bar-x2_bar"
      ],
      "execution_count": 10,
      "outputs": [
        {
          "output_type": "display_data",
          "data": {
            "text/plain": [
              "[1] 10.88398"
            ],
            "text/latex": "10.8839784749077",
            "text/markdown": "10.8839784749077",
            "text/html": [
              "10.8839784749077"
            ]
          },
          "metadata": {
            "tags": []
          }
        },
        {
          "output_type": "display_data",
          "data": {
            "text/plain": [
              "[1] 12.0215"
            ],
            "text/latex": "12.0215026989185",
            "text/markdown": "12.0215026989185",
            "text/html": [
              "12.0215026989185"
            ]
          },
          "metadata": {
            "tags": []
          }
        },
        {
          "output_type": "display_data",
          "data": {
            "text/plain": [
              "[1] -1.137524"
            ],
            "text/latex": "-1.13752422401078",
            "text/markdown": "-1.13752422401078",
            "text/html": [
              "-1.13752422401078"
            ]
          },
          "metadata": {
            "tags": []
          }
        }
      ]
    },
    {
      "cell_type": "code",
      "metadata": {
        "id": "kCif-DVSwIPh",
        "colab_type": "code",
        "colab": {
          "base_uri": "https://localhost:8080/",
          "height": 52
        },
        "outputId": "f69cf49a-207f-40ef-9bfe-96df67707454"
      },
      "source": [
        "s1\n",
        "s2"
      ],
      "execution_count": 11,
      "outputs": [
        {
          "output_type": "display_data",
          "data": {
            "text/plain": [
              "[1] 2.475376"
            ],
            "text/latex": "2.47537626482945",
            "text/markdown": "2.47537626482945",
            "text/html": [
              "2.47537626482945"
            ]
          },
          "metadata": {
            "tags": []
          }
        },
        {
          "output_type": "display_data",
          "data": {
            "text/plain": [
              "[1] 2.044071"
            ],
            "text/latex": "2.04407110787397",
            "text/markdown": "2.04407110787397",
            "text/html": [
              "2.04407110787397"
            ]
          },
          "metadata": {
            "tags": []
          }
        }
      ]
    },
    {
      "cell_type": "code",
      "metadata": {
        "id": "TMmk7KNTwIPr",
        "colab_type": "code",
        "colab": {
          "base_uri": "https://localhost:8080/",
          "height": 52
        },
        "outputId": "ed4b65c3-6a5c-49ac-c494-1488c78f1f13"
      },
      "source": [
        "se\n",
        "z"
      ],
      "execution_count": 12,
      "outputs": [
        {
          "output_type": "display_data",
          "data": {
            "text/plain": [
              "[1] 0.3210251"
            ],
            "text/latex": "0.321025144599704",
            "text/markdown": "0.321025144599704",
            "text/html": [
              "0.321025144599704"
            ]
          },
          "metadata": {
            "tags": []
          }
        },
        {
          "output_type": "display_data",
          "data": {
            "text/plain": [
              "[1] 3.543412"
            ],
            "text/latex": "3.54341160854921",
            "text/markdown": "3.54341160854921",
            "text/html": [
              "3.54341160854921"
            ]
          },
          "metadata": {
            "tags": []
          }
        }
      ]
    },
    {
      "cell_type": "markdown",
      "metadata": {
        "id": "XUp-79hUwIP2",
        "colab_type": "text"
      },
      "source": [
        "### Step by Steb Procedure"
      ]
    },
    {
      "cell_type": "markdown",
      "metadata": {
        "id": "qt2wAg7ywIP5",
        "colab_type": "text"
      },
      "source": [
        "H0: Treatment 1 and Treatment 2 are not diferent i.e. mu1 = mu2 or mu1 - mu2 = 0 <br>\n",
        "H1: Treatment 1 and Treatment 2 are the same i.e. mu1 != mu2 or mu1 - mu2 != 0 <br>"
      ]
    },
    {
      "cell_type": "code",
      "metadata": {
        "id": "J2AliAs0wIP9",
        "colab_type": "code",
        "colab": {
          "base_uri": "https://localhost:8080/",
          "height": 34
        },
        "outputId": "febcfce9-1a88-49a0-d4bd-b2a17f34ef44"
      },
      "source": [
        "p = pt(q = z, df = df, lower.tail = TRUE, log.p = FALSE)\n",
        "p = ifelse(p > 0.5, (1-p), p)*2\n",
        "p"
      ],
      "execution_count": 13,
      "outputs": [
        {
          "output_type": "display_data",
          "data": {
            "text/plain": [
              "[1] 0.0004921489"
            ],
            "text/latex": "0.000492148855498087",
            "text/markdown": "0.000492148855498087",
            "text/html": [
              "0.000492148855498087"
            ]
          },
          "metadata": {
            "tags": []
          }
        }
      ]
    },
    {
      "cell_type": "code",
      "metadata": {
        "id": "GRLYsZmpwIQM",
        "colab_type": "code",
        "colab": {
          "base_uri": "https://localhost:8080/",
          "height": 34
        },
        "outputId": "3631cdd1-c448-4acf-abca-09b3c49a2e37"
      },
      "source": [
        "ifelse(p < alpha, \"We reject the null hypothesis\", \"We fail to reject the null hypothesis\")"
      ],
      "execution_count": 14,
      "outputs": [
        {
          "output_type": "display_data",
          "data": {
            "text/plain": [
              "[1] \"We reject the null hypothesis\""
            ],
            "text/latex": "'We reject the null hypothesis'",
            "text/markdown": "'We reject the null hypothesis'",
            "text/html": [
              "'We reject the null hypothesis'"
            ]
          },
          "metadata": {
            "tags": []
          }
        }
      ]
    },
    {
      "cell_type": "markdown",
      "metadata": {
        "id": "UIYVWNCEwIQW",
        "colab_type": "text"
      },
      "source": [
        "### Alternative Approaoch - Confidence Interval"
      ]
    },
    {
      "cell_type": "code",
      "metadata": {
        "id": "Ij7HM3vVwIQZ",
        "colab_type": "code",
        "colab": {}
      },
      "source": [
        "critical_value = qt(p = alpha/2, df = df, lower.tail = TRUE, log.p = FALSE)\n",
        "lower_limit = ifelse(sign(critical_value) == 1 & sign (observed_dfference) == 1,\n",
        "                 observed_dfference - (critical_value*se),\n",
        "                 observed_dfference + (critical_value*se))\n",
        "upper_limit = ifelse(sign(critical_value) == 1 & sign (observed_dfference) == 1,\n",
        "                 observed_dfference + (critical_value*se),\n",
        "                 observed_dfference - (critical_value*se))\n",
        "ci = c(lower_limit, observed_dfference, upper_limit)"
      ],
      "execution_count": 0,
      "outputs": []
    },
    {
      "cell_type": "code",
      "metadata": {
        "id": "6Iuz5gxewIQk",
        "colab_type": "code",
        "colab": {
          "base_uri": "https://localhost:8080/",
          "height": 34
        },
        "outputId": "f156a73a-5c31-4c88-b9fd-a0ba19265216"
      },
      "source": [
        "ci"
      ],
      "execution_count": 16,
      "outputs": [
        {
          "output_type": "display_data",
          "data": {
            "text/plain": [
              "[1] -1.7705719 -1.1375242 -0.5044766"
            ],
            "text/latex": "\\begin{enumerate*}\n\\item -1.77057185877353\n\\item -1.13752422401078\n\\item -0.50447658924803\n\\end{enumerate*}\n",
            "text/markdown": "1. -1.77057185877353\n2. -1.13752422401078\n3. -0.50447658924803\n\n\n",
            "text/html": [
              "<style>\n",
              ".list-inline {list-style: none; margin:0; padding: 0}\n",
              ".list-inline>li {display: inline-block}\n",
              ".list-inline>li:not(:last-child)::after {content: \"\\00b7\"; padding: 0 .5ex}\n",
              "</style>\n",
              "<ol class=list-inline><li>-1.77057185877353</li><li>-1.13752422401078</li><li>-0.50447658924803</li></ol>\n"
            ]
          },
          "metadata": {
            "tags": []
          }
        }
      ]
    },
    {
      "cell_type": "code",
      "metadata": {
        "id": "OUIPLB9swIQw",
        "colab_type": "code",
        "colab": {
          "base_uri": "https://localhost:8080/",
          "height": 34
        },
        "outputId": "fd44c8ca-181f-4328-bc5b-8616bd990b33"
      },
      "source": [
        "ifelse(0 >= ci[1] & 0 <= ci[3],\n",
        "       \"The confidence interval contains zero\",\n",
        "       \"The confidence interval (corresponding to chosen alpha) does not contain 0\")"
      ],
      "execution_count": 17,
      "outputs": [
        {
          "output_type": "display_data",
          "data": {
            "text/plain": [
              "[1] \"The confidence interval (corresponding to chosen alpha) does not contain 0\""
            ],
            "text/latex": "'The confidence interval (corresponding to chosen alpha) does not contain 0'",
            "text/markdown": "'The confidence interval (corresponding to chosen alpha) does not contain 0'",
            "text/html": [
              "'The confidence interval (corresponding to chosen alpha) does not contain 0'"
            ]
          },
          "metadata": {
            "tags": []
          }
        }
      ]
    },
    {
      "cell_type": "markdown",
      "metadata": {
        "id": "Q178JxzqwIQ8",
        "colab_type": "text"
      },
      "source": [
        "### Encapsulating the above process in a function (to enable iterative experimentation)"
      ]
    },
    {
      "cell_type": "code",
      "metadata": {
        "id": "DAqE7ANPwIQ_",
        "colab_type": "code",
        "colab": {}
      },
      "source": [
        "two_sample_t <- function(n1, n2, alpha, mu1, mu2, sigma1, sigma2) {\n",
        "    # Generating data\n",
        "    treatment1_data <- rnorm(n = n1, mean = mu1, sd = sigma1)\n",
        "    treatment2_data <- rnorm(n = n2, mean = mu2, sd = sigma2)\n",
        "    \n",
        "    # Calculating sample statistics\n",
        "    x1_bar = mean(treatment1_data)\n",
        "    x2_bar = mean(treatment2_data)\n",
        "    \n",
        "    s1 = sd(treatment1_data)\n",
        "    s2 = sd(treatment2_data)\n",
        "    \n",
        "    sd = (((((n1 -1)*(s1^2)) + ((n2 -1)*(s2^2)))/(n1+n2-2)))^(1/2)\n",
        "    se = (((((n1 -1)*(s1^2)) + ((n2 -1)*(s2^2)))/(n1+n2-2))*((1/n1) + (1/n2)))^(1/2)\n",
        "    df = n1 + n2 - 1\n",
        "    observed_dfference = x1_bar - x2_bar\n",
        "    z = (0 - (observed_dfference))/se\n",
        "    \n",
        "    # Calculating p-value\n",
        "    p = pt(q = z, df = df, lower.tail = TRUE, log.p = FALSE)\n",
        "#     p = pnorm(q = z, mean = 0, sd = sd, lower.tail = TRUE, log.p = FALSE)\n",
        "    p = ifelse(p > 0.5, (1-p), p)*2\n",
        "    \n",
        "    # Calculating confidence interval\n",
        "    critical_value = qt(p = alpha/2, df = df, lower.tail = TRUE, log.p = FALSE)\n",
        "#     critical_value = qnorm(p = alpha/2, mean = observed_dfference, sd = sd, lower.tail = TRUE, log.p = FALSE)\n",
        "    lower_limit = ifelse(sign(critical_value) == 1 & sign (observed_dfference) == 1,\n",
        "                     observed_dfference - (critical_value*se),\n",
        "                     observed_dfference + (critical_value*se))\n",
        "    upper_limit = ifelse(sign(critical_value) == 1 & sign (observed_dfference) == 1,\n",
        "                     observed_dfference + (critical_value*se),\n",
        "                     observed_dfference - (critical_value*se))\n",
        "    ci = c(lower_limit, observed_dfference, upper_limit)\n",
        "    \n",
        "    # Results of the hypothesis test\n",
        "    null_hypothesis_test_method <- ifelse(p <= alpha, \"We reject the null hypothesis\", \"We fail to reject the null hypothesis\")\n",
        "    confidence_interval_method <- ifelse(ci[1] <= 0 & 0 <= ci[3],\n",
        "       \"The confidence interval contains zero\",\n",
        "       \"The confidence interval (corresponding to chosen alpha) does not contain 0\")\n",
        "    \n",
        "    ret <- list(ifelse(null_hypothesis_test_method == \"We reject the null hypothesis\" &\n",
        "                  confidence_interval_method == \"The confidence interval (corresponding to chosen alpha) does not contain 0\", \"Reject\",\n",
        "                  \n",
        "                  ifelse(null_hypothesis_test_method == \"We fail to reject the null hypothesis\" &\n",
        "                         confidence_interval_method == \"The confidence interval contains zero\", \"Fail to reject\",\n",
        "                         \"ERROR\")),\n",
        "                p = p,\n",
        "                ci = ci,\n",
        "                x1_bar = x1_bar,\n",
        "                x2_bar = x2_bar,\n",
        "                s1 = s1,\n",
        "                s2 = s2,\n",
        "                se = se)\n",
        "    \n",
        "    return(ret)\n",
        "}"
      ],
      "execution_count": 0,
      "outputs": []
    },
    {
      "cell_type": "code",
      "metadata": {
        "id": "NdQkbLRKwIRI",
        "colab_type": "code",
        "colab": {
          "base_uri": "https://localhost:8080/",
          "height": 323
        },
        "outputId": "2ac17800-cc3b-40d5-bc50-455d064b6724"
      },
      "source": [
        "# Parameters of the experiment\n",
        "n1 = 1000000\n",
        "n2 = 1000000\n",
        "alpha = 0.05\n",
        "\n",
        "# Population parameters\n",
        "\n",
        "mu1 = 12\n",
        "mu2 = 11\n",
        "sigma1 = 3\n",
        "sigma2 = 3\n",
        "\n",
        "two_sample_t(n1 = n1,\n",
        "             n2 = n2,\n",
        "             alpha = alpha,\n",
        "             mu1 = mu1,\n",
        "             mu2 = mu2,\n",
        "             sigma1 = sigma1,\n",
        "             sigma2 = sigma2)"
      ],
      "execution_count": 19,
      "outputs": [
        {
          "output_type": "display_data",
          "data": {
            "text/plain": [
              "[[1]]\n",
              "[1] \"Reject\"\n",
              "\n",
              "$p\n",
              "[1] 0\n",
              "\n",
              "$ci\n",
              "[1] 0.9906366 0.9989512 1.0072658\n",
              "\n",
              "$x1_bar\n",
              "[1] 11.99783\n",
              "\n",
              "$x2_bar\n",
              "[1] 10.99888\n",
              "\n",
              "$s1\n",
              "[1] 2.996816\n",
              "\n",
              "$s2\n",
              "[1] 3.002579\n",
              "\n",
              "$se\n",
              "[1] 0.004242214\n"
            ],
            "text/latex": "\\begin{description}\n\\item[{[[1]]}] 'Reject'\n\\item[\\$p] 0\n\\item[\\$ci] \\begin{enumerate*}\n\\item 0.990636566830119\n\\item 0.998951159272758\n\\item 1.0072657517154\n\\end{enumerate*}\n\n\\item[\\$x1\\_bar] 11.9978305757414\n\\item[\\$x2\\_bar] 10.9988794164686\n\\item[\\$s1] 2.99681569358522\n\\item[\\$s2] 3.00257865733\n\\item[\\$se] 0.00424221438576273\n\\end{description}\n",
            "text/markdown": "[[1]]\n:   'Reject'\n$p\n:   0\n$ci\n:   1. 0.990636566830119\n2. 0.998951159272758\n3. 1.0072657517154\n\n\n\n$x1_bar\n:   11.9978305757414\n$x2_bar\n:   10.9988794164686\n$s1\n:   2.99681569358522\n$s2\n:   3.00257865733\n$se\n:   0.00424221438576273\n\n\n",
            "text/html": [
              "<dl>\n",
              "\t<dt>[[1]]</dt>\n",
              "\t\t<dd>'Reject'</dd>\n",
              "\t<dt>$p</dt>\n",
              "\t\t<dd>0</dd>\n",
              "\t<dt>$ci</dt>\n",
              "\t\t<dd><style>\n",
              ".list-inline {list-style: none; margin:0; padding: 0}\n",
              ".list-inline>li {display: inline-block}\n",
              ".list-inline>li:not(:last-child)::after {content: \"\\00b7\"; padding: 0 .5ex}\n",
              "</style>\n",
              "<ol class=list-inline><li>0.990636566830119</li><li>0.998951159272758</li><li>1.0072657517154</li></ol>\n",
              "</dd>\n",
              "\t<dt>$x1_bar</dt>\n",
              "\t\t<dd>11.9978305757414</dd>\n",
              "\t<dt>$x2_bar</dt>\n",
              "\t\t<dd>10.9988794164686</dd>\n",
              "\t<dt>$s1</dt>\n",
              "\t\t<dd>2.99681569358522</dd>\n",
              "\t<dt>$s2</dt>\n",
              "\t\t<dd>3.00257865733</dd>\n",
              "\t<dt>$se</dt>\n",
              "\t\t<dd>0.00424221438576273</dd>\n",
              "</dl>\n"
            ]
          },
          "metadata": {
            "tags": []
          }
        }
      ]
    },
    {
      "cell_type": "code",
      "metadata": {
        "scrolled": true,
        "id": "41FQqZNxwIRS",
        "colab_type": "code",
        "colab": {
          "base_uri": "https://localhost:8080/",
          "height": 1000
        },
        "outputId": "271c073c-8791-4bc2-94cd-d7f51b95b551"
      },
      "source": [
        "# Iterate\n",
        "\n",
        "# Parameters of the experiment\n",
        "n1 = 1000\n",
        "n2 = 1000\n",
        "alpha = 0.05\n",
        "\n",
        "# Population parameters\n",
        "\n",
        "mu1 = 11\n",
        "mu2 = 11\n",
        "sigma1 = 3\n",
        "sigma2 = 3\n",
        "\n",
        "\n",
        "\n",
        "results <- c()\n",
        "for(i in 1:100){\n",
        "    res = two_sample_t(n1 = n1,\n",
        "                 n2 = n2,\n",
        "                 alpha = alpha,\n",
        "                 mu1 = mu1,\n",
        "                 mu2 = mu2,\n",
        "                 sigma1 = sigma1,\n",
        "                 sigma2 = sigma2)\n",
        "    results[i] = res[[1]]\n",
        "    ifelse(results[i] == \"Reject\", print(res),NA)\n",
        "}\n",
        "table(results)"
      ],
      "execution_count": 20,
      "outputs": [
        {
          "output_type": "stream",
          "text": [
            "[[1]]\n",
            "[1] \"Reject\"\n",
            "\n",
            "$p\n",
            "[1] 0.04729006\n",
            "\n",
            "$ci\n",
            "[1] -0.533240427 -0.268226038 -0.003211649\n",
            "\n",
            "$x1_bar\n",
            "[1] 10.95133\n",
            "\n",
            "$x2_bar\n",
            "[1] 11.21956\n",
            "\n",
            "$s1\n",
            "[1] 2.987032\n",
            "\n",
            "$s2\n",
            "[1] 3.055864\n",
            "\n",
            "$se\n",
            "[1] 0.135132\n",
            "\n",
            "[[1]]\n",
            "[1] \"Reject\"\n",
            "\n",
            "$p\n",
            "[1] 0.006452329\n",
            "\n",
            "$ci\n",
            "[1] -0.6376329 -0.3708826 -0.1041324\n",
            "\n",
            "$x1_bar\n",
            "[1] 10.7197\n",
            "\n",
            "$x2_bar\n",
            "[1] 11.09058\n",
            "\n",
            "$s1\n",
            "[1] 2.98983\n",
            "\n",
            "$s2\n",
            "[1] 3.092182\n",
            "\n",
            "$se\n",
            "[1] 0.1360172\n",
            "\n",
            "[[1]]\n",
            "[1] \"Reject\"\n",
            "\n",
            "$p\n",
            "[1] 0.0317272\n",
            "\n",
            "$ci\n",
            "[1] -0.54514184 -0.28504988 -0.02495791\n",
            "\n",
            "$x1_bar\n",
            "[1] 10.99483\n",
            "\n",
            "$x2_bar\n",
            "[1] 11.27988\n",
            "\n",
            "$s1\n",
            "[1] 2.95902\n",
            "\n",
            "$s2\n",
            "[1] 2.972006\n",
            "\n",
            "$se\n",
            "[1] 0.1326221\n",
            "\n",
            "[[1]]\n",
            "[1] \"Reject\"\n",
            "\n",
            "$p\n",
            "[1] 0.02669849\n",
            "\n",
            "$ci\n",
            "[1] -0.57125798 -0.30315390 -0.03504982\n",
            "\n",
            "$x1_bar\n",
            "[1] 10.88856\n",
            "\n",
            "$x2_bar\n",
            "[1] 11.19171\n",
            "\n",
            "$s1\n",
            "[1] 2.987701\n",
            "\n",
            "$s2\n",
            "[1] 3.124513\n",
            "\n",
            "$se\n",
            "[1] 0.1367075\n",
            "\n"
          ],
          "name": "stdout"
        },
        {
          "output_type": "display_data",
          "data": {
            "text/plain": [
              "results\n",
              "Fail to reject         Reject \n",
              "            96              4 "
            ]
          },
          "metadata": {
            "tags": []
          }
        }
      ]
    },
    {
      "cell_type": "code",
      "metadata": {
        "id": "I97pPSrAwIRe",
        "colab_type": "code",
        "colab": {
          "base_uri": "https://localhost:8080/",
          "height": 130
        },
        "outputId": "5df7d249-fd8b-424f-a33f-281fb88cf869"
      },
      "source": [
        "unique(d)"
      ],
      "execution_count": 21,
      "outputs": [
        {
          "output_type": "error",
          "ename": "ERROR",
          "evalue": "ignored",
          "traceback": [
            "Error in unique(d): object 'd' not found\nTraceback:\n",
            "1. unique(d)"
          ]
        }
      ]
    },
    {
      "cell_type": "code",
      "metadata": {
        "scrolled": true,
        "id": "ZTUwjyfbwIRt",
        "colab_type": "code",
        "colab": {
          "base_uri": "https://localhost:8080/",
          "height": 1000
        },
        "outputId": "43c69e67-5809-4234-f4ef-0c2cd8c34245"
      },
      "source": [
        "# Iterate\n",
        "\n",
        "# Parameters of the experiment\n",
        "n1 = 1000000\n",
        "n2 = 1000000\n",
        "alpha = 0.05\n",
        "\n",
        "# Population parameters\n",
        "\n",
        "mu1 = 11\n",
        "mu2 = 11\n",
        "sigma1 = 3\n",
        "sigma2 = 3\n",
        "\n",
        "\n",
        "\n",
        "results <- c()\n",
        "for(i in 1:100){\n",
        "    res = two_sample_t(n1 = n1,\n",
        "                 n2 = n2,\n",
        "                 alpha = alpha,\n",
        "                 mu1 = mu1,\n",
        "                 mu2 = mu2,\n",
        "                 sigma1 = sigma1,\n",
        "                 sigma2 = sigma2)\n",
        "    results[i] = res[[1]]\n",
        "    ifelse(results[i] == \"Reject\", print(res),NA)\n",
        "}\n",
        "table(results)"
      ],
      "execution_count": 22,
      "outputs": [
        {
          "output_type": "stream",
          "text": [
            "[[1]]\n",
            "[1] \"Reject\"\n",
            "\n",
            "$p\n",
            "[1] 0.02038729\n",
            "\n",
            "$ci\n",
            "[1] 0.001523773 0.009838668 0.018153564\n",
            "\n",
            "$x1_bar\n",
            "[1] 11.00501\n",
            "\n",
            "$x2_bar\n",
            "[1] 10.99518\n",
            "\n",
            "$s1\n",
            "[1] 2.999904\n",
            "\n",
            "$s2\n",
            "[1] 2.999712\n",
            "\n",
            "$se\n",
            "[1] 0.004242369\n",
            "\n",
            "[[1]]\n",
            "[1] \"Reject\"\n",
            "\n",
            "$p\n",
            "[1] 0.04461064\n",
            "\n",
            "$ci\n",
            "[1] 0.0002050516 0.0085183584 0.0168316651\n",
            "\n",
            "$x1_bar\n",
            "[1] 11.00113\n",
            "\n",
            "$x2_bar\n",
            "[1] 10.99261\n",
            "\n",
            "$s1\n",
            "[1] 3.000262\n",
            "\n",
            "$s2\n",
            "[1] 2.998207\n",
            "\n",
            "$se\n",
            "[1] 0.004241558\n",
            "\n",
            "[[1]]\n",
            "[1] \"Reject\"\n",
            "\n",
            "$p\n",
            "[1] 0.0450028\n",
            "\n",
            "$ci\n",
            "[1] 0.0001895973 0.0085095203 0.0168294432\n",
            "\n",
            "$x1_bar\n",
            "[1] 11.00405\n",
            "\n",
            "$x2_bar\n",
            "[1] 10.99554\n",
            "\n",
            "$s1\n",
            "[1] 3.00193\n",
            "\n",
            "$s2\n",
            "[1] 3.001314\n",
            "\n",
            "$se\n",
            "[1] 0.004244934\n",
            "\n",
            "[[1]]\n",
            "[1] \"Reject\"\n",
            "\n",
            "$p\n",
            "[1] 0.02370396\n",
            "\n",
            "$ci\n",
            "[1] -0.017914332 -0.009597746 -0.001281161\n",
            "\n",
            "$x1_bar\n",
            "[1] 10.99468\n",
            "\n",
            "$x2_bar\n",
            "[1] 11.00427\n",
            "\n",
            "$s1\n",
            "[1] 2.999693\n",
            "\n",
            "$s2\n",
            "[1] 3.001142\n",
            "\n",
            "$se\n",
            "[1] 0.004243231\n",
            "\n",
            "[[1]]\n",
            "[1] \"Reject\"\n",
            "\n",
            "$p\n",
            "[1] 0.01798894\n",
            "\n",
            "$ci\n",
            "[1] -0.01836275 -0.01004285 -0.00172294\n",
            "\n",
            "$x1_bar\n",
            "[1] 10.99596\n",
            "\n",
            "$x2_bar\n",
            "[1] 11.006\n",
            "\n",
            "$s1\n",
            "[1] 3.000402\n",
            "\n",
            "$s2\n",
            "[1] 3.002828\n",
            "\n",
            "$se\n",
            "[1] 0.004244925\n",
            "\n",
            "[[1]]\n",
            "[1] \"Reject\"\n",
            "\n",
            "$p\n",
            "[1] 0.01223184\n",
            "\n",
            "$ci\n",
            "[1] 0.002312151 0.010620835 0.018929520\n",
            "\n",
            "$x1_bar\n",
            "[1] 11.00852\n",
            "\n",
            "$x2_bar\n",
            "[1] 10.9979\n",
            "\n",
            "$s1\n",
            "[1] 2.995623\n",
            "\n",
            "$s2\n",
            "[1] 2.99951\n",
            "\n",
            "$se\n",
            "[1] 0.0042392\n",
            "\n",
            "[[1]]\n",
            "[1] \"Reject\"\n",
            "\n",
            "$p\n",
            "[1] 0.03278567\n",
            "\n",
            "$ci\n",
            "[1] -0.0173806470 -0.0090611718 -0.0007416966\n",
            "\n",
            "$x1_bar\n",
            "[1] 10.99414\n",
            "\n",
            "$x2_bar\n",
            "[1] 11.0032\n",
            "\n",
            "$s1\n",
            "[1] 3.000184\n",
            "\n",
            "$s2\n",
            "[1] 3.002736\n",
            "\n",
            "$se\n",
            "[1] 0.004244706\n",
            "\n"
          ],
          "name": "stdout"
        },
        {
          "output_type": "display_data",
          "data": {
            "text/plain": [
              "results\n",
              "Fail to reject         Reject \n",
              "            93              7 "
            ]
          },
          "metadata": {
            "tags": []
          }
        }
      ]
    },
    {
      "cell_type": "code",
      "metadata": {
        "scrolled": true,
        "id": "Q4Rc_p6uwIR1",
        "colab_type": "code",
        "colab": {
          "base_uri": "https://localhost:8080/",
          "height": 69
        },
        "outputId": "9e647d82-e425-42d0-9564-6824f23ea897"
      },
      "source": [
        "# Iterate\n",
        "\n",
        "# Parameters of the experiment\n",
        "n1 = 1000000\n",
        "n2 = 1000000\n",
        "alpha = 0.05\n",
        "\n",
        "# Population parameters\n",
        "\n",
        "mu1 = 12\n",
        "mu2 = 11\n",
        "sigma1 = 3\n",
        "sigma2 = 3\n",
        "\n",
        "\n",
        "\n",
        "results <- c()\n",
        "for(i in 1:100){\n",
        "    res = two_sample_t(n1 = n1,\n",
        "                 n2 = n2,\n",
        "                 alpha = alpha,\n",
        "                 mu1 = mu1,\n",
        "                 mu2 = mu2,\n",
        "                 sigma1 = sigma1,\n",
        "                 sigma2 = sigma2)\n",
        "    results[i] = res[[1]]\n",
        "#     ifelse(results[i] == \"Reject\", print(res),NA)\n",
        "}\n",
        "table(results)"
      ],
      "execution_count": 23,
      "outputs": [
        {
          "output_type": "display_data",
          "data": {
            "text/plain": [
              "results\n",
              "Reject \n",
              "   100 "
            ]
          },
          "metadata": {
            "tags": []
          }
        }
      ]
    },
    {
      "cell_type": "code",
      "metadata": {
        "id": "osx4kcGawISA",
        "colab_type": "code",
        "colab": {
          "base_uri": "https://localhost:8080/",
          "height": 69
        },
        "outputId": "d4b346bb-c647-42f4-f72e-7acdfd2edfe8"
      },
      "source": [
        "# Iterate\n",
        "\n",
        "# Parameters of the experiment\n",
        "n1 = 100\n",
        "n2 = 100\n",
        "alpha = 0.05\n",
        "\n",
        "# Population parameters\n",
        "\n",
        "mu1 = 12\n",
        "mu2 = 11\n",
        "sigma1 = 3\n",
        "sigma2 = 3\n",
        "\n",
        "\n",
        "\n",
        "results <- c()\n",
        "for(i in 1:100){\n",
        "    res = two_sample_t(n1 = n1,\n",
        "                 n2 = n2,\n",
        "                 alpha = alpha,\n",
        "                 mu1 = mu1,\n",
        "                 mu2 = mu2,\n",
        "                 sigma1 = sigma1,\n",
        "                 sigma2 = sigma2)\n",
        "    results[i] = res[[1]]\n",
        "#     ifelse(results[i] == \"Reject\", print(res),NA)\n",
        "}\n",
        "table(results)"
      ],
      "execution_count": 24,
      "outputs": [
        {
          "output_type": "display_data",
          "data": {
            "text/plain": [
              "results\n",
              "Fail to reject         Reject \n",
              "            33             67 "
            ]
          },
          "metadata": {
            "tags": []
          }
        }
      ]
    },
    {
      "cell_type": "code",
      "metadata": {
        "scrolled": true,
        "id": "5IfW6A9GwISG",
        "colab_type": "code",
        "colab": {
          "base_uri": "https://localhost:8080/",
          "height": 1000
        },
        "outputId": "fdfd3d0c-34f9-4dc5-e49c-5cbe7d7246ca"
      },
      "source": [
        "# Iterate\n",
        "\n",
        "# Parameters of the experiment\n",
        "n1 = 1000000\n",
        "n2 = 1000000\n",
        "alpha = 0.05\n",
        "\n",
        "# Population parameters\n",
        "\n",
        "mu1 = 11\n",
        "mu2 = 11\n",
        "sigma1 = 3\n",
        "sigma2 = 3\n",
        "\n",
        "\n",
        "\n",
        "results <- c()\n",
        "for(i in 1:100){\n",
        "    res = two_sample_t(n1 = n1,\n",
        "                 n2 = n2,\n",
        "                 alpha = alpha,\n",
        "                 mu1 = mu1,\n",
        "                 mu2 = mu2,\n",
        "                 sigma1 = sigma1,\n",
        "                 sigma2 = sigma2)\n",
        "    results[i] = res[[1]]\n",
        "    ifelse(results[i] == \"Reject\", print(res),NA)\n",
        "}\n",
        "table(results)"
      ],
      "execution_count": 25,
      "outputs": [
        {
          "output_type": "stream",
          "text": [
            "[[1]]\n",
            "[1] \"Reject\"\n",
            "\n",
            "$p\n",
            "[1] 0.02748067\n",
            "\n",
            "$ci\n",
            "[1] -0.017671337 -0.009354739 -0.001038141\n",
            "\n",
            "$x1_bar\n",
            "[1] 10.99412\n",
            "\n",
            "$x2_bar\n",
            "[1] 11.00347\n",
            "\n",
            "$s1\n",
            "[1] 2.998412\n",
            "\n",
            "$s2\n",
            "[1] 3.002431\n",
            "\n",
            "$se\n",
            "[1] 0.004243238\n",
            "\n",
            "[[1]]\n",
            "[1] \"Reject\"\n",
            "\n",
            "$p\n",
            "[1] 0.04710852\n",
            "\n",
            "$ci\n",
            "[1] -0.0167584510 -0.0084330851 -0.0001077191\n",
            "\n",
            "$x1_bar\n",
            "[1] 10.99617\n",
            "\n",
            "$x2_bar\n",
            "[1] 11.0046\n",
            "\n",
            "$s1\n",
            "[1] 3.002929\n",
            "\n",
            "$s2\n",
            "[1] 3.004241\n",
            "\n",
            "$se\n",
            "[1] 0.004247711\n",
            "\n",
            "[[1]]\n",
            "[1] \"Reject\"\n",
            "\n",
            "$p\n",
            "[1] 0.04025563\n",
            "\n",
            "$ci\n",
            "[1] -0.0170346425 -0.0087108786 -0.0003871146\n",
            "\n",
            "$x1_bar\n",
            "[1] 10.99333\n",
            "\n",
            "$x2_bar\n",
            "[1] 11.00204\n",
            "\n",
            "$s1\n",
            "[1] 3.002304\n",
            "\n",
            "$s2\n",
            "[1] 3.00371\n",
            "\n",
            "$se\n",
            "[1] 0.004246894\n",
            "\n",
            "[[1]]\n",
            "[1] \"Reject\"\n",
            "\n",
            "$p\n",
            "[1] 0.04693487\n",
            "\n",
            "$ci\n",
            "[1] -0.0167350516 -0.0084246049 -0.0001141582\n",
            "\n",
            "$x1_bar\n",
            "[1] 11.00089\n",
            "\n",
            "$x2_bar\n",
            "[1] 11.00932\n",
            "\n",
            "$s1\n",
            "[1] 2.998222\n",
            "\n",
            "$s2\n",
            "[1] 2.998183\n",
            "\n",
            "$se\n",
            "[1] 0.004240099\n",
            "\n"
          ],
          "name": "stdout"
        },
        {
          "output_type": "display_data",
          "data": {
            "text/plain": [
              "results\n",
              "Fail to reject         Reject \n",
              "            96              4 "
            ]
          },
          "metadata": {
            "tags": []
          }
        }
      ]
    },
    {
      "cell_type": "code",
      "metadata": {
        "id": "JUjRSkLpwISL",
        "colab_type": "code",
        "colab": {}
      },
      "source": [
        ""
      ],
      "execution_count": 0,
      "outputs": []
    }
  ]
}