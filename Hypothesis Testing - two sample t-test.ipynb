{
 "cells": [
  {
   "cell_type": "markdown",
   "metadata": {},
   "source": [
    "# Two Sample t-test"
   ]
  },
  {
   "cell_type": "code",
   "execution_count": 140,
   "metadata": {},
   "outputs": [],
   "source": [
    "library(dplyr)\n",
    "library(ggplot2)\n",
    "\n",
    "setwd('/Users/chaitanyaanand/Code/Learning/RWorkingDir/')"
   ]
  },
  {
   "cell_type": "markdown",
   "metadata": {
    "slideshow": {
     "slide_type": "-"
    }
   },
   "source": [
    "### Important Formulas\n",
    "\n",
    "Degrees of freedom for the equal variance case<br>\n",
    "$\n",
    "\\begin{align}\n",
    "df = n_1 + n_2 - 2 \\\\\n",
    "\\end{align}\n",
    "$<br>\n",
    "\n",
    "Degrees of freedom for the unequal variance case<br>\n",
    "$\n",
    "\\begin{align}\n",
    "df = \\frac{\\left(\\frac{s_1^2}{n_1}+\\frac{s_2^2}{n_2}\\right)^2}{\\frac{\\left(\\frac{s_1^2}{n_1}\\right)^2}{n_1-1} + \\frac{\\left(\\frac{s_2^2}{n_2}\\right)^2}{n_2-1}}\\\\\n",
    "\\end{align}\n",
    "$<br>\n",
    "\n",
    "Standard deviation for the equal variance case<br>\n",
    "$\n",
    "\\begin{align}\n",
    "s_{\\bar{X_1}-\\bar{X_2}}=\\sqrt{\\frac{(n_1-1)s_1^2-(n_2-2)s_2^2}{n_1+n_2-2}}\\\\\n",
    "\\end{align}\n",
    "$<br>\n",
    "\n",
    "Standard deviation for the unequal variance case<br>\n",
    "$\n",
    "\\begin{align}\n",
    "s_{\\bar{X_1}-\\bar{X_2}}=\\sqrt{s_1^2+s_2^2}\n",
    "\\end{align}\n",
    "$\n",
    "\n",
    "Standard error for the equal variance case<br>\n",
    "$\n",
    "\\begin{align}\n",
    "SE_{\\bar{X_1}-\\bar{X_2}}=\\sqrt{\\left(\\frac{(n_1-1)s_1^2-(n_2-2)s_2^2}{n_1+n_2-2}\\right)\\left(\\frac{1}{n_1}+\\frac{1}{n_2}\\right)}\\\\\n",
    "\\end{align}\n",
    "$<br>\n",
    "\n",
    "Standard error for the unequal variance case<br>\n",
    "$\n",
    "\\begin{align}\n",
    "SE_{\\bar{X_1}-\\bar{X_2}}=\\sqrt{\\frac{s_1^2}{n_1}+\\frac{s_2^2}{n_2}}\n",
    "\\end{align}\n",
    "$"
   ]
  },
  {
   "cell_type": "markdown",
   "metadata": {},
   "source": [
    "### Data Generation Process"
   ]
  },
  {
   "cell_type": "code",
   "execution_count": 280,
   "metadata": {},
   "outputs": [],
   "source": [
    "# Parameters of the experiment\n",
    "n1 = 100\n",
    "n2 = 100\n",
    "alpha = 0.05\n",
    "\n",
    "# Population parameters\n",
    "\n",
    "mu1 = 11\n",
    "mu2 = 12\n",
    "sigma1 = 3\n",
    "sigma2 = 2"
   ]
  },
  {
   "cell_type": "code",
   "execution_count": 281,
   "metadata": {},
   "outputs": [],
   "source": [
    "# Let us say we have some data from two random processes\n",
    "\n",
    "treatment1_data <- rnorm(n = n1, mean = mu1, sd = sigma1)\n",
    "treatment2_data <- rnorm(n = n2, mean = mu2, sd = sigma2)"
   ]
  },
  {
   "cell_type": "code",
   "execution_count": 282,
   "metadata": {},
   "outputs": [],
   "source": [
    "# Parameters of the population distribution to be treated as unknown throughout the hypothesis testing process\n",
    "rm(mu1, mu2, sigma1, sigma2)"
   ]
  },
  {
   "cell_type": "markdown",
   "metadata": {},
   "source": [
    "### Calculating Sample Statistics"
   ]
  },
  {
   "cell_type": "code",
   "execution_count": 283,
   "metadata": {},
   "outputs": [
    {
     "name": "stdout",
     "output_type": "stream",
     "text": [
      " num [1:100] 7.86 10.91 6.4 14.19 15.7 ...\n"
     ]
    }
   ],
   "source": [
    "glimpse(treatment1_data)"
   ]
  },
  {
   "cell_type": "code",
   "execution_count": 284,
   "metadata": {},
   "outputs": [
    {
     "name": "stdout",
     "output_type": "stream",
     "text": [
      " num [1:100] 13 11.43 9.79 10.16 15.2 ...\n"
     ]
    }
   ],
   "source": [
    "glimpse(treatment2_data)"
   ]
  },
  {
   "cell_type": "code",
   "execution_count": 285,
   "metadata": {},
   "outputs": [],
   "source": [
    "\n",
    "x1_bar = mean(treatment1_data)\n",
    "x2_bar = mean(treatment2_data)\n",
    "\n",
    "s1 = sd(treatment1_data)\n",
    "s2 = sd(treatment2_data)\n",
    "\n",
    "sd = (((((n1 -1)*(s1^2)) + ((n2 -1)*(s2^2)))/(n1+n2-2)))^(1/2)\n",
    "se = (((((n1 -1)*(s1^2)) + ((n2 -1)*(s2^2)))/(n1+n2-2))*((1/n1) + (1/n2)))^(1/2)\n",
    "df = n1 + n2 - 1\n",
    "observed_dfference = x1_bar - x2_bar\n",
    "z = (0 - observed_dfference)/se"
   ]
  },
  {
   "cell_type": "code",
   "execution_count": 286,
   "metadata": {},
   "outputs": [
    {
     "data": {
      "text/html": [
       "10.9914464437728"
      ],
      "text/latex": [
       "10.9914464437728"
      ],
      "text/markdown": [
       "10.9914464437728"
      ],
      "text/plain": [
       "[1] 10.99145"
      ]
     },
     "metadata": {},
     "output_type": "display_data"
    },
    {
     "data": {
      "text/html": [
       "12.1341074737198"
      ],
      "text/latex": [
       "12.1341074737198"
      ],
      "text/markdown": [
       "12.1341074737198"
      ],
      "text/plain": [
       "[1] 12.13411"
      ]
     },
     "metadata": {},
     "output_type": "display_data"
    },
    {
     "data": {
      "text/html": [
       "-1.14266102994702"
      ],
      "text/latex": [
       "-1.14266102994702"
      ],
      "text/markdown": [
       "-1.14266102994702"
      ],
      "text/plain": [
       "[1] -1.142661"
      ]
     },
     "metadata": {},
     "output_type": "display_data"
    }
   ],
   "source": [
    "x1_bar\n",
    "x2_bar\n",
    "x1_bar-x2_bar"
   ]
  },
  {
   "cell_type": "code",
   "execution_count": 287,
   "metadata": {},
   "outputs": [
    {
     "data": {
      "text/html": [
       "2.86497427535537"
      ],
      "text/latex": [
       "2.86497427535537"
      ],
      "text/markdown": [
       "2.86497427535537"
      ],
      "text/plain": [
       "[1] 2.864974"
      ]
     },
     "metadata": {},
     "output_type": "display_data"
    },
    {
     "data": {
      "text/html": [
       "1.86598005371804"
      ],
      "text/latex": [
       "1.86598005371804"
      ],
      "text/markdown": [
       "1.86598005371804"
      ],
      "text/plain": [
       "[1] 1.86598"
      ]
     },
     "metadata": {},
     "output_type": "display_data"
    }
   ],
   "source": [
    "s1\n",
    "s2"
   ]
  },
  {
   "cell_type": "code",
   "execution_count": 288,
   "metadata": {},
   "outputs": [
    {
     "data": {
      "text/html": [
       "0.34190582269569"
      ],
      "text/latex": [
       "0.34190582269569"
      ],
      "text/markdown": [
       "0.34190582269569"
      ],
      "text/plain": [
       "[1] 0.3419058"
      ]
     },
     "metadata": {},
     "output_type": "display_data"
    },
    {
     "data": {
      "text/html": [
       "3.34203442614088"
      ],
      "text/latex": [
       "3.34203442614088"
      ],
      "text/markdown": [
       "3.34203442614088"
      ],
      "text/plain": [
       "[1] 3.342034"
      ]
     },
     "metadata": {},
     "output_type": "display_data"
    }
   ],
   "source": [
    "se\n",
    "z"
   ]
  },
  {
   "cell_type": "markdown",
   "metadata": {},
   "source": [
    "### Step by Steb Procedure"
   ]
  },
  {
   "cell_type": "markdown",
   "metadata": {},
   "source": [
    "H0: Treatment 1 and Treatment 2 are not diferent i.e. mu1 = mu2 or mu1 - mu2 = 0 <br>\n",
    "H1: Treatment 1 and Treatment 2 are the same i.e. mu1 != mu2 or mu1 - mu2 != 0 <br>"
   ]
  },
  {
   "cell_type": "code",
   "execution_count": 289,
   "metadata": {},
   "outputs": [
    {
     "data": {
      "text/html": [
       "0.0834314448788794"
      ],
      "text/latex": [
       "0.0834314448788794"
      ],
      "text/markdown": [
       "0.0834314448788794"
      ],
      "text/plain": [
       "[1] 0.08343144"
      ]
     },
     "metadata": {},
     "output_type": "display_data"
    }
   ],
   "source": [
    "p = pt(q = z, df = df, lower.tail = TRUE, log.p = FALSE)\n",
    "p = ifelse(p > 0.5, (1-p), p)*2\n",
    "p"
   ]
  },
  {
   "cell_type": "code",
   "execution_count": 290,
   "metadata": {},
   "outputs": [
    {
     "data": {
      "text/html": [
       "'We fail to reject the null hypothesis'"
      ],
      "text/latex": [
       "'We fail to reject the null hypothesis'"
      ],
      "text/markdown": [
       "'We fail to reject the null hypothesis'"
      ],
      "text/plain": [
       "[1] \"We fail to reject the null hypothesis\""
      ]
     },
     "metadata": {},
     "output_type": "display_data"
    }
   ],
   "source": [
    "ifelse(p < alpha, \"We reject the null hypothesis\", \"We fail to reject the null hypothesis\")"
   ]
  },
  {
   "cell_type": "markdown",
   "metadata": {},
   "source": [
    "### Alternative Approaoch - Confidence Interval"
   ]
  },
  {
   "cell_type": "code",
   "execution_count": 356,
   "metadata": {},
   "outputs": [],
   "source": [
    "critical_value = qt(p = alpha/2, df = df, lower.tail = TRUE, log.p = FALSE)\n",
    "lower_limit = ifelse(sign(critical_value) == 1 & sign (observed_dfference) == 1,\n",
    "                 observed_dfference - (critical_value*se),\n",
    "                 observed_dfference + (critical_value*se))\n",
    "upper_limit = ifelse(sign(critical_value) == 1 & sign (observed_dfference) == 1,\n",
    "                 observed_dfference + (critical_value*se),\n",
    "                 observed_dfference - (critical_value*se))\n",
    "ci = c(lower_limit, observed_dfference, upper_limit)"
   ]
  },
  {
   "cell_type": "code",
   "execution_count": 359,
   "metadata": {},
   "outputs": [
    {
     "data": {
      "text/html": [
       "<ol class=list-inline>\n",
       "\t<li>0.868137340098863</li>\n",
       "\t<li>-1.14266102994702</li>\n",
       "\t<li>-3.15345939999289</li>\n",
       "</ol>\n"
      ],
      "text/latex": [
       "\\begin{enumerate*}\n",
       "\\item 0.868137340098863\n",
       "\\item -1.14266102994702\n",
       "\\item -3.15345939999289\n",
       "\\end{enumerate*}\n"
      ],
      "text/markdown": [
       "1. 0.868137340098863\n",
       "2. -1.14266102994702\n",
       "3. -3.15345939999289\n",
       "\n",
       "\n"
      ],
      "text/plain": [
       "[1]  0.8681373 -1.1426610 -3.1534594"
      ]
     },
     "metadata": {},
     "output_type": "display_data"
    }
   ],
   "source": [
    "ci"
   ]
  },
  {
   "cell_type": "code",
   "execution_count": 317,
   "metadata": {},
   "outputs": [
    {
     "data": {
      "text/html": [
       "'The confidence interval (corresponding to chosen alpha) does not contain 0'"
      ],
      "text/latex": [
       "'The confidence interval (corresponding to chosen alpha) does not contain 0'"
      ],
      "text/markdown": [
       "'The confidence interval (corresponding to chosen alpha) does not contain 0'"
      ],
      "text/plain": [
       "[1] \"The confidence interval (corresponding to chosen alpha) does not contain 0\""
      ]
     },
     "metadata": {},
     "output_type": "display_data"
    }
   ],
   "source": [
    "ifelse(0 >= ci[1] & 0 <= ci[3],\n",
    "       \"The confidence interval contains zero\",\n",
    "       \"The confidence interval (corresponding to chosen alpha) does not contain 0\")"
   ]
  },
  {
   "cell_type": "markdown",
   "metadata": {},
   "source": [
    "### Encapsulating the above process in a function (to enable iterative experimentation)"
   ]
  },
  {
   "cell_type": "code",
   "execution_count": 588,
   "metadata": {},
   "outputs": [],
   "source": [
    "two_sample_t <- function(n1, n2, alpha, mu1, mu2, sigma1, sigma2) {\n",
    "    # Generating data\n",
    "    treatment1_data <- rnorm(n = n1, mean = mu1, sd = sigma1)\n",
    "    treatment2_data <- rnorm(n = n2, mean = mu2, sd = sigma2)\n",
    "    \n",
    "    # Calculating sample statistics\n",
    "    x1_bar = mean(treatment1_data)\n",
    "    x2_bar = mean(treatment2_data)\n",
    "    \n",
    "    s1 = sd(treatment1_data)\n",
    "    s2 = sd(treatment2_data)\n",
    "    \n",
    "    sd = (((((n1 -1)*(s1^2)) + ((n2 -1)*(s2^2)))/(n1+n2-2)))^(1/2)\n",
    "    se = (((((n1 -1)*(s1^2)) + ((n2 -1)*(s2^2)))/(n1+n2-2))*((1/n1) + (1/n2)))^(1/2)\n",
    "    df = n1 + n2 - 1\n",
    "    observed_dfference = x1_bar - x2_bar\n",
    "    z = (0 - (observed_dfference))/se\n",
    "    \n",
    "    # Calculating p-value\n",
    "    p = pt(q = z, df = df, lower.tail = TRUE, log.p = FALSE)\n",
    "#     p = pnorm(q = z, mean = 0, sd = sd, lower.tail = TRUE, log.p = FALSE)\n",
    "    p = ifelse(p > 0.5, (1-p), p)*2\n",
    "    \n",
    "    # Calculating confidence interval\n",
    "    critical_value = qt(p = alpha/2, df = df, lower.tail = TRUE, log.p = FALSE)\n",
    "#     critical_value = qnorm(p = alpha/2, mean = observed_dfference, sd = sd, lower.tail = TRUE, log.p = FALSE)\n",
    "    lower_limit = ifelse(sign(critical_value) == 1 & sign (observed_dfference) == 1,\n",
    "                     observed_dfference - (critical_value*se),\n",
    "                     observed_dfference + (critical_value*se))\n",
    "    upper_limit = ifelse(sign(critical_value) == 1 & sign (observed_dfference) == 1,\n",
    "                     observed_dfference + (critical_value*se),\n",
    "                     observed_dfference - (critical_value*se))\n",
    "    ci = c(lower_limit, observed_dfference, upper_limit)\n",
    "    \n",
    "    # Results of the hypothesis test\n",
    "    null_hypothesis_test_method <- ifelse(p <= alpha, \"We reject the null hypothesis\", \"We fail to reject the null hypothesis\")\n",
    "    confidence_interval_method <- ifelse(ci[1] <= 0 & 0 <= ci[3],\n",
    "       \"The confidence interval contains zero\",\n",
    "       \"The confidence interval (corresponding to chosen alpha) does not contain 0\")\n",
    "    \n",
    "    ret <- list(ifelse(null_hypothesis_test_method == \"We reject the null hypothesis\" &\n",
    "                  confidence_interval_method == \"The confidence interval (corresponding to chosen alpha) does not contain 0\", \"Reject\",\n",
    "                  \n",
    "                  ifelse(null_hypothesis_test_method == \"We fail to reject the null hypothesis\" &\n",
    "                         confidence_interval_method == \"The confidence interval contains zero\", \"Fail to reject\",\n",
    "                         \"ERROR\")),\n",
    "                p = p,\n",
    "                ci = ci,\n",
    "                x1_bar = x1_bar,\n",
    "                x2_bar = x2_bar,\n",
    "                s1 = s1,\n",
    "                s2 = s2,\n",
    "                se = se)\n",
    "    \n",
    "    return(ret)\n",
    "}"
   ]
  },
  {
   "cell_type": "code",
   "execution_count": 592,
   "metadata": {},
   "outputs": [
    {
     "data": {
      "text/html": [
       "<dl>\n",
       "\t<dt>[[1]]</dt>\n",
       "\t\t<dd>'Reject'</dd>\n",
       "\t<dt>$p</dt>\n",
       "\t\t<dd>0</dd>\n",
       "\t<dt>$ci</dt>\n",
       "\t\t<dd><ol class=list-inline>\n",
       "\t<li>0.990991733039153</li>\n",
       "\t<li>0.999303924077736</li>\n",
       "\t<li>1.00761611511632</li>\n",
       "</ol>\n",
       "</dd>\n",
       "\t<dt>$x1_bar</dt>\n",
       "\t\t<dd>11.9954948049894</dd>\n",
       "\t<dt>$x2_bar</dt>\n",
       "\t\t<dd>10.9961908809117</dd>\n",
       "\t<dt>$s1</dt>\n",
       "\t\t<dd>2.99727374621074</dd>\n",
       "\t<dt>$s2</dt>\n",
       "\t\t<dd>3.00038982920305</dd>\n",
       "\t<dt>$se</dt>\n",
       "\t\t<dd>0.00424098915783916</dd>\n",
       "</dl>\n"
      ],
      "text/latex": [
       "\\begin{description}\n",
       "\\item[{[[1]]}] 'Reject'\n",
       "\\item[\\$p] 0\n",
       "\\item[\\$ci] \\begin{enumerate*}\n",
       "\\item 0.990991733039153\n",
       "\\item 0.999303924077736\n",
       "\\item 1.00761611511632\n",
       "\\end{enumerate*}\n",
       "\n",
       "\\item[\\$x1\\_bar] 11.9954948049894\n",
       "\\item[\\$x2\\_bar] 10.9961908809117\n",
       "\\item[\\$s1] 2.99727374621074\n",
       "\\item[\\$s2] 3.00038982920305\n",
       "\\item[\\$se] 0.00424098915783916\n",
       "\\end{description}\n"
      ],
      "text/markdown": [
       "[[1]]\n",
       ":   'Reject'\n",
       "$p\n",
       ":   0\n",
       "$ci\n",
       ":   1. 0.990991733039153\n",
       "2. 0.999303924077736\n",
       "3. 1.00761611511632\n",
       "\n",
       "\n",
       "\n",
       "$x1_bar\n",
       ":   11.9954948049894\n",
       "$x2_bar\n",
       ":   10.9961908809117\n",
       "$s1\n",
       ":   2.99727374621074\n",
       "$s2\n",
       ":   3.00038982920305\n",
       "$se\n",
       ":   0.00424098915783916\n",
       "\n",
       "\n"
      ],
      "text/plain": [
       "[[1]]\n",
       "[1] \"Reject\"\n",
       "\n",
       "$p\n",
       "[1] 0\n",
       "\n",
       "$ci\n",
       "[1] 0.9909917 0.9993039 1.0076161\n",
       "\n",
       "$x1_bar\n",
       "[1] 11.99549\n",
       "\n",
       "$x2_bar\n",
       "[1] 10.99619\n",
       "\n",
       "$s1\n",
       "[1] 2.997274\n",
       "\n",
       "$s2\n",
       "[1] 3.00039\n",
       "\n",
       "$se\n",
       "[1] 0.004240989\n"
      ]
     },
     "metadata": {},
     "output_type": "display_data"
    }
   ],
   "source": [
    "# Parameters of the experiment\n",
    "n1 = 1000000\n",
    "n2 = 1000000\n",
    "alpha = 0.05\n",
    "\n",
    "# Population parameters\n",
    "\n",
    "mu1 = 12\n",
    "mu2 = 11\n",
    "sigma1 = 3\n",
    "sigma2 = 3\n",
    "\n",
    "two_sample_t(n1 = n1,\n",
    "             n2 = n2,\n",
    "             alpha = alpha,\n",
    "             mu1 = mu1,\n",
    "             mu2 = mu2,\n",
    "             sigma1 = sigma1,\n",
    "             sigma2 = sigma2)"
   ]
  },
  {
   "cell_type": "code",
   "execution_count": 596,
   "metadata": {
    "scrolled": true
   },
   "outputs": [
    {
     "name": "stdout",
     "output_type": "stream",
     "text": [
      "[[1]]\n",
      "[1] \"Reject\"\n",
      "\n",
      "$p\n",
      "[1] 0.02074681\n",
      "\n",
      "$ci\n",
      "[1] 0.04734167 0.31017281 0.57300394\n",
      "\n",
      "$x1_bar\n",
      "[1] 11.26788\n",
      "\n",
      "$x2_bar\n",
      "[1] 10.95771\n",
      "\n",
      "$s1\n",
      "[1] 3.047416\n",
      "\n",
      "$s2\n",
      "[1] 2.945215\n",
      "\n",
      "$se\n",
      "[1] 0.1340188\n",
      "\n"
     ]
    },
    {
     "data": {
      "text/plain": [
       "results\n",
       "Fail to reject         Reject \n",
       "            99              1 "
      ]
     },
     "metadata": {},
     "output_type": "display_data"
    }
   ],
   "source": [
    "# Iterate\n",
    "\n",
    "# Parameters of the experiment\n",
    "n1 = 1000\n",
    "n2 = 1000\n",
    "alpha = 0.05\n",
    "\n",
    "# Population parameters\n",
    "\n",
    "mu1 = 11\n",
    "mu2 = 11\n",
    "sigma1 = 3\n",
    "sigma2 = 3\n",
    "\n",
    "\n",
    "\n",
    "results <- c()\n",
    "for(i in 1:100){\n",
    "    res = two_sample_t(n1 = n1,\n",
    "                 n2 = n2,\n",
    "                 alpha = alpha,\n",
    "                 mu1 = mu1,\n",
    "                 mu2 = mu2,\n",
    "                 sigma1 = sigma1,\n",
    "                 sigma2 = sigma2)\n",
    "    results[i] = res[[1]]\n",
    "    ifelse(results[i] == \"Reject\", print(res),NA)\n",
    "}\n",
    "table(results)"
   ]
  },
  {
   "cell_type": "code",
   "execution_count": 545,
   "metadata": {},
   "outputs": [
    {
     "data": {
      "text/html": [
       "3.01896462520848e-07"
      ],
      "text/latex": [
       "3.01896462520848e-07"
      ],
      "text/markdown": [
       "3.01896462520848e-07"
      ],
      "text/plain": [
       "[1] 3.018965e-07"
      ]
     },
     "metadata": {},
     "output_type": "display_data"
    }
   ],
   "source": [
    "unique(d)"
   ]
  },
  {
   "cell_type": "code",
   "execution_count": 595,
   "metadata": {
    "scrolled": true
   },
   "outputs": [
    {
     "name": "stdout",
     "output_type": "stream",
     "text": [
      "[[1]]\n",
      "[1] \"Reject\"\n",
      "\n",
      "$p\n",
      "[1] 0.01090106\n",
      "\n",
      "$ci\n",
      "[1] 0.002487168 0.010807409 0.019127650\n",
      "\n",
      "$x1_bar\n",
      "[1] 11.00524\n",
      "\n",
      "$x2_bar\n",
      "[1] 10.99443\n",
      "\n",
      "$s1\n",
      "[1] 3.000715\n",
      "\n",
      "$s2\n",
      "[1] 3.002757\n",
      "\n",
      "$se\n",
      "[1] 0.004245096\n",
      "\n",
      "[[1]]\n",
      "[1] \"Reject\"\n",
      "\n",
      "$p\n",
      "[1] 0.03115618\n",
      "\n",
      "$ci\n",
      "[1] 0.0008279042 0.0091446213 0.0174613384\n",
      "\n",
      "$x1_bar\n",
      "[1] 11.00581\n",
      "\n",
      "$x2_bar\n",
      "[1] 10.99667\n",
      "\n",
      "$s1\n",
      "[1] 3.000814\n",
      "\n",
      "$s2\n",
      "[1] 3.000116\n",
      "\n",
      "$se\n",
      "[1] 0.004243298\n",
      "\n"
     ]
    },
    {
     "data": {
      "text/plain": [
       "results\n",
       "Fail to reject         Reject \n",
       "            98              2 "
      ]
     },
     "metadata": {},
     "output_type": "display_data"
    }
   ],
   "source": [
    "# Iterate\n",
    "\n",
    "# Parameters of the experiment\n",
    "n1 = 1000000\n",
    "n2 = 1000000\n",
    "alpha = 0.05\n",
    "\n",
    "# Population parameters\n",
    "\n",
    "mu1 = 11\n",
    "mu2 = 11\n",
    "sigma1 = 3\n",
    "sigma2 = 3\n",
    "\n",
    "\n",
    "\n",
    "results <- c()\n",
    "for(i in 1:100){\n",
    "    res = two_sample_t(n1 = n1,\n",
    "                 n2 = n2,\n",
    "                 alpha = alpha,\n",
    "                 mu1 = mu1,\n",
    "                 mu2 = mu2,\n",
    "                 sigma1 = sigma1,\n",
    "                 sigma2 = sigma2)\n",
    "    results[i] = res[[1]]\n",
    "    ifelse(results[i] == \"Reject\", print(res),NA)\n",
    "}\n",
    "table(results)"
   ]
  },
  {
   "cell_type": "code",
   "execution_count": 600,
   "metadata": {
    "scrolled": true
   },
   "outputs": [
    {
     "data": {
      "text/plain": [
       "results\n",
       "Reject \n",
       "   100 "
      ]
     },
     "metadata": {},
     "output_type": "display_data"
    }
   ],
   "source": [
    "# Iterate\n",
    "\n",
    "# Parameters of the experiment\n",
    "n1 = 1000000\n",
    "n2 = 1000000\n",
    "alpha = 0.05\n",
    "\n",
    "# Population parameters\n",
    "\n",
    "mu1 = 12\n",
    "mu2 = 11\n",
    "sigma1 = 3\n",
    "sigma2 = 3\n",
    "\n",
    "\n",
    "\n",
    "results <- c()\n",
    "for(i in 1:100){\n",
    "    res = two_sample_t(n1 = n1,\n",
    "                 n2 = n2,\n",
    "                 alpha = alpha,\n",
    "                 mu1 = mu1,\n",
    "                 mu2 = mu2,\n",
    "                 sigma1 = sigma1,\n",
    "                 sigma2 = sigma2)\n",
    "    results[i] = res[[1]]\n",
    "#     ifelse(results[i] == \"Reject\", print(res),NA)\n",
    "}\n",
    "table(results)"
   ]
  },
  {
   "cell_type": "code",
   "execution_count": 607,
   "metadata": {},
   "outputs": [
    {
     "data": {
      "text/plain": [
       "results\n",
       "Fail to reject         Reject \n",
       "            34             66 "
      ]
     },
     "metadata": {},
     "output_type": "display_data"
    }
   ],
   "source": [
    "# Iterate\n",
    "\n",
    "# Parameters of the experiment\n",
    "n1 = 100\n",
    "n2 = 100\n",
    "alpha = 0.05\n",
    "\n",
    "# Population parameters\n",
    "\n",
    "mu1 = 12\n",
    "mu2 = 11\n",
    "sigma1 = 3\n",
    "sigma2 = 3\n",
    "\n",
    "\n",
    "\n",
    "results <- c()\n",
    "for(i in 1:100){\n",
    "    res = two_sample_t(n1 = n1,\n",
    "                 n2 = n2,\n",
    "                 alpha = alpha,\n",
    "                 mu1 = mu1,\n",
    "                 mu2 = mu2,\n",
    "                 sigma1 = sigma1,\n",
    "                 sigma2 = sigma2)\n",
    "    results[i] = res[[1]]\n",
    "#     ifelse(results[i] == \"Reject\", print(res),NA)\n",
    "}\n",
    "table(results)"
   ]
  },
  {
   "cell_type": "code",
   "execution_count": 599,
   "metadata": {
    "scrolled": true
   },
   "outputs": [
    {
     "name": "stdout",
     "output_type": "stream",
     "text": [
      "[[1]]\n",
      "[1] \"Reject\"\n",
      "\n",
      "$p\n",
      "[1] 0.02054402\n",
      "\n",
      "$ci\n",
      "[1] 0.001512685 0.009833840 0.018154996\n",
      "\n",
      "$x1_bar\n",
      "[1] 11.00748\n",
      "\n",
      "$x2_bar\n",
      "[1] 10.99764\n",
      "\n",
      "$s1\n",
      "[1] 3.001501\n",
      "\n",
      "$s2\n",
      "[1] 3.002632\n",
      "\n",
      "$se\n",
      "[1] 0.004245563\n",
      "\n",
      "[[1]]\n",
      "[1] \"Reject\"\n",
      "\n",
      "$p\n",
      "[1] 0.01428403\n",
      "\n",
      "$ci\n",
      "[1] -0.018713623 -0.010396619 -0.002079615\n",
      "\n",
      "$x1_bar\n",
      "[1] 10.99783\n",
      "\n",
      "$x2_bar\n",
      "[1] 11.00822\n",
      "\n",
      "$s1\n",
      "[1] 3.00171\n",
      "\n",
      "$s2\n",
      "[1] 2.999427\n",
      "\n",
      "$se\n",
      "[1] 0.004243445\n",
      "\n",
      "[[1]]\n",
      "[1] \"Reject\"\n",
      "\n",
      "$p\n",
      "[1] 0.03259038\n",
      "\n",
      "$ci\n",
      "[1] 0.0007516223 0.0090684211 0.0173852199\n",
      "\n",
      "$x1_bar\n",
      "[1] 11.0017\n",
      "\n",
      "$x2_bar\n",
      "[1] 10.99263\n",
      "\n",
      "$s1\n",
      "[1] 3.001089\n",
      "\n",
      "$s2\n",
      "[1] 2.9999\n",
      "\n",
      "$se\n",
      "[1] 0.00424334\n",
      "\n"
     ]
    },
    {
     "data": {
      "text/plain": [
       "results\n",
       "Fail to reject         Reject \n",
       "            97              3 "
      ]
     },
     "metadata": {},
     "output_type": "display_data"
    }
   ],
   "source": [
    "# Iterate\n",
    "\n",
    "# Parameters of the experiment\n",
    "n1 = 1000000\n",
    "n2 = 1000000\n",
    "alpha = 0.05\n",
    "\n",
    "# Population parameters\n",
    "\n",
    "mu1 = 11\n",
    "mu2 = 11\n",
    "sigma1 = 3\n",
    "sigma2 = 3\n",
    "\n",
    "\n",
    "\n",
    "results <- c()\n",
    "for(i in 1:100){\n",
    "    res = two_sample_t(n1 = n1,\n",
    "                 n2 = n2,\n",
    "                 alpha = alpha,\n",
    "                 mu1 = mu1,\n",
    "                 mu2 = mu2,\n",
    "                 sigma1 = sigma1,\n",
    "                 sigma2 = sigma2)\n",
    "    results[i] = res[[1]]\n",
    "    ifelse(results[i] == \"Reject\", print(res),NA)\n",
    "}\n",
    "table(results)"
   ]
  },
  {
   "cell_type": "code",
   "execution_count": null,
   "metadata": {},
   "outputs": [],
   "source": []
  }
 ],
 "metadata": {
  "celltoolbar": "Raw Cell Format",
  "kernelspec": {
   "display_name": "R",
   "language": "R",
   "name": "ir"
  },
  "language_info": {
   "codemirror_mode": "r",
   "file_extension": ".r",
   "mimetype": "text/x-r-source",
   "name": "R",
   "pygments_lexer": "r",
   "version": "3.6.2"
  }
 },
 "nbformat": 4,
 "nbformat_minor": 2
}
