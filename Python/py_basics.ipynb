{
 "cells": [
  {
   "cell_type": "markdown",
   "id": "83c1ade3-cb1e-4a5d-9747-8a50ce795abc",
   "metadata": {},
   "source": [
    "# A notebook to introduce the basics of Python programming"
   ]
  },
  {
   "cell_type": "markdown",
   "id": "8c745157-d3a6-48f9-b12e-6353baeda792",
   "metadata": {
    "jp-MarkdownHeadingCollapsed": true
   },
   "source": [
    "## First lines\n",
    "The print statement, variables and simple expressions."
   ]
  },
  {
   "cell_type": "code",
   "execution_count": 1,
   "id": "a79699f5-9bf7-46e5-8d68-b0ea2ee223ef",
   "metadata": {},
   "outputs": [
    {
     "name": "stdout",
     "output_type": "stream",
     "text": [
      "Hello World!\n"
     ]
    }
   ],
   "source": [
    "print(\"Hello World!\")"
   ]
  },
  {
   "cell_type": "code",
   "execution_count": 3,
   "id": "bf2a1c30-9b7b-4d07-b022-990beac689ef",
   "metadata": {},
   "outputs": [
    {
     "name": "stdout",
     "output_type": "stream",
     "text": [
      "2\n"
     ]
    }
   ],
   "source": [
    "print(2)"
   ]
  },
  {
   "cell_type": "code",
   "execution_count": 4,
   "id": "77fccb8d-d215-4711-952a-355aeef83220",
   "metadata": {},
   "outputs": [
    {
     "name": "stdout",
     "output_type": "stream",
     "text": [
      "20\n"
     ]
    }
   ],
   "source": [
    "print(2*10)"
   ]
  },
  {
   "cell_type": "code",
   "execution_count": 5,
   "id": "f480622b-8766-46f4-869e-d810d2b69b0c",
   "metadata": {},
   "outputs": [
    {
     "name": "stdout",
     "output_type": "stream",
     "text": [
      "**********\n",
      "HelloHello\n"
     ]
    }
   ],
   "source": [
    "print('*' * 10)\n",
    "print('Hello' * 2)"
   ]
  },
  {
   "cell_type": "code",
   "execution_count": 8,
   "id": "9c44051e-0b0a-47ce-a23d-7c7601e1e9bd",
   "metadata": {},
   "outputs": [],
   "source": [
    "price = 10"
   ]
  },
  {
   "cell_type": "code",
   "execution_count": 9,
   "id": "8b2336a4-8ccf-4791-b3d1-9cbb27d0bff0",
   "metadata": {},
   "outputs": [
    {
     "name": "stdout",
     "output_type": "stream",
     "text": [
      "10\n"
     ]
    }
   ],
   "source": [
    "print(price)"
   ]
  },
  {
   "cell_type": "code",
   "execution_count": 10,
   "id": "fa118892-374e-42d2-a872-f5bb0d30f607",
   "metadata": {},
   "outputs": [],
   "source": [
    "quantity = 2"
   ]
  },
  {
   "cell_type": "code",
   "execution_count": 11,
   "id": "e2e355bb-fde9-47b6-b91a-93e46ada97eb",
   "metadata": {},
   "outputs": [],
   "source": [
    "total_amount = price * quantity"
   ]
  },
  {
   "cell_type": "code",
   "execution_count": 12,
   "id": "69551fd1-72e1-402a-b142-21246ca238ef",
   "metadata": {},
   "outputs": [
    {
     "name": "stdout",
     "output_type": "stream",
     "text": [
      "20\n"
     ]
    }
   ],
   "source": [
    "print(total_amount)"
   ]
  },
  {
   "cell_type": "code",
   "execution_count": 14,
   "id": "7936e307-b248-44fc-9108-b5e7cb9047b8",
   "metadata": {},
   "outputs": [
    {
     "name": "stdin",
     "output_type": "stream",
     "text": [
      "What is your name? Chaitanya\n"
     ]
    }
   ],
   "source": [
    "name = input(\"What is your name?\")"
   ]
  },
  {
   "cell_type": "code",
   "execution_count": 18,
   "id": "784593bd-2901-4815-8e48-781a8e59c343",
   "metadata": {},
   "outputs": [
    {
     "name": "stdout",
     "output_type": "stream",
     "text": [
      "Hi Chaitanya!\n"
     ]
    }
   ],
   "source": [
    "print(\"Hi \" + name + \"!\")"
   ]
  },
  {
   "cell_type": "code",
   "execution_count": 344,
   "id": "ddf4919d-b35e-463d-bbda-db76f698c8c7",
   "metadata": {},
   "outputs": [],
   "source": [
    "# Comments. Anything typed in a line after the pound symbol is a code comment and is not executed by the Python interpretor\n",
    "# Comments are useful to document the code and make it more readable and maintainable"
   ]
  },
  {
   "cell_type": "markdown",
   "id": "3a7fab1d-8dcf-4b28-b83e-670ee47d3f43",
   "metadata": {
    "jp-MarkdownHeadingCollapsed": true
   },
   "source": [
    "## Fundamental Data types in Python"
   ]
  },
  {
   "cell_type": "markdown",
   "id": "54737f2c-f0e7-4725-9b7f-8d8ee13ba2d6",
   "metadata": {
    "jp-MarkdownHeadingCollapsed": true
   },
   "source": [
    "### Strings"
   ]
  },
  {
   "cell_type": "code",
   "execution_count": 14,
   "id": "1022df35-c72e-4ed7-996e-bf277e124ab1",
   "metadata": {},
   "outputs": [],
   "source": [
    "# Strings\n",
    "str1 = 'this is a string defined with single quotes'\n",
    "\n",
    "str2 = \"this is also a string defined with double quotes\"\n",
    "\n",
    "str3 = '''This is a multiline string.\n",
    "it is defined using three single quotes'''"
   ]
  },
  {
   "cell_type": "code",
   "execution_count": 15,
   "id": "9add8182-183b-4c63-afa6-7e106dc3eaa8",
   "metadata": {},
   "outputs": [
    {
     "name": "stdout",
     "output_type": "stream",
     "text": [
      "this is a string defined with single quotes\n",
      "this is also a string defined with double quotes\n",
      "This is a multiline string.\n",
      "it is defined using three single quotes\n"
     ]
    }
   ],
   "source": [
    "print(str1)\n",
    "print(str2)\n",
    "print(str3)"
   ]
  },
  {
   "cell_type": "code",
   "execution_count": 16,
   "id": "5aa1ed5d-a898-4694-a444-446ed83c6545",
   "metadata": {},
   "outputs": [
    {
     "name": "stdout",
     "output_type": "stream",
     "text": [
      "this is a string defined with single quotesthis is also a string defined with double quotesThis is a multiline string.\n",
      "it is defined using three single quotes\n"
     ]
    }
   ],
   "source": [
    "# Concatenate strings using the + operation\n",
    "print(str1 + str2 + str3)"
   ]
  },
  {
   "cell_type": "markdown",
   "id": "d3fcb6f0-4aaf-407e-892a-625900a483f4",
   "metadata": {
    "jp-MarkdownHeadingCollapsed": true
   },
   "source": [
    "### Integers"
   ]
  },
  {
   "cell_type": "code",
   "execution_count": 17,
   "id": "17aeb985-643b-419e-a3d5-f85a9ca42f10",
   "metadata": {},
   "outputs": [],
   "source": [
    "# integers\n",
    "\n",
    "int1 = 12312431\n",
    "int2 = 342"
   ]
  },
  {
   "cell_type": "code",
   "execution_count": 101,
   "id": "9cfebb37-2730-4618-96ac-9f2f68ff64f9",
   "metadata": {},
   "outputs": [
    {
     "name": "stdout",
     "output_type": "stream",
     "text": [
      "12312434\n",
      "342\n",
      "12312776\n",
      "4210852428\n",
      "36001.26900584796\n",
      "92\n",
      "151596031004356\n",
      "2034\n"
     ]
    }
   ],
   "source": [
    "print(int1)\n",
    "print(int2)\n",
    "print(int1 + int2)\n",
    "print(int1 * int2)\n",
    "print(int1/int2)\n",
    "print(int1%int2) # Remainder operator\n",
    "print(int1**2) # Raise to the power\n",
    "print(abs(-2034))"
   ]
  },
  {
   "cell_type": "code",
   "execution_count": 91,
   "id": "fdf69d90-7732-434e-a1ae-eb1a463c562b",
   "metadata": {},
   "outputs": [
    {
     "name": "stdout",
     "output_type": "stream",
     "text": [
      "12312437\n",
      "12312434\n"
     ]
    }
   ],
   "source": [
    "int1 += 3 # increment by 3\n",
    "\n",
    "print(int1)\n",
    "\n",
    "\n",
    "int1 -= 3 # decrement by 3\n",
    "\n",
    "print(int1)"
   ]
  },
  {
   "cell_type": "markdown",
   "id": "48e36b3d-edee-4033-bd2b-ae871464bec9",
   "metadata": {
    "jp-MarkdownHeadingCollapsed": true
   },
   "source": [
    "### Floating point numbers (decimals)"
   ]
  },
  {
   "cell_type": "code",
   "execution_count": 19,
   "id": "3b2f067b-5d76-4f5a-93a1-cf9d52aaf2c5",
   "metadata": {},
   "outputs": [],
   "source": [
    "# Float\n",
    "a = 1.2\n",
    "b = 3.2"
   ]
  },
  {
   "cell_type": "code",
   "execution_count": 20,
   "id": "a56c0446-61a7-4caf-93a1-6fd7936f2a86",
   "metadata": {},
   "outputs": [
    {
     "name": "stdout",
     "output_type": "stream",
     "text": [
      "4.4\n",
      "-2.0\n",
      "3.84\n",
      "0.37499999999999994\n"
     ]
    }
   ],
   "source": [
    "print(a+b)\n",
    "print(a-b)\n",
    "print(a*b)\n",
    "print(a/b)"
   ]
  },
  {
   "cell_type": "code",
   "execution_count": 21,
   "id": "860cd3b4-a128-4e69-a447-2aef9d01722c",
   "metadata": {},
   "outputs": [
    {
     "data": {
      "text/plain": [
       "10"
      ]
     },
     "execution_count": 21,
     "metadata": {},
     "output_type": "execute_result"
    }
   ],
   "source": [
    "2^8"
   ]
  },
  {
   "cell_type": "code",
   "execution_count": 22,
   "id": "3ae68cfe-1332-436b-a812-e4ec4d4075b7",
   "metadata": {},
   "outputs": [
    {
     "data": {
      "text/plain": [
       "256"
      ]
     },
     "execution_count": 22,
     "metadata": {},
     "output_type": "execute_result"
    }
   ],
   "source": [
    "2**8"
   ]
  },
  {
   "cell_type": "markdown",
   "id": "98bdc157-89c9-4508-9d82-50b709c86bc3",
   "metadata": {
    "jp-MarkdownHeadingCollapsed": true
   },
   "source": [
    "### Boolean"
   ]
  },
  {
   "cell_type": "code",
   "execution_count": 23,
   "id": "a492b88b-dfcc-4c29-ab0d-b39d491cdb3f",
   "metadata": {},
   "outputs": [],
   "source": [
    "bool1 = True\n",
    "bool2 = False"
   ]
  },
  {
   "cell_type": "code",
   "execution_count": 130,
   "id": "063cc807-f910-47a7-be36-9f17750727a1",
   "metadata": {},
   "outputs": [
    {
     "name": "stdout",
     "output_type": "stream",
     "text": [
      "True\n",
      "1\n",
      "2\n",
      "0\n",
      "False\n",
      "True\n",
      "False\n"
     ]
    }
   ],
   "source": [
    "print(bool1)\n",
    "print(bool1 + bool2)\n",
    "print(bool1 + bool1)\n",
    "print(bool2 + bool2)\n",
    "print(bool1 and bool2)\n",
    "print(bool1 or bool2)\n",
    "print(not(bool1))"
   ]
  },
  {
   "cell_type": "markdown",
   "id": "6ddefad8-6b7e-4003-bf3c-437da2dff40e",
   "metadata": {
    "jp-MarkdownHeadingCollapsed": true
   },
   "source": [
    "### Bytes, bytearray"
   ]
  },
  {
   "cell_type": "markdown",
   "id": "024ecfe6-68fd-41c4-adfa-667a588df39c",
   "metadata": {},
   "source": [
    "This data type is less intuitive compared to the ones we have discussed so far. <br>\n",
    "In computer science a binary (can only take values 1 or 0) variable is called a bit. <br>\n",
    "(This concept fundamentally emerges from the nature of digital signals wherin an electric wire has a voltage or it doesn't) <br> <br>\n",
    "A group of 8 bits are known as a byte. These 8 bits in a byte can encode 256 unique symbols. Every unique encoding of 8 bit bytes are standardised and defined in the ASCII characterset."
   ]
  },
  {
   "cell_type": "code",
   "execution_count": 25,
   "id": "c1adbf76-9764-4bdb-8edb-c8dd8417ddec",
   "metadata": {},
   "outputs": [],
   "source": [
    "bytes_variable = b\"This is a string of ASCII bytes\"\n",
    "bytes_with_function = bytes('This is also a string of ASCII bytes', encoding='utf-8')"
   ]
  },
  {
   "cell_type": "code",
   "execution_count": 26,
   "id": "4772fc2d-4f7c-41c7-9c19-13fb47ef8dd9",
   "metadata": {},
   "outputs": [],
   "source": [
    "byte_array = bytearray(b\"This is a string of ASCII bytes\")"
   ]
  },
  {
   "cell_type": "code",
   "execution_count": 27,
   "id": "e9c24012-a7fa-485c-85b5-0859338b01e6",
   "metadata": {},
   "outputs": [
    {
     "name": "stdout",
     "output_type": "stream",
     "text": [
      "b'This is a string of ASCII bytes'\n",
      "b'This is also a string of ASCII bytes'\n",
      "bytearray(b'This is a string of ASCII bytes')\n"
     ]
    }
   ],
   "source": [
    "print(bytes_variable)\n",
    "print(bytes_with_function)\n",
    "print(byte_array)"
   ]
  },
  {
   "cell_type": "markdown",
   "id": "992e2e51-5658-4fbc-8399-ff9f8b731554",
   "metadata": {},
   "source": [
    "bytes and bytearray are essentially the same, except for the fact that bytes are immutable (can not be changed once defined) and bytearrays are mutable. <br> <br>\n",
    "However note that bytes and strings are two different data types. <br>\n",
    "To define bytes literals, you can only use ASCII characters. If you need to insert binary values over the 127 characters, then you have to use the appropriate escape sequence. <br> <br>\n",
    "\n",
    "We won't go into any further details on bytes here as they are used only for some specific applications such as cryptography, networking etc."
   ]
  },
  {
   "cell_type": "markdown",
   "id": "52cf7f07-b7af-4088-9c88-16a7d953aad9",
   "metadata": {
    "jp-MarkdownHeadingCollapsed": true
   },
   "source": [
    "### Complex numbers"
   ]
  },
  {
   "cell_type": "code",
   "execution_count": 28,
   "id": "b191f02d-61b4-40e6-b245-040e044f2495",
   "metadata": {},
   "outputs": [],
   "source": [
    "cmplx_num1 = 2 + 3j\n",
    "cmplx_num2 = 4 + 7j"
   ]
  },
  {
   "cell_type": "code",
   "execution_count": 29,
   "id": "bf34ca32-2b8d-4011-b6cb-dada3b1ebccd",
   "metadata": {},
   "outputs": [
    {
     "name": "stdout",
     "output_type": "stream",
     "text": [
      "(6+10j)\n"
     ]
    }
   ],
   "source": [
    "print(cmplx_num1 + cmplx_num2)"
   ]
  },
  {
   "cell_type": "code",
   "execution_count": 30,
   "id": "a84d04ac-0306-48c7-a709-42d049a4d4eb",
   "metadata": {},
   "outputs": [
    {
     "name": "stdout",
     "output_type": "stream",
     "text": [
      "(2+4j)\n"
     ]
    }
   ],
   "source": [
    "print(cmplx_num2 - cmplx_num1)"
   ]
  },
  {
   "cell_type": "code",
   "execution_count": 31,
   "id": "94ddc0fc-e8c8-4995-992e-344863fa74b9",
   "metadata": {},
   "outputs": [
    {
     "name": "stdout",
     "output_type": "stream",
     "text": [
      "(-13+26j)\n"
     ]
    }
   ],
   "source": [
    "print(cmplx_num1 * cmplx_num2)"
   ]
  },
  {
   "cell_type": "code",
   "execution_count": 32,
   "id": "26da3355-5119-40d4-8bc1-77f4581e008b",
   "metadata": {},
   "outputs": [
    {
     "name": "stdout",
     "output_type": "stream",
     "text": [
      "(0.4461538461538461-0.03076923076923078j)\n"
     ]
    }
   ],
   "source": [
    "print(cmplx_num1 / cmplx_num2)"
   ]
  },
  {
   "cell_type": "markdown",
   "id": "07ac7790-6ba4-4ffa-a8ca-fd38eb6cdc58",
   "metadata": {},
   "source": [
    "### To identify the type of a variable use the type() function"
   ]
  },
  {
   "cell_type": "code",
   "execution_count": 34,
   "id": "81ef2b14-7352-4ab2-95e8-e28686cc37af",
   "metadata": {},
   "outputs": [
    {
     "name": "stdout",
     "output_type": "stream",
     "text": [
      "<class 'str'>\n",
      "<class 'int'>\n",
      "<class 'float'>\n",
      "<class 'bool'>\n",
      "<class 'bytes'>\n",
      "<class 'complex'>\n"
     ]
    }
   ],
   "source": [
    "print(type(str1))\n",
    "print(type(int1))\n",
    "print(type(a))\n",
    "print(type(bool1))\n",
    "print(type(bytes_variable))\n",
    "print(type(cmplx_num1))"
   ]
  },
  {
   "cell_type": "markdown",
   "id": "fe95c8db-2382-4844-ad1c-04ff77bbdc03",
   "metadata": {
    "jp-MarkdownHeadingCollapsed": true
   },
   "source": [
    "## Exceptions"
   ]
  },
  {
   "cell_type": "code",
   "execution_count": 336,
   "id": "084b5e26-1079-4aa9-b2b2-db6f2cf23289",
   "metadata": {},
   "outputs": [
    {
     "name": "stdin",
     "output_type": "stream",
     "text": [
      "numerator?  3\n",
      "denominator?  0\n"
     ]
    },
    {
     "name": "stdout",
     "output_type": "stream",
     "text": [
      "Division was not possible. Please try again.\n"
     ]
    }
   ],
   "source": [
    "# Robust code should be able to recover from errors that might arise during run time\n",
    "# For this purpose we have the try and except construct. This allows the program to not stop and continue runnig when an error occurs\n",
    "\n",
    "a = input(\"numerator? \")\n",
    "b = input(\"denominator? \")\n",
    "\n",
    "try:\n",
    "    result = int(a)/int(b)\n",
    "except:\n",
    "    print('Division was not possible. Please try again.')"
   ]
  },
  {
   "cell_type": "code",
   "execution_count": 339,
   "id": "c5665788-6312-435c-941e-bbfb7227055a",
   "metadata": {},
   "outputs": [
    {
     "ename": "ValueError",
     "evalue": "could not convert string to float: 'a'",
     "output_type": "error",
     "traceback": [
      "\u001b[0;31m---------------------------------------------------------------------------\u001b[0m",
      "\u001b[0;31mValueError\u001b[0m                                Traceback (most recent call last)",
      "Cell \u001b[0;32mIn[339], line 1\u001b[0m\n\u001b[0;32m----> 1\u001b[0m \u001b[38;5;28;43mfloat\u001b[39;49m\u001b[43m(\u001b[49m\u001b[38;5;124;43m'\u001b[39;49m\u001b[38;5;124;43ma\u001b[39;49m\u001b[38;5;124;43m'\u001b[39;49m\u001b[43m)\u001b[49m\n",
      "\u001b[0;31mValueError\u001b[0m: could not convert string to float: 'a'"
     ]
    }
   ],
   "source": [
    "float('a')"
   ]
  },
  {
   "cell_type": "code",
   "execution_count": 343,
   "id": "0ffe595c-1260-4dc9-8b60-90f9e8eab900",
   "metadata": {},
   "outputs": [
    {
     "name": "stdin",
     "output_type": "stream",
     "text": [
      "numerator?  'a'\n",
      "denominator?  3\n"
     ]
    },
    {
     "name": "stdout",
     "output_type": "stream",
     "text": [
      "Non numeric inputs. Please enter numeric values for division opertion.\n"
     ]
    }
   ],
   "source": [
    "# We can also catch specific types of errors\n",
    "\n",
    "a = input(\"numerator? \")\n",
    "b = input(\"denominator? \")\n",
    "\n",
    "try:\n",
    "    result = int(a)/int(b)\n",
    "except ZeroDivisionError:\n",
    "    print(\"Denominator can't be zero. Division was not possible.\")\n",
    "except ValueError:\n",
    "    print('Non numeric inputs. Please enter numeric values for division opertion.')"
   ]
  },
  {
   "cell_type": "markdown",
   "id": "18913647-ffda-49f8-a032-87a03b0c559f",
   "metadata": {},
   "source": [
    "## Collections"
   ]
  },
  {
   "cell_type": "markdown",
   "id": "38756409-162e-4e44-97a4-18709312b23f",
   "metadata": {},
   "source": [
    "- List: collection of elements, non homogeneous elements, duplicates allowed, nesting possible, indexing, mutable, iterable\n",
    "- Tuple: collection of elements, non homogeneous elements, duplicates allowed, nesting possible, indexing, immmutable, iterable\n",
    "- Set: collection of elements, non homogeneous elements, no duplicates allowed, nesting possible, non indexed and hence not ordered, mutable, iterable\n",
    "- Dictionary: key value pairs, non homogeneous keys and values, nesting possible, no duplicate keys, unordered, mutable, iterable"
   ]
  },
  {
   "cell_type": "markdown",
   "id": "bb13bd82-db32-4d14-91dd-176165366c70",
   "metadata": {
    "jp-MarkdownHeadingCollapsed": true
   },
   "source": [
    "### Lists\n",
    "Lists are mutable sequences, typically used to store collections of homogeneous items (where the precise degree of similarity will vary by application)"
   ]
  },
  {
   "cell_type": "code",
   "execution_count": 180,
   "id": "f5a2e64c-e41e-4221-8714-cb5d950cbf85",
   "metadata": {},
   "outputs": [],
   "source": [
    "# List using square brackets\n",
    "a = [1, 2, 10, 34]\n",
    "\n",
    "# list using list comprehension\n",
    "b = [i for i in range(10)]\n",
    "\n",
    "# list using type constructor\n",
    "c = list(('a', 'b', '3'))"
   ]
  },
  {
   "cell_type": "code",
   "execution_count": 181,
   "id": "9dc2e246-0e14-4684-b7b6-92dbe0927450",
   "metadata": {},
   "outputs": [
    {
     "name": "stdout",
     "output_type": "stream",
     "text": [
      "[1, 2, 10, 34]\n",
      "[0, 1, 2, 3, 4, 5, 6, 7, 8, 9]\n",
      "['a', 'b', '3']\n"
     ]
    }
   ],
   "source": [
    "print(a)\n",
    "print(b)\n",
    "print(c)"
   ]
  },
  {
   "cell_type": "code",
   "execution_count": 182,
   "id": "b30e3849-c3e9-4edd-abaf-a792503a1bf4",
   "metadata": {},
   "outputs": [
    {
     "name": "stdout",
     "output_type": "stream",
     "text": [
      "<class 'list'>\n",
      "<class 'list'>\n",
      "<class 'list'>\n"
     ]
    }
   ],
   "source": [
    "print(type(a))\n",
    "print(type(b))\n",
    "print(type(c))"
   ]
  },
  {
   "cell_type": "code",
   "execution_count": 183,
   "id": "03a8e159-0d96-4ca4-a26a-71bb711736d1",
   "metadata": {},
   "outputs": [
    {
     "data": {
      "text/plain": [
       "[1, 2, 10, 34, 0, 1, 2, 3, 4, 5, 6, 7, 8, 9]"
      ]
     },
     "execution_count": 183,
     "metadata": {},
     "output_type": "execute_result"
    }
   ],
   "source": [
    "# concatenate lists\n",
    "a + b"
   ]
  },
  {
   "cell_type": "code",
   "execution_count": 184,
   "id": "d8a480ea-e011-4af4-a0d7-bd96876123da",
   "metadata": {},
   "outputs": [
    {
     "data": {
      "text/plain": [
       "[1, 2, 10, 34, 'a', 'b', '3']"
      ]
     },
     "execution_count": 184,
     "metadata": {},
     "output_type": "execute_result"
    }
   ],
   "source": [
    "a + c"
   ]
  },
  {
   "cell_type": "code",
   "execution_count": 194,
   "id": "7e96373b-7165-4e53-922c-80c8ce79a601",
   "metadata": {},
   "outputs": [],
   "source": [
    "a.sort()"
   ]
  },
  {
   "cell_type": "code",
   "execution_count": 206,
   "id": "e92f448a-b9c3-4619-9b95-96cd17c4a405",
   "metadata": {},
   "outputs": [
    {
     "name": "stdout",
     "output_type": "stream",
     "text": [
      "[1, 2, 10, 34]\n",
      "[1, 2, 10, 34]\n",
      "[0, 1, 2, 3, 4, 5, 6, 7, 8, 9]\n",
      "[0, 1, 2, 3, 4, 5, 6, 7, 8, 9]\n",
      "['3', 'a', 'b']\n",
      "['3', 'a', 'b']\n",
      "[1, 2, 10, 34, '3', 'a', 'b']\n",
      "Sorting not possible\n",
      "[1, 2, 10, 34, '3', 'a', 'b']\n"
     ]
    }
   ],
   "source": [
    "# Built in methods\n",
    "print(a)\n",
    "a.sort()\n",
    "print(a)\n",
    "\n",
    "print(b)\n",
    "b.sort()\n",
    "print(b)\n",
    "\n",
    "print(c)\n",
    "c.sort()\n",
    "print(c)\n",
    "\n",
    "# Won't work when items are not similar\n",
    "d = a+c\n",
    "print(d)\n",
    "try:\n",
    "    d.sort()\n",
    "except:\n",
    "    print(\"Sorting not possible\")\n",
    "print(d)"
   ]
  },
  {
   "cell_type": "code",
   "execution_count": 291,
   "id": "5c7725ac-44f2-4d9d-b523-416aae7b22ad",
   "metadata": {},
   "outputs": [],
   "source": [
    "# nesting lists to create a 2 D list (matrix)\n",
    "# note that for mathematical operations we would want to define matrices more efficiently and with proper checks and methods\n",
    "# Such an implementation is a part of the numpy library (coming up later)\n",
    "a = [\n",
    "        [1, 2, 3],\n",
    "        [354, 45, 45],\n",
    "        [1, 4, 6]\n",
    "]"
   ]
  },
  {
   "cell_type": "code",
   "execution_count": 292,
   "id": "276f42f4-8dae-42ae-a2b5-cf524a4aa5b0",
   "metadata": {},
   "outputs": [
    {
     "name": "stdout",
     "output_type": "stream",
     "text": [
      "[[1, 2, 3], [354, 45, 45], [1, 4, 6]]\n"
     ]
    }
   ],
   "source": [
    "print(a)"
   ]
  },
  {
   "cell_type": "code",
   "execution_count": 293,
   "id": "ffcd474f-581f-4a7d-80a6-1c35c955b4d7",
   "metadata": {},
   "outputs": [
    {
     "name": "stdout",
     "output_type": "stream",
     "text": [
      "1\n",
      "2\n",
      "3\n",
      "354\n",
      "45\n",
      "45\n",
      "1\n",
      "4\n",
      "6\n"
     ]
    }
   ],
   "source": [
    "for row in a:\n",
    "    for item in row:\n",
    "        print(item)"
   ]
  },
  {
   "cell_type": "code",
   "execution_count": 298,
   "id": "b52c6ef4-a542-40e9-9f37-e9607dc6ed69",
   "metadata": {},
   "outputs": [],
   "source": [
    "# Unpacking lists into variables\n",
    "# Works with Tuples also\n",
    "\n",
    "coord = [1, 4, 5]\n",
    "\n",
    "x, y, z = coord"
   ]
  },
  {
   "cell_type": "code",
   "execution_count": 299,
   "id": "9c1e1a1f-c49a-42fe-8e00-3e3ec0129b34",
   "metadata": {},
   "outputs": [
    {
     "name": "stdout",
     "output_type": "stream",
     "text": [
      "[1, 4, 5]\n",
      "1\n",
      "4\n",
      "5\n"
     ]
    }
   ],
   "source": [
    "print(coord)\n",
    "print(x)\n",
    "print(y)\n",
    "print(z)"
   ]
  },
  {
   "cell_type": "code",
   "execution_count": 300,
   "id": "1d3e01c1-f591-4c7b-be85-ee9a0970388c",
   "metadata": {},
   "outputs": [
    {
     "name": "stdout",
     "output_type": "stream",
     "text": [
      "Unpackign needs to have the same number of variables as elements\n"
     ]
    }
   ],
   "source": [
    "try:\n",
    "    x, y = coord\n",
    "except:\n",
    "    print(\"Unpackign needs to have the same number of variables as elements\")"
   ]
  },
  {
   "cell_type": "markdown",
   "id": "89d7fbee-2bfa-4681-b1c3-adf32dbf0e23",
   "metadata": {
    "jp-MarkdownHeadingCollapsed": true
   },
   "source": [
    "### Set"
   ]
  },
  {
   "cell_type": "code",
   "execution_count": 279,
   "id": "eb5160e1-4569-406c-9e57-988495907d31",
   "metadata": {},
   "outputs": [],
   "source": [
    "# Set using type constructor\n",
    "a = set([1, 2, 10, 34])\n",
    "\n",
    "\n",
    "b = set([1, 1, 3, 2, 6, 7])"
   ]
  },
  {
   "cell_type": "code",
   "execution_count": 280,
   "id": "1e023aac-53d1-45f4-b2cf-aeaab1aebe64",
   "metadata": {},
   "outputs": [
    {
     "name": "stdout",
     "output_type": "stream",
     "text": [
      "{1, 2, 10, 34}\n",
      "{1, 2, 3, 6, 7}\n"
     ]
    }
   ],
   "source": [
    "print(a)\n",
    "print(b)"
   ]
  },
  {
   "cell_type": "code",
   "execution_count": 281,
   "id": "c12f127b-427a-4d70-a004-dff13c45d904",
   "metadata": {},
   "outputs": [
    {
     "name": "stdout",
     "output_type": "stream",
     "text": [
      "{10, 34}\n",
      "{3, 6, 7}\n",
      "{1, 2, 34, 3, 6, 7, 10}\n",
      "{1, 2}\n",
      "False\n",
      "True\n"
     ]
    }
   ],
   "source": [
    "print(a - b)\n",
    "print(b - a)\n",
    "print(a.union(b))\n",
    "print(a.intersection(b))\n",
    "print(a.issubset(b))\n",
    "print(a.intersection(b).issubset(a))"
   ]
  },
  {
   "cell_type": "markdown",
   "id": "4cad9989-5931-43f5-95f5-67ce00ea10ae",
   "metadata": {
    "jp-MarkdownHeadingCollapsed": true
   },
   "source": [
    "### Tuple"
   ]
  },
  {
   "cell_type": "code",
   "execution_count": 233,
   "id": "a2a73274-0bd7-421e-8c6f-404d21080bda",
   "metadata": {},
   "outputs": [],
   "source": [
    "# Tuple using brackets\n",
    "a = (1, 2, 10, 34)\n",
    "\n",
    "# Tuple using type constructor\n",
    "c = tuple(('a', 'b', '3'))"
   ]
  },
  {
   "cell_type": "code",
   "execution_count": 234,
   "id": "15f84b07-8682-4eaa-bc7b-79b409126a40",
   "metadata": {},
   "outputs": [
    {
     "name": "stdout",
     "output_type": "stream",
     "text": [
      "(1, 2, 10, 34)\n",
      "('a', 'b', '3')\n"
     ]
    }
   ],
   "source": [
    "print(a)\n",
    "print(c)"
   ]
  },
  {
   "cell_type": "code",
   "execution_count": 235,
   "id": "26b4d2e4-b6b2-4ad2-8465-3214dbf0e9ff",
   "metadata": {},
   "outputs": [
    {
     "name": "stdout",
     "output_type": "stream",
     "text": [
      "<class 'tuple'>\n",
      "<class 'tuple'>\n"
     ]
    }
   ],
   "source": [
    "print(type(a))\n",
    "print(type(c))"
   ]
  },
  {
   "cell_type": "code",
   "execution_count": 240,
   "id": "4285c894-7f64-41af-ab9f-87614838a97a",
   "metadata": {},
   "outputs": [
    {
     "data": {
      "text/plain": [
       "(1, 2, 10, 34, 'a', 'b', '3')"
      ]
     },
     "execution_count": 240,
     "metadata": {},
     "output_type": "execute_result"
    }
   ],
   "source": [
    "# concatenate tuples\n",
    "a + c"
   ]
  },
  {
   "cell_type": "code",
   "execution_count": 241,
   "id": "0359efb8-7470-493b-b215-0baee33d2e2b",
   "metadata": {},
   "outputs": [
    {
     "name": "stdout",
     "output_type": "stream",
     "text": [
      "Does not work as tuples are immutable and hence have no method to sort in place\n"
     ]
    }
   ],
   "source": [
    "try:\n",
    "    a.sort()\n",
    "except:\n",
    "    print('Does not work as tuples are immutable and hence have no method to sort in place')"
   ]
  },
  {
   "cell_type": "code",
   "execution_count": 277,
   "id": "3d22ea03-92f8-4505-9568-713d79d96570",
   "metadata": {},
   "outputs": [
    {
     "name": "stdout",
     "output_type": "stream",
     "text": [
      "2\n",
      "Can't index elements that do not exist in the tuple\n"
     ]
    }
   ],
   "source": [
    "print(a.index(10))\n",
    "try:\n",
    "    a.index('a')\n",
    "except:\n",
    "    print(\"Can't index elements that do not exist in the tuple\")"
   ]
  },
  {
   "cell_type": "markdown",
   "id": "6a0e5153-42bf-45da-afad-f5bb56dff036",
   "metadata": {
    "jp-MarkdownHeadingCollapsed": true
   },
   "source": [
    "### Dictionary"
   ]
  },
  {
   "cell_type": "code",
   "execution_count": 326,
   "id": "9b56a15c-5715-4dd9-a954-f49fa0d64a05",
   "metadata": {},
   "outputs": [],
   "source": [
    "dict1 = {1:3, 4:5, 'a':7}"
   ]
  },
  {
   "cell_type": "code",
   "execution_count": 327,
   "id": "1a0c35df-8666-4c4a-94e5-c842066953dc",
   "metadata": {},
   "outputs": [
    {
     "name": "stdout",
     "output_type": "stream",
     "text": [
      "{1: 3, 4: 5, 'a': 7}\n"
     ]
    }
   ],
   "source": [
    "print(dict1)"
   ]
  },
  {
   "cell_type": "code",
   "execution_count": 328,
   "id": "0b4d6b7f-0bf1-4947-a1fa-073cbc46d8c2",
   "metadata": {},
   "outputs": [
    {
     "name": "stdout",
     "output_type": "stream",
     "text": [
      "<class 'dict'>\n"
     ]
    }
   ],
   "source": [
    "print(type(dict1))"
   ]
  },
  {
   "cell_type": "code",
   "execution_count": 333,
   "id": "774b6a1f-3cfe-49e5-9921-e1d8c39381f5",
   "metadata": {},
   "outputs": [
    {
     "name": "stdout",
     "output_type": "stream",
     "text": [
      "3\n",
      "7\n",
      "Can't look up keys that don't exist\n",
      "dict_keys([1, 4, 'a'])\n",
      "dict_values([3, 5, 7])\n",
      "7\n",
      "None\n",
      "key not found\n"
     ]
    }
   ],
   "source": [
    "print(dict1[1])\n",
    "print(dict1['a'])\n",
    "try:\n",
    "    dict1['b']\n",
    "except:\n",
    "    print(\"Can't look up keys that don't exist\")\n",
    "\n",
    "print(dict1.keys())\n",
    "print(dict1.values())\n",
    "print(dict1.get('a'))\n",
    "\n",
    "# We can look up keys that don't exist using get() method of dictionaries\n",
    "print(dict1.get('b'))\n",
    "\n",
    "# The second argument of get can be used as a default return value if the lookup key is not found\n",
    "print(dict1.get('b', 'key not found'))"
   ]
  },
  {
   "cell_type": "markdown",
   "id": "92bf992f-51fc-4a25-b1e4-7bfbd40d0c32",
   "metadata": {
    "jp-MarkdownHeadingCollapsed": true
   },
   "source": [
    "## Some more operations on strings\n",
    "Also introducing the difference between methods and functions"
   ]
  },
  {
   "cell_type": "code",
   "execution_count": 51,
   "id": "5b6d9e56-0327-4b00-ba20-3f45c6f22af9",
   "metadata": {},
   "outputs": [
    {
     "name": "stdout",
     "output_type": "stream",
     "text": [
      "H\n",
      "i\n",
      "Hi! \n",
      "Hi! \n",
      "this is a string.\n",
      ".\n",
      "g\n"
     ]
    }
   ],
   "source": [
    "# Indexing on strings to access characters or obtain substrings\n",
    "a = \"Hi! this is a string.\"\n",
    "\n",
    "# Specific character at a particular position\n",
    "print(a[0])\n",
    "print(a[1])\n",
    "\n",
    "# A Substring with starting and ending position\n",
    "print(a[0:4])\n",
    "\n",
    "# A substring with only ending position\n",
    "print(a[:4])\n",
    "\n",
    "# A substring with only starting position\n",
    "print(a[4:])\n",
    "\n",
    "# Negative number in index\n",
    "print(a[-1])\n",
    "print(a[-2])"
   ]
  },
  {
   "cell_type": "code",
   "execution_count": 68,
   "id": "29daa450-d5a3-4e6f-9e22-20c0dc8ecca5",
   "metadata": {},
   "outputs": [
    {
     "name": "stdout",
     "output_type": "stream",
     "text": [
      "Hi Chaitanya Anand! this is a string. You graduated in 2012 which was 12 years ago\n"
     ]
    }
   ],
   "source": [
    "from datetime import datetime\n",
    "\n",
    "\n",
    "# Formatting strings. An alternative to building strings with the '+' concatenation operator. (More readable code)\n",
    "name = \"Chaitanya Anand\"\n",
    "graduation_year = 2012\n",
    "a = f\"Hi {name}! this is a string. You graduated in {graduation_year} which was {int(datetime.today().strftime('%Y'))-2012} years ago\"\n",
    "\n",
    "print(a)"
   ]
  },
  {
   "cell_type": "code",
   "execution_count": 82,
   "id": "229b8360-58d4-41a7-baf0-b6a34b13081a",
   "metadata": {},
   "outputs": [
    {
     "name": "stdout",
     "output_type": "stream",
     "text": [
      "CHAITANYA ANAND\n",
      "chaitanya anand\n",
      "Chaitanya Anand\n",
      "cHAITANYA aNAND\n",
      "['Chaitanya', 'Anand']\n",
      "['Ch', 'it', 'ny', ' An', 'nd']\n",
      "['Chaitanya ', 'nand']\n",
      "Chaitanya Bnand\n",
      "10\n",
      "0\n",
      "-1\n",
      "2\n"
     ]
    }
   ],
   "source": [
    "# General purpose function len() to calculate the length of a string\n",
    "len(name)\n",
    "# Note that this is a general purpose function. i.e. it is defined independently and not a part of the String object\n",
    "\n",
    "# Built in method for converting cases\n",
    "print(name.upper())\n",
    "print(name.lower())\n",
    "print(name.title())\n",
    "print(name.swapcase())\n",
    "# Note that these are methods built into the string class. Every object of the class string has these inbuilt methods for manipulating them.\n",
    "# There are several other methods built into the string class. To view a list of them simply type the variable name followed by a dot and press tab.\n",
    "# Some of the other methods in the string class of objects are .split(), .replace(), .find() etc.\n",
    "\n",
    "# Built in methods\n",
    "print(name.split())\n",
    "print(name.split('a'))\n",
    "print(name.split('A'))\n",
    "print(name.replace('A', 'B'))\n",
    "print(name.find('A'))\n",
    "print(name.find('Cha'))\n",
    "print(name.find('pha'))\n",
    "print(name.find('a'))"
   ]
  },
  {
   "cell_type": "code",
   "execution_count": 85,
   "id": "29d2768b-73d2-4418-910d-f6b551ac1785",
   "metadata": {},
   "outputs": [
    {
     "name": "stdout",
     "output_type": "stream",
     "text": [
      "True\n",
      "False\n"
     ]
    }
   ],
   "source": [
    "# we can also use the in operator to detect the existance of substrings\n",
    "\n",
    "print('Cha' in name)\n",
    "print('pha' in name)"
   ]
  },
  {
   "cell_type": "markdown",
   "id": "980dd866-45a9-4350-9313-c2b47f076eb2",
   "metadata": {
    "jp-MarkdownHeadingCollapsed": true
   },
   "source": [
    "## Mathematical Operations (the inbuilt math module)"
   ]
  },
  {
   "cell_type": "code",
   "execution_count": 99,
   "id": "a96b833a-054b-4f90-8e8f-f99466edf581",
   "metadata": {},
   "outputs": [
    {
     "name": "stdout",
     "output_type": "stream",
     "text": [
      "2\n",
      "3\n",
      "-0.5139525978344581\n"
     ]
    },
    {
     "data": {
      "text/plain": [
       "1"
      ]
     },
     "execution_count": 99,
     "metadata": {},
     "output_type": "execute_result"
    }
   ],
   "source": [
    "# To import a module\n",
    "import math\n",
    "\n",
    "print(math.floor(2.9))\n",
    "print(math.ceil(2.9))\n",
    "print(math.sin(433))"
   ]
  },
  {
   "cell_type": "markdown",
   "id": "da9adf31-43c0-4499-9d18-6541aa171a28",
   "metadata": {
    "jp-MarkdownHeadingCollapsed": true
   },
   "source": [
    "## Logical operators and Comparison Operators"
   ]
  },
  {
   "cell_type": "code",
   "execution_count": 134,
   "id": "b7f64dea-feae-47f9-80a3-58edf0e37735",
   "metadata": {},
   "outputs": [
    {
     "name": "stdout",
     "output_type": "stream",
     "text": [
      "True\n",
      "True\n",
      "False\n"
     ]
    }
   ],
   "source": [
    "has_good_credit_score = True\n",
    "has_no_criminal_record = True\n",
    "\n",
    "print(has_good_credit_score and has_no_criminal_record)\n",
    "print(has_good_credit_score or has_no_criminal_record)\n",
    "print(has_good_credit_score and not has_no_criminal_record)"
   ]
  },
  {
   "cell_type": "code",
   "execution_count": 135,
   "id": "f8790e5e-8d80-4502-84a0-bfeb3e37d76b",
   "metadata": {},
   "outputs": [
    {
     "name": "stdout",
     "output_type": "stream",
     "text": [
      "False\n",
      "True\n",
      "False\n",
      "False\n",
      "True\n",
      "False\n",
      "True\n"
     ]
    }
   ],
   "source": [
    "a = 10\n",
    "b = 20\n",
    "c = 10\n",
    "\n",
    "print(a == b)\n",
    "print(a ==c)\n",
    "print(a > b)\n",
    "print(a > c)\n",
    "print(a >= c)\n",
    "print(a < c)\n",
    "print(a <= c)"
   ]
  },
  {
   "cell_type": "markdown",
   "id": "869158bb-80a0-4a11-9867-9b971400f9d3",
   "metadata": {
    "jp-MarkdownHeadingCollapsed": true
   },
   "source": [
    "## Bitwise logical operators (Not to be confused with logical operators)"
   ]
  },
  {
   "cell_type": "code",
   "execution_count": 143,
   "id": "4b624d2c-86c6-4633-af0e-34f2f67e4542",
   "metadata": {},
   "outputs": [],
   "source": [
    "a = 11\n",
    "b = 20"
   ]
  },
  {
   "cell_type": "code",
   "execution_count": 151,
   "id": "bc2ab2fc-108b-4b2f-9ccd-fa6942bc7684",
   "metadata": {},
   "outputs": [
    {
     "name": "stdout",
     "output_type": "stream",
     "text": [
      "0\n",
      "31\n",
      "31\n",
      "-21\n",
      "5\n",
      "22\n"
     ]
    }
   ],
   "source": [
    "print(a & b)\n",
    "print(a | b)\n",
    "print(a ^ b)\n",
    "print(~b)\n",
    "print(a >> 1)\n",
    "print(a << 1)"
   ]
  },
  {
   "cell_type": "markdown",
   "id": "7e8e0663-6623-493d-8f37-abde6623d34c",
   "metadata": {
    "jp-MarkdownHeadingCollapsed": true
   },
   "source": [
    "## Conditional statements"
   ]
  },
  {
   "cell_type": "code",
   "execution_count": 133,
   "id": "3b72f9c1-3038-4eb5-821a-fc7792f625ef",
   "metadata": {},
   "outputs": [
    {
     "name": "stdout",
     "output_type": "stream",
     "text": [
      "odd number\n"
     ]
    }
   ],
   "source": [
    "a = 23423\n",
    "\n",
    "if not isinstance(a, int):\n",
    "    print(\"Input is not an integer\")\n",
    "elif a%2 == 0:\n",
    "    print(f\"{a} is divisible by 2\")\n",
    "    print(\"Hence it is an even Number\")\n",
    "else:\n",
    "    print(\"odd number\")\n",
    "    "
   ]
  },
  {
   "cell_type": "markdown",
   "id": "d62a7772-59ba-48c8-af45-7096ec189f92",
   "metadata": {
    "jp-MarkdownHeadingCollapsed": true
   },
   "source": [
    "## Looping constructs"
   ]
  },
  {
   "cell_type": "code",
   "execution_count": 154,
   "id": "9286123a-5af9-460b-a5ff-8fda73457a41",
   "metadata": {},
   "outputs": [
    {
     "name": "stdout",
     "output_type": "stream",
     "text": [
      "incrementing b by 1 new value = 3\n",
      "incrementing b by 1 new value = 4\n",
      "incrementing b by 1 new value = 5\n",
      "incrementing b by 1 new value = 6\n",
      "incrementing b by 1 new value = 7\n",
      "incrementing b by 1 new value = 8\n",
      "incrementing b by 1 new value = 9\n",
      "incrementing b by 1 new value = 10\n",
      "done\n"
     ]
    }
   ],
   "source": [
    "# While loop\n",
    "a = 10\n",
    "b = 2\n",
    "\n",
    "while a > b:\n",
    "    b+=1\n",
    "    print(f\"incrementing b by 1 new value = {b}\")\n",
    "print(\"done\")"
   ]
  },
  {
   "cell_type": "code",
   "execution_count": 158,
   "id": "8794fc64-d8d8-431f-8b4c-165e144e07ef",
   "metadata": {},
   "outputs": [
    {
     "name": "stdout",
     "output_type": "stream",
     "text": [
      "P\n",
      "y\n",
      "t\n",
      "h\n",
      "o\n",
      "n\n",
      "done\n",
      "1\n",
      "2\n",
      "34\n",
      "5\n",
      "done\n",
      "0\n",
      "1\n",
      "2\n",
      "3\n",
      "4\n",
      "5\n",
      "6\n",
      "7\n",
      "8\n",
      "9\n",
      "done\n",
      "5\n",
      "7\n",
      "9\n",
      "done\n"
     ]
    }
   ],
   "source": [
    "# for loop. Loop over a collection (Stings, lists etc.)\n",
    "\n",
    "a = \"Python\"\n",
    "\n",
    "for char in a:\n",
    "    print(char)\n",
    "print(\"done\")\n",
    "\n",
    "num_array = [1, 2, 34, 5]\n",
    "\n",
    "for itm in num_array:\n",
    "    print(itm)\n",
    "print(\"done\")\n",
    "\n",
    "\n",
    "for itm in range(10):\n",
    "    print(itm)\n",
    "print(\"done\")\n",
    "\n",
    "\n",
    "for itm in range(5, 10, 2):\n",
    "    print(itm)\n",
    "print(\"done\")"
   ]
  },
  {
   "cell_type": "markdown",
   "id": "5a9466b6-7049-4fb9-95aa-491bd2a36b44",
   "metadata": {
    "jp-MarkdownHeadingCollapsed": true
   },
   "source": [
    "## Functions"
   ]
  },
  {
   "cell_type": "code",
   "execution_count": 301,
   "id": "5e4e3fb5-9c97-4cc5-a2ba-4b39e3480811",
   "metadata": {},
   "outputs": [],
   "source": [
    "# Function definition.\n",
    "# Has to run before the function can be called\n",
    "def greet():\n",
    "    print(\"Hello world!\")"
   ]
  },
  {
   "cell_type": "code",
   "execution_count": 303,
   "id": "9b4ef199-1984-4580-aedd-c87c6a341ff4",
   "metadata": {},
   "outputs": [
    {
     "name": "stdout",
     "output_type": "stream",
     "text": [
      "Hello world!\n"
     ]
    }
   ],
   "source": [
    "# Calling the defined function\n",
    "greet()"
   ]
  },
  {
   "cell_type": "code",
   "execution_count": 304,
   "id": "3cf01a4e-8321-4998-bdfd-b9ce160761e8",
   "metadata": {},
   "outputs": [],
   "source": [
    "# Function with arguments and return value\n",
    "def add_numbers(x, y):\n",
    "    return x + y"
   ]
  },
  {
   "cell_type": "code",
   "execution_count": 305,
   "id": "49ddd8b0-f97e-4aa3-a36e-acc4955f2340",
   "metadata": {},
   "outputs": [
    {
     "data": {
      "text/plain": [
       "5"
      ]
     },
     "execution_count": 305,
     "metadata": {},
     "output_type": "execute_result"
    }
   ],
   "source": [
    "add_numbers(2, 3)"
   ]
  },
  {
   "cell_type": "code",
   "execution_count": 306,
   "id": "d1938a62-596b-4d42-be8a-031208fafce7",
   "metadata": {},
   "outputs": [],
   "source": [
    "res = add_numbers(4, 5)"
   ]
  },
  {
   "cell_type": "code",
   "execution_count": 307,
   "id": "374bb883-6e62-40b0-984a-404da8416dff",
   "metadata": {},
   "outputs": [
    {
     "name": "stdout",
     "output_type": "stream",
     "text": [
      "9\n"
     ]
    }
   ],
   "source": [
    "print(res)"
   ]
  },
  {
   "cell_type": "code",
   "execution_count": 308,
   "id": "49ec8348-d1a6-4a89-ae84-93fab46cd0bc",
   "metadata": {},
   "outputs": [
    {
     "name": "stdout",
     "output_type": "stream",
     "text": [
      "function defined with required arguments. Gives an error when no or too few arguments are passed\n"
     ]
    }
   ],
   "source": [
    "try:\n",
    "    add_numbers()\n",
    "except:\n",
    "    print('function defined with required arguments. Gives an error when no or incorrect number of arguments are passed')"
   ]
  },
  {
   "cell_type": "code",
   "execution_count": 309,
   "id": "e7c2f578-8604-413c-b023-ae94e1613f02",
   "metadata": {},
   "outputs": [
    {
     "name": "stdout",
     "output_type": "stream",
     "text": [
      "function defined with required arguments. Gives an error when no or too few arguments are passed\n"
     ]
    }
   ],
   "source": [
    "try:\n",
    "    add_numbers(2)\n",
    "except:\n",
    "    print('function defined with required arguments. Gives an error when no or incorrect number of arguments are passed')"
   ]
  },
  {
   "cell_type": "code",
   "execution_count": 311,
   "id": "0caad1d6-3c92-43b3-bb8f-789d8b9390e3",
   "metadata": {},
   "outputs": [
    {
     "name": "stdout",
     "output_type": "stream",
     "text": [
      "function defined with required arguments. Gives an error when no or incorrect number of arguments are passed\n"
     ]
    }
   ],
   "source": [
    "try:\n",
    "    add_numbers(2, 4, 5)\n",
    "except:\n",
    "    print('function defined with required arguments. Gives an error when no or incorrect number of arguments are passed')"
   ]
  },
  {
   "cell_type": "code",
   "execution_count": 312,
   "id": "586f4797-8077-4847-83a7-5db02204ada7",
   "metadata": {},
   "outputs": [],
   "source": [
    "# in order to make arguments optional we can define the function as follows\n",
    "\n",
    "# Function with arguments and return value\n",
    "def add_numbers(x = 0, y = 0):\n",
    "    return x + y"
   ]
  },
  {
   "cell_type": "code",
   "execution_count": 313,
   "id": "5d47b274-bd39-4440-9f12-1fcf3c829766",
   "metadata": {},
   "outputs": [
    {
     "data": {
      "text/plain": [
       "5"
      ]
     },
     "execution_count": 313,
     "metadata": {},
     "output_type": "execute_result"
    }
   ],
   "source": [
    "add_numbers(2, 3)"
   ]
  },
  {
   "cell_type": "code",
   "execution_count": 315,
   "id": "20ec8a1e-1a3c-416c-b57d-540456826c61",
   "metadata": {},
   "outputs": [
    {
     "data": {
      "text/plain": [
       "0"
      ]
     },
     "execution_count": 315,
     "metadata": {},
     "output_type": "execute_result"
    }
   ],
   "source": [
    "# Now calling without arguments does not result in an error\n",
    "add_numbers()"
   ]
  },
  {
   "cell_type": "code",
   "execution_count": 317,
   "id": "1ab498ec-0b89-42ff-8320-59ab68b26f00",
   "metadata": {},
   "outputs": [
    {
     "name": "stdout",
     "output_type": "stream",
     "text": [
      "2\n"
     ]
    }
   ],
   "source": [
    "# Arguments can be passed with named keywords using which the function was defined\n",
    "\n",
    "add_numbers(x = 0, y = 2)"
   ]
  },
  {
   "cell_type": "code",
   "execution_count": 318,
   "id": "0a35bd61-c737-4510-836f-fa2c3f388ad7",
   "metadata": {},
   "outputs": [
    {
     "data": {
      "text/plain": [
       "2"
      ]
     },
     "execution_count": 318,
     "metadata": {},
     "output_type": "execute_result"
    }
   ],
   "source": [
    "# We can also change the order of the arguments if we use keyword arguments\n",
    "add_numbers(y = 0, x = 2)"
   ]
  },
  {
   "cell_type": "code",
   "execution_count": 319,
   "id": "3aa8180d-805a-4a74-ac07-312fdeef8704",
   "metadata": {},
   "outputs": [
    {
     "data": {
      "text/plain": [
       "2"
      ]
     },
     "execution_count": 319,
     "metadata": {},
     "output_type": "execute_result"
    }
   ],
   "source": [
    "# We can pass some arguments as positional and some as keyword\n",
    "add_numbers(0, y = 2)"
   ]
  },
  {
   "cell_type": "code",
   "execution_count": 325,
   "id": "31e03924-2574-4f51-993a-50387c0c675f",
   "metadata": {},
   "outputs": [
    {
     "ename": "SyntaxError",
     "evalue": "positional argument follows keyword argument (992644909.py, line 3)",
     "output_type": "error",
     "traceback": [
      "\u001b[0;36m  Cell \u001b[0;32mIn[325], line 3\u001b[0;36m\u001b[0m\n\u001b[0;31m    add_numbers(x = 0, 2)\u001b[0m\n\u001b[0m                        ^\u001b[0m\n\u001b[0;31mSyntaxError\u001b[0m\u001b[0;31m:\u001b[0m positional argument follows keyword argument\n"
     ]
    }
   ],
   "source": [
    "# However the positional arguments must come before keyword arguments\n",
    "try:\n",
    "    add_numbers(x = 0, 2)\n",
    "except:\n",
    "    print('This results in an error as the named argument is passed before the positional argument')\n",
    "\n",
    "# Also note that try except does not catch syntax errors :("
   ]
  },
  {
   "cell_type": "markdown",
   "id": "9cb55f00-7316-4494-9762-7dd5944ee78e",
   "metadata": {
    "jp-MarkdownHeadingCollapsed": true
   },
   "source": [
    "## Classes and Objects"
   ]
  },
  {
   "cell_type": "code",
   "execution_count": 354,
   "id": "8249a22e-9ccc-48a8-9bee-c503045da7e9",
   "metadata": {},
   "outputs": [],
   "source": [
    "# Classes are a template for creating objects.\n",
    "# A class can contain attributes (i.e. data)\n",
    "# A class can contain methods (i.e. functionality)\n",
    "\n",
    "class Person:\n",
    "    name = \"John\"\n",
    "\n",
    "    def talk(self):\n",
    "        print(f\"Hi! I am {self.name}\")\n",
    "        \n",
    "\n"
   ]
  },
  {
   "cell_type": "code",
   "execution_count": 355,
   "id": "dd020df8-11fc-454c-b7e3-73affda77ac8",
   "metadata": {},
   "outputs": [],
   "source": [
    "# Create an instance (known as an object) of the class defined above\n",
    "p1 = Person()"
   ]
  },
  {
   "cell_type": "code",
   "execution_count": 356,
   "id": "24c397cc-015d-4e81-ad13-44f56c8c7c0d",
   "metadata": {},
   "outputs": [
    {
     "data": {
      "text/plain": [
       "'John'"
      ]
     },
     "execution_count": 356,
     "metadata": {},
     "output_type": "execute_result"
    }
   ],
   "source": [
    "p1.name"
   ]
  },
  {
   "cell_type": "code",
   "execution_count": 357,
   "id": "6be1362f-6944-47c7-b2c1-f75de946a7ae",
   "metadata": {},
   "outputs": [
    {
     "name": "stdout",
     "output_type": "stream",
     "text": [
      "Hi! I am John\n"
     ]
    }
   ],
   "source": [
    "p1.talk()"
   ]
  },
  {
   "cell_type": "code",
   "execution_count": 358,
   "id": "51e475e1-f4f4-42f6-b4e7-63cbffe91bda",
   "metadata": {},
   "outputs": [],
   "source": [
    "# Attributes not defined in the function can be additionally added\n",
    "\n",
    "p1.age = 30"
   ]
  },
  {
   "cell_type": "code",
   "execution_count": 359,
   "id": "0365f41a-03af-4681-9db8-0aeb57caebe6",
   "metadata": {},
   "outputs": [
    {
     "name": "stdout",
     "output_type": "stream",
     "text": [
      "30\n"
     ]
    }
   ],
   "source": [
    "print(p1.age)"
   ]
  },
  {
   "cell_type": "code",
   "execution_count": 389,
   "id": "5b6d4934-790b-441f-bd18-663124ecb829",
   "metadata": {},
   "outputs": [],
   "source": [
    "# A special method known as a class constructor is called everytime a new instance of the class is created\n",
    "\n",
    "class Person:\n",
    "    def __init__(self, name_argument):\n",
    "        self.name = name_argument\n",
    "\n",
    "    def talk(self):\n",
    "        print(f\"Hi! I am {self.name}\")\n",
    "\n",
    "\n",
    "    def meet(self, x = None):\n",
    "        if isinstance(x, Person):\n",
    "            if self == x:\n",
    "                print(\"Argument and calling object is the same person. Meet requires a different instance of the class Person.\")\n",
    "            else:\n",
    "                print(f\"Hi! {x.name}. I am {self.name}. It's nice to meet you!\")\n",
    "        else:\n",
    "            print(\"Argument is missing or is not a person\")\n",
    "        \n",
    "\n"
   ]
  },
  {
   "cell_type": "code",
   "execution_count": 390,
   "id": "a2360c78-0384-45ea-80ec-59f7bffd5425",
   "metadata": {},
   "outputs": [
    {
     "name": "stdout",
     "output_type": "stream",
     "text": [
      "We tried to initialise the class without the required argument\n"
     ]
    }
   ],
   "source": [
    "try:\n",
    "    p1 = Person()\n",
    "except:\n",
    "    print(\"We tried to initialise the class without the required argument\")"
   ]
  },
  {
   "cell_type": "code",
   "execution_count": 391,
   "id": "0054bc7f-32f3-41dc-bfe1-faa6f39b7bff",
   "metadata": {},
   "outputs": [],
   "source": [
    "p1 = Person('John')\n",
    "p2 = Person('Alice')"
   ]
  },
  {
   "cell_type": "code",
   "execution_count": 392,
   "id": "aec77495-5527-4383-b102-1450fb872c8e",
   "metadata": {},
   "outputs": [
    {
     "name": "stdout",
     "output_type": "stream",
     "text": [
      "John\n",
      "Alice\n"
     ]
    }
   ],
   "source": [
    "print(p1.name)\n",
    "print(p2.name)"
   ]
  },
  {
   "cell_type": "code",
   "execution_count": 393,
   "id": "4a610373-7da3-447e-9441-9905a4f7e986",
   "metadata": {},
   "outputs": [
    {
     "name": "stdout",
     "output_type": "stream",
     "text": [
      "Hi! I am John\n",
      "Hi! I am Alice\n"
     ]
    }
   ],
   "source": [
    "p1.talk()\n",
    "p2.talk()"
   ]
  },
  {
   "cell_type": "code",
   "execution_count": 394,
   "id": "ad8ccc84-0d74-411c-9409-bc89a9e11bdd",
   "metadata": {},
   "outputs": [
    {
     "name": "stdout",
     "output_type": "stream",
     "text": [
      "Hi! Alice. I am John. It's nice to meet you!\n",
      "Hi! John. I am Alice. It's nice to meet you!\n",
      "Argument and calling object is the same person. Meet requires a different instance of the class Person.\n",
      "Argument is missing or is not a person\n",
      "Argument is missing or is not a person\n"
     ]
    }
   ],
   "source": [
    "p1.meet(p2)\n",
    "p2.meet(p1)\n",
    "\n",
    "p1.meet(p1)\n",
    "p1.meet()\n",
    "p1.meet(3)"
   ]
  },
  {
   "cell_type": "code",
   "execution_count": 410,
   "id": "caa5a5ca-1c48-4e75-bb2e-807d03c7f017",
   "metadata": {},
   "outputs": [],
   "source": [
    "# Inheritance\n",
    "\n",
    "# We can define subclasses that inherit from parent classes\n",
    "\n",
    "class Teacher(Person):\n",
    "    def __init__(self, name_argument, subject_specialization):\n",
    "        super().__init__(name_argument)\n",
    "        self.profession = \"Teacher\"\n",
    "        self.specialization = subject_specialization\n",
    "\n",
    "class Student(Person):\n",
    "    def __init__(self, name_argument, year):\n",
    "        super().__init__(name_argument)\n",
    "        self.profession = \"Student\"\n",
    "        self.year_of_study = year\n",
    "\n",
    "\n",
    "t1 = Teacher(\"Linda\", \"Physics\")\n",
    "s1 = Student(\"Bob\", 2)"
   ]
  },
  {
   "cell_type": "code",
   "execution_count": 413,
   "id": "9457734c-63b8-4b09-b4c4-27ad1561e964",
   "metadata": {},
   "outputs": [
    {
     "name": "stdout",
     "output_type": "stream",
     "text": [
      "Linda\n",
      "Physics\n",
      "Teacher\n",
      "Bob\n",
      "2\n",
      "Student\n",
      "Hi! Linda. I am Bob. It's nice to meet you!\n"
     ]
    }
   ],
   "source": [
    "print(t1.name)\n",
    "print(t1.specialization)\n",
    "print(t1.profession)\n",
    "print(s1.name)\n",
    "print(s1.year_of_study)\n",
    "print(s1.profession)\n",
    "\n",
    "s1.meet(t1)"
   ]
  },
  {
   "cell_type": "markdown",
   "id": "2d391782-f72d-4b3f-b8cd-a1420412b3f1",
   "metadata": {
    "jp-MarkdownHeadingCollapsed": true
   },
   "source": [
    "## Modules"
   ]
  },
  {
   "cell_type": "code",
   "execution_count": null,
   "id": "d5095bd6-71ad-4dd7-9637-54b8044a278a",
   "metadata": {},
   "outputs": [],
   "source": [
    "# Modules are a way to organize large projects into multiple files\n",
    "# We can define some functionality (functions or classes) in a seperate file and call them using the import statement"
   ]
  },
  {
   "cell_type": "code",
   "execution_count": 414,
   "id": "c458705a-424c-44cb-beb0-6423ab7047c7",
   "metadata": {},
   "outputs": [],
   "source": [
    "# For example consider the following code stored in a file named project_utils.py in the same directory as this code that is calling the module\n",
    "###### project_utils.py\n",
    "# def add_nums(x, y):\n",
    "#     try:\n",
    "#         res = x + y\n",
    "#     except:\n",
    "#         print(\"Operation not possible\")\n",
    "#     return res\n",
    "\n",
    "# def div_nums(x, y):\n",
    "#     try:\n",
    "#         res = x/y\n",
    "#     except:\n",
    "#         print(\"Operation not possible\")\n",
    "#     return res"
   ]
  },
  {
   "cell_type": "code",
   "execution_count": 2,
   "id": "52c2bc16-ffa1-4692-bec8-479c7f693146",
   "metadata": {},
   "outputs": [
    {
     "name": "stdout",
     "output_type": "stream",
     "text": [
      "5\n",
      "Operation not possible\n",
      "None\n"
     ]
    }
   ],
   "source": [
    "# we can import the module as follows\n",
    "import project_utils\n",
    "\n",
    "x = project_utils.add_nums(2, 3)\n",
    "print(x)\n",
    "\n",
    "\n",
    "x = project_utils.div_nums(2, 0)\n",
    "print(x)"
   ]
  },
  {
   "cell_type": "code",
   "execution_count": 4,
   "id": "bea2890d-d1f2-4cce-84aa-a1f79ffea32e",
   "metadata": {},
   "outputs": [
    {
     "name": "stdout",
     "output_type": "stream",
     "text": [
      "5\n",
      "Operation not possible\n",
      "None\n"
     ]
    }
   ],
   "source": [
    "# We can import only specific functions from moduls as follows\n",
    "from project_utils import add_nums\n",
    "\n",
    "print(add_nums(2, 3))\n",
    "print(add_nums('a', 6))"
   ]
  },
  {
   "cell_type": "markdown",
   "id": "6a870a8e-69ae-4a66-84d2-da1985e0bf08",
   "metadata": {
    "jp-MarkdownHeadingCollapsed": true
   },
   "source": [
    "## Packages"
   ]
  },
  {
   "cell_type": "code",
   "execution_count": 5,
   "id": "3f3539a7-7006-4302-843d-3f3f3e69d657",
   "metadata": {},
   "outputs": [],
   "source": [
    "# packages are a further layer of organization of large projects\n",
    "# A package is essentially a folder that contains many modules (each module being a Python file)\n",
    "# In order for a folder to be recognised as a package. It needs to have the __inti__.py file (works without this also, but is good to include)\n",
    "\n",
    "# For example let us create a package in the same folder as this file called example_package.\n",
    "# We shall write two modules module1.py and module2.py in this package\n",
    "\n",
    "import example_package.module1\n",
    "\n"
   ]
  },
  {
   "cell_type": "code",
   "execution_count": 7,
   "id": "42d08657-289e-4f97-a8a0-b4f20e8b2572",
   "metadata": {},
   "outputs": [
    {
     "name": "stdout",
     "output_type": "stream",
     "text": [
      "This function is defined in module 1\n"
     ]
    }
   ],
   "source": [
    "example_package.module1.a_function_from_module1()"
   ]
  },
  {
   "cell_type": "code",
   "execution_count": 10,
   "id": "64bfe626-db12-4926-a2e3-c9ac2304ff3f",
   "metadata": {},
   "outputs": [
    {
     "name": "stdout",
     "output_type": "stream",
     "text": [
      "This results in an error as we did not import module 2 yet\n"
     ]
    }
   ],
   "source": [
    "try:\n",
    "    example_package.module2.a_function_from_module2()\n",
    "except:\n",
    "    print(\"This results in an error as we did not import module 2 yet\")"
   ]
  },
  {
   "cell_type": "code",
   "execution_count": 11,
   "id": "1a1fd1c9-7124-4de3-bd44-45b109a0ef9b",
   "metadata": {},
   "outputs": [
    {
     "name": "stdout",
     "output_type": "stream",
     "text": [
      "This function is defined in module 2\n"
     ]
    }
   ],
   "source": [
    "# We can import and define aliases to make the code more conscise\n",
    "import example_package.module2 as mod2\n",
    "\n",
    "mod2.a_function_from_module2()\n"
   ]
  },
  {
   "cell_type": "markdown",
   "id": "485c862a-b965-4017-911b-723d2561739e",
   "metadata": {
    "jp-MarkdownHeadingCollapsed": true
   },
   "source": [
    "## The Python Standard Library"
   ]
  },
  {
   "cell_type": "markdown",
   "id": "7b95bfb4-6d41-4c5a-bc46-b7b66dbbeba3",
   "metadata": {},
   "source": [
    "https://docs.python.org/3/py-modindex.html"
   ]
  },
  {
   "cell_type": "code",
   "execution_count": 12,
   "id": "ac5d67a5-d13e-4a1a-8031-c4d02c85fe73",
   "metadata": {},
   "outputs": [],
   "source": [
    "# There are many modules that are pre defined with every installation of Python. The above link lists them all with documentation.\n",
    "# Following are some commonly used examples."
   ]
  },
  {
   "cell_type": "code",
   "execution_count": 30,
   "id": "edfd2de5-c039-46a4-91bc-64e7719ea36f",
   "metadata": {},
   "outputs": [
    {
     "name": "stdout",
     "output_type": "stream",
     "text": [
      "0.29352207551242926\n",
      "91\n",
      "Alice\n"
     ]
    }
   ],
   "source": [
    "import random\n",
    "\n",
    "# Random number between 0 and 1\n",
    "print(random.random())\n",
    "\n",
    "# Random integer between an upper and lower limit (inclusive limits)\n",
    "print(random.randint(0, 100))\n",
    "\n",
    "# Choose between elements of a list at random\n",
    "print(random.choice(['Chaitanya', 'Bob', 'Alice']))"
   ]
  },
  {
   "cell_type": "code",
   "execution_count": 55,
   "id": "6a7d88b2-9575-4801-ad7a-1008d7f0b002",
   "metadata": {},
   "outputs": [
    {
     "name": "stdout",
     "output_type": "stream",
     "text": [
      "/Users/canand/Documents/Code/learning/Python\n",
      "\n",
      "List files in the directory:\n",
      "---------------------------------------------------\n",
      "tensor_flow_basics.ipynb\n",
      "numpy_basics.ipynb\n",
      "pytorch_basics.ipynb\n",
      "project_utils.py\n",
      "pandas_basics.ipynb\n",
      ".ipynb_checkpoints\n",
      "py_basics.ipynb\n",
      "working_with_json_in_python.ipynb\n",
      "\n",
      "List files and directories in the directory:\n",
      "---------------------------------------------------\n",
      "tensor_flow_basics.ipynb\n",
      "numpy_basics.ipynb\n",
      "pytorch_basics.ipynb\n",
      "project_utils.py\n",
      "__pycache__\n",
      "pandas_basics.ipynb\n",
      "example_package\n",
      ".ipynb_checkpoints\n",
      "py_basics.ipynb\n",
      "working_with_json_in_python.ipynb\n",
      "\n",
      "List jupyter notebooks in the directory:\n",
      "---------------------------------------------------\n",
      "tensor_flow_basics.ipynb\n",
      "numpy_basics.ipynb\n",
      "pytorch_basics.ipynb\n",
      "pandas_basics.ipynb\n",
      "py_basics.ipynb\n",
      "working_with_json_in_python.ipynb\n",
      "/Users/canand/Documents/Code/learning/Python/test_folder1\n",
      "False\n",
      "True\n",
      "False\n",
      "test_folder1\n",
      "False\n",
      "True\n",
      "False\n"
     ]
    }
   ],
   "source": [
    "# Note that Path has Capital P indicating it is a class\n",
    "from pathlib import Path\n",
    "\n",
    "# Initialise an object. Without argument by default initialises the working directory\n",
    "path = Path()\n",
    "\n",
    "# Current directory pointed by the object path\n",
    "print(path.cwd())\n",
    "\n",
    "# List files in the directory\n",
    "print(\"\\nList files in the directory:\\n---------------------------------------------------\")\n",
    "for file in path.glob(\"*.*\"):\n",
    "    print(file)\n",
    "\n",
    "# List files and directories in the directory\n",
    "print(\"\\nList files and directories in the directory:\\n---------------------------------------------------\")\n",
    "for file in path.glob(\"*\"):\n",
    "    print(file)\n",
    "\n",
    "\n",
    "# List jupyter notebooks in the directory\n",
    "print(\"\\nList jupyter notebooks in the directory:\\n---------------------------------------------------\")\n",
    "for file in path.glob(\"*.ipynb\"):\n",
    "    print(file)\n",
    "\n",
    "############################ Point to a directory other than working directory\n",
    "\n",
    "########## absolute path\n",
    "path = Path(\"/Users/canand/Documents/Code/learning/Python/test_folder1\")\n",
    "\n",
    "print(path)\n",
    "\n",
    "# The directory indicated byn the path does not exist\n",
    "print(path.exists())\n",
    "\n",
    "# Create the directory\n",
    "path.mkdir()\n",
    "\n",
    "# Now it exists\n",
    "print(path.exists())\n",
    "\n",
    "# Create the directory\n",
    "path.rmdir()\n",
    "\n",
    "# Now again it does not exist\n",
    "print(path.exists())\n",
    "\n",
    "\n",
    "########## relative path (all the same operations)\n",
    "\n",
    "path = Path(\"test_folder1\")\n",
    "\n",
    "print(path)\n",
    "\n",
    "# The directory indicated byn the path does not exist\n",
    "print(path.exists())\n",
    "\n",
    "# Create the directory\n",
    "path.mkdir()\n",
    "\n",
    "# Now it exists\n",
    "print(path.exists())\n",
    "\n",
    "# Create the directory\n",
    "path.rmdir()\n",
    "\n",
    "# Now again it does not exist\n",
    "print(path.exists())"
   ]
  },
  {
   "cell_type": "markdown",
   "id": "996b8267-d6a8-43e2-994e-bc4c5f9e94f5",
   "metadata": {},
   "source": [
    "## PyPI and pip"
   ]
  },
  {
   "cell_type": "markdown",
   "id": "033b22a2-15a8-4e76-854a-85fff6d27d87",
   "metadata": {},
   "source": [
    "PyPI is a library of packages developed by third party developers that can be installed and used in our projects <br>\n",
    "https://pypi.org/"
   ]
  },
  {
   "cell_type": "markdown",
   "id": "7a01e5f4-da0f-41f3-b39d-f878b168a4b1",
   "metadata": {},
   "source": [
    "pip is the most popular tool for installing Python packages, and the one included with modern versions of Python.\n",
    "It provides the essential core features for finding, downloading, and installing packages from PyPI and other Python package indexes"
   ]
  },
  {
   "cell_type": "markdown",
   "id": "5a8bf79f-c76c-410b-9ed6-e8a68e2e2de1",
   "metadata": {},
   "source": [
    "Some useful packages are numpy, scipy, sklearn, pandas, matplotlib tensorflow etc."
   ]
  },
  {
   "cell_type": "markdown",
   "id": "5084e884-8d12-42f6-8299-fa431fa9a22b",
   "metadata": {},
   "source": [
    "## *** End of file ***"
   ]
  },
  {
   "cell_type": "code",
   "execution_count": null,
   "id": "3c114b0e-5581-4fde-998b-9f38a1228c98",
   "metadata": {},
   "outputs": [],
   "source": []
  },
  {
   "cell_type": "code",
   "execution_count": null,
   "id": "bd22d7ec-59d3-443e-9c71-315a737a149f",
   "metadata": {},
   "outputs": [],
   "source": []
  },
  {
   "cell_type": "code",
   "execution_count": null,
   "id": "927293aa-97af-47a6-bb12-bb4083664292",
   "metadata": {},
   "outputs": [],
   "source": []
  },
  {
   "cell_type": "code",
   "execution_count": null,
   "id": "87b64c33-5202-42c1-ba3e-59476dea3ccf",
   "metadata": {},
   "outputs": [],
   "source": []
  }
 ],
 "metadata": {
  "kernelspec": {
   "display_name": "Python 3 (ipykernel)",
   "language": "python",
   "name": "python3"
  },
  "language_info": {
   "codemirror_mode": {
    "name": "ipython",
    "version": 3
   },
   "file_extension": ".py",
   "mimetype": "text/x-python",
   "name": "python",
   "nbconvert_exporter": "python",
   "pygments_lexer": "ipython3",
   "version": "3.9.19"
  }
 },
 "nbformat": 4,
 "nbformat_minor": 5
}
