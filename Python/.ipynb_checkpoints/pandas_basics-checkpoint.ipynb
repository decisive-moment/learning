{
 "cells": [
  {
   "cell_type": "markdown",
   "id": "970a05d8-5b8e-4344-9c7f-aa2198268ab2",
   "metadata": {},
   "source": [
    "# Basics of Pandas Library"
   ]
  },
  {
   "cell_type": "code",
   "execution_count": 238,
   "id": "6d2ef2e1-4433-4dbb-a997-6052377f9605",
   "metadata": {},
   "outputs": [],
   "source": [
    "import pandas as pd"
   ]
  },
  {
   "cell_type": "markdown",
   "id": "2ae5df86-3cfd-4866-a67d-c759ecf07614",
   "metadata": {},
   "source": [
    "Pandas is a library for working with tabular data (with rows and columns).<br>\n",
    "It contains functionality to import, explore, clean and process tabular data. <br>\n",
    "In Pandas, a table is called a DataFrame <br>\n",
    "The DataFrame is made up of several Series which are 1 dimensional homogenously-typed arrays\n",
    "\n",
    "In Pandas, the Index, Series and the DataFrame form the primary data structures."
   ]
  },
  {
   "cell_type": "markdown",
   "id": "eda228e0-8521-4d35-9cfe-4181ac0abc92",
   "metadata": {
    "jp-MarkdownHeadingCollapsed": true
   },
   "source": [
    "## User defined function to mimic R functionality"
   ]
  },
  {
   "cell_type": "code",
   "execution_count": 239,
   "id": "11bd0077-2fb4-4f0f-8fe0-ca602c4c4e04",
   "metadata": {},
   "outputs": [],
   "source": [
    "def glimpse(df):\n",
    "    \"\"\"\n",
    "    Display a concise summary of a DataFrame similar to glimpse() in R.\n",
    "    \n",
    "    Parameters:\n",
    "    - df: pandas DataFrame\n",
    "    \n",
    "    Returns:\n",
    "    - None\n",
    "    \"\"\"\n",
    "    # Display the number of rows and columns\n",
    "    print(\"Rows: {}\\nColumns: {}\".format(df.shape[0], df.shape[1]))\n",
    "    \n",
    "    # Intended behavior: Display column names, data types and first few values of each column\n",
    "    # A line should span exactly 80 characters <to do>\n",
    "    \n",
    "    # Building the output string in this variable\n",
    "    res = \"<empty data frame>\" if len(df.columns) == 0 else \"\"\n",
    "    # String length of the column name with the longest name\n",
    "    spaces = 1 if len(df.columns) == 0 else len(max(df.columns, key=len))\n",
    "    # datatypes of the columns in the dataframe\n",
    "    dtypes_array = []\n",
    "    for dtype in df.dtypes:\n",
    "        dtypes_array = dtypes_array + [str(dtype)]\n",
    "    # String length of the dtype neme with the longest name\n",
    "    spaces2 = 1 if len(dtypes_array) == 0 else len(max(dtypes_array, key = len))\n",
    "    # Build the output string for each column in a loop\n",
    "    for col in df.columns:\n",
    "        res = res + (\"$ \" + col + \":\")\n",
    "        # for value in df[col].head(n = 80):\n",
    "        #     example_values += str(value) + ', '\n",
    "        example_values = ', '.join(str(x) for x in df[col].head(n = 80))\n",
    "        res = res + ' '*(spaces - len(col) + 2) + \"<\" + str(df[col].dtype) + \">\" + ' ' * (spaces2 - len(str(df[col].dtype)) + 2) + example_values[0:77 - spaces - spaces2] + (\"...\" if len(example_values) >= 80 else \"\") + '\\n'\n",
    "    print(res)"
   ]
  },
  {
   "cell_type": "markdown",
   "id": "c497c9e6-5d5c-492b-850e-27ba59f57543",
   "metadata": {
    "jp-MarkdownHeadingCollapsed": true
   },
   "source": [
    "## Creating a pandas index object (building blocks of a dataframe)"
   ]
  },
  {
   "cell_type": "code",
   "execution_count": 271,
   "id": "c0eb948f-6982-4c79-babe-9aecc0c42c9e",
   "metadata": {},
   "outputs": [
    {
     "data": {
      "text/plain": [
       "Index(['v1', 'v2', 'v3'], dtype='object')"
      ]
     },
     "execution_count": 271,
     "metadata": {},
     "output_type": "execute_result"
    }
   ],
   "source": [
    "ind1 = pd.Index(['v1', 'v2', 'v3'])\n",
    "ind1"
   ]
  },
  {
   "cell_type": "code",
   "execution_count": 272,
   "id": "65c0d41d-389b-4ba5-9d44-edab85c8c548",
   "metadata": {},
   "outputs": [
    {
     "data": {
      "text/plain": [
       "Index([1, 2, 3], dtype='int64')"
      ]
     },
     "execution_count": 272,
     "metadata": {},
     "output_type": "execute_result"
    }
   ],
   "source": [
    "ind2 = pd.Index([1, 2, 3])\n",
    "ind2"
   ]
  },
  {
   "cell_type": "code",
   "execution_count": 273,
   "id": "f83f937f-93ee-46bd-85e5-b3ad22d1aef7",
   "metadata": {},
   "outputs": [
    {
     "data": {
      "text/plain": [
       "<NumpyExtensionArray>\n",
       "['v1', 'v2', 'v3']\n",
       "Length: 3, dtype: object"
      ]
     },
     "execution_count": 273,
     "metadata": {},
     "output_type": "execute_result"
    }
   ],
   "source": [
    "# Get the actual values inside an index object using \n",
    "ind1.array"
   ]
  },
  {
   "cell_type": "code",
   "execution_count": 292,
   "id": "0881712a-d1bd-4e07-bbca-42f0c9d2f256",
   "metadata": {},
   "outputs": [],
   "source": [
    "arrays = [[1, 1, 2, 2], ['red', 'blue', 'red', 'blue']]\n",
    "mul_ind1 = pd.MultiIndex.from_arrays(arrays, names=('number', 'color'))\n",
    "# MultiIndex([(1,  'red'),\n",
    "#             (1, 'blue'),\n",
    "#             (2,  'red'),\n",
    "#             (2, 'blue')],\n",
    "#            names=['number', 'color'])"
   ]
  },
  {
   "cell_type": "code",
   "execution_count": 298,
   "id": "671951b6-e3b6-42ab-89b6-7f23fe8e3fd6",
   "metadata": {},
   "outputs": [
    {
     "data": {
      "text/plain": [
       "FrozenList([[1, 2], ['blue', 'red']])"
      ]
     },
     "execution_count": 298,
     "metadata": {},
     "output_type": "execute_result"
    }
   ],
   "source": [
    "mul_ind1.levels"
   ]
  },
  {
   "cell_type": "code",
   "execution_count": 294,
   "id": "f6317ec3-68c4-4648-8e6f-d0b0da487eec",
   "metadata": {},
   "outputs": [
    {
     "data": {
      "text/plain": [
       "FrozenList([[0, 0, 1, 1], [1, 0, 1, 0]])"
      ]
     },
     "execution_count": 294,
     "metadata": {},
     "output_type": "execute_result"
    }
   ],
   "source": [
    "mul_ind1.codes"
   ]
  },
  {
   "cell_type": "code",
   "execution_count": 307,
   "id": "4ef4fd83-2bbb-4fce-932f-96c822f60141",
   "metadata": {},
   "outputs": [
    {
     "data": {
      "text/plain": [
       "MultiIndex([(1,  'red'),\n",
       "            (1, 'blue'),\n",
       "            (2,  'red'),\n",
       "            (2, 'blue')],\n",
       "           )"
      ]
     },
     "execution_count": 307,
     "metadata": {},
     "output_type": "execute_result"
    }
   ],
   "source": [
    "mul_ind1 = pd.MultiIndex(levels=[[1, 2], ['blue', 'red']],\n",
    "                         codes=[[0, 0, 1, 1], [1, 0, 1, 0]])\n",
    "\n",
    "mul_ind1"
   ]
  },
  {
   "cell_type": "code",
   "execution_count": 308,
   "id": "0b67b080-51ad-4ba0-b66e-e650e5ad2641",
   "metadata": {},
   "outputs": [
    {
     "data": {
      "text/plain": [
       "MultiIndex([( 'Animals', 'individual_count'),\n",
       "            ( 'Animals',    'species_count'),\n",
       "            (  'Plants', 'individual_count'),\n",
       "            (  'Plants',    'species_count'),\n",
       "            ('Microbes', 'individual_count'),\n",
       "            ('Microbes',    'species_count')],\n",
       "           )"
      ]
     },
     "execution_count": 308,
     "metadata": {},
     "output_type": "execute_result"
    }
   ],
   "source": [
    "mul_ind2 = pd.MultiIndex(levels=[['Animals', 'Plants', 'Microbes'], ['species_count', 'individual_count']],\n",
    "                         codes=[[0, 0, 1, 1, 2, 2], [1, 0, 1, 0, 1, 0]])\n",
    "\n",
    "mul_ind2"
   ]
  },
  {
   "cell_type": "code",
   "execution_count": 309,
   "id": "6650672c-1246-44be-ab2e-8b1cf63b9145",
   "metadata": {},
   "outputs": [
    {
     "data": {
      "text/plain": [
       "MultiIndex([( 'Animals',       'mammals'),\n",
       "            ( 'Animals',      'reptiles'),\n",
       "            (  'Plants',     'flowering'),\n",
       "            (  'Plants', 'non_flowering'),\n",
       "            ('Microbes',      'bacteria'),\n",
       "            ('Microbes',         'virus')],\n",
       "           )"
      ]
     },
     "execution_count": 309,
     "metadata": {},
     "output_type": "execute_result"
    }
   ],
   "source": [
    "mul_ind3 = pd.MultiIndex(levels=[['Animals', 'Plants', 'Microbes'], ['mammals', 'reptiles', 'flowering', 'non_flowering', 'bacteria', 'virus']],\n",
    "                         codes=[[0, 0, 1, 1, 2, 2], [0, 1, 2, 3, 4, 5]])\n",
    "mul_ind3"
   ]
  },
  {
   "cell_type": "code",
   "execution_count": 314,
   "id": "46230bbf-8d7d-4e62-b1c2-457abf0758c8",
   "metadata": {},
   "outputs": [
    {
     "data": {
      "text/plain": [
       "MultiIndex([( 'Animals',       'mammals',  'land'),\n",
       "            ( 'Animals',      'reptiles', 'water'),\n",
       "            (  'Plants',     'flowering',  'land'),\n",
       "            (  'Plants', 'non_flowering', 'water'),\n",
       "            ('Microbes',      'bacteria',     nan),\n",
       "            ('Microbes',         'virus',     nan)],\n",
       "           )"
      ]
     },
     "execution_count": 314,
     "metadata": {},
     "output_type": "execute_result"
    }
   ],
   "source": [
    "mul_ind4 = pd.MultiIndex(levels=[['Animals', 'Plants', 'Microbes'], ['mammals', 'reptiles', 'flowering', 'non_flowering', 'bacteria', 'virus'], ['land', 'water', None]],\n",
    "                         codes=[[0, 0, 1, 1, 2, 2], [0, 1, 2, 3, 4, 5], [0, 1, 0, 1, 2, 2]])\n",
    "mul_ind4"
   ]
  },
  {
   "cell_type": "code",
   "execution_count": 318,
   "id": "32534a5b-bf70-41a6-bd39-7c7eaf6c1c3d",
   "metadata": {},
   "outputs": [],
   "source": [
    "# # there are helper functions built into the MultiIndex object to make it easier to specify them\n",
    "# pd.MultiIndex.from_arrays()\n",
    "# pd.MultiIndex.from_product()\n",
    "# pd.MultiIndex.from_tuples()\n",
    "# pd.MultiIndex.from_frame()"
   ]
  },
  {
   "cell_type": "code",
   "execution_count": 327,
   "id": "8b7f465d-030e-4353-b0de-61fc423df616",
   "metadata": {},
   "outputs": [
    {
     "data": {
      "text/plain": [
       "MultiIndex([(1,  'red'),\n",
       "            (1, 'blue'),\n",
       "            (2,  'red'),\n",
       "            (2, 'blue')],\n",
       "           names=['serial_no', 'color'])"
      ]
     },
     "execution_count": 327,
     "metadata": {},
     "output_type": "execute_result"
    }
   ],
   "source": [
    "my_array= [[1, 1, 2, 2], ['red', 'blue', 'red', 'blue']]\n",
    "mul_ind1 = pd.MultiIndex.from_arrays(arrays=my_array, names=[\"serial_no\", \"color\"])\n",
    "mul_ind1"
   ]
  },
  {
   "cell_type": "markdown",
   "id": "70d8c59f-9385-4a39-bdcf-5dd362817c9b",
   "metadata": {
    "jp-MarkdownHeadingCollapsed": true
   },
   "source": [
    "## Creating a pandas series (building blocks of a dataframe)"
   ]
  },
  {
   "cell_type": "code",
   "execution_count": 328,
   "id": "03e7de74-41ee-48b0-aa8a-e52d885ad3c4",
   "metadata": {},
   "outputs": [
    {
     "name": "stdout",
     "output_type": "stream",
     "text": [
      "Create an empty series:\n",
      "Series([], dtype: object)\n",
      "\n",
      "\n",
      "Create a series using a pyhton list:\n",
      "0     200\n",
      "1    4565\n",
      "2     343\n",
      "dtype: int64\n"
     ]
    }
   ],
   "source": [
    "# Create an empty series\n",
    "print(\"Create an empty series:\")\n",
    "ser = pd.Series()\n",
    "print(ser)\n",
    "\n",
    "# Create a series using a pyhton list\n",
    "print(\"\\n\\nCreate a series using a pyhton list:\")\n",
    "ser2 = pd.Series([200, 4565, 343])\n",
    "print(ser2)"
   ]
  },
  {
   "cell_type": "code",
   "execution_count": 329,
   "id": "4a513cf6-f836-4288-ae85-6eb5f92d1eb4",
   "metadata": {},
   "outputs": [
    {
     "data": {
      "text/plain": [
       "RangeIndex(start=0, stop=3, step=1)"
      ]
     },
     "execution_count": 329,
     "metadata": {},
     "output_type": "execute_result"
    }
   ],
   "source": [
    "ser2.index"
   ]
  },
  {
   "cell_type": "code",
   "execution_count": 330,
   "id": "dad82e83-10c5-4a3c-8114-df6bcfb01dd5",
   "metadata": {},
   "outputs": [],
   "source": [
    "ser2.index = ind1"
   ]
  },
  {
   "cell_type": "code",
   "execution_count": 331,
   "id": "d2007150-23a7-48f4-8b2f-06214f4d490f",
   "metadata": {},
   "outputs": [
    {
     "data": {
      "text/plain": [
       "v1     200\n",
       "v2    4565\n",
       "v3     343\n",
       "dtype: int64"
      ]
     },
     "execution_count": 331,
     "metadata": {},
     "output_type": "execute_result"
    }
   ],
   "source": [
    "ser2"
   ]
  },
  {
   "cell_type": "code",
   "execution_count": 335,
   "id": "e2da2320-92f4-43b4-a7f5-60fc0e98ef31",
   "metadata": {},
   "outputs": [],
   "source": [
    "ser3 = pd.Series([200, 4565, 343, 345])"
   ]
  },
  {
   "cell_type": "code",
   "execution_count": 336,
   "id": "2c4ab784-9d83-411f-abf4-7520d5692a68",
   "metadata": {},
   "outputs": [],
   "source": [
    "ser3.index = mul_ind1"
   ]
  },
  {
   "cell_type": "code",
   "execution_count": 337,
   "id": "0fe4dc05-dccc-45d8-bcfb-ff1c02031047",
   "metadata": {},
   "outputs": [
    {
     "data": {
      "text/plain": [
       "serial_no  color\n",
       "1          red       200\n",
       "           blue     4565\n",
       "2          red       343\n",
       "           blue      345\n",
       "dtype: int64"
      ]
     },
     "execution_count": 337,
     "metadata": {},
     "output_type": "execute_result"
    }
   ],
   "source": [
    "ser3"
   ]
  },
  {
   "cell_type": "code",
   "execution_count": 338,
   "id": "4d9e98c7-e795-4860-b4df-c6fe5d2ba4aa",
   "metadata": {},
   "outputs": [
    {
     "data": {
      "text/plain": [
       "np.int64(4565)"
      ]
     },
     "execution_count": 338,
     "metadata": {},
     "output_type": "execute_result"
    }
   ],
   "source": [
    "ser2[2]"
   ]
  },
  {
   "cell_type": "markdown",
   "id": "c2a40927-e886-4195-9531-9bce96a60978",
   "metadata": {
    "jp-MarkdownHeadingCollapsed": true
   },
   "source": [
    "## creating a dataframe using series"
   ]
  },
  {
   "cell_type": "code",
   "execution_count": 383,
   "id": "7da7b254-6224-4a5d-8cc8-3ef0198f38cf",
   "metadata": {},
   "outputs": [],
   "source": [
    "# Pandas DataFrames can be constructed using a list of Series objects (won't have column names)\n",
    "# or usinf a dictionary of Series objects (to specify column names)"
   ]
  },
  {
   "cell_type": "code",
   "execution_count": 384,
   "id": "7e7e6eb5-7a47-47e9-ab5d-dde50cb01a42",
   "metadata": {},
   "outputs": [],
   "source": [
    "ser1 = pd.Series(['a', 'b', 'c'])\n",
    "ser2 = pd.Series([200, 4565, 343])\n",
    "ser3 = pd.Series([1.2, 4.5, 3.6])\n"
   ]
  },
  {
   "cell_type": "code",
   "execution_count": 385,
   "id": "c7aec858-c5c8-4dee-98e4-6929e7118ddd",
   "metadata": {},
   "outputs": [
    {
     "data": {
      "text/plain": [
       "0    a\n",
       "1    b\n",
       "2    c\n",
       "dtype: object"
      ]
     },
     "execution_count": 385,
     "metadata": {},
     "output_type": "execute_result"
    }
   ],
   "source": [
    "ser1"
   ]
  },
  {
   "cell_type": "code",
   "execution_count": 386,
   "id": "732ca3bf-2740-4e75-8285-ff04487a50ed",
   "metadata": {},
   "outputs": [
    {
     "data": {
      "text/plain": [
       "0     200\n",
       "1    4565\n",
       "2     343\n",
       "dtype: int64"
      ]
     },
     "execution_count": 386,
     "metadata": {},
     "output_type": "execute_result"
    }
   ],
   "source": [
    "ser2"
   ]
  },
  {
   "cell_type": "code",
   "execution_count": 387,
   "id": "842f076d-b14d-4fe4-95cf-bba2cf4d7f65",
   "metadata": {},
   "outputs": [
    {
     "data": {
      "text/plain": [
       "0    1.2\n",
       "1    4.5\n",
       "2    3.6\n",
       "dtype: float64"
      ]
     },
     "execution_count": 387,
     "metadata": {},
     "output_type": "execute_result"
    }
   ],
   "source": [
    "ser3"
   ]
  },
  {
   "cell_type": "code",
   "execution_count": 398,
   "id": "b1922164-8017-4e2a-a1a9-cb2d71cfe5d3",
   "metadata": {},
   "outputs": [
    {
     "name": "stdout",
     "output_type": "stream",
     "text": [
      "     0     1    2\n",
      "0    a     b    c\n",
      "1  200  4565  343\n",
      "2  1.2   4.5  3.6\n",
      "   0     1    2\n",
      "0  a   200  1.2\n",
      "1  b  4565  4.5\n",
      "2  c   343  3.6\n"
     ]
    }
   ],
   "source": [
    "# Note the transposed nature of the resulting dataframe\n",
    "print(pd.DataFrame([ser1,\n",
    "              ser2,\n",
    "              ser3]))\n",
    "\n",
    "print(pd.DataFrame([ser1,\n",
    "              ser2,\n",
    "              ser3]).transpose())"
   ]
  },
  {
   "cell_type": "code",
   "execution_count": 369,
   "id": "d6c1bf28-841c-44a3-b5d5-017dfc682083",
   "metadata": {},
   "outputs": [
    {
     "data": {
      "text/html": [
       "<div>\n",
       "<style scoped>\n",
       "    .dataframe tbody tr th:only-of-type {\n",
       "        vertical-align: middle;\n",
       "    }\n",
       "\n",
       "    .dataframe tbody tr th {\n",
       "        vertical-align: top;\n",
       "    }\n",
       "\n",
       "    .dataframe thead th {\n",
       "        text-align: right;\n",
       "    }\n",
       "</style>\n",
       "<table border=\"1\" class=\"dataframe\">\n",
       "  <thead>\n",
       "    <tr style=\"text-align: right;\">\n",
       "      <th></th>\n",
       "      <th>col1</th>\n",
       "      <th>col2</th>\n",
       "      <th>col3</th>\n",
       "    </tr>\n",
       "  </thead>\n",
       "  <tbody>\n",
       "    <tr>\n",
       "      <th>0</th>\n",
       "      <td>a</td>\n",
       "      <td>200</td>\n",
       "      <td>1.2</td>\n",
       "    </tr>\n",
       "    <tr>\n",
       "      <th>1</th>\n",
       "      <td>b</td>\n",
       "      <td>4565</td>\n",
       "      <td>4.5</td>\n",
       "    </tr>\n",
       "    <tr>\n",
       "      <th>2</th>\n",
       "      <td>c</td>\n",
       "      <td>343</td>\n",
       "      <td>3.6</td>\n",
       "    </tr>\n",
       "  </tbody>\n",
       "</table>\n",
       "</div>"
      ],
      "text/plain": [
       "  col1  col2  col3\n",
       "0    a   200   1.2\n",
       "1    b  4565   4.5\n",
       "2    c   343   3.6"
      ]
     },
     "execution_count": 369,
     "metadata": {},
     "output_type": "execute_result"
    }
   ],
   "source": [
    "pd.DataFrame({'col1': ser1,\n",
    "              'col2': ser2,\n",
    "              'col3': ser3})"
   ]
  },
  {
   "cell_type": "code",
   "execution_count": 400,
   "id": "0d621348-ec10-45da-b8ee-24dea00fd570",
   "metadata": {},
   "outputs": [],
   "source": [
    "ser1 = pd.Series(['a', 'b', 'c'], name = \"v1\")\n",
    "ser2 = pd.Series([200, 4565, 343], name = \"v2\")\n",
    "ser3 = pd.Series([1.2, 4.5, 3.6])\n"
   ]
  },
  {
   "cell_type": "code",
   "execution_count": 401,
   "id": "0ec57bce-906b-4b4e-92a8-cfe5084fa4cc",
   "metadata": {},
   "outputs": [
    {
     "data": {
      "text/html": [
       "<div>\n",
       "<style scoped>\n",
       "    .dataframe tbody tr th:only-of-type {\n",
       "        vertical-align: middle;\n",
       "    }\n",
       "\n",
       "    .dataframe tbody tr th {\n",
       "        vertical-align: top;\n",
       "    }\n",
       "\n",
       "    .dataframe thead th {\n",
       "        text-align: right;\n",
       "    }\n",
       "</style>\n",
       "<table border=\"1\" class=\"dataframe\">\n",
       "  <thead>\n",
       "    <tr style=\"text-align: right;\">\n",
       "      <th></th>\n",
       "      <th>0</th>\n",
       "      <th>1</th>\n",
       "      <th>2</th>\n",
       "    </tr>\n",
       "  </thead>\n",
       "  <tbody>\n",
       "    <tr>\n",
       "      <th>v1</th>\n",
       "      <td>a</td>\n",
       "      <td>b</td>\n",
       "      <td>c</td>\n",
       "    </tr>\n",
       "    <tr>\n",
       "      <th>v2</th>\n",
       "      <td>200</td>\n",
       "      <td>4565</td>\n",
       "      <td>343</td>\n",
       "    </tr>\n",
       "    <tr>\n",
       "      <th>Unnamed 0</th>\n",
       "      <td>1.2</td>\n",
       "      <td>4.5</td>\n",
       "      <td>3.6</td>\n",
       "    </tr>\n",
       "  </tbody>\n",
       "</table>\n",
       "</div>"
      ],
      "text/plain": [
       "             0     1    2\n",
       "v1           a     b    c\n",
       "v2         200  4565  343\n",
       "Unnamed 0  1.2   4.5  3.6"
      ]
     },
     "execution_count": 401,
     "metadata": {},
     "output_type": "execute_result"
    }
   ],
   "source": [
    "pd.DataFrame([ser1,\n",
    "              ser2,\n",
    "              ser3])"
   ]
  },
  {
   "cell_type": "code",
   "execution_count": 405,
   "id": "6bdb8d88-1f85-408a-a260-5f5b8468d4da",
   "metadata": {},
   "outputs": [
    {
     "data": {
      "text/html": [
       "<div>\n",
       "<style scoped>\n",
       "    .dataframe tbody tr th:only-of-type {\n",
       "        vertical-align: middle;\n",
       "    }\n",
       "\n",
       "    .dataframe tbody tr th {\n",
       "        vertical-align: top;\n",
       "    }\n",
       "\n",
       "    .dataframe thead th {\n",
       "        text-align: right;\n",
       "    }\n",
       "</style>\n",
       "<table border=\"1\" class=\"dataframe\">\n",
       "  <thead>\n",
       "    <tr style=\"text-align: right;\">\n",
       "      <th></th>\n",
       "      <th>index</th>\n",
       "      <th>0</th>\n",
       "      <th>1</th>\n",
       "      <th>2</th>\n",
       "    </tr>\n",
       "  </thead>\n",
       "  <tbody>\n",
       "    <tr>\n",
       "      <th>0</th>\n",
       "      <td>v1</td>\n",
       "      <td>a</td>\n",
       "      <td>b</td>\n",
       "      <td>c</td>\n",
       "    </tr>\n",
       "    <tr>\n",
       "      <th>1</th>\n",
       "      <td>v2</td>\n",
       "      <td>200</td>\n",
       "      <td>4565</td>\n",
       "      <td>343</td>\n",
       "    </tr>\n",
       "    <tr>\n",
       "      <th>2</th>\n",
       "      <td>Unnamed 0</td>\n",
       "      <td>1.2</td>\n",
       "      <td>4.5</td>\n",
       "      <td>3.6</td>\n",
       "    </tr>\n",
       "  </tbody>\n",
       "</table>\n",
       "</div>"
      ],
      "text/plain": [
       "       index    0     1    2\n",
       "0         v1    a     b    c\n",
       "1         v2  200  4565  343\n",
       "2  Unnamed 0  1.2   4.5  3.6"
      ]
     },
     "execution_count": 405,
     "metadata": {},
     "output_type": "execute_result"
    }
   ],
   "source": [
    "# Reset index method resets the index to the default ones\n",
    "pd.DataFrame([ser1,\n",
    "              ser2,\n",
    "              ser3]).reset_index()"
   ]
  },
  {
   "cell_type": "code",
   "execution_count": 406,
   "id": "8b0f208e-79b0-464c-8857-e80f53152dd6",
   "metadata": {},
   "outputs": [
    {
     "data": {
      "text/html": [
       "<div>\n",
       "<style scoped>\n",
       "    .dataframe tbody tr th:only-of-type {\n",
       "        vertical-align: middle;\n",
       "    }\n",
       "\n",
       "    .dataframe tbody tr th {\n",
       "        vertical-align: top;\n",
       "    }\n",
       "\n",
       "    .dataframe thead th {\n",
       "        text-align: right;\n",
       "    }\n",
       "</style>\n",
       "<table border=\"1\" class=\"dataframe\">\n",
       "  <thead>\n",
       "    <tr style=\"text-align: right;\">\n",
       "      <th></th>\n",
       "      <th>col1</th>\n",
       "      <th>col2</th>\n",
       "      <th>col3</th>\n",
       "    </tr>\n",
       "  </thead>\n",
       "  <tbody>\n",
       "    <tr>\n",
       "      <th>0</th>\n",
       "      <td>a</td>\n",
       "      <td>200</td>\n",
       "      <td>1.2</td>\n",
       "    </tr>\n",
       "    <tr>\n",
       "      <th>1</th>\n",
       "      <td>b</td>\n",
       "      <td>4565</td>\n",
       "      <td>4.5</td>\n",
       "    </tr>\n",
       "    <tr>\n",
       "      <th>2</th>\n",
       "      <td>c</td>\n",
       "      <td>343</td>\n",
       "      <td>3.6</td>\n",
       "    </tr>\n",
       "  </tbody>\n",
       "</table>\n",
       "</div>"
      ],
      "text/plain": [
       "  col1  col2  col3\n",
       "0    a   200   1.2\n",
       "1    b  4565   4.5\n",
       "2    c   343   3.6"
      ]
     },
     "execution_count": 406,
     "metadata": {},
     "output_type": "execute_result"
    }
   ],
   "source": [
    "pd.DataFrame({'col1': ser1,\n",
    "              'col2': ser2,\n",
    "              'col3': ser3})"
   ]
  },
  {
   "cell_type": "code",
   "execution_count": 407,
   "id": "f78b0cec-99cd-48ef-b6a1-e0472695db96",
   "metadata": {},
   "outputs": [
    {
     "data": {
      "text/html": [
       "<div>\n",
       "<style scoped>\n",
       "    .dataframe tbody tr th:only-of-type {\n",
       "        vertical-align: middle;\n",
       "    }\n",
       "\n",
       "    .dataframe tbody tr th {\n",
       "        vertical-align: top;\n",
       "    }\n",
       "\n",
       "    .dataframe thead th {\n",
       "        text-align: right;\n",
       "    }\n",
       "</style>\n",
       "<table border=\"1\" class=\"dataframe\">\n",
       "  <thead>\n",
       "    <tr style=\"text-align: right;\">\n",
       "      <th></th>\n",
       "      <th>index</th>\n",
       "      <th>col1</th>\n",
       "      <th>col2</th>\n",
       "      <th>col3</th>\n",
       "    </tr>\n",
       "  </thead>\n",
       "  <tbody>\n",
       "    <tr>\n",
       "      <th>0</th>\n",
       "      <td>0</td>\n",
       "      <td>a</td>\n",
       "      <td>200</td>\n",
       "      <td>1.2</td>\n",
       "    </tr>\n",
       "    <tr>\n",
       "      <th>1</th>\n",
       "      <td>1</td>\n",
       "      <td>b</td>\n",
       "      <td>4565</td>\n",
       "      <td>4.5</td>\n",
       "    </tr>\n",
       "    <tr>\n",
       "      <th>2</th>\n",
       "      <td>2</td>\n",
       "      <td>c</td>\n",
       "      <td>343</td>\n",
       "      <td>3.6</td>\n",
       "    </tr>\n",
       "  </tbody>\n",
       "</table>\n",
       "</div>"
      ],
      "text/plain": [
       "   index col1  col2  col3\n",
       "0      0    a   200   1.2\n",
       "1      1    b  4565   4.5\n",
       "2      2    c   343   3.6"
      ]
     },
     "execution_count": 407,
     "metadata": {},
     "output_type": "execute_result"
    }
   ],
   "source": [
    "pd.DataFrame({'col1': ser1,\n",
    "              'col2': ser2,\n",
    "              'col3': ser3}).reset_index()"
   ]
  },
  {
   "cell_type": "markdown",
   "id": "c0718f11-34a7-4400-93cd-813ec658b9f5",
   "metadata": {
    "jp-MarkdownHeadingCollapsed": true
   },
   "source": [
    "## Creating multi level dataframes"
   ]
  },
  {
   "cell_type": "code",
   "execution_count": 468,
   "id": "84cab20d-21cb-43d4-86e7-d374df0c2e0d",
   "metadata": {},
   "outputs": [],
   "source": [
    "ser1 = pd.Series(['a', 'b', 'c'], name = \"v1\")\n",
    "ser2 = pd.Series([200, 4565, 343], name = \"v2\")\n",
    "ser3 = pd.Series([1.2, 4.5, 3.6])\n"
   ]
  },
  {
   "cell_type": "code",
   "execution_count": 474,
   "id": "d918c5d1-1327-424d-8788-d7c2ee502160",
   "metadata": {},
   "outputs": [],
   "source": [
    "df = pd.DataFrame({'col1': ser1,\n",
    "              'col2': ser2,\n",
    "              'col3': ser3})"
   ]
  },
  {
   "cell_type": "code",
   "execution_count": 475,
   "id": "fa392c98-6625-4a98-b36e-3c34aff5d666",
   "metadata": {},
   "outputs": [],
   "source": [
    "# Multi level column (MultiIndex object will be created automatically using the array)\n",
    "multi_level1 = [['c1', 'c2', 'c3'],['typ1', 'typ2', 'typ1']]"
   ]
  },
  {
   "cell_type": "code",
   "execution_count": 476,
   "id": "0e21f0f2-513a-4c22-8da8-d85ebf2ec055",
   "metadata": {},
   "outputs": [],
   "source": [
    "# Multi level row index (MultiIndex object will be created automatically using the array)\n",
    "multi_level2 = [['a', 'a', 'a'],[1, 2, 3]]"
   ]
  },
  {
   "cell_type": "code",
   "execution_count": 477,
   "id": "35f1ac15-df87-4894-8f82-1aacae052dda",
   "metadata": {},
   "outputs": [],
   "source": [
    "df.columns = multi_level1"
   ]
  },
  {
   "cell_type": "code",
   "execution_count": 478,
   "id": "f20fca44-43bf-4015-8ea9-b88c624645ae",
   "metadata": {},
   "outputs": [],
   "source": [
    "df.index = multi_level2"
   ]
  },
  {
   "cell_type": "code",
   "execution_count": 479,
   "id": "d13cc232-883f-4412-90d6-f658290583ce",
   "metadata": {},
   "outputs": [
    {
     "data": {
      "text/html": [
       "<div>\n",
       "<style scoped>\n",
       "    .dataframe tbody tr th:only-of-type {\n",
       "        vertical-align: middle;\n",
       "    }\n",
       "\n",
       "    .dataframe tbody tr th {\n",
       "        vertical-align: top;\n",
       "    }\n",
       "\n",
       "    .dataframe thead tr th {\n",
       "        text-align: left;\n",
       "    }\n",
       "</style>\n",
       "<table border=\"1\" class=\"dataframe\">\n",
       "  <thead>\n",
       "    <tr>\n",
       "      <th></th>\n",
       "      <th></th>\n",
       "      <th>c1</th>\n",
       "      <th>c2</th>\n",
       "      <th>c3</th>\n",
       "    </tr>\n",
       "    <tr>\n",
       "      <th></th>\n",
       "      <th></th>\n",
       "      <th>typ1</th>\n",
       "      <th>typ2</th>\n",
       "      <th>typ1</th>\n",
       "    </tr>\n",
       "  </thead>\n",
       "  <tbody>\n",
       "    <tr>\n",
       "      <th rowspan=\"3\" valign=\"top\">a</th>\n",
       "      <th>1</th>\n",
       "      <td>a</td>\n",
       "      <td>200</td>\n",
       "      <td>1.2</td>\n",
       "    </tr>\n",
       "    <tr>\n",
       "      <th>2</th>\n",
       "      <td>b</td>\n",
       "      <td>4565</td>\n",
       "      <td>4.5</td>\n",
       "    </tr>\n",
       "    <tr>\n",
       "      <th>3</th>\n",
       "      <td>c</td>\n",
       "      <td>343</td>\n",
       "      <td>3.6</td>\n",
       "    </tr>\n",
       "  </tbody>\n",
       "</table>\n",
       "</div>"
      ],
      "text/plain": [
       "      c1    c2   c3\n",
       "    typ1  typ2 typ1\n",
       "a 1    a   200  1.2\n",
       "  2    b  4565  4.5\n",
       "  3    c   343  3.6"
      ]
     },
     "execution_count": 479,
     "metadata": {},
     "output_type": "execute_result"
    }
   ],
   "source": [
    "df"
   ]
  },
  {
   "cell_type": "code",
   "execution_count": 480,
   "id": "064c6a0b-3c87-49e8-a091-4866202a6cc1",
   "metadata": {},
   "outputs": [],
   "source": [
    "# Multi level column (MultiIndex object created explicitly)\n",
    "multi_level1 = pd.MultiIndex(levels = [['v1', 'v2'],['typ1', 'typ2']], codes = [[0, 0, 1],[0, 1, 0]])"
   ]
  },
  {
   "cell_type": "code",
   "execution_count": 481,
   "id": "69b1d12e-ac12-4062-865a-3c865743a8cb",
   "metadata": {},
   "outputs": [],
   "source": [
    "# Multi level row index (MultiIndex object created explicitly)\n",
    "multi_level2 = pd.MultiIndex(levels = [['a'],['oo1', 'oo2', 'oo3']], codes = [[0, 0, 0],[0, 1, 2]])"
   ]
  },
  {
   "cell_type": "code",
   "execution_count": 482,
   "id": "d74c8037-81f5-4fb8-801a-d44b9bf0ded2",
   "metadata": {},
   "outputs": [],
   "source": [
    "df.columns = multi_level1\n",
    "df.index = multi_level1"
   ]
  },
  {
   "cell_type": "code",
   "execution_count": 483,
   "id": "b9896749-17e8-4306-9b68-79b75ae43e08",
   "metadata": {},
   "outputs": [
    {
     "data": {
      "text/html": [
       "<div>\n",
       "<style scoped>\n",
       "    .dataframe tbody tr th:only-of-type {\n",
       "        vertical-align: middle;\n",
       "    }\n",
       "\n",
       "    .dataframe tbody tr th {\n",
       "        vertical-align: top;\n",
       "    }\n",
       "\n",
       "    .dataframe thead tr th {\n",
       "        text-align: left;\n",
       "    }\n",
       "</style>\n",
       "<table border=\"1\" class=\"dataframe\">\n",
       "  <thead>\n",
       "    <tr>\n",
       "      <th></th>\n",
       "      <th></th>\n",
       "      <th colspan=\"2\" halign=\"left\">v1</th>\n",
       "      <th>v2</th>\n",
       "    </tr>\n",
       "    <tr>\n",
       "      <th></th>\n",
       "      <th></th>\n",
       "      <th>typ1</th>\n",
       "      <th>typ2</th>\n",
       "      <th>typ1</th>\n",
       "    </tr>\n",
       "  </thead>\n",
       "  <tbody>\n",
       "    <tr>\n",
       "      <th rowspan=\"2\" valign=\"top\">v1</th>\n",
       "      <th>typ1</th>\n",
       "      <td>a</td>\n",
       "      <td>200</td>\n",
       "      <td>1.2</td>\n",
       "    </tr>\n",
       "    <tr>\n",
       "      <th>typ2</th>\n",
       "      <td>b</td>\n",
       "      <td>4565</td>\n",
       "      <td>4.5</td>\n",
       "    </tr>\n",
       "    <tr>\n",
       "      <th>v2</th>\n",
       "      <th>typ1</th>\n",
       "      <td>c</td>\n",
       "      <td>343</td>\n",
       "      <td>3.6</td>\n",
       "    </tr>\n",
       "  </tbody>\n",
       "</table>\n",
       "</div>"
      ],
      "text/plain": [
       "          v1         v2\n",
       "        typ1  typ2 typ1\n",
       "v1 typ1    a   200  1.2\n",
       "   typ2    b  4565  4.5\n",
       "v2 typ1    c   343  3.6"
      ]
     },
     "execution_count": 483,
     "metadata": {},
     "output_type": "execute_result"
    }
   ],
   "source": [
    "df"
   ]
  },
  {
   "cell_type": "markdown",
   "id": "d7597ee2-f371-4b7b-ac7b-7dab87529109",
   "metadata": {
    "jp-MarkdownHeadingCollapsed": true
   },
   "source": [
    "## Creating a dataframe from 2 dimensional list"
   ]
  },
  {
   "cell_type": "code",
   "execution_count": 488,
   "id": "38bfc035-5451-4e67-bcf6-5aa5321ba010",
   "metadata": {},
   "outputs": [],
   "source": [
    "# Empty dataframe\n",
    "df = pd.DataFrame()"
   ]
  },
  {
   "cell_type": "code",
   "execution_count": 489,
   "id": "aee9b43c-fc4a-47ec-83e3-8804a72ead11",
   "metadata": {},
   "outputs": [
    {
     "data": {
      "text/plain": [
       "0"
      ]
     },
     "execution_count": 489,
     "metadata": {},
     "output_type": "execute_result"
    }
   ],
   "source": [
    "len(df.columns)"
   ]
  },
  {
   "cell_type": "code",
   "execution_count": 490,
   "id": "129236c3-a442-41dd-8247-8f53b89cae52",
   "metadata": {},
   "outputs": [
    {
     "name": "stdout",
     "output_type": "stream",
     "text": [
      "Rows: 0\n",
      "Columns: 0\n",
      "<empty data frame>\n"
     ]
    }
   ],
   "source": [
    "glimpse(df)"
   ]
  },
  {
   "cell_type": "code",
   "execution_count": 491,
   "id": "e6e92913-500c-4db6-8265-07213ba7546b",
   "metadata": {},
   "outputs": [],
   "source": [
    "data = [\n",
    "    [1, 'a', 34, 3],\n",
    "    [2, 'b', 456, 1],\n",
    "    [3, 'd', 234, 6],\n",
    "    [4, 'r', 4235, 12],\n",
    "    [5, 'f', 234, 2],\n",
    "    [6, 'fd', 2342, 24],\n",
    "    [7, 'sd', 234, 2],\n",
    "    [8, 'csd', 23432, 34],\n",
    "    [9, 's', 234, 1],\n",
    "    [10, 'asd', 234, 1]\n",
    "]"
   ]
  },
  {
   "cell_type": "code",
   "execution_count": 492,
   "id": "2b88ab1c-e895-4329-8a5b-9155dde05713",
   "metadata": {},
   "outputs": [],
   "source": [
    "df = pd.DataFrame(data = data, columns = ['id', 'name', 'score', 'level'])"
   ]
  },
  {
   "cell_type": "code",
   "execution_count": 493,
   "id": "7ed31076-ac78-4c1b-a2f7-dd142a58a2ac",
   "metadata": {},
   "outputs": [
    {
     "data": {
      "text/plain": [
       "Index(['id', 'name', 'score', 'level'], dtype='object')"
      ]
     },
     "execution_count": 493,
     "metadata": {},
     "output_type": "execute_result"
    }
   ],
   "source": [
    "df.columns"
   ]
  },
  {
   "cell_type": "code",
   "execution_count": 494,
   "id": "ff2744b4-417c-4a85-8eb3-0cec7ee1ca98",
   "metadata": {},
   "outputs": [
    {
     "name": "stdout",
     "output_type": "stream",
     "text": [
      "Rows: 10\n",
      "Columns: 4\n",
      "$ id:     <int64>   1, 2, 3, 4, 5, 6, 7, 8, 9, 10\n",
      "$ name:   <object>  a, b, d, r, f, fd, sd, csd, s, asd\n",
      "$ score:  <int64>   34, 456, 234, 4235, 234, 2342, 234, 23432, 234, 234\n",
      "$ level:  <int64>   3, 1, 6, 12, 2, 24, 2, 34, 1, 1\n",
      "\n"
     ]
    }
   ],
   "source": [
    "glimpse(df)"
   ]
  },
  {
   "cell_type": "code",
   "execution_count": 495,
   "id": "a0f9b8e1-c4c1-432d-bcf9-d72728060c1d",
   "metadata": {},
   "outputs": [
    {
     "data": {
      "text/plain": [
       "pandas.core.frame.DataFrame"
      ]
     },
     "execution_count": 495,
     "metadata": {},
     "output_type": "execute_result"
    }
   ],
   "source": [
    "# The object created is a pandas dataframe object\n",
    "type(df)"
   ]
  },
  {
   "cell_type": "code",
   "execution_count": 496,
   "id": "60ee46cd-d178-4fae-850e-3d9ef3ff9eb4",
   "metadata": {},
   "outputs": [
    {
     "data": {
      "text/plain": [
       "pandas.core.series.Series"
      ]
     },
     "execution_count": 496,
     "metadata": {},
     "output_type": "execute_result"
    }
   ],
   "source": [
    "# Each column in the dataframe object is a Series\n",
    "type(df['id'])"
   ]
  },
  {
   "cell_type": "code",
   "execution_count": 497,
   "id": "c52dac61-993f-456b-b579-c29cc24fd769",
   "metadata": {},
   "outputs": [
    {
     "name": "stdout",
     "output_type": "stream",
     "text": [
      "Index(['id', 'name', 'score', 'level'], dtype='object')\n",
      "id\n",
      "name\n",
      "score\n",
      "level\n"
     ]
    }
   ],
   "source": [
    "# The columns in a dataframe can be accessed by the attribute DataFrame.columns\n",
    "print(df.columns)\n",
    "\n",
    "for col in df.columns:\n",
    "    print(col)"
   ]
  },
  {
   "cell_type": "code",
   "execution_count": 498,
   "id": "a9c8404f-156f-49fa-b13c-d2648b16c277",
   "metadata": {},
   "outputs": [
    {
     "name": "stdout",
     "output_type": "stream",
     "text": [
      "RangeIndex(start=0, stop=10, step=1)\n",
      "0\n",
      "1\n",
      "2\n",
      "3\n",
      "4\n",
      "5\n",
      "6\n",
      "7\n",
      "8\n",
      "9\n"
     ]
    }
   ],
   "source": [
    "# The rows in a dataframe are referred to as index can be accessed by the attribute DataFrame.index\n",
    "print(df.index)\n",
    "\n",
    "for row in df.index:\n",
    "    print(row)"
   ]
  },
  {
   "cell_type": "code",
   "execution_count": 499,
   "id": "b4534dae-d924-4761-abb7-06c0a7aa6f36",
   "metadata": {},
   "outputs": [
    {
     "data": {
      "text/plain": [
       "0    12\n",
       "1    34\n",
       "2    11\n",
       "3    36\n",
       "Name: Age, dtype: int64"
      ]
     },
     "execution_count": 499,
     "metadata": {},
     "output_type": "execute_result"
    }
   ],
   "source": [
    "# We can also create a series object directly as follows\n",
    "# note that series object also has index\n",
    "\n",
    "pd.Series([12, 34, 11, 36], name = \"Age\")"
   ]
  },
  {
   "cell_type": "code",
   "execution_count": 500,
   "id": "fa54def8-eb30-4c37-b755-00ec77f469c8",
   "metadata": {},
   "outputs": [],
   "source": [
    "# It is possible for a dataframe to have multiple indexes. We shall look into this later"
   ]
  },
  {
   "cell_type": "markdown",
   "id": "b5e7dc9f-7c41-4ecb-b73a-0e6c613cee62",
   "metadata": {
    "jp-MarkdownHeadingCollapsed": true
   },
   "source": [
    "## Reading and writing from/to files"
   ]
  },
  {
   "cell_type": "code",
   "execution_count": 9,
   "id": "7be0777b-27b1-478d-941c-c437ca27e277",
   "metadata": {},
   "outputs": [],
   "source": [
    "titanic_df  = pd.read_csv(\"data/Titanic-Dataset.csv\")"
   ]
  },
  {
   "cell_type": "code",
   "execution_count": 10,
   "id": "9313ce92-2025-477c-9a26-2f6d75f82fdd",
   "metadata": {},
   "outputs": [
    {
     "data": {
      "text/html": [
       "<div>\n",
       "<style scoped>\n",
       "    .dataframe tbody tr th:only-of-type {\n",
       "        vertical-align: middle;\n",
       "    }\n",
       "\n",
       "    .dataframe tbody tr th {\n",
       "        vertical-align: top;\n",
       "    }\n",
       "\n",
       "    .dataframe thead th {\n",
       "        text-align: right;\n",
       "    }\n",
       "</style>\n",
       "<table border=\"1\" class=\"dataframe\">\n",
       "  <thead>\n",
       "    <tr style=\"text-align: right;\">\n",
       "      <th></th>\n",
       "      <th>PassengerId</th>\n",
       "      <th>Survived</th>\n",
       "      <th>Pclass</th>\n",
       "      <th>Name</th>\n",
       "      <th>Sex</th>\n",
       "      <th>Age</th>\n",
       "      <th>SibSp</th>\n",
       "      <th>Parch</th>\n",
       "      <th>Ticket</th>\n",
       "      <th>Fare</th>\n",
       "      <th>Cabin</th>\n",
       "      <th>Embarked</th>\n",
       "    </tr>\n",
       "  </thead>\n",
       "  <tbody>\n",
       "    <tr>\n",
       "      <th>0</th>\n",
       "      <td>1</td>\n",
       "      <td>0</td>\n",
       "      <td>3</td>\n",
       "      <td>Braund, Mr. Owen Harris</td>\n",
       "      <td>male</td>\n",
       "      <td>22.0</td>\n",
       "      <td>1</td>\n",
       "      <td>0</td>\n",
       "      <td>A/5 21171</td>\n",
       "      <td>7.2500</td>\n",
       "      <td>NaN</td>\n",
       "      <td>S</td>\n",
       "    </tr>\n",
       "    <tr>\n",
       "      <th>1</th>\n",
       "      <td>2</td>\n",
       "      <td>1</td>\n",
       "      <td>1</td>\n",
       "      <td>Cumings, Mrs. John Bradley (Florence Briggs Th...</td>\n",
       "      <td>female</td>\n",
       "      <td>38.0</td>\n",
       "      <td>1</td>\n",
       "      <td>0</td>\n",
       "      <td>PC 17599</td>\n",
       "      <td>71.2833</td>\n",
       "      <td>C85</td>\n",
       "      <td>C</td>\n",
       "    </tr>\n",
       "    <tr>\n",
       "      <th>2</th>\n",
       "      <td>3</td>\n",
       "      <td>1</td>\n",
       "      <td>3</td>\n",
       "      <td>Heikkinen, Miss. Laina</td>\n",
       "      <td>female</td>\n",
       "      <td>26.0</td>\n",
       "      <td>0</td>\n",
       "      <td>0</td>\n",
       "      <td>STON/O2. 3101282</td>\n",
       "      <td>7.9250</td>\n",
       "      <td>NaN</td>\n",
       "      <td>S</td>\n",
       "    </tr>\n",
       "    <tr>\n",
       "      <th>3</th>\n",
       "      <td>4</td>\n",
       "      <td>1</td>\n",
       "      <td>1</td>\n",
       "      <td>Futrelle, Mrs. Jacques Heath (Lily May Peel)</td>\n",
       "      <td>female</td>\n",
       "      <td>35.0</td>\n",
       "      <td>1</td>\n",
       "      <td>0</td>\n",
       "      <td>113803</td>\n",
       "      <td>53.1000</td>\n",
       "      <td>C123</td>\n",
       "      <td>S</td>\n",
       "    </tr>\n",
       "    <tr>\n",
       "      <th>4</th>\n",
       "      <td>5</td>\n",
       "      <td>0</td>\n",
       "      <td>3</td>\n",
       "      <td>Allen, Mr. William Henry</td>\n",
       "      <td>male</td>\n",
       "      <td>35.0</td>\n",
       "      <td>0</td>\n",
       "      <td>0</td>\n",
       "      <td>373450</td>\n",
       "      <td>8.0500</td>\n",
       "      <td>NaN</td>\n",
       "      <td>S</td>\n",
       "    </tr>\n",
       "  </tbody>\n",
       "</table>\n",
       "</div>"
      ],
      "text/plain": [
       "   PassengerId  Survived  Pclass  \\\n",
       "0            1         0       3   \n",
       "1            2         1       1   \n",
       "2            3         1       3   \n",
       "3            4         1       1   \n",
       "4            5         0       3   \n",
       "\n",
       "                                                Name     Sex   Age  SibSp  \\\n",
       "0                            Braund, Mr. Owen Harris    male  22.0      1   \n",
       "1  Cumings, Mrs. John Bradley (Florence Briggs Th...  female  38.0      1   \n",
       "2                             Heikkinen, Miss. Laina  female  26.0      0   \n",
       "3       Futrelle, Mrs. Jacques Heath (Lily May Peel)  female  35.0      1   \n",
       "4                           Allen, Mr. William Henry    male  35.0      0   \n",
       "\n",
       "   Parch            Ticket     Fare Cabin Embarked  \n",
       "0      0         A/5 21171   7.2500   NaN        S  \n",
       "1      0          PC 17599  71.2833   C85        C  \n",
       "2      0  STON/O2. 3101282   7.9250   NaN        S  \n",
       "3      0            113803  53.1000  C123        S  \n",
       "4      0            373450   8.0500   NaN        S  "
      ]
     },
     "execution_count": 10,
     "metadata": {},
     "output_type": "execute_result"
    }
   ],
   "source": [
    "titanic_df.head()"
   ]
  },
  {
   "cell_type": "code",
   "execution_count": 11,
   "id": "2aa38904-66bd-47ac-b000-16ba9a353f82",
   "metadata": {},
   "outputs": [],
   "source": [
    "# similarly there are other read methods that read different filetypes. For example\n",
    "\n",
    "# pd.read_csv()\n",
    "# pd.read_excel()\n",
    "# pd.read_json()"
   ]
  },
  {
   "cell_type": "code",
   "execution_count": 12,
   "id": "f434c2e8-58e0-4b06-bfc7-67634e7e3b09",
   "metadata": {},
   "outputs": [],
   "source": [
    "titanic_df.to_csv(\"data/written_file.csv\")"
   ]
  },
  {
   "cell_type": "markdown",
   "id": "8412175d-56ee-4e33-b6c7-249bf45fe5fb",
   "metadata": {
    "jp-MarkdownHeadingCollapsed": true
   },
   "source": [
    "## Function to inspect data"
   ]
  },
  {
   "cell_type": "code",
   "execution_count": 13,
   "id": "0f339113-db76-41df-b158-fcf0a8424a9c",
   "metadata": {},
   "outputs": [
    {
     "name": "stdout",
     "output_type": "stream",
     "text": [
      "   id name  score  level\n",
      "0   1    a     34      3\n",
      "1   2    b    456      1\n",
      "2   3    d    234      6\n",
      "3   4    r   4235     12\n",
      "4   5    f    234      2\n",
      "5   6   fd   2342     24\n",
      "6   7   sd    234      2\n",
      "7   8  csd  23432     34\n",
      "8   9    s    234      1\n",
      "9  10  asd    234      1\n"
     ]
    }
   ],
   "source": [
    "# Simply print the dataframe to view all of it. In case the data is very large some records will be truncated in the output\n",
    "print(df)"
   ]
  },
  {
   "cell_type": "code",
   "execution_count": 14,
   "id": "427b9a77-03fe-4698-a14d-418db0bf04d3",
   "metadata": {},
   "outputs": [
    {
     "data": {
      "text/html": [
       "<div>\n",
       "<style scoped>\n",
       "    .dataframe tbody tr th:only-of-type {\n",
       "        vertical-align: middle;\n",
       "    }\n",
       "\n",
       "    .dataframe tbody tr th {\n",
       "        vertical-align: top;\n",
       "    }\n",
       "\n",
       "    .dataframe thead th {\n",
       "        text-align: right;\n",
       "    }\n",
       "</style>\n",
       "<table border=\"1\" class=\"dataframe\">\n",
       "  <thead>\n",
       "    <tr style=\"text-align: right;\">\n",
       "      <th></th>\n",
       "      <th>id</th>\n",
       "      <th>name</th>\n",
       "      <th>score</th>\n",
       "      <th>level</th>\n",
       "    </tr>\n",
       "  </thead>\n",
       "  <tbody>\n",
       "    <tr>\n",
       "      <th>0</th>\n",
       "      <td>1</td>\n",
       "      <td>a</td>\n",
       "      <td>34</td>\n",
       "      <td>3</td>\n",
       "    </tr>\n",
       "    <tr>\n",
       "      <th>1</th>\n",
       "      <td>2</td>\n",
       "      <td>b</td>\n",
       "      <td>456</td>\n",
       "      <td>1</td>\n",
       "    </tr>\n",
       "    <tr>\n",
       "      <th>2</th>\n",
       "      <td>3</td>\n",
       "      <td>d</td>\n",
       "      <td>234</td>\n",
       "      <td>6</td>\n",
       "    </tr>\n",
       "    <tr>\n",
       "      <th>3</th>\n",
       "      <td>4</td>\n",
       "      <td>r</td>\n",
       "      <td>4235</td>\n",
       "      <td>12</td>\n",
       "    </tr>\n",
       "    <tr>\n",
       "      <th>4</th>\n",
       "      <td>5</td>\n",
       "      <td>f</td>\n",
       "      <td>234</td>\n",
       "      <td>2</td>\n",
       "    </tr>\n",
       "  </tbody>\n",
       "</table>\n",
       "</div>"
      ],
      "text/plain": [
       "   id name  score  level\n",
       "0   1    a     34      3\n",
       "1   2    b    456      1\n",
       "2   3    d    234      6\n",
       "3   4    r   4235     12\n",
       "4   5    f    234      2"
      ]
     },
     "execution_count": 14,
     "metadata": {},
     "output_type": "execute_result"
    }
   ],
   "source": [
    "# A cleaner way to inspect just the top records is the head() method\n",
    "df.head()"
   ]
  },
  {
   "cell_type": "code",
   "execution_count": 15,
   "id": "0baf502b-8178-4a7e-b7d3-fe7dd5af65b1",
   "metadata": {},
   "outputs": [
    {
     "data": {
      "text/plain": [
       "(10, 4)"
      ]
     },
     "execution_count": 15,
     "metadata": {},
     "output_type": "execute_result"
    }
   ],
   "source": [
    "# The shape attribute of the dataframe tells how the number of rows and columns it contains\n",
    "df.shape"
   ]
  },
  {
   "cell_type": "code",
   "execution_count": 16,
   "id": "fec04214-0a75-40f6-90db-625fd3ca6b7b",
   "metadata": {},
   "outputs": [
    {
     "name": "stdout",
     "output_type": "stream",
     "text": [
      "<class 'pandas.core.frame.DataFrame'>\n",
      "RangeIndex: 10 entries, 0 to 9\n",
      "Data columns (total 4 columns):\n",
      " #   Column  Non-Null Count  Dtype \n",
      "---  ------  --------------  ----- \n",
      " 0   id      10 non-null     int64 \n",
      " 1   name    10 non-null     object\n",
      " 2   score   10 non-null     int64 \n",
      " 3   level   10 non-null     int64 \n",
      "dtypes: int64(3), object(1)\n",
      "memory usage: 448.0+ bytes\n"
     ]
    }
   ],
   "source": [
    "# The info() method lists out all the columns and their data types. It also tells us the count of non null records in each column\n",
    "df.info()"
   ]
  },
  {
   "cell_type": "code",
   "execution_count": 17,
   "id": "553cd91a-7454-4262-9355-168675c6b493",
   "metadata": {},
   "outputs": [
    {
     "data": {
      "text/html": [
       "<div>\n",
       "<style scoped>\n",
       "    .dataframe tbody tr th:only-of-type {\n",
       "        vertical-align: middle;\n",
       "    }\n",
       "\n",
       "    .dataframe tbody tr th {\n",
       "        vertical-align: top;\n",
       "    }\n",
       "\n",
       "    .dataframe thead th {\n",
       "        text-align: right;\n",
       "    }\n",
       "</style>\n",
       "<table border=\"1\" class=\"dataframe\">\n",
       "  <thead>\n",
       "    <tr style=\"text-align: right;\">\n",
       "      <th></th>\n",
       "      <th>id</th>\n",
       "      <th>score</th>\n",
       "      <th>level</th>\n",
       "    </tr>\n",
       "  </thead>\n",
       "  <tbody>\n",
       "    <tr>\n",
       "      <th>count</th>\n",
       "      <td>10.00000</td>\n",
       "      <td>10.000000</td>\n",
       "      <td>10.000000</td>\n",
       "    </tr>\n",
       "    <tr>\n",
       "      <th>mean</th>\n",
       "      <td>5.50000</td>\n",
       "      <td>3166.900000</td>\n",
       "      <td>8.600000</td>\n",
       "    </tr>\n",
       "    <tr>\n",
       "      <th>std</th>\n",
       "      <td>3.02765</td>\n",
       "      <td>7246.985035</td>\n",
       "      <td>11.510382</td>\n",
       "    </tr>\n",
       "    <tr>\n",
       "      <th>min</th>\n",
       "      <td>1.00000</td>\n",
       "      <td>34.000000</td>\n",
       "      <td>1.000000</td>\n",
       "    </tr>\n",
       "    <tr>\n",
       "      <th>25%</th>\n",
       "      <td>3.25000</td>\n",
       "      <td>234.000000</td>\n",
       "      <td>1.250000</td>\n",
       "    </tr>\n",
       "    <tr>\n",
       "      <th>50%</th>\n",
       "      <td>5.50000</td>\n",
       "      <td>234.000000</td>\n",
       "      <td>2.500000</td>\n",
       "    </tr>\n",
       "    <tr>\n",
       "      <th>75%</th>\n",
       "      <td>7.75000</td>\n",
       "      <td>1870.500000</td>\n",
       "      <td>10.500000</td>\n",
       "    </tr>\n",
       "    <tr>\n",
       "      <th>max</th>\n",
       "      <td>10.00000</td>\n",
       "      <td>23432.000000</td>\n",
       "      <td>34.000000</td>\n",
       "    </tr>\n",
       "  </tbody>\n",
       "</table>\n",
       "</div>"
      ],
      "text/plain": [
       "             id         score      level\n",
       "count  10.00000     10.000000  10.000000\n",
       "mean    5.50000   3166.900000   8.600000\n",
       "std     3.02765   7246.985035  11.510382\n",
       "min     1.00000     34.000000   1.000000\n",
       "25%     3.25000    234.000000   1.250000\n",
       "50%     5.50000    234.000000   2.500000\n",
       "75%     7.75000   1870.500000  10.500000\n",
       "max    10.00000  23432.000000  34.000000"
      ]
     },
     "execution_count": 17,
     "metadata": {},
     "output_type": "execute_result"
    }
   ],
   "source": [
    "# The describe method gives is summary statistics of the numerical columns in the dataframe\n",
    "df.describe()"
   ]
  },
  {
   "cell_type": "markdown",
   "id": "07861798-ae9d-458b-a44d-01b6ad87fee0",
   "metadata": {
    "jp-MarkdownHeadingCollapsed": true
   },
   "source": [
    "## Exploring the data"
   ]
  },
  {
   "cell_type": "code",
   "execution_count": 18,
   "id": "e8f8e3b7-af93-44a9-be52-3e1fbff2294c",
   "metadata": {},
   "outputs": [
    {
     "name": "stdout",
     "output_type": "stream",
     "text": [
      "0       34\n",
      "1      456\n",
      "2      234\n",
      "3     4235\n",
      "4      234\n",
      "5     2342\n",
      "6      234\n",
      "7    23432\n",
      "8      234\n",
      "9      234\n",
      "Name: score, dtype: int64\n",
      "<class 'pandas.core.series.Series'>\n"
     ]
    }
   ],
   "source": [
    "# Select a particular column\n",
    "a = df['score']\n",
    "\n",
    "print(a)\n",
    "\n",
    "# The returned object is a pandas series object\n",
    "print(type(a))"
   ]
  },
  {
   "cell_type": "code",
   "execution_count": 19,
   "id": "378b4dea-1aa4-4cfe-a306-e87e21d94b96",
   "metadata": {},
   "outputs": [
    {
     "name": "stdout",
     "output_type": "stream",
     "text": [
      "   score  level\n",
      "0     34      3\n",
      "1    456      1\n",
      "2    234      6\n",
      "3   4235     12\n",
      "4    234      2\n",
      "5   2342     24\n",
      "6    234      2\n",
      "7  23432     34\n",
      "8    234      1\n",
      "9    234      1\n"
     ]
    },
    {
     "data": {
      "text/plain": [
       "pandas.core.frame.DataFrame"
      ]
     },
     "execution_count": 19,
     "metadata": {},
     "output_type": "execute_result"
    }
   ],
   "source": [
    "# Select multiple columns. (pass the column names as a list\n",
    "a = df[['score', 'level']]\n",
    "\n",
    "print(a)\n",
    "\n",
    "# The returned object is a pandas dataframe\n",
    "type(a)"
   ]
  },
  {
   "cell_type": "code",
   "execution_count": 20,
   "id": "f65dc9cd-f3dc-42a5-987b-5d823f20ca24",
   "metadata": {},
   "outputs": [],
   "source": [
    "# iloc\n",
    "# take"
   ]
  },
  {
   "cell_type": "code",
   "execution_count": 21,
   "id": "f5ba6d99-6722-4617-a417-17c6a84b1832",
   "metadata": {},
   "outputs": [
    {
     "name": "stdout",
     "output_type": "stream",
     "text": [
      "   id name  score  level\n",
      "0   1    a     34      3\n",
      "1   2    b    456      1\n",
      "2   3    d    234      6\n",
      "3   4    r   4235     12\n",
      "4   5    f    234      2\n",
      "5   6   fd   2342     24\n",
      "6   7   sd    234      2\n",
      "7   8  csd  23432     34\n",
      "8   9    s    234      1\n",
      "9  10  asd    234      1\n"
     ]
    },
    {
     "data": {
      "text/plain": [
       "pandas.core.frame.DataFrame"
      ]
     },
     "execution_count": 21,
     "metadata": {},
     "output_type": "execute_result"
    }
   ],
   "source": [
    "# Select particular rows\n",
    "a = df[df['score']> 4]\n",
    "\n",
    "print(a)\n",
    "\n",
    "# The returned object is a pandas dataframe\n",
    "type(a)"
   ]
  },
  {
   "cell_type": "code",
   "execution_count": 22,
   "id": "85c8fe72-3a24-4be9-9ef3-15004c25d9b4",
   "metadata": {},
   "outputs": [
    {
     "name": "stdout",
     "output_type": "stream",
     "text": [
      "   id name  score  level\n",
      "0   1    a     34      3\n"
     ]
    },
    {
     "data": {
      "text/plain": [
       "pandas.core.frame.DataFrame"
      ]
     },
     "execution_count": 22,
     "metadata": {},
     "output_type": "execute_result"
    }
   ],
   "source": [
    "# Select particular rows\n",
    "a = df[df['id'] == 1]\n",
    "\n",
    "print(a)\n",
    "\n",
    "# The returned object is a pandas dataframe (we selected only one row, some methods of subsetting return a series instead - see below)\n",
    "type(a)"
   ]
  },
  {
   "cell_type": "code",
   "execution_count": 23,
   "id": "c56918b5-f8b2-4e51-afbe-9bc1984a3438",
   "metadata": {},
   "outputs": [
    {
     "name": "stdout",
     "output_type": "stream",
     "text": [
      "   id name  score  level\n",
      "1   2    b    456      1\n",
      "4   5    f    234      2\n",
      "6   7   sd    234      2\n",
      "8   9    s    234      1\n",
      "9  10  asd    234      1\n"
     ]
    },
    {
     "data": {
      "text/plain": [
       "pandas.core.frame.DataFrame"
      ]
     },
     "execution_count": 23,
     "metadata": {},
     "output_type": "execute_result"
    }
   ],
   "source": [
    "# Select particular rows\n",
    "a = df[df['level'].isin([1, 2])]\n",
    "\n",
    "print(a)\n",
    "\n",
    "# The returned object is a pandas dataframe\n",
    "type(a)"
   ]
  },
  {
   "cell_type": "code",
   "execution_count": 24,
   "id": "691aba87-16c2-4cc9-aef2-c8449c6052c1",
   "metadata": {},
   "outputs": [
    {
     "name": "stdout",
     "output_type": "stream",
     "text": [
      "   id name  score  level\n",
      "4   5    f    234      2\n",
      "6   7   sd    234      2\n",
      "8   9    s    234      1\n",
      "9  10  asd    234      1\n"
     ]
    },
    {
     "data": {
      "text/plain": [
       "pandas.core.frame.DataFrame"
      ]
     },
     "execution_count": 24,
     "metadata": {},
     "output_type": "execute_result"
    }
   ],
   "source": [
    "# An alternative way (note that we can not use 'or' and need to use the pipe symbol '|' similarly '&' for 'and'\n",
    "# Also note that parenthesis is mandatory\n",
    "# This is not the same as bitwise | and &. These operators are overloaded in Pandas\n",
    "a = df[((df['level'] == 1) | (df['level'] == 2)) & (df['id'] != 2)]\n",
    "\n",
    "print(a)\n",
    "\n",
    "# The returned object is a pandas dataframe\n",
    "type(a)"
   ]
  },
  {
   "cell_type": "code",
   "execution_count": 25,
   "id": "edc4e205-4c7f-4422-b81d-aacaef00837d",
   "metadata": {},
   "outputs": [
    {
     "name": "stdout",
     "output_type": "stream",
     "text": [
      "1     2\n",
      "4     5\n",
      "6     7\n",
      "8     9\n",
      "9    10\n",
      "Name: id, dtype: int64\n"
     ]
    },
    {
     "data": {
      "text/plain": [
       "pandas.core.series.Series"
      ]
     },
     "execution_count": 25,
     "metadata": {},
     "output_type": "execute_result"
    }
   ],
   "source": [
    "# Selecting specific rows and columns using column names (loc)\n",
    "# df.loc[<specify rows>, <specify columns>]\n",
    "\n",
    "a = df.loc[df['level'].isin([1, 2]), 'id']\n",
    "\n",
    "print(a)\n",
    "\n",
    "# The returned object is a pandas series (because we selected only one column)\n",
    "type(a)"
   ]
  },
  {
   "cell_type": "code",
   "execution_count": 26,
   "id": "7baa686f-d46b-4149-9c19-159379dfe6f0",
   "metadata": {},
   "outputs": [
    {
     "name": "stdout",
     "output_type": "stream",
     "text": [
      "0    34\n",
      "Name: score, dtype: int64\n"
     ]
    },
    {
     "data": {
      "text/plain": [
       "pandas.core.series.Series"
      ]
     },
     "execution_count": 26,
     "metadata": {},
     "output_type": "execute_result"
    }
   ],
   "source": [
    "# Selecting specific rows and columns using column names (loc)\n",
    "# df.loc[<specify rows>, <specify columns>]\n",
    "\n",
    "a = df.loc[df['id'].isin([1]), 'score']\n",
    "\n",
    "print(a)\n",
    "\n",
    "# The returned object is a pandas series (even though we selected only one value, the iloc method returns a numpy object instead)\n",
    "type(a)"
   ]
  },
  {
   "cell_type": "code",
   "execution_count": 27,
   "id": "4028d217-2e8f-4849-814b-ba544fc47fd7",
   "metadata": {},
   "outputs": [
    {
     "name": "stdout",
     "output_type": "stream",
     "text": [
      "   id name\n",
      "1   2    b\n",
      "4   5    f\n",
      "6   7   sd\n",
      "8   9    s\n",
      "9  10  asd\n"
     ]
    },
    {
     "data": {
      "text/plain": [
       "pandas.core.frame.DataFrame"
      ]
     },
     "execution_count": 27,
     "metadata": {},
     "output_type": "execute_result"
    }
   ],
   "source": [
    "# Selecting specific rows and columns using column names (loc)\n",
    "# df.loc[<specify rows>, <specify columns>]\n",
    "\n",
    "a = df.loc[df['level'].isin([1, 2]), ['id', 'name']]\n",
    "\n",
    "print(a)\n",
    "\n",
    "# The returned object is a pandas dataframe (because we selected more than one column)\n",
    "type(a)"
   ]
  },
  {
   "cell_type": "code",
   "execution_count": 28,
   "id": "b5ad7c7a-e8b7-43d5-92a2-9e167788c836",
   "metadata": {},
   "outputs": [
    {
     "name": "stdout",
     "output_type": "stream",
     "text": [
      "456\n"
     ]
    },
    {
     "data": {
      "text/plain": [
       "numpy.int64"
      ]
     },
     "execution_count": 28,
     "metadata": {},
     "output_type": "execute_result"
    }
   ],
   "source": [
    "# Selecting specific rows and columns using positions\n",
    "# df.loc[<specify rows>, <specify columns>]\n",
    "\n",
    "a = df.iloc[1, 2]\n",
    "\n",
    "print(a)\n",
    "\n",
    "# The returned object is a numpy integer (because we selected one value)\n",
    "type(a)"
   ]
  },
  {
   "cell_type": "code",
   "execution_count": 29,
   "id": "8b26f37e-4aae-4b22-ad6e-74a761db192d",
   "metadata": {},
   "outputs": [
    {
     "name": "stdout",
     "output_type": "stream",
     "text": [
      "b\n"
     ]
    },
    {
     "data": {
      "text/plain": [
       "str"
      ]
     },
     "execution_count": 29,
     "metadata": {},
     "output_type": "execute_result"
    }
   ],
   "source": [
    "# Selecting specific rows and columns using positions\n",
    "# df.loc[<specify rows>, <specify columns>]\n",
    "\n",
    "a = df.iloc[1, 1]\n",
    "\n",
    "print(a)\n",
    "\n",
    "# The returned object is a string (because we selected one value and it is not numeric)\n",
    "type(a)"
   ]
  },
  {
   "cell_type": "code",
   "execution_count": 30,
   "id": "30a3c091-b78e-450a-9431-2317888a6178",
   "metadata": {},
   "outputs": [
    {
     "name": "stdout",
     "output_type": "stream",
     "text": [
      "2      234\n",
      "3     4235\n",
      "4      234\n",
      "5     2342\n",
      "6      234\n",
      "7    23432\n",
      "8      234\n",
      "9      234\n",
      "Name: score, dtype: int64\n"
     ]
    },
    {
     "data": {
      "text/plain": [
       "pandas.core.series.Series"
      ]
     },
     "execution_count": 30,
     "metadata": {},
     "output_type": "execute_result"
    }
   ],
   "source": [
    "# Selecting specific rows and columns using positions\n",
    "# df.loc[<specify rows>, <specify columns>]\n",
    "\n",
    "a = df.iloc[2:, 2]\n",
    "\n",
    "print(a)\n",
    "\n",
    "# The returned object is a pandas series (because we selected one column)\n",
    "type(a)"
   ]
  },
  {
   "cell_type": "code",
   "execution_count": 31,
   "id": "44378ed5-2b44-4322-9e10-6c6102109e7f",
   "metadata": {},
   "outputs": [
    {
     "name": "stdout",
     "output_type": "stream",
     "text": [
      "   score  level\n",
      "2    234      6\n",
      "3   4235     12\n",
      "4    234      2\n",
      "5   2342     24\n",
      "6    234      2\n",
      "7  23432     34\n",
      "8    234      1\n",
      "9    234      1\n"
     ]
    },
    {
     "data": {
      "text/plain": [
       "pandas.core.frame.DataFrame"
      ]
     },
     "execution_count": 31,
     "metadata": {},
     "output_type": "execute_result"
    }
   ],
   "source": [
    "# Selecting specific rows and columns using positions\n",
    "# df.loc[<specify rows>, <specify columns>]\n",
    "\n",
    "a = df.iloc[2:, 2:]\n",
    "\n",
    "print(a)\n",
    "\n",
    "# The returned object is a pandas dataframe (because we selected more than one column)\n",
    "type(a)"
   ]
  },
  {
   "cell_type": "code",
   "execution_count": 32,
   "id": "ba13fd49-99aa-42cc-a001-4f487d936942",
   "metadata": {},
   "outputs": [
    {
     "name": "stdout",
     "output_type": "stream",
     "text": [
      "score    234\n",
      "level      6\n",
      "Name: 2, dtype: object\n"
     ]
    },
    {
     "data": {
      "text/plain": [
       "pandas.core.series.Series"
      ]
     },
     "execution_count": 32,
     "metadata": {},
     "output_type": "execute_result"
    }
   ],
   "source": [
    "# Selecting specific rows and columns using positions\n",
    "# df.loc[<specify rows>, <specify columns>]\n",
    "\n",
    "a = df.iloc[2, 2:]\n",
    "\n",
    "print(a)\n",
    "\n",
    "# The returned object is a pandas series (because we selected one row)\n",
    "type(a)"
   ]
  },
  {
   "cell_type": "markdown",
   "id": "795fd62c-9a45-4ca9-a5c0-15071379a8c7",
   "metadata": {
    "jp-MarkdownHeadingCollapsed": true
   },
   "source": [
    "## Summarising"
   ]
  },
  {
   "cell_type": "code",
   "execution_count": 33,
   "id": "20745bd7-b650-44c7-a364-483a9abb4cd6",
   "metadata": {},
   "outputs": [
    {
     "name": "stdout",
     "output_type": "stream",
     "text": [
      "count       10.000000\n",
      "mean      3166.900000\n",
      "std       7246.985035\n",
      "min         34.000000\n",
      "25%        234.000000\n",
      "50%        234.000000\n",
      "75%       1870.500000\n",
      "max      23432.000000\n",
      "Name: score, dtype: float64\n"
     ]
    },
    {
     "data": {
      "text/plain": [
       "pandas.core.series.Series"
      ]
     },
     "execution_count": 33,
     "metadata": {},
     "output_type": "execute_result"
    }
   ],
   "source": [
    "# We can call the describe method on the specific column\n",
    "a = df['score'].describe()\n",
    "\n",
    "print(a)\n",
    "\n",
    "# The summary statistics are returned as a pandas series object\n",
    "type(a)"
   ]
  },
  {
   "cell_type": "code",
   "execution_count": 34,
   "id": "cd460a73-8cb3-4372-9ec3-0b34a18d1240",
   "metadata": {},
   "outputs": [
    {
     "name": "stdout",
     "output_type": "stream",
     "text": [
      "3166.9\n"
     ]
    },
    {
     "data": {
      "text/plain": [
       "numpy.float64"
      ]
     },
     "execution_count": 34,
     "metadata": {},
     "output_type": "execute_result"
    }
   ],
   "source": [
    "# We can calculate specific sumary statistics using built in methods for each column\n",
    "a = df['score'].mean()\n",
    "\n",
    "print(a)\n",
    "\n",
    "# The returned object is a numpy floating point object\n",
    "type(a)"
   ]
  },
  {
   "cell_type": "code",
   "execution_count": 35,
   "id": "14496676-f8d1-4ccf-8344-7c9b6e253040",
   "metadata": {},
   "outputs": [
    {
     "name": "stdout",
     "output_type": "stream",
     "text": [
      "234.0\n"
     ]
    },
    {
     "data": {
      "text/plain": [
       "numpy.float64"
      ]
     },
     "execution_count": 35,
     "metadata": {},
     "output_type": "execute_result"
    }
   ],
   "source": [
    "# Median\n",
    "a = df['score'].median()\n",
    "\n",
    "print(a)\n",
    "\n",
    "# The returned object is a numpy floating point object\n",
    "type(a)"
   ]
  },
  {
   "cell_type": "markdown",
   "id": "9907cad2-4119-49bb-9117-c2890084a474",
   "metadata": {
    "jp-MarkdownHeadingCollapsed": true
   },
   "source": [
    "## Creating new columns derived from existing columns"
   ]
  },
  {
   "cell_type": "code",
   "execution_count": 36,
   "id": "5829ebff-6aa0-4a41-9b70-f28ea0fcb72c",
   "metadata": {},
   "outputs": [
    {
     "data": {
      "text/html": [
       "<div>\n",
       "<style scoped>\n",
       "    .dataframe tbody tr th:only-of-type {\n",
       "        vertical-align: middle;\n",
       "    }\n",
       "\n",
       "    .dataframe tbody tr th {\n",
       "        vertical-align: top;\n",
       "    }\n",
       "\n",
       "    .dataframe thead th {\n",
       "        text-align: right;\n",
       "    }\n",
       "</style>\n",
       "<table border=\"1\" class=\"dataframe\">\n",
       "  <thead>\n",
       "    <tr style=\"text-align: right;\">\n",
       "      <th></th>\n",
       "      <th>PassengerId</th>\n",
       "      <th>Survived</th>\n",
       "      <th>Pclass</th>\n",
       "      <th>Name</th>\n",
       "      <th>Sex</th>\n",
       "      <th>Age</th>\n",
       "      <th>SibSp</th>\n",
       "      <th>Parch</th>\n",
       "      <th>Ticket</th>\n",
       "      <th>Fare</th>\n",
       "      <th>Cabin</th>\n",
       "      <th>Embarked</th>\n",
       "    </tr>\n",
       "  </thead>\n",
       "  <tbody>\n",
       "    <tr>\n",
       "      <th>0</th>\n",
       "      <td>1</td>\n",
       "      <td>0</td>\n",
       "      <td>3</td>\n",
       "      <td>Braund, Mr. Owen Harris</td>\n",
       "      <td>male</td>\n",
       "      <td>22.0</td>\n",
       "      <td>1</td>\n",
       "      <td>0</td>\n",
       "      <td>A/5 21171</td>\n",
       "      <td>7.2500</td>\n",
       "      <td>NaN</td>\n",
       "      <td>S</td>\n",
       "    </tr>\n",
       "    <tr>\n",
       "      <th>1</th>\n",
       "      <td>2</td>\n",
       "      <td>1</td>\n",
       "      <td>1</td>\n",
       "      <td>Cumings, Mrs. John Bradley (Florence Briggs Th...</td>\n",
       "      <td>female</td>\n",
       "      <td>38.0</td>\n",
       "      <td>1</td>\n",
       "      <td>0</td>\n",
       "      <td>PC 17599</td>\n",
       "      <td>71.2833</td>\n",
       "      <td>C85</td>\n",
       "      <td>C</td>\n",
       "    </tr>\n",
       "    <tr>\n",
       "      <th>2</th>\n",
       "      <td>3</td>\n",
       "      <td>1</td>\n",
       "      <td>3</td>\n",
       "      <td>Heikkinen, Miss. Laina</td>\n",
       "      <td>female</td>\n",
       "      <td>26.0</td>\n",
       "      <td>0</td>\n",
       "      <td>0</td>\n",
       "      <td>STON/O2. 3101282</td>\n",
       "      <td>7.9250</td>\n",
       "      <td>NaN</td>\n",
       "      <td>S</td>\n",
       "    </tr>\n",
       "    <tr>\n",
       "      <th>3</th>\n",
       "      <td>4</td>\n",
       "      <td>1</td>\n",
       "      <td>1</td>\n",
       "      <td>Futrelle, Mrs. Jacques Heath (Lily May Peel)</td>\n",
       "      <td>female</td>\n",
       "      <td>35.0</td>\n",
       "      <td>1</td>\n",
       "      <td>0</td>\n",
       "      <td>113803</td>\n",
       "      <td>53.1000</td>\n",
       "      <td>C123</td>\n",
       "      <td>S</td>\n",
       "    </tr>\n",
       "    <tr>\n",
       "      <th>4</th>\n",
       "      <td>5</td>\n",
       "      <td>0</td>\n",
       "      <td>3</td>\n",
       "      <td>Allen, Mr. William Henry</td>\n",
       "      <td>male</td>\n",
       "      <td>35.0</td>\n",
       "      <td>0</td>\n",
       "      <td>0</td>\n",
       "      <td>373450</td>\n",
       "      <td>8.0500</td>\n",
       "      <td>NaN</td>\n",
       "      <td>S</td>\n",
       "    </tr>\n",
       "  </tbody>\n",
       "</table>\n",
       "</div>"
      ],
      "text/plain": [
       "   PassengerId  Survived  Pclass  \\\n",
       "0            1         0       3   \n",
       "1            2         1       1   \n",
       "2            3         1       3   \n",
       "3            4         1       1   \n",
       "4            5         0       3   \n",
       "\n",
       "                                                Name     Sex   Age  SibSp  \\\n",
       "0                            Braund, Mr. Owen Harris    male  22.0      1   \n",
       "1  Cumings, Mrs. John Bradley (Florence Briggs Th...  female  38.0      1   \n",
       "2                             Heikkinen, Miss. Laina  female  26.0      0   \n",
       "3       Futrelle, Mrs. Jacques Heath (Lily May Peel)  female  35.0      1   \n",
       "4                           Allen, Mr. William Henry    male  35.0      0   \n",
       "\n",
       "   Parch            Ticket     Fare Cabin Embarked  \n",
       "0      0         A/5 21171   7.2500   NaN        S  \n",
       "1      0          PC 17599  71.2833   C85        C  \n",
       "2      0  STON/O2. 3101282   7.9250   NaN        S  \n",
       "3      0            113803  53.1000  C123        S  \n",
       "4      0            373450   8.0500   NaN        S  "
      ]
     },
     "execution_count": 36,
     "metadata": {},
     "output_type": "execute_result"
    }
   ],
   "source": [
    "titanic_df.head()"
   ]
  },
  {
   "cell_type": "code",
   "execution_count": 37,
   "id": "a824f077-8cf6-4267-836c-116916322a2d",
   "metadata": {},
   "outputs": [],
   "source": [
    "# Creating a new column using existing\n",
    "titanic_df['age_rounded'] = round(titanic_df['Age'])"
   ]
  },
  {
   "cell_type": "code",
   "execution_count": 38,
   "id": "6ff7a8e0-8a0e-4c98-a3f1-601e631d10a5",
   "metadata": {},
   "outputs": [],
   "source": [
    "import math"
   ]
  },
  {
   "cell_type": "code",
   "execution_count": 39,
   "id": "436d9aa9-3717-4182-ba34-2d3d1a918126",
   "metadata": {},
   "outputs": [],
   "source": [
    "def bucketing_function(x):\n",
    "    if (math.isnan(x)):\n",
    "        return(math.nan)\n",
    "    else:\n",
    "        return('[' + str(math.floor(x/5) *5) + '-' + str((math.floor(x/5) *5) + 5) + ')')"
   ]
  },
  {
   "cell_type": "code",
   "execution_count": 40,
   "id": "d7a05448-2174-4f6e-834b-24a94cac360e",
   "metadata": {},
   "outputs": [],
   "source": [
    "# Applying custom funciton\n",
    "\n",
    "titanic_df['age_bucket'] = titanic_df['Age'].apply(bucketing_function)\n",
    "# str(math.floor(titanic_df['Age']/5) *5) + '-' + str(round(titanic_df['Age']/10) * 10)"
   ]
  },
  {
   "cell_type": "code",
   "execution_count": 41,
   "id": "5bd43249-0310-430f-8e87-c944a998f049",
   "metadata": {},
   "outputs": [
    {
     "data": {
      "text/html": [
       "<div>\n",
       "<style scoped>\n",
       "    .dataframe tbody tr th:only-of-type {\n",
       "        vertical-align: middle;\n",
       "    }\n",
       "\n",
       "    .dataframe tbody tr th {\n",
       "        vertical-align: top;\n",
       "    }\n",
       "\n",
       "    .dataframe thead th {\n",
       "        text-align: right;\n",
       "    }\n",
       "</style>\n",
       "<table border=\"1\" class=\"dataframe\">\n",
       "  <thead>\n",
       "    <tr style=\"text-align: right;\">\n",
       "      <th></th>\n",
       "      <th>PassengerId</th>\n",
       "      <th>Survived</th>\n",
       "      <th>Pclass</th>\n",
       "      <th>Name</th>\n",
       "      <th>Sex</th>\n",
       "      <th>Age</th>\n",
       "      <th>SibSp</th>\n",
       "      <th>Parch</th>\n",
       "      <th>Ticket</th>\n",
       "      <th>Fare</th>\n",
       "      <th>Cabin</th>\n",
       "      <th>Embarked</th>\n",
       "      <th>age_rounded</th>\n",
       "      <th>age_bucket</th>\n",
       "    </tr>\n",
       "  </thead>\n",
       "  <tbody>\n",
       "    <tr>\n",
       "      <th>0</th>\n",
       "      <td>1</td>\n",
       "      <td>0</td>\n",
       "      <td>3</td>\n",
       "      <td>Braund, Mr. Owen Harris</td>\n",
       "      <td>male</td>\n",
       "      <td>22.0</td>\n",
       "      <td>1</td>\n",
       "      <td>0</td>\n",
       "      <td>A/5 21171</td>\n",
       "      <td>7.2500</td>\n",
       "      <td>NaN</td>\n",
       "      <td>S</td>\n",
       "      <td>22.0</td>\n",
       "      <td>[20-25)</td>\n",
       "    </tr>\n",
       "    <tr>\n",
       "      <th>1</th>\n",
       "      <td>2</td>\n",
       "      <td>1</td>\n",
       "      <td>1</td>\n",
       "      <td>Cumings, Mrs. John Bradley (Florence Briggs Th...</td>\n",
       "      <td>female</td>\n",
       "      <td>38.0</td>\n",
       "      <td>1</td>\n",
       "      <td>0</td>\n",
       "      <td>PC 17599</td>\n",
       "      <td>71.2833</td>\n",
       "      <td>C85</td>\n",
       "      <td>C</td>\n",
       "      <td>38.0</td>\n",
       "      <td>[35-40)</td>\n",
       "    </tr>\n",
       "    <tr>\n",
       "      <th>2</th>\n",
       "      <td>3</td>\n",
       "      <td>1</td>\n",
       "      <td>3</td>\n",
       "      <td>Heikkinen, Miss. Laina</td>\n",
       "      <td>female</td>\n",
       "      <td>26.0</td>\n",
       "      <td>0</td>\n",
       "      <td>0</td>\n",
       "      <td>STON/O2. 3101282</td>\n",
       "      <td>7.9250</td>\n",
       "      <td>NaN</td>\n",
       "      <td>S</td>\n",
       "      <td>26.0</td>\n",
       "      <td>[25-30)</td>\n",
       "    </tr>\n",
       "    <tr>\n",
       "      <th>3</th>\n",
       "      <td>4</td>\n",
       "      <td>1</td>\n",
       "      <td>1</td>\n",
       "      <td>Futrelle, Mrs. Jacques Heath (Lily May Peel)</td>\n",
       "      <td>female</td>\n",
       "      <td>35.0</td>\n",
       "      <td>1</td>\n",
       "      <td>0</td>\n",
       "      <td>113803</td>\n",
       "      <td>53.1000</td>\n",
       "      <td>C123</td>\n",
       "      <td>S</td>\n",
       "      <td>35.0</td>\n",
       "      <td>[35-40)</td>\n",
       "    </tr>\n",
       "    <tr>\n",
       "      <th>4</th>\n",
       "      <td>5</td>\n",
       "      <td>0</td>\n",
       "      <td>3</td>\n",
       "      <td>Allen, Mr. William Henry</td>\n",
       "      <td>male</td>\n",
       "      <td>35.0</td>\n",
       "      <td>0</td>\n",
       "      <td>0</td>\n",
       "      <td>373450</td>\n",
       "      <td>8.0500</td>\n",
       "      <td>NaN</td>\n",
       "      <td>S</td>\n",
       "      <td>35.0</td>\n",
       "      <td>[35-40)</td>\n",
       "    </tr>\n",
       "  </tbody>\n",
       "</table>\n",
       "</div>"
      ],
      "text/plain": [
       "   PassengerId  Survived  Pclass  \\\n",
       "0            1         0       3   \n",
       "1            2         1       1   \n",
       "2            3         1       3   \n",
       "3            4         1       1   \n",
       "4            5         0       3   \n",
       "\n",
       "                                                Name     Sex   Age  SibSp  \\\n",
       "0                            Braund, Mr. Owen Harris    male  22.0      1   \n",
       "1  Cumings, Mrs. John Bradley (Florence Briggs Th...  female  38.0      1   \n",
       "2                             Heikkinen, Miss. Laina  female  26.0      0   \n",
       "3       Futrelle, Mrs. Jacques Heath (Lily May Peel)  female  35.0      1   \n",
       "4                           Allen, Mr. William Henry    male  35.0      0   \n",
       "\n",
       "   Parch            Ticket     Fare Cabin Embarked  age_rounded age_bucket  \n",
       "0      0         A/5 21171   7.2500   NaN        S         22.0    [20-25)  \n",
       "1      0          PC 17599  71.2833   C85        C         38.0    [35-40)  \n",
       "2      0  STON/O2. 3101282   7.9250   NaN        S         26.0    [25-30)  \n",
       "3      0            113803  53.1000  C123        S         35.0    [35-40)  \n",
       "4      0            373450   8.0500   NaN        S         35.0    [35-40)  "
      ]
     },
     "execution_count": 41,
     "metadata": {},
     "output_type": "execute_result"
    }
   ],
   "source": [
    "titanic_df.head()"
   ]
  },
  {
   "cell_type": "markdown",
   "id": "87e31f48-65f7-47ce-9b3b-27fc0ef20977",
   "metadata": {
    "jp-MarkdownHeadingCollapsed": true
   },
   "source": [
    "## Renaming columns"
   ]
  },
  {
   "cell_type": "code",
   "execution_count": 42,
   "id": "0f8344aa-b915-4422-9dba-8c44c545149b",
   "metadata": {},
   "outputs": [],
   "source": [
    "titanic_df = titanic_df.rename(\n",
    "    columns={\n",
    "        \"PassengerId\": \"passenger_id\",\n",
    "        \"Pclass\": \"ticket_class\",\n",
    "        \"SibSp\": \"num_siblings_and_spouses_onboard\",\n",
    "        \"Parch\": \"num_parents_and_children_onboard\",\n",
    "        \"Embarked\":\"port_of_embarkation\"})"
   ]
  },
  {
   "cell_type": "code",
   "execution_count": 43,
   "id": "b9e9ee34-1b11-49a4-8184-ae0767c28b8f",
   "metadata": {},
   "outputs": [
    {
     "data": {
      "text/html": [
       "<div>\n",
       "<style scoped>\n",
       "    .dataframe tbody tr th:only-of-type {\n",
       "        vertical-align: middle;\n",
       "    }\n",
       "\n",
       "    .dataframe tbody tr th {\n",
       "        vertical-align: top;\n",
       "    }\n",
       "\n",
       "    .dataframe thead th {\n",
       "        text-align: right;\n",
       "    }\n",
       "</style>\n",
       "<table border=\"1\" class=\"dataframe\">\n",
       "  <thead>\n",
       "    <tr style=\"text-align: right;\">\n",
       "      <th></th>\n",
       "      <th>passenger_id</th>\n",
       "      <th>Survived</th>\n",
       "      <th>ticket_class</th>\n",
       "      <th>Name</th>\n",
       "      <th>Sex</th>\n",
       "      <th>Age</th>\n",
       "      <th>num_siblings_and_spouses_onboard</th>\n",
       "      <th>num_parents_and_children_onboard</th>\n",
       "      <th>Ticket</th>\n",
       "      <th>Fare</th>\n",
       "      <th>Cabin</th>\n",
       "      <th>port_of_embarkation</th>\n",
       "      <th>age_rounded</th>\n",
       "      <th>age_bucket</th>\n",
       "    </tr>\n",
       "  </thead>\n",
       "  <tbody>\n",
       "    <tr>\n",
       "      <th>0</th>\n",
       "      <td>1</td>\n",
       "      <td>0</td>\n",
       "      <td>3</td>\n",
       "      <td>Braund, Mr. Owen Harris</td>\n",
       "      <td>male</td>\n",
       "      <td>22.0</td>\n",
       "      <td>1</td>\n",
       "      <td>0</td>\n",
       "      <td>A/5 21171</td>\n",
       "      <td>7.2500</td>\n",
       "      <td>NaN</td>\n",
       "      <td>S</td>\n",
       "      <td>22.0</td>\n",
       "      <td>[20-25)</td>\n",
       "    </tr>\n",
       "    <tr>\n",
       "      <th>1</th>\n",
       "      <td>2</td>\n",
       "      <td>1</td>\n",
       "      <td>1</td>\n",
       "      <td>Cumings, Mrs. John Bradley (Florence Briggs Th...</td>\n",
       "      <td>female</td>\n",
       "      <td>38.0</td>\n",
       "      <td>1</td>\n",
       "      <td>0</td>\n",
       "      <td>PC 17599</td>\n",
       "      <td>71.2833</td>\n",
       "      <td>C85</td>\n",
       "      <td>C</td>\n",
       "      <td>38.0</td>\n",
       "      <td>[35-40)</td>\n",
       "    </tr>\n",
       "    <tr>\n",
       "      <th>2</th>\n",
       "      <td>3</td>\n",
       "      <td>1</td>\n",
       "      <td>3</td>\n",
       "      <td>Heikkinen, Miss. Laina</td>\n",
       "      <td>female</td>\n",
       "      <td>26.0</td>\n",
       "      <td>0</td>\n",
       "      <td>0</td>\n",
       "      <td>STON/O2. 3101282</td>\n",
       "      <td>7.9250</td>\n",
       "      <td>NaN</td>\n",
       "      <td>S</td>\n",
       "      <td>26.0</td>\n",
       "      <td>[25-30)</td>\n",
       "    </tr>\n",
       "    <tr>\n",
       "      <th>3</th>\n",
       "      <td>4</td>\n",
       "      <td>1</td>\n",
       "      <td>1</td>\n",
       "      <td>Futrelle, Mrs. Jacques Heath (Lily May Peel)</td>\n",
       "      <td>female</td>\n",
       "      <td>35.0</td>\n",
       "      <td>1</td>\n",
       "      <td>0</td>\n",
       "      <td>113803</td>\n",
       "      <td>53.1000</td>\n",
       "      <td>C123</td>\n",
       "      <td>S</td>\n",
       "      <td>35.0</td>\n",
       "      <td>[35-40)</td>\n",
       "    </tr>\n",
       "    <tr>\n",
       "      <th>4</th>\n",
       "      <td>5</td>\n",
       "      <td>0</td>\n",
       "      <td>3</td>\n",
       "      <td>Allen, Mr. William Henry</td>\n",
       "      <td>male</td>\n",
       "      <td>35.0</td>\n",
       "      <td>0</td>\n",
       "      <td>0</td>\n",
       "      <td>373450</td>\n",
       "      <td>8.0500</td>\n",
       "      <td>NaN</td>\n",
       "      <td>S</td>\n",
       "      <td>35.0</td>\n",
       "      <td>[35-40)</td>\n",
       "    </tr>\n",
       "  </tbody>\n",
       "</table>\n",
       "</div>"
      ],
      "text/plain": [
       "   passenger_id  Survived  ticket_class  \\\n",
       "0             1         0             3   \n",
       "1             2         1             1   \n",
       "2             3         1             3   \n",
       "3             4         1             1   \n",
       "4             5         0             3   \n",
       "\n",
       "                                                Name     Sex   Age  \\\n",
       "0                            Braund, Mr. Owen Harris    male  22.0   \n",
       "1  Cumings, Mrs. John Bradley (Florence Briggs Th...  female  38.0   \n",
       "2                             Heikkinen, Miss. Laina  female  26.0   \n",
       "3       Futrelle, Mrs. Jacques Heath (Lily May Peel)  female  35.0   \n",
       "4                           Allen, Mr. William Henry    male  35.0   \n",
       "\n",
       "   num_siblings_and_spouses_onboard  num_parents_and_children_onboard  \\\n",
       "0                                 1                                 0   \n",
       "1                                 1                                 0   \n",
       "2                                 0                                 0   \n",
       "3                                 1                                 0   \n",
       "4                                 0                                 0   \n",
       "\n",
       "             Ticket     Fare Cabin port_of_embarkation  age_rounded age_bucket  \n",
       "0         A/5 21171   7.2500   NaN                   S         22.0    [20-25)  \n",
       "1          PC 17599  71.2833   C85                   C         38.0    [35-40)  \n",
       "2  STON/O2. 3101282   7.9250   NaN                   S         26.0    [25-30)  \n",
       "3            113803  53.1000  C123                   S         35.0    [35-40)  \n",
       "4            373450   8.0500   NaN                   S         35.0    [35-40)  "
      ]
     },
     "execution_count": 43,
     "metadata": {},
     "output_type": "execute_result"
    }
   ],
   "source": [
    "titanic_df.head()"
   ]
  },
  {
   "cell_type": "code",
   "execution_count": 44,
   "id": "24a67721-e29f-4a8a-95e1-4b1355b8e814",
   "metadata": {},
   "outputs": [],
   "source": [
    "titanic_df = titanic_df.rename(columns=str.lower)"
   ]
  },
  {
   "cell_type": "code",
   "execution_count": 45,
   "id": "b9abf77d-8aa2-4a26-93e5-9dff4fbef2c8",
   "metadata": {},
   "outputs": [
    {
     "data": {
      "text/html": [
       "<div>\n",
       "<style scoped>\n",
       "    .dataframe tbody tr th:only-of-type {\n",
       "        vertical-align: middle;\n",
       "    }\n",
       "\n",
       "    .dataframe tbody tr th {\n",
       "        vertical-align: top;\n",
       "    }\n",
       "\n",
       "    .dataframe thead th {\n",
       "        text-align: right;\n",
       "    }\n",
       "</style>\n",
       "<table border=\"1\" class=\"dataframe\">\n",
       "  <thead>\n",
       "    <tr style=\"text-align: right;\">\n",
       "      <th></th>\n",
       "      <th>passenger_id</th>\n",
       "      <th>survived</th>\n",
       "      <th>ticket_class</th>\n",
       "      <th>name</th>\n",
       "      <th>sex</th>\n",
       "      <th>age</th>\n",
       "      <th>num_siblings_and_spouses_onboard</th>\n",
       "      <th>num_parents_and_children_onboard</th>\n",
       "      <th>ticket</th>\n",
       "      <th>fare</th>\n",
       "      <th>cabin</th>\n",
       "      <th>port_of_embarkation</th>\n",
       "      <th>age_rounded</th>\n",
       "      <th>age_bucket</th>\n",
       "    </tr>\n",
       "  </thead>\n",
       "  <tbody>\n",
       "    <tr>\n",
       "      <th>0</th>\n",
       "      <td>1</td>\n",
       "      <td>0</td>\n",
       "      <td>3</td>\n",
       "      <td>Braund, Mr. Owen Harris</td>\n",
       "      <td>male</td>\n",
       "      <td>22.0</td>\n",
       "      <td>1</td>\n",
       "      <td>0</td>\n",
       "      <td>A/5 21171</td>\n",
       "      <td>7.2500</td>\n",
       "      <td>NaN</td>\n",
       "      <td>S</td>\n",
       "      <td>22.0</td>\n",
       "      <td>[20-25)</td>\n",
       "    </tr>\n",
       "    <tr>\n",
       "      <th>1</th>\n",
       "      <td>2</td>\n",
       "      <td>1</td>\n",
       "      <td>1</td>\n",
       "      <td>Cumings, Mrs. John Bradley (Florence Briggs Th...</td>\n",
       "      <td>female</td>\n",
       "      <td>38.0</td>\n",
       "      <td>1</td>\n",
       "      <td>0</td>\n",
       "      <td>PC 17599</td>\n",
       "      <td>71.2833</td>\n",
       "      <td>C85</td>\n",
       "      <td>C</td>\n",
       "      <td>38.0</td>\n",
       "      <td>[35-40)</td>\n",
       "    </tr>\n",
       "    <tr>\n",
       "      <th>2</th>\n",
       "      <td>3</td>\n",
       "      <td>1</td>\n",
       "      <td>3</td>\n",
       "      <td>Heikkinen, Miss. Laina</td>\n",
       "      <td>female</td>\n",
       "      <td>26.0</td>\n",
       "      <td>0</td>\n",
       "      <td>0</td>\n",
       "      <td>STON/O2. 3101282</td>\n",
       "      <td>7.9250</td>\n",
       "      <td>NaN</td>\n",
       "      <td>S</td>\n",
       "      <td>26.0</td>\n",
       "      <td>[25-30)</td>\n",
       "    </tr>\n",
       "    <tr>\n",
       "      <th>3</th>\n",
       "      <td>4</td>\n",
       "      <td>1</td>\n",
       "      <td>1</td>\n",
       "      <td>Futrelle, Mrs. Jacques Heath (Lily May Peel)</td>\n",
       "      <td>female</td>\n",
       "      <td>35.0</td>\n",
       "      <td>1</td>\n",
       "      <td>0</td>\n",
       "      <td>113803</td>\n",
       "      <td>53.1000</td>\n",
       "      <td>C123</td>\n",
       "      <td>S</td>\n",
       "      <td>35.0</td>\n",
       "      <td>[35-40)</td>\n",
       "    </tr>\n",
       "    <tr>\n",
       "      <th>4</th>\n",
       "      <td>5</td>\n",
       "      <td>0</td>\n",
       "      <td>3</td>\n",
       "      <td>Allen, Mr. William Henry</td>\n",
       "      <td>male</td>\n",
       "      <td>35.0</td>\n",
       "      <td>0</td>\n",
       "      <td>0</td>\n",
       "      <td>373450</td>\n",
       "      <td>8.0500</td>\n",
       "      <td>NaN</td>\n",
       "      <td>S</td>\n",
       "      <td>35.0</td>\n",
       "      <td>[35-40)</td>\n",
       "    </tr>\n",
       "  </tbody>\n",
       "</table>\n",
       "</div>"
      ],
      "text/plain": [
       "   passenger_id  survived  ticket_class  \\\n",
       "0             1         0             3   \n",
       "1             2         1             1   \n",
       "2             3         1             3   \n",
       "3             4         1             1   \n",
       "4             5         0             3   \n",
       "\n",
       "                                                name     sex   age  \\\n",
       "0                            Braund, Mr. Owen Harris    male  22.0   \n",
       "1  Cumings, Mrs. John Bradley (Florence Briggs Th...  female  38.0   \n",
       "2                             Heikkinen, Miss. Laina  female  26.0   \n",
       "3       Futrelle, Mrs. Jacques Heath (Lily May Peel)  female  35.0   \n",
       "4                           Allen, Mr. William Henry    male  35.0   \n",
       "\n",
       "   num_siblings_and_spouses_onboard  num_parents_and_children_onboard  \\\n",
       "0                                 1                                 0   \n",
       "1                                 1                                 0   \n",
       "2                                 0                                 0   \n",
       "3                                 1                                 0   \n",
       "4                                 0                                 0   \n",
       "\n",
       "             ticket     fare cabin port_of_embarkation  age_rounded age_bucket  \n",
       "0         A/5 21171   7.2500   NaN                   S         22.0    [20-25)  \n",
       "1          PC 17599  71.2833   C85                   C         38.0    [35-40)  \n",
       "2  STON/O2. 3101282   7.9250   NaN                   S         26.0    [25-30)  \n",
       "3            113803  53.1000  C123                   S         35.0    [35-40)  \n",
       "4            373450   8.0500   NaN                   S         35.0    [35-40)  "
      ]
     },
     "execution_count": 45,
     "metadata": {},
     "output_type": "execute_result"
    }
   ],
   "source": [
    "titanic_df.head()"
   ]
  },
  {
   "cell_type": "markdown",
   "id": "866af266-3c64-458f-a27e-9cf14bb1200d",
   "metadata": {
    "jp-MarkdownHeadingCollapsed": true
   },
   "source": [
    "## Grouping and aggregating"
   ]
  },
  {
   "cell_type": "code",
   "execution_count": 46,
   "id": "d7d6fb5d-cee6-4d1f-8530-9e4a84fef6f3",
   "metadata": {},
   "outputs": [
    {
     "data": {
      "text/html": [
       "<div>\n",
       "<style scoped>\n",
       "    .dataframe tbody tr th:only-of-type {\n",
       "        vertical-align: middle;\n",
       "    }\n",
       "\n",
       "    .dataframe tbody tr th {\n",
       "        vertical-align: top;\n",
       "    }\n",
       "\n",
       "    .dataframe thead th {\n",
       "        text-align: right;\n",
       "    }\n",
       "</style>\n",
       "<table border=\"1\" class=\"dataframe\">\n",
       "  <thead>\n",
       "    <tr style=\"text-align: right;\">\n",
       "      <th></th>\n",
       "      <th>passenger_id</th>\n",
       "      <th>survived</th>\n",
       "      <th>ticket_class</th>\n",
       "      <th>name</th>\n",
       "      <th>sex</th>\n",
       "      <th>age</th>\n",
       "      <th>num_siblings_and_spouses_onboard</th>\n",
       "      <th>num_parents_and_children_onboard</th>\n",
       "      <th>ticket</th>\n",
       "      <th>fare</th>\n",
       "      <th>cabin</th>\n",
       "      <th>port_of_embarkation</th>\n",
       "      <th>age_rounded</th>\n",
       "      <th>age_bucket</th>\n",
       "    </tr>\n",
       "  </thead>\n",
       "  <tbody>\n",
       "    <tr>\n",
       "      <th>0</th>\n",
       "      <td>1</td>\n",
       "      <td>0</td>\n",
       "      <td>3</td>\n",
       "      <td>Braund, Mr. Owen Harris</td>\n",
       "      <td>male</td>\n",
       "      <td>22.0</td>\n",
       "      <td>1</td>\n",
       "      <td>0</td>\n",
       "      <td>A/5 21171</td>\n",
       "      <td>7.2500</td>\n",
       "      <td>NaN</td>\n",
       "      <td>S</td>\n",
       "      <td>22.0</td>\n",
       "      <td>[20-25)</td>\n",
       "    </tr>\n",
       "    <tr>\n",
       "      <th>1</th>\n",
       "      <td>2</td>\n",
       "      <td>1</td>\n",
       "      <td>1</td>\n",
       "      <td>Cumings, Mrs. John Bradley (Florence Briggs Th...</td>\n",
       "      <td>female</td>\n",
       "      <td>38.0</td>\n",
       "      <td>1</td>\n",
       "      <td>0</td>\n",
       "      <td>PC 17599</td>\n",
       "      <td>71.2833</td>\n",
       "      <td>C85</td>\n",
       "      <td>C</td>\n",
       "      <td>38.0</td>\n",
       "      <td>[35-40)</td>\n",
       "    </tr>\n",
       "    <tr>\n",
       "      <th>2</th>\n",
       "      <td>3</td>\n",
       "      <td>1</td>\n",
       "      <td>3</td>\n",
       "      <td>Heikkinen, Miss. Laina</td>\n",
       "      <td>female</td>\n",
       "      <td>26.0</td>\n",
       "      <td>0</td>\n",
       "      <td>0</td>\n",
       "      <td>STON/O2. 3101282</td>\n",
       "      <td>7.9250</td>\n",
       "      <td>NaN</td>\n",
       "      <td>S</td>\n",
       "      <td>26.0</td>\n",
       "      <td>[25-30)</td>\n",
       "    </tr>\n",
       "    <tr>\n",
       "      <th>3</th>\n",
       "      <td>4</td>\n",
       "      <td>1</td>\n",
       "      <td>1</td>\n",
       "      <td>Futrelle, Mrs. Jacques Heath (Lily May Peel)</td>\n",
       "      <td>female</td>\n",
       "      <td>35.0</td>\n",
       "      <td>1</td>\n",
       "      <td>0</td>\n",
       "      <td>113803</td>\n",
       "      <td>53.1000</td>\n",
       "      <td>C123</td>\n",
       "      <td>S</td>\n",
       "      <td>35.0</td>\n",
       "      <td>[35-40)</td>\n",
       "    </tr>\n",
       "    <tr>\n",
       "      <th>4</th>\n",
       "      <td>5</td>\n",
       "      <td>0</td>\n",
       "      <td>3</td>\n",
       "      <td>Allen, Mr. William Henry</td>\n",
       "      <td>male</td>\n",
       "      <td>35.0</td>\n",
       "      <td>0</td>\n",
       "      <td>0</td>\n",
       "      <td>373450</td>\n",
       "      <td>8.0500</td>\n",
       "      <td>NaN</td>\n",
       "      <td>S</td>\n",
       "      <td>35.0</td>\n",
       "      <td>[35-40)</td>\n",
       "    </tr>\n",
       "  </tbody>\n",
       "</table>\n",
       "</div>"
      ],
      "text/plain": [
       "   passenger_id  survived  ticket_class  \\\n",
       "0             1         0             3   \n",
       "1             2         1             1   \n",
       "2             3         1             3   \n",
       "3             4         1             1   \n",
       "4             5         0             3   \n",
       "\n",
       "                                                name     sex   age  \\\n",
       "0                            Braund, Mr. Owen Harris    male  22.0   \n",
       "1  Cumings, Mrs. John Bradley (Florence Briggs Th...  female  38.0   \n",
       "2                             Heikkinen, Miss. Laina  female  26.0   \n",
       "3       Futrelle, Mrs. Jacques Heath (Lily May Peel)  female  35.0   \n",
       "4                           Allen, Mr. William Henry    male  35.0   \n",
       "\n",
       "   num_siblings_and_spouses_onboard  num_parents_and_children_onboard  \\\n",
       "0                                 1                                 0   \n",
       "1                                 1                                 0   \n",
       "2                                 0                                 0   \n",
       "3                                 1                                 0   \n",
       "4                                 0                                 0   \n",
       "\n",
       "             ticket     fare cabin port_of_embarkation  age_rounded age_bucket  \n",
       "0         A/5 21171   7.2500   NaN                   S         22.0    [20-25)  \n",
       "1          PC 17599  71.2833   C85                   C         38.0    [35-40)  \n",
       "2  STON/O2. 3101282   7.9250   NaN                   S         26.0    [25-30)  \n",
       "3            113803  53.1000  C123                   S         35.0    [35-40)  \n",
       "4            373450   8.0500   NaN                   S         35.0    [35-40)  "
      ]
     },
     "execution_count": 46,
     "metadata": {},
     "output_type": "execute_result"
    }
   ],
   "source": [
    "titanic_df.head()"
   ]
  },
  {
   "cell_type": "code",
   "execution_count": 47,
   "id": "aa79a63a-07e4-4e46-8a3a-82042f72ad0d",
   "metadata": {},
   "outputs": [
    {
     "data": {
      "text/plain": [
       "np.float64(29.69911764705882)"
      ]
     },
     "execution_count": 47,
     "metadata": {},
     "output_type": "execute_result"
    }
   ],
   "source": [
    "# Mean age of passengers on titanic\n",
    "\n",
    "titanic_df[\"age\"].mean()"
   ]
  },
  {
   "cell_type": "code",
   "execution_count": 48,
   "id": "7067c4d1-fa91-4aa1-805a-57f6b75ee8af",
   "metadata": {},
   "outputs": [
    {
     "data": {
      "text/plain": [
       "age     29.699118\n",
       "fare    32.204208\n",
       "dtype: float64"
      ]
     },
     "execution_count": 48,
     "metadata": {},
     "output_type": "execute_result"
    }
   ],
   "source": [
    "# Mean of multiple columns\n",
    "\n",
    "titanic_df[[\"age\", \"fare\"]].mean()"
   ]
  },
  {
   "cell_type": "code",
   "execution_count": 49,
   "id": "55be68ae-87bd-4b12-8e87-bd088d18df7f",
   "metadata": {},
   "outputs": [
    {
     "data": {
      "text/html": [
       "<div>\n",
       "<style scoped>\n",
       "    .dataframe tbody tr th:only-of-type {\n",
       "        vertical-align: middle;\n",
       "    }\n",
       "\n",
       "    .dataframe tbody tr th {\n",
       "        vertical-align: top;\n",
       "    }\n",
       "\n",
       "    .dataframe thead th {\n",
       "        text-align: right;\n",
       "    }\n",
       "</style>\n",
       "<table border=\"1\" class=\"dataframe\">\n",
       "  <thead>\n",
       "    <tr style=\"text-align: right;\">\n",
       "      <th></th>\n",
       "      <th>age</th>\n",
       "      <th>fare</th>\n",
       "    </tr>\n",
       "  </thead>\n",
       "  <tbody>\n",
       "    <tr>\n",
       "      <th>count</th>\n",
       "      <td>714.000000</td>\n",
       "      <td>891.000000</td>\n",
       "    </tr>\n",
       "    <tr>\n",
       "      <th>mean</th>\n",
       "      <td>29.699118</td>\n",
       "      <td>32.204208</td>\n",
       "    </tr>\n",
       "    <tr>\n",
       "      <th>std</th>\n",
       "      <td>14.526497</td>\n",
       "      <td>49.693429</td>\n",
       "    </tr>\n",
       "    <tr>\n",
       "      <th>min</th>\n",
       "      <td>0.420000</td>\n",
       "      <td>0.000000</td>\n",
       "    </tr>\n",
       "    <tr>\n",
       "      <th>25%</th>\n",
       "      <td>20.125000</td>\n",
       "      <td>7.910400</td>\n",
       "    </tr>\n",
       "    <tr>\n",
       "      <th>50%</th>\n",
       "      <td>28.000000</td>\n",
       "      <td>14.454200</td>\n",
       "    </tr>\n",
       "    <tr>\n",
       "      <th>75%</th>\n",
       "      <td>38.000000</td>\n",
       "      <td>31.000000</td>\n",
       "    </tr>\n",
       "    <tr>\n",
       "      <th>max</th>\n",
       "      <td>80.000000</td>\n",
       "      <td>512.329200</td>\n",
       "    </tr>\n",
       "  </tbody>\n",
       "</table>\n",
       "</div>"
      ],
      "text/plain": [
       "              age        fare\n",
       "count  714.000000  891.000000\n",
       "mean    29.699118   32.204208\n",
       "std     14.526497   49.693429\n",
       "min      0.420000    0.000000\n",
       "25%     20.125000    7.910400\n",
       "50%     28.000000   14.454200\n",
       "75%     38.000000   31.000000\n",
       "max     80.000000  512.329200"
      ]
     },
     "execution_count": 49,
     "metadata": {},
     "output_type": "execute_result"
    }
   ],
   "source": [
    "# Predefined set of sumaryh statistics defined in the describe method\n",
    "titanic_df[[\"age\", \"fare\"]].describe()"
   ]
  },
  {
   "cell_type": "code",
   "execution_count": 50,
   "id": "a1f5dbc2-a7ca-45b5-8b9e-1f0f4c1b7dcc",
   "metadata": {},
   "outputs": [
    {
     "data": {
      "text/html": [
       "<div>\n",
       "<style scoped>\n",
       "    .dataframe tbody tr th:only-of-type {\n",
       "        vertical-align: middle;\n",
       "    }\n",
       "\n",
       "    .dataframe tbody tr th {\n",
       "        vertical-align: top;\n",
       "    }\n",
       "\n",
       "    .dataframe thead th {\n",
       "        text-align: right;\n",
       "    }\n",
       "</style>\n",
       "<table border=\"1\" class=\"dataframe\">\n",
       "  <thead>\n",
       "    <tr style=\"text-align: right;\">\n",
       "      <th></th>\n",
       "      <th>age</th>\n",
       "      <th>fare</th>\n",
       "    </tr>\n",
       "  </thead>\n",
       "  <tbody>\n",
       "    <tr>\n",
       "      <th>min</th>\n",
       "      <td>0.420000</td>\n",
       "      <td>0.000000</td>\n",
       "    </tr>\n",
       "    <tr>\n",
       "      <th>max</th>\n",
       "      <td>80.000000</td>\n",
       "      <td>512.329200</td>\n",
       "    </tr>\n",
       "    <tr>\n",
       "      <th>median</th>\n",
       "      <td>28.000000</td>\n",
       "      <td>14.454200</td>\n",
       "    </tr>\n",
       "    <tr>\n",
       "      <th>skew</th>\n",
       "      <td>0.389108</td>\n",
       "      <td>NaN</td>\n",
       "    </tr>\n",
       "    <tr>\n",
       "      <th>mean</th>\n",
       "      <td>NaN</td>\n",
       "      <td>32.204208</td>\n",
       "    </tr>\n",
       "  </tbody>\n",
       "</table>\n",
       "</div>"
      ],
      "text/plain": [
       "              age        fare\n",
       "min      0.420000    0.000000\n",
       "max     80.000000  512.329200\n",
       "median  28.000000   14.454200\n",
       "skew     0.389108         NaN\n",
       "mean          NaN   32.204208"
      ]
     },
     "execution_count": 50,
     "metadata": {},
     "output_type": "execute_result"
    }
   ],
   "source": [
    "# Define a custom set of summary metrics\n",
    "titanic_df.agg(\n",
    "    {\n",
    "        \"age\": [\"min\", \"max\", \"median\", \"skew\"],\n",
    "        \"fare\": [\"min\", \"max\", \"median\", \"mean\"],\n",
    "    }\n",
    ")"
   ]
  },
  {
   "cell_type": "code",
   "execution_count": 51,
   "id": "45b190ae-8cde-4d01-b2dc-0fa146999308",
   "metadata": {},
   "outputs": [
    {
     "data": {
      "text/html": [
       "<div>\n",
       "<style scoped>\n",
       "    .dataframe tbody tr th:only-of-type {\n",
       "        vertical-align: middle;\n",
       "    }\n",
       "\n",
       "    .dataframe tbody tr th {\n",
       "        vertical-align: top;\n",
       "    }\n",
       "\n",
       "    .dataframe thead th {\n",
       "        text-align: right;\n",
       "    }\n",
       "</style>\n",
       "<table border=\"1\" class=\"dataframe\">\n",
       "  <thead>\n",
       "    <tr style=\"text-align: right;\">\n",
       "      <th></th>\n",
       "      <th>age</th>\n",
       "    </tr>\n",
       "    <tr>\n",
       "      <th>sex</th>\n",
       "      <th></th>\n",
       "    </tr>\n",
       "  </thead>\n",
       "  <tbody>\n",
       "    <tr>\n",
       "      <th>female</th>\n",
       "      <td>27.915709</td>\n",
       "    </tr>\n",
       "    <tr>\n",
       "      <th>male</th>\n",
       "      <td>30.726645</td>\n",
       "    </tr>\n",
       "  </tbody>\n",
       "</table>\n",
       "</div>"
      ],
      "text/plain": [
       "              age\n",
       "sex              \n",
       "female  27.915709\n",
       "male    30.726645"
      ]
     },
     "execution_count": 51,
     "metadata": {},
     "output_type": "execute_result"
    }
   ],
   "source": [
    "# Group by and aggregate\n",
    "\n",
    "titanic_df[[\"sex\", \"age\"]].groupby(\"sex\").mean()"
   ]
  },
  {
   "cell_type": "code",
   "execution_count": 52,
   "id": "54fed0c1-90b9-4466-8a09-24a9174ea307",
   "metadata": {},
   "outputs": [
    {
     "data": {
      "text/plain": [
       "sex\n",
       "female    27.915709\n",
       "male      30.726645\n",
       "Name: age, dtype: float64"
      ]
     },
     "execution_count": 52,
     "metadata": {},
     "output_type": "execute_result"
    }
   ],
   "source": [
    "# Alternatively\n",
    "titanic_df.groupby(\"sex\")[\"age\"].mean()"
   ]
  },
  {
   "cell_type": "code",
   "execution_count": 68,
   "id": "2bc5f943-4fde-4e68-a19f-85d49cf543dd",
   "metadata": {},
   "outputs": [
    {
     "name": "stdout",
     "output_type": "stream",
     "text": [
      "sex\n",
      "female    314\n",
      "male      577\n",
      "Name: age, dtype: int64\n",
      "sex\n",
      "female    261\n",
      "male      453\n",
      "Name: age, dtype: int64\n"
     ]
    }
   ],
   "source": [
    "# Size counts number of records\n",
    "print(titanic_df.groupby(\"sex\")['age'].size())\n",
    "\n",
    "# Count counts non null values\n",
    "print(titanic_df.groupby(\"sex\")['age'].count())"
   ]
  },
  {
   "cell_type": "code",
   "execution_count": 69,
   "id": "adc71675-4746-4b10-b59c-041adfa7661b",
   "metadata": {},
   "outputs": [
    {
     "data": {
      "text/html": [
       "<div>\n",
       "<style scoped>\n",
       "    .dataframe tbody tr th:only-of-type {\n",
       "        vertical-align: middle;\n",
       "    }\n",
       "\n",
       "    .dataframe tbody tr th {\n",
       "        vertical-align: top;\n",
       "    }\n",
       "\n",
       "    .dataframe thead th {\n",
       "        text-align: right;\n",
       "    }\n",
       "</style>\n",
       "<table border=\"1\" class=\"dataframe\">\n",
       "  <thead>\n",
       "    <tr style=\"text-align: right;\">\n",
       "      <th></th>\n",
       "      <th>passenger_id</th>\n",
       "      <th>survived</th>\n",
       "      <th>ticket_class</th>\n",
       "      <th>age</th>\n",
       "      <th>num_siblings_and_spouses_onboard</th>\n",
       "      <th>num_parents_and_children_onboard</th>\n",
       "      <th>fare</th>\n",
       "      <th>age_rounded</th>\n",
       "    </tr>\n",
       "    <tr>\n",
       "      <th>sex</th>\n",
       "      <th></th>\n",
       "      <th></th>\n",
       "      <th></th>\n",
       "      <th></th>\n",
       "      <th></th>\n",
       "      <th></th>\n",
       "      <th></th>\n",
       "      <th></th>\n",
       "    </tr>\n",
       "  </thead>\n",
       "  <tbody>\n",
       "    <tr>\n",
       "      <th>female</th>\n",
       "      <td>431.028662</td>\n",
       "      <td>0.742038</td>\n",
       "      <td>2.159236</td>\n",
       "      <td>27.915709</td>\n",
       "      <td>0.694268</td>\n",
       "      <td>0.649682</td>\n",
       "      <td>44.479818</td>\n",
       "      <td>27.911877</td>\n",
       "    </tr>\n",
       "    <tr>\n",
       "      <th>male</th>\n",
       "      <td>454.147314</td>\n",
       "      <td>0.188908</td>\n",
       "      <td>2.389948</td>\n",
       "      <td>30.726645</td>\n",
       "      <td>0.429809</td>\n",
       "      <td>0.235702</td>\n",
       "      <td>25.523893</td>\n",
       "      <td>30.719647</td>\n",
       "    </tr>\n",
       "  </tbody>\n",
       "</table>\n",
       "</div>"
      ],
      "text/plain": [
       "        passenger_id  survived  ticket_class        age  \\\n",
       "sex                                                       \n",
       "female    431.028662  0.742038      2.159236  27.915709   \n",
       "male      454.147314  0.188908      2.389948  30.726645   \n",
       "\n",
       "        num_siblings_and_spouses_onboard  num_parents_and_children_onboard  \\\n",
       "sex                                                                          \n",
       "female                          0.694268                          0.649682   \n",
       "male                            0.429809                          0.235702   \n",
       "\n",
       "             fare  age_rounded  \n",
       "sex                             \n",
       "female  44.479818    27.911877  \n",
       "male    25.523893    30.719647  "
      ]
     },
     "execution_count": 69,
     "metadata": {},
     "output_type": "execute_result"
    }
   ],
   "source": [
    "# Group by and aggregate all numeric columns\n",
    "\n",
    "titanic_df.groupby(\"sex\").mean(numeric_only=True)"
   ]
  },
  {
   "cell_type": "markdown",
   "id": "449bfd65-50c5-44c2-9ea5-cab9b6fb06a3",
   "metadata": {
    "jp-MarkdownHeadingCollapsed": true
   },
   "source": [
    "## Sorting"
   ]
  },
  {
   "cell_type": "code",
   "execution_count": 70,
   "id": "85fe6fc6-72ef-4d24-a32e-02bb879af0d1",
   "metadata": {},
   "outputs": [
    {
     "data": {
      "text/html": [
       "<div>\n",
       "<style scoped>\n",
       "    .dataframe tbody tr th:only-of-type {\n",
       "        vertical-align: middle;\n",
       "    }\n",
       "\n",
       "    .dataframe tbody tr th {\n",
       "        vertical-align: top;\n",
       "    }\n",
       "\n",
       "    .dataframe thead th {\n",
       "        text-align: right;\n",
       "    }\n",
       "</style>\n",
       "<table border=\"1\" class=\"dataframe\">\n",
       "  <thead>\n",
       "    <tr style=\"text-align: right;\">\n",
       "      <th></th>\n",
       "      <th>passenger_id</th>\n",
       "      <th>survived</th>\n",
       "      <th>ticket_class</th>\n",
       "      <th>name</th>\n",
       "      <th>sex</th>\n",
       "      <th>age</th>\n",
       "      <th>num_siblings_and_spouses_onboard</th>\n",
       "      <th>num_parents_and_children_onboard</th>\n",
       "      <th>ticket</th>\n",
       "      <th>fare</th>\n",
       "      <th>cabin</th>\n",
       "      <th>port_of_embarkation</th>\n",
       "      <th>age_rounded</th>\n",
       "      <th>age_bucket</th>\n",
       "    </tr>\n",
       "  </thead>\n",
       "  <tbody>\n",
       "    <tr>\n",
       "      <th>851</th>\n",
       "      <td>852</td>\n",
       "      <td>0</td>\n",
       "      <td>3</td>\n",
       "      <td>Svensson, Mr. Johan</td>\n",
       "      <td>male</td>\n",
       "      <td>74.0</td>\n",
       "      <td>0</td>\n",
       "      <td>0</td>\n",
       "      <td>347060</td>\n",
       "      <td>7.7750</td>\n",
       "      <td>NaN</td>\n",
       "      <td>S</td>\n",
       "      <td>74.0</td>\n",
       "      <td>[70-75)</td>\n",
       "    </tr>\n",
       "    <tr>\n",
       "      <th>116</th>\n",
       "      <td>117</td>\n",
       "      <td>0</td>\n",
       "      <td>3</td>\n",
       "      <td>Connors, Mr. Patrick</td>\n",
       "      <td>male</td>\n",
       "      <td>70.5</td>\n",
       "      <td>0</td>\n",
       "      <td>0</td>\n",
       "      <td>370369</td>\n",
       "      <td>7.7500</td>\n",
       "      <td>NaN</td>\n",
       "      <td>Q</td>\n",
       "      <td>70.0</td>\n",
       "      <td>[70-75)</td>\n",
       "    </tr>\n",
       "    <tr>\n",
       "      <th>280</th>\n",
       "      <td>281</td>\n",
       "      <td>0</td>\n",
       "      <td>3</td>\n",
       "      <td>Duane, Mr. Frank</td>\n",
       "      <td>male</td>\n",
       "      <td>65.0</td>\n",
       "      <td>0</td>\n",
       "      <td>0</td>\n",
       "      <td>336439</td>\n",
       "      <td>7.7500</td>\n",
       "      <td>NaN</td>\n",
       "      <td>Q</td>\n",
       "      <td>65.0</td>\n",
       "      <td>[65-70)</td>\n",
       "    </tr>\n",
       "    <tr>\n",
       "      <th>483</th>\n",
       "      <td>484</td>\n",
       "      <td>1</td>\n",
       "      <td>3</td>\n",
       "      <td>Turkula, Mrs. (Hedwig)</td>\n",
       "      <td>female</td>\n",
       "      <td>63.0</td>\n",
       "      <td>0</td>\n",
       "      <td>0</td>\n",
       "      <td>4134</td>\n",
       "      <td>9.5875</td>\n",
       "      <td>NaN</td>\n",
       "      <td>S</td>\n",
       "      <td>63.0</td>\n",
       "      <td>[60-65)</td>\n",
       "    </tr>\n",
       "    <tr>\n",
       "      <th>326</th>\n",
       "      <td>327</td>\n",
       "      <td>0</td>\n",
       "      <td>3</td>\n",
       "      <td>Nysveen, Mr. Johan Hansen</td>\n",
       "      <td>male</td>\n",
       "      <td>61.0</td>\n",
       "      <td>0</td>\n",
       "      <td>0</td>\n",
       "      <td>345364</td>\n",
       "      <td>6.2375</td>\n",
       "      <td>NaN</td>\n",
       "      <td>S</td>\n",
       "      <td>61.0</td>\n",
       "      <td>[60-65)</td>\n",
       "    </tr>\n",
       "  </tbody>\n",
       "</table>\n",
       "</div>"
      ],
      "text/plain": [
       "     passenger_id  survived  ticket_class                       name     sex  \\\n",
       "851           852         0             3        Svensson, Mr. Johan    male   \n",
       "116           117         0             3       Connors, Mr. Patrick    male   \n",
       "280           281         0             3           Duane, Mr. Frank    male   \n",
       "483           484         1             3     Turkula, Mrs. (Hedwig)  female   \n",
       "326           327         0             3  Nysveen, Mr. Johan Hansen    male   \n",
       "\n",
       "      age  num_siblings_and_spouses_onboard  num_parents_and_children_onboard  \\\n",
       "851  74.0                                 0                                 0   \n",
       "116  70.5                                 0                                 0   \n",
       "280  65.0                                 0                                 0   \n",
       "483  63.0                                 0                                 0   \n",
       "326  61.0                                 0                                 0   \n",
       "\n",
       "     ticket    fare cabin port_of_embarkation  age_rounded age_bucket  \n",
       "851  347060  7.7750   NaN                   S         74.0    [70-75)  \n",
       "116  370369  7.7500   NaN                   Q         70.0    [70-75)  \n",
       "280  336439  7.7500   NaN                   Q         65.0    [65-70)  \n",
       "483    4134  9.5875   NaN                   S         63.0    [60-65)  \n",
       "326  345364  6.2375   NaN                   S         61.0    [60-65)  "
      ]
     },
     "execution_count": 70,
     "metadata": {},
     "output_type": "execute_result"
    }
   ],
   "source": [
    "titanic_df.sort_values(by=['ticket_class', 'age'], ascending=False).head()"
   ]
  },
  {
   "cell_type": "code",
   "execution_count": 75,
   "id": "f9c2e2b2-5eb9-45b8-94d1-6c55c2e7afd6",
   "metadata": {},
   "outputs": [],
   "source": [
    "# Sort index  will soer according to labels\n",
    "\n",
    "new_df = titanic_df.head().sort_values(by = \"name\")"
   ]
  },
  {
   "cell_type": "code",
   "execution_count": 76,
   "id": "5ea8d7c6-e56a-4fe2-be5e-415c0ff03027",
   "metadata": {},
   "outputs": [
    {
     "data": {
      "text/html": [
       "<div>\n",
       "<style scoped>\n",
       "    .dataframe tbody tr th:only-of-type {\n",
       "        vertical-align: middle;\n",
       "    }\n",
       "\n",
       "    .dataframe tbody tr th {\n",
       "        vertical-align: top;\n",
       "    }\n",
       "\n",
       "    .dataframe thead th {\n",
       "        text-align: right;\n",
       "    }\n",
       "</style>\n",
       "<table border=\"1\" class=\"dataframe\">\n",
       "  <thead>\n",
       "    <tr style=\"text-align: right;\">\n",
       "      <th></th>\n",
       "      <th>passenger_id</th>\n",
       "      <th>survived</th>\n",
       "      <th>ticket_class</th>\n",
       "      <th>name</th>\n",
       "      <th>sex</th>\n",
       "      <th>age</th>\n",
       "      <th>num_siblings_and_spouses_onboard</th>\n",
       "      <th>num_parents_and_children_onboard</th>\n",
       "      <th>ticket</th>\n",
       "      <th>fare</th>\n",
       "      <th>cabin</th>\n",
       "      <th>port_of_embarkation</th>\n",
       "      <th>age_rounded</th>\n",
       "      <th>age_bucket</th>\n",
       "    </tr>\n",
       "  </thead>\n",
       "  <tbody>\n",
       "    <tr>\n",
       "      <th>4</th>\n",
       "      <td>5</td>\n",
       "      <td>0</td>\n",
       "      <td>3</td>\n",
       "      <td>Allen, Mr. William Henry</td>\n",
       "      <td>male</td>\n",
       "      <td>35.0</td>\n",
       "      <td>0</td>\n",
       "      <td>0</td>\n",
       "      <td>373450</td>\n",
       "      <td>8.0500</td>\n",
       "      <td>NaN</td>\n",
       "      <td>S</td>\n",
       "      <td>35.0</td>\n",
       "      <td>[35-40)</td>\n",
       "    </tr>\n",
       "    <tr>\n",
       "      <th>0</th>\n",
       "      <td>1</td>\n",
       "      <td>0</td>\n",
       "      <td>3</td>\n",
       "      <td>Braund, Mr. Owen Harris</td>\n",
       "      <td>male</td>\n",
       "      <td>22.0</td>\n",
       "      <td>1</td>\n",
       "      <td>0</td>\n",
       "      <td>A/5 21171</td>\n",
       "      <td>7.2500</td>\n",
       "      <td>NaN</td>\n",
       "      <td>S</td>\n",
       "      <td>22.0</td>\n",
       "      <td>[20-25)</td>\n",
       "    </tr>\n",
       "    <tr>\n",
       "      <th>1</th>\n",
       "      <td>2</td>\n",
       "      <td>1</td>\n",
       "      <td>1</td>\n",
       "      <td>Cumings, Mrs. John Bradley (Florence Briggs Th...</td>\n",
       "      <td>female</td>\n",
       "      <td>38.0</td>\n",
       "      <td>1</td>\n",
       "      <td>0</td>\n",
       "      <td>PC 17599</td>\n",
       "      <td>71.2833</td>\n",
       "      <td>C85</td>\n",
       "      <td>C</td>\n",
       "      <td>38.0</td>\n",
       "      <td>[35-40)</td>\n",
       "    </tr>\n",
       "    <tr>\n",
       "      <th>3</th>\n",
       "      <td>4</td>\n",
       "      <td>1</td>\n",
       "      <td>1</td>\n",
       "      <td>Futrelle, Mrs. Jacques Heath (Lily May Peel)</td>\n",
       "      <td>female</td>\n",
       "      <td>35.0</td>\n",
       "      <td>1</td>\n",
       "      <td>0</td>\n",
       "      <td>113803</td>\n",
       "      <td>53.1000</td>\n",
       "      <td>C123</td>\n",
       "      <td>S</td>\n",
       "      <td>35.0</td>\n",
       "      <td>[35-40)</td>\n",
       "    </tr>\n",
       "    <tr>\n",
       "      <th>2</th>\n",
       "      <td>3</td>\n",
       "      <td>1</td>\n",
       "      <td>3</td>\n",
       "      <td>Heikkinen, Miss. Laina</td>\n",
       "      <td>female</td>\n",
       "      <td>26.0</td>\n",
       "      <td>0</td>\n",
       "      <td>0</td>\n",
       "      <td>STON/O2. 3101282</td>\n",
       "      <td>7.9250</td>\n",
       "      <td>NaN</td>\n",
       "      <td>S</td>\n",
       "      <td>26.0</td>\n",
       "      <td>[25-30)</td>\n",
       "    </tr>\n",
       "  </tbody>\n",
       "</table>\n",
       "</div>"
      ],
      "text/plain": [
       "   passenger_id  survived  ticket_class  \\\n",
       "4             5         0             3   \n",
       "0             1         0             3   \n",
       "1             2         1             1   \n",
       "3             4         1             1   \n",
       "2             3         1             3   \n",
       "\n",
       "                                                name     sex   age  \\\n",
       "4                           Allen, Mr. William Henry    male  35.0   \n",
       "0                            Braund, Mr. Owen Harris    male  22.0   \n",
       "1  Cumings, Mrs. John Bradley (Florence Briggs Th...  female  38.0   \n",
       "3       Futrelle, Mrs. Jacques Heath (Lily May Peel)  female  35.0   \n",
       "2                             Heikkinen, Miss. Laina  female  26.0   \n",
       "\n",
       "   num_siblings_and_spouses_onboard  num_parents_and_children_onboard  \\\n",
       "4                                 0                                 0   \n",
       "0                                 1                                 0   \n",
       "1                                 1                                 0   \n",
       "3                                 1                                 0   \n",
       "2                                 0                                 0   \n",
       "\n",
       "             ticket     fare cabin port_of_embarkation  age_rounded age_bucket  \n",
       "4            373450   8.0500   NaN                   S         35.0    [35-40)  \n",
       "0         A/5 21171   7.2500   NaN                   S         22.0    [20-25)  \n",
       "1          PC 17599  71.2833   C85                   C         38.0    [35-40)  \n",
       "3            113803  53.1000  C123                   S         35.0    [35-40)  \n",
       "2  STON/O2. 3101282   7.9250   NaN                   S         26.0    [25-30)  "
      ]
     },
     "execution_count": 76,
     "metadata": {},
     "output_type": "execute_result"
    }
   ],
   "source": [
    "new_df.head()"
   ]
  },
  {
   "cell_type": "code",
   "execution_count": 78,
   "id": "7692883a-0cf9-4219-8c4b-4a71c417b017",
   "metadata": {},
   "outputs": [
    {
     "data": {
      "text/html": [
       "<div>\n",
       "<style scoped>\n",
       "    .dataframe tbody tr th:only-of-type {\n",
       "        vertical-align: middle;\n",
       "    }\n",
       "\n",
       "    .dataframe tbody tr th {\n",
       "        vertical-align: top;\n",
       "    }\n",
       "\n",
       "    .dataframe thead th {\n",
       "        text-align: right;\n",
       "    }\n",
       "</style>\n",
       "<table border=\"1\" class=\"dataframe\">\n",
       "  <thead>\n",
       "    <tr style=\"text-align: right;\">\n",
       "      <th></th>\n",
       "      <th>passenger_id</th>\n",
       "      <th>survived</th>\n",
       "      <th>ticket_class</th>\n",
       "      <th>name</th>\n",
       "      <th>sex</th>\n",
       "      <th>age</th>\n",
       "      <th>num_siblings_and_spouses_onboard</th>\n",
       "      <th>num_parents_and_children_onboard</th>\n",
       "      <th>ticket</th>\n",
       "      <th>fare</th>\n",
       "      <th>cabin</th>\n",
       "      <th>port_of_embarkation</th>\n",
       "      <th>age_rounded</th>\n",
       "      <th>age_bucket</th>\n",
       "    </tr>\n",
       "  </thead>\n",
       "  <tbody>\n",
       "    <tr>\n",
       "      <th>0</th>\n",
       "      <td>1</td>\n",
       "      <td>0</td>\n",
       "      <td>3</td>\n",
       "      <td>Braund, Mr. Owen Harris</td>\n",
       "      <td>male</td>\n",
       "      <td>22.0</td>\n",
       "      <td>1</td>\n",
       "      <td>0</td>\n",
       "      <td>A/5 21171</td>\n",
       "      <td>7.2500</td>\n",
       "      <td>NaN</td>\n",
       "      <td>S</td>\n",
       "      <td>22.0</td>\n",
       "      <td>[20-25)</td>\n",
       "    </tr>\n",
       "    <tr>\n",
       "      <th>1</th>\n",
       "      <td>2</td>\n",
       "      <td>1</td>\n",
       "      <td>1</td>\n",
       "      <td>Cumings, Mrs. John Bradley (Florence Briggs Th...</td>\n",
       "      <td>female</td>\n",
       "      <td>38.0</td>\n",
       "      <td>1</td>\n",
       "      <td>0</td>\n",
       "      <td>PC 17599</td>\n",
       "      <td>71.2833</td>\n",
       "      <td>C85</td>\n",
       "      <td>C</td>\n",
       "      <td>38.0</td>\n",
       "      <td>[35-40)</td>\n",
       "    </tr>\n",
       "    <tr>\n",
       "      <th>2</th>\n",
       "      <td>3</td>\n",
       "      <td>1</td>\n",
       "      <td>3</td>\n",
       "      <td>Heikkinen, Miss. Laina</td>\n",
       "      <td>female</td>\n",
       "      <td>26.0</td>\n",
       "      <td>0</td>\n",
       "      <td>0</td>\n",
       "      <td>STON/O2. 3101282</td>\n",
       "      <td>7.9250</td>\n",
       "      <td>NaN</td>\n",
       "      <td>S</td>\n",
       "      <td>26.0</td>\n",
       "      <td>[25-30)</td>\n",
       "    </tr>\n",
       "    <tr>\n",
       "      <th>3</th>\n",
       "      <td>4</td>\n",
       "      <td>1</td>\n",
       "      <td>1</td>\n",
       "      <td>Futrelle, Mrs. Jacques Heath (Lily May Peel)</td>\n",
       "      <td>female</td>\n",
       "      <td>35.0</td>\n",
       "      <td>1</td>\n",
       "      <td>0</td>\n",
       "      <td>113803</td>\n",
       "      <td>53.1000</td>\n",
       "      <td>C123</td>\n",
       "      <td>S</td>\n",
       "      <td>35.0</td>\n",
       "      <td>[35-40)</td>\n",
       "    </tr>\n",
       "    <tr>\n",
       "      <th>4</th>\n",
       "      <td>5</td>\n",
       "      <td>0</td>\n",
       "      <td>3</td>\n",
       "      <td>Allen, Mr. William Henry</td>\n",
       "      <td>male</td>\n",
       "      <td>35.0</td>\n",
       "      <td>0</td>\n",
       "      <td>0</td>\n",
       "      <td>373450</td>\n",
       "      <td>8.0500</td>\n",
       "      <td>NaN</td>\n",
       "      <td>S</td>\n",
       "      <td>35.0</td>\n",
       "      <td>[35-40)</td>\n",
       "    </tr>\n",
       "  </tbody>\n",
       "</table>\n",
       "</div>"
      ],
      "text/plain": [
       "   passenger_id  survived  ticket_class  \\\n",
       "0             1         0             3   \n",
       "1             2         1             1   \n",
       "2             3         1             3   \n",
       "3             4         1             1   \n",
       "4             5         0             3   \n",
       "\n",
       "                                                name     sex   age  \\\n",
       "0                            Braund, Mr. Owen Harris    male  22.0   \n",
       "1  Cumings, Mrs. John Bradley (Florence Briggs Th...  female  38.0   \n",
       "2                             Heikkinen, Miss. Laina  female  26.0   \n",
       "3       Futrelle, Mrs. Jacques Heath (Lily May Peel)  female  35.0   \n",
       "4                           Allen, Mr. William Henry    male  35.0   \n",
       "\n",
       "   num_siblings_and_spouses_onboard  num_parents_and_children_onboard  \\\n",
       "0                                 1                                 0   \n",
       "1                                 1                                 0   \n",
       "2                                 0                                 0   \n",
       "3                                 1                                 0   \n",
       "4                                 0                                 0   \n",
       "\n",
       "             ticket     fare cabin port_of_embarkation  age_rounded age_bucket  \n",
       "0         A/5 21171   7.2500   NaN                   S         22.0    [20-25)  \n",
       "1          PC 17599  71.2833   C85                   C         38.0    [35-40)  \n",
       "2  STON/O2. 3101282   7.9250   NaN                   S         26.0    [25-30)  \n",
       "3            113803  53.1000  C123                   S         35.0    [35-40)  \n",
       "4            373450   8.0500   NaN                   S         35.0    [35-40)  "
      ]
     },
     "execution_count": 78,
     "metadata": {},
     "output_type": "execute_result"
    }
   ],
   "source": [
    "# Reverts back to the original order of the table\n",
    "new_df.sort_index()"
   ]
  },
  {
   "cell_type": "code",
   "execution_count": 79,
   "id": "63847e7c-0a7f-4e05-88f2-137a4595b9c1",
   "metadata": {},
   "outputs": [
    {
     "data": {
      "text/html": [
       "<div>\n",
       "<style scoped>\n",
       "    .dataframe tbody tr th:only-of-type {\n",
       "        vertical-align: middle;\n",
       "    }\n",
       "\n",
       "    .dataframe tbody tr th {\n",
       "        vertical-align: top;\n",
       "    }\n",
       "\n",
       "    .dataframe thead th {\n",
       "        text-align: right;\n",
       "    }\n",
       "</style>\n",
       "<table border=\"1\" class=\"dataframe\">\n",
       "  <thead>\n",
       "    <tr style=\"text-align: right;\">\n",
       "      <th></th>\n",
       "      <th>age</th>\n",
       "      <th>age_bucket</th>\n",
       "      <th>age_rounded</th>\n",
       "      <th>cabin</th>\n",
       "      <th>fare</th>\n",
       "      <th>name</th>\n",
       "      <th>num_parents_and_children_onboard</th>\n",
       "      <th>num_siblings_and_spouses_onboard</th>\n",
       "      <th>passenger_id</th>\n",
       "      <th>port_of_embarkation</th>\n",
       "      <th>sex</th>\n",
       "      <th>survived</th>\n",
       "      <th>ticket</th>\n",
       "      <th>ticket_class</th>\n",
       "    </tr>\n",
       "  </thead>\n",
       "  <tbody>\n",
       "    <tr>\n",
       "      <th>4</th>\n",
       "      <td>35.0</td>\n",
       "      <td>[35-40)</td>\n",
       "      <td>35.0</td>\n",
       "      <td>NaN</td>\n",
       "      <td>8.0500</td>\n",
       "      <td>Allen, Mr. William Henry</td>\n",
       "      <td>0</td>\n",
       "      <td>0</td>\n",
       "      <td>5</td>\n",
       "      <td>S</td>\n",
       "      <td>male</td>\n",
       "      <td>0</td>\n",
       "      <td>373450</td>\n",
       "      <td>3</td>\n",
       "    </tr>\n",
       "    <tr>\n",
       "      <th>0</th>\n",
       "      <td>22.0</td>\n",
       "      <td>[20-25)</td>\n",
       "      <td>22.0</td>\n",
       "      <td>NaN</td>\n",
       "      <td>7.2500</td>\n",
       "      <td>Braund, Mr. Owen Harris</td>\n",
       "      <td>0</td>\n",
       "      <td>1</td>\n",
       "      <td>1</td>\n",
       "      <td>S</td>\n",
       "      <td>male</td>\n",
       "      <td>0</td>\n",
       "      <td>A/5 21171</td>\n",
       "      <td>3</td>\n",
       "    </tr>\n",
       "    <tr>\n",
       "      <th>1</th>\n",
       "      <td>38.0</td>\n",
       "      <td>[35-40)</td>\n",
       "      <td>38.0</td>\n",
       "      <td>C85</td>\n",
       "      <td>71.2833</td>\n",
       "      <td>Cumings, Mrs. John Bradley (Florence Briggs Th...</td>\n",
       "      <td>0</td>\n",
       "      <td>1</td>\n",
       "      <td>2</td>\n",
       "      <td>C</td>\n",
       "      <td>female</td>\n",
       "      <td>1</td>\n",
       "      <td>PC 17599</td>\n",
       "      <td>1</td>\n",
       "    </tr>\n",
       "    <tr>\n",
       "      <th>3</th>\n",
       "      <td>35.0</td>\n",
       "      <td>[35-40)</td>\n",
       "      <td>35.0</td>\n",
       "      <td>C123</td>\n",
       "      <td>53.1000</td>\n",
       "      <td>Futrelle, Mrs. Jacques Heath (Lily May Peel)</td>\n",
       "      <td>0</td>\n",
       "      <td>1</td>\n",
       "      <td>4</td>\n",
       "      <td>S</td>\n",
       "      <td>female</td>\n",
       "      <td>1</td>\n",
       "      <td>113803</td>\n",
       "      <td>1</td>\n",
       "    </tr>\n",
       "    <tr>\n",
       "      <th>2</th>\n",
       "      <td>26.0</td>\n",
       "      <td>[25-30)</td>\n",
       "      <td>26.0</td>\n",
       "      <td>NaN</td>\n",
       "      <td>7.9250</td>\n",
       "      <td>Heikkinen, Miss. Laina</td>\n",
       "      <td>0</td>\n",
       "      <td>0</td>\n",
       "      <td>3</td>\n",
       "      <td>S</td>\n",
       "      <td>female</td>\n",
       "      <td>1</td>\n",
       "      <td>STON/O2. 3101282</td>\n",
       "      <td>3</td>\n",
       "    </tr>\n",
       "  </tbody>\n",
       "</table>\n",
       "</div>"
      ],
      "text/plain": [
       "    age age_bucket  age_rounded cabin     fare  \\\n",
       "4  35.0    [35-40)         35.0   NaN   8.0500   \n",
       "0  22.0    [20-25)         22.0   NaN   7.2500   \n",
       "1  38.0    [35-40)         38.0   C85  71.2833   \n",
       "3  35.0    [35-40)         35.0  C123  53.1000   \n",
       "2  26.0    [25-30)         26.0   NaN   7.9250   \n",
       "\n",
       "                                                name  \\\n",
       "4                           Allen, Mr. William Henry   \n",
       "0                            Braund, Mr. Owen Harris   \n",
       "1  Cumings, Mrs. John Bradley (Florence Briggs Th...   \n",
       "3       Futrelle, Mrs. Jacques Heath (Lily May Peel)   \n",
       "2                             Heikkinen, Miss. Laina   \n",
       "\n",
       "   num_parents_and_children_onboard  num_siblings_and_spouses_onboard  \\\n",
       "4                                 0                                 0   \n",
       "0                                 0                                 1   \n",
       "1                                 0                                 1   \n",
       "3                                 0                                 1   \n",
       "2                                 0                                 0   \n",
       "\n",
       "   passenger_id port_of_embarkation     sex  survived            ticket  \\\n",
       "4             5                   S    male         0            373450   \n",
       "0             1                   S    male         0         A/5 21171   \n",
       "1             2                   C  female         1          PC 17599   \n",
       "3             4                   S  female         1            113803   \n",
       "2             3                   S  female         1  STON/O2. 3101282   \n",
       "\n",
       "   ticket_class  \n",
       "4             3  \n",
       "0             3  \n",
       "1             1  \n",
       "3             1  \n",
       "2             3  "
      ]
     },
     "execution_count": 79,
     "metadata": {},
     "output_type": "execute_result"
    }
   ],
   "source": [
    "# We can also use sort_index to sort columns instead of rows\n",
    "\n",
    "new_df.sort_index(axis=1)"
   ]
  },
  {
   "cell_type": "markdown",
   "id": "349bed16-f4a2-4f35-8291-59f38faa5f4e",
   "metadata": {
    "jp-MarkdownHeadingCollapsed": true
   },
   "source": [
    "## Reshaping"
   ]
  },
  {
   "cell_type": "code",
   "execution_count": 94,
   "id": "67218e7e-d072-4de5-90ab-14273d36a43c",
   "metadata": {},
   "outputs": [],
   "source": [
    "# Long to wide (no aggregation, only rearranging)\n",
    "data = [\n",
    "    ['A', 'Engineer', 20],\n",
    "    ['A', 'Mechanic', 34],\n",
    "    ['A', 'HR', 1],\n",
    "    ['B', 'Engineer', 12],\n",
    "    ['B', 'HR', 4],\n",
    "    ['B', 'Accounts', 6],\n",
    "    ['C', 'Engineer', 56],\n",
    "    ['C', 'Mechanic', 23],\n",
    "    ['C', 'Accounts', 1]\n",
    "]\n",
    "df = pd.DataFrame(data = data, columns=[\"company\", \"position\", \"head_count\"])"
   ]
  },
  {
   "cell_type": "code",
   "execution_count": 95,
   "id": "96618e52-9ee4-4ebe-8518-ab01ad7decc7",
   "metadata": {},
   "outputs": [
    {
     "data": {
      "text/html": [
       "<div>\n",
       "<style scoped>\n",
       "    .dataframe tbody tr th:only-of-type {\n",
       "        vertical-align: middle;\n",
       "    }\n",
       "\n",
       "    .dataframe tbody tr th {\n",
       "        vertical-align: top;\n",
       "    }\n",
       "\n",
       "    .dataframe thead th {\n",
       "        text-align: right;\n",
       "    }\n",
       "</style>\n",
       "<table border=\"1\" class=\"dataframe\">\n",
       "  <thead>\n",
       "    <tr style=\"text-align: right;\">\n",
       "      <th></th>\n",
       "      <th>company</th>\n",
       "      <th>position</th>\n",
       "      <th>head_count</th>\n",
       "    </tr>\n",
       "  </thead>\n",
       "  <tbody>\n",
       "    <tr>\n",
       "      <th>0</th>\n",
       "      <td>A</td>\n",
       "      <td>Engineer</td>\n",
       "      <td>20</td>\n",
       "    </tr>\n",
       "    <tr>\n",
       "      <th>1</th>\n",
       "      <td>A</td>\n",
       "      <td>Mechanic</td>\n",
       "      <td>34</td>\n",
       "    </tr>\n",
       "    <tr>\n",
       "      <th>2</th>\n",
       "      <td>A</td>\n",
       "      <td>HR</td>\n",
       "      <td>1</td>\n",
       "    </tr>\n",
       "    <tr>\n",
       "      <th>3</th>\n",
       "      <td>B</td>\n",
       "      <td>Engineer</td>\n",
       "      <td>12</td>\n",
       "    </tr>\n",
       "    <tr>\n",
       "      <th>4</th>\n",
       "      <td>B</td>\n",
       "      <td>HR</td>\n",
       "      <td>4</td>\n",
       "    </tr>\n",
       "    <tr>\n",
       "      <th>5</th>\n",
       "      <td>B</td>\n",
       "      <td>Accounts</td>\n",
       "      <td>6</td>\n",
       "    </tr>\n",
       "    <tr>\n",
       "      <th>6</th>\n",
       "      <td>C</td>\n",
       "      <td>Engineer</td>\n",
       "      <td>56</td>\n",
       "    </tr>\n",
       "    <tr>\n",
       "      <th>7</th>\n",
       "      <td>C</td>\n",
       "      <td>Mechanic</td>\n",
       "      <td>23</td>\n",
       "    </tr>\n",
       "    <tr>\n",
       "      <th>8</th>\n",
       "      <td>C</td>\n",
       "      <td>Accounts</td>\n",
       "      <td>1</td>\n",
       "    </tr>\n",
       "  </tbody>\n",
       "</table>\n",
       "</div>"
      ],
      "text/plain": [
       "  company  position  head_count\n",
       "0       A  Engineer          20\n",
       "1       A  Mechanic          34\n",
       "2       A        HR           1\n",
       "3       B  Engineer          12\n",
       "4       B        HR           4\n",
       "5       B  Accounts           6\n",
       "6       C  Engineer          56\n",
       "7       C  Mechanic          23\n",
       "8       C  Accounts           1"
      ]
     },
     "execution_count": 95,
     "metadata": {},
     "output_type": "execute_result"
    }
   ],
   "source": [
    "df"
   ]
  },
  {
   "cell_type": "code",
   "execution_count": 96,
   "id": "2aee69e4-766e-41c3-ab1b-cd14efd24060",
   "metadata": {},
   "outputs": [
    {
     "data": {
      "text/html": [
       "<div>\n",
       "<style scoped>\n",
       "    .dataframe tbody tr th:only-of-type {\n",
       "        vertical-align: middle;\n",
       "    }\n",
       "\n",
       "    .dataframe tbody tr th {\n",
       "        vertical-align: top;\n",
       "    }\n",
       "\n",
       "    .dataframe thead th {\n",
       "        text-align: right;\n",
       "    }\n",
       "</style>\n",
       "<table border=\"1\" class=\"dataframe\">\n",
       "  <thead>\n",
       "    <tr style=\"text-align: right;\">\n",
       "      <th>position</th>\n",
       "      <th>Accounts</th>\n",
       "      <th>Engineer</th>\n",
       "      <th>HR</th>\n",
       "      <th>Mechanic</th>\n",
       "    </tr>\n",
       "    <tr>\n",
       "      <th>company</th>\n",
       "      <th></th>\n",
       "      <th></th>\n",
       "      <th></th>\n",
       "      <th></th>\n",
       "    </tr>\n",
       "  </thead>\n",
       "  <tbody>\n",
       "    <tr>\n",
       "      <th>A</th>\n",
       "      <td>NaN</td>\n",
       "      <td>20.0</td>\n",
       "      <td>1.0</td>\n",
       "      <td>34.0</td>\n",
       "    </tr>\n",
       "    <tr>\n",
       "      <th>B</th>\n",
       "      <td>6.0</td>\n",
       "      <td>12.0</td>\n",
       "      <td>4.0</td>\n",
       "      <td>NaN</td>\n",
       "    </tr>\n",
       "    <tr>\n",
       "      <th>C</th>\n",
       "      <td>1.0</td>\n",
       "      <td>56.0</td>\n",
       "      <td>NaN</td>\n",
       "      <td>23.0</td>\n",
       "    </tr>\n",
       "  </tbody>\n",
       "</table>\n",
       "</div>"
      ],
      "text/plain": [
       "position  Accounts  Engineer   HR  Mechanic\n",
       "company                                    \n",
       "A              NaN      20.0  1.0      34.0\n",
       "B              6.0      12.0  4.0       NaN\n",
       "C              1.0      56.0  NaN      23.0"
      ]
     },
     "execution_count": 96,
     "metadata": {},
     "output_type": "execute_result"
    }
   ],
   "source": [
    "df.pivot(columns='position', index = 'company', values='head_count')"
   ]
  },
  {
   "cell_type": "code",
   "execution_count": 97,
   "id": "f53754e9-b0c4-48b4-8fd8-5a03585b9190",
   "metadata": {},
   "outputs": [],
   "source": [
    "# Long to wide with aggregation\n",
    "data = [\n",
    "    ['A', 'L3', 'Engineer', 16],\n",
    "    ['A', 'L4', 'Engineer', 4],\n",
    "    ['A', 'L1', 'Mechanic', 20],\n",
    "    ['A', 'L2', 'Mechanic', 10],\n",
    "    ['A', 'L3', 'Mechanic', 4],\n",
    "    ['A', 'L2', 'HR', 1],\n",
    "    ['B', 'L3', 'Engineer', 9],\n",
    "    ['B', 'L4', 'Engineer', 3],\n",
    "    ['B', 'L2', 'HR', 3],\n",
    "    ['B', 'L3', 'HR', 1],\n",
    "    ['B', 'L3', 'Accounts', 6],\n",
    "    ['C', 'L2', 'Engineer', 34],\n",
    "    ['C', 'L3', 'Engineer', 12],\n",
    "    ['C', 'L4', 'Engineer', 10],\n",
    "    ['C', 'L3', 'Mechanic', 23],\n",
    "    ['C', 'L3', 'Accounts', 1]\n",
    "]\n",
    "df = pd.DataFrame(data = data, columns=[\"company\", \"pay_grade\", \"position\", \"head_count\"])"
   ]
  },
  {
   "cell_type": "code",
   "execution_count": 98,
   "id": "e3bfb0da-2e36-4d0c-a600-4df649cc1874",
   "metadata": {},
   "outputs": [
    {
     "data": {
      "text/html": [
       "<div>\n",
       "<style scoped>\n",
       "    .dataframe tbody tr th:only-of-type {\n",
       "        vertical-align: middle;\n",
       "    }\n",
       "\n",
       "    .dataframe tbody tr th {\n",
       "        vertical-align: top;\n",
       "    }\n",
       "\n",
       "    .dataframe thead th {\n",
       "        text-align: right;\n",
       "    }\n",
       "</style>\n",
       "<table border=\"1\" class=\"dataframe\">\n",
       "  <thead>\n",
       "    <tr style=\"text-align: right;\">\n",
       "      <th></th>\n",
       "      <th>company</th>\n",
       "      <th>pay_grade</th>\n",
       "      <th>position</th>\n",
       "      <th>head_count</th>\n",
       "    </tr>\n",
       "  </thead>\n",
       "  <tbody>\n",
       "    <tr>\n",
       "      <th>0</th>\n",
       "      <td>A</td>\n",
       "      <td>L3</td>\n",
       "      <td>Engineer</td>\n",
       "      <td>16</td>\n",
       "    </tr>\n",
       "    <tr>\n",
       "      <th>1</th>\n",
       "      <td>A</td>\n",
       "      <td>L4</td>\n",
       "      <td>Engineer</td>\n",
       "      <td>4</td>\n",
       "    </tr>\n",
       "    <tr>\n",
       "      <th>2</th>\n",
       "      <td>A</td>\n",
       "      <td>L1</td>\n",
       "      <td>Mechanic</td>\n",
       "      <td>20</td>\n",
       "    </tr>\n",
       "    <tr>\n",
       "      <th>3</th>\n",
       "      <td>A</td>\n",
       "      <td>L2</td>\n",
       "      <td>Mechanic</td>\n",
       "      <td>10</td>\n",
       "    </tr>\n",
       "    <tr>\n",
       "      <th>4</th>\n",
       "      <td>A</td>\n",
       "      <td>L3</td>\n",
       "      <td>Mechanic</td>\n",
       "      <td>4</td>\n",
       "    </tr>\n",
       "  </tbody>\n",
       "</table>\n",
       "</div>"
      ],
      "text/plain": [
       "  company pay_grade  position  head_count\n",
       "0       A        L3  Engineer          16\n",
       "1       A        L4  Engineer           4\n",
       "2       A        L1  Mechanic          20\n",
       "3       A        L2  Mechanic          10\n",
       "4       A        L3  Mechanic           4"
      ]
     },
     "execution_count": 98,
     "metadata": {},
     "output_type": "execute_result"
    }
   ],
   "source": [
    "df.head()"
   ]
  },
  {
   "cell_type": "code",
   "execution_count": 119,
   "id": "41fe2056-a74f-4757-b0f6-42dbe8b71c3c",
   "metadata": {},
   "outputs": [
    {
     "data": {
      "text/html": [
       "<div>\n",
       "<style scoped>\n",
       "    .dataframe tbody tr th:only-of-type {\n",
       "        vertical-align: middle;\n",
       "    }\n",
       "\n",
       "    .dataframe tbody tr th {\n",
       "        vertical-align: top;\n",
       "    }\n",
       "\n",
       "    .dataframe thead th {\n",
       "        text-align: right;\n",
       "    }\n",
       "</style>\n",
       "<table border=\"1\" class=\"dataframe\">\n",
       "  <thead>\n",
       "    <tr style=\"text-align: right;\">\n",
       "      <th>position</th>\n",
       "      <th>Accounts</th>\n",
       "      <th>Engineer</th>\n",
       "      <th>HR</th>\n",
       "      <th>Mechanic</th>\n",
       "    </tr>\n",
       "    <tr>\n",
       "      <th>pay_grade</th>\n",
       "      <th></th>\n",
       "      <th></th>\n",
       "      <th></th>\n",
       "      <th></th>\n",
       "    </tr>\n",
       "  </thead>\n",
       "  <tbody>\n",
       "    <tr>\n",
       "      <th>L1</th>\n",
       "      <td>0</td>\n",
       "      <td>0</td>\n",
       "      <td>0</td>\n",
       "      <td>20</td>\n",
       "    </tr>\n",
       "    <tr>\n",
       "      <th>L2</th>\n",
       "      <td>0</td>\n",
       "      <td>34</td>\n",
       "      <td>4</td>\n",
       "      <td>10</td>\n",
       "    </tr>\n",
       "    <tr>\n",
       "      <th>L3</th>\n",
       "      <td>7</td>\n",
       "      <td>37</td>\n",
       "      <td>1</td>\n",
       "      <td>27</td>\n",
       "    </tr>\n",
       "    <tr>\n",
       "      <th>L4</th>\n",
       "      <td>0</td>\n",
       "      <td>17</td>\n",
       "      <td>0</td>\n",
       "      <td>0</td>\n",
       "    </tr>\n",
       "  </tbody>\n",
       "</table>\n",
       "</div>"
      ],
      "text/plain": [
       "position   Accounts  Engineer  HR  Mechanic\n",
       "pay_grade                                  \n",
       "L1                0         0   0        20\n",
       "L2                0        34   4        10\n",
       "L3                7        37   1        27\n",
       "L4                0        17   0         0"
      ]
     },
     "execution_count": 119,
     "metadata": {},
     "output_type": "execute_result"
    }
   ],
   "source": [
    "df2 = df.pivot_table(columns='position', index='pay_grade', values='head_count', aggfunc='sum', fill_value=0)\n",
    "\n",
    "df2"
   ]
  },
  {
   "cell_type": "code",
   "execution_count": 120,
   "id": "c1dab2c8-4d93-40dd-8627-562366830286",
   "metadata": {},
   "outputs": [
    {
     "name": "stdout",
     "output_type": "stream",
     "text": [
      "starting table:\n",
      "position   Accounts  Engineer  HR  Mechanic\n",
      "pay_grade                                  \n",
      "L1                0         0   0        20\n",
      "L2                0        34   4        10\n",
      "L3                7        37   1        27\n",
      "L4                0        17   0         0\n",
      "\n",
      "\n",
      "after reset_index:\n",
      "position pay_grade  Accounts  Engineer  HR  Mechanic\n",
      "0               L1         0         0   0        20\n",
      "1               L2         0        34   4        10\n",
      "2               L3         7        37   1        27\n",
      "3               L4         0        17   0         0\n"
     ]
    },
    {
     "data": {
      "text/html": [
       "<div>\n",
       "<style scoped>\n",
       "    .dataframe tbody tr th:only-of-type {\n",
       "        vertical-align: middle;\n",
       "    }\n",
       "\n",
       "    .dataframe tbody tr th {\n",
       "        vertical-align: top;\n",
       "    }\n",
       "\n",
       "    .dataframe thead th {\n",
       "        text-align: right;\n",
       "    }\n",
       "</style>\n",
       "<table border=\"1\" class=\"dataframe\">\n",
       "  <thead>\n",
       "    <tr style=\"text-align: right;\">\n",
       "      <th></th>\n",
       "      <th>pay_grade</th>\n",
       "      <th>position</th>\n",
       "      <th>value</th>\n",
       "    </tr>\n",
       "  </thead>\n",
       "  <tbody>\n",
       "    <tr>\n",
       "      <th>0</th>\n",
       "      <td>L1</td>\n",
       "      <td>Accounts</td>\n",
       "      <td>0</td>\n",
       "    </tr>\n",
       "    <tr>\n",
       "      <th>1</th>\n",
       "      <td>L2</td>\n",
       "      <td>Accounts</td>\n",
       "      <td>0</td>\n",
       "    </tr>\n",
       "    <tr>\n",
       "      <th>2</th>\n",
       "      <td>L3</td>\n",
       "      <td>Accounts</td>\n",
       "      <td>7</td>\n",
       "    </tr>\n",
       "    <tr>\n",
       "      <th>3</th>\n",
       "      <td>L4</td>\n",
       "      <td>Accounts</td>\n",
       "      <td>0</td>\n",
       "    </tr>\n",
       "    <tr>\n",
       "      <th>4</th>\n",
       "      <td>L1</td>\n",
       "      <td>Engineer</td>\n",
       "      <td>0</td>\n",
       "    </tr>\n",
       "    <tr>\n",
       "      <th>5</th>\n",
       "      <td>L2</td>\n",
       "      <td>Engineer</td>\n",
       "      <td>34</td>\n",
       "    </tr>\n",
       "    <tr>\n",
       "      <th>6</th>\n",
       "      <td>L3</td>\n",
       "      <td>Engineer</td>\n",
       "      <td>37</td>\n",
       "    </tr>\n",
       "    <tr>\n",
       "      <th>7</th>\n",
       "      <td>L4</td>\n",
       "      <td>Engineer</td>\n",
       "      <td>17</td>\n",
       "    </tr>\n",
       "    <tr>\n",
       "      <th>8</th>\n",
       "      <td>L1</td>\n",
       "      <td>HR</td>\n",
       "      <td>0</td>\n",
       "    </tr>\n",
       "    <tr>\n",
       "      <th>9</th>\n",
       "      <td>L2</td>\n",
       "      <td>HR</td>\n",
       "      <td>4</td>\n",
       "    </tr>\n",
       "    <tr>\n",
       "      <th>10</th>\n",
       "      <td>L3</td>\n",
       "      <td>HR</td>\n",
       "      <td>1</td>\n",
       "    </tr>\n",
       "    <tr>\n",
       "      <th>11</th>\n",
       "      <td>L4</td>\n",
       "      <td>HR</td>\n",
       "      <td>0</td>\n",
       "    </tr>\n",
       "    <tr>\n",
       "      <th>12</th>\n",
       "      <td>L1</td>\n",
       "      <td>Mechanic</td>\n",
       "      <td>20</td>\n",
       "    </tr>\n",
       "    <tr>\n",
       "      <th>13</th>\n",
       "      <td>L2</td>\n",
       "      <td>Mechanic</td>\n",
       "      <td>10</td>\n",
       "    </tr>\n",
       "    <tr>\n",
       "      <th>14</th>\n",
       "      <td>L3</td>\n",
       "      <td>Mechanic</td>\n",
       "      <td>27</td>\n",
       "    </tr>\n",
       "    <tr>\n",
       "      <th>15</th>\n",
       "      <td>L4</td>\n",
       "      <td>Mechanic</td>\n",
       "      <td>0</td>\n",
       "    </tr>\n",
       "  </tbody>\n",
       "</table>\n",
       "</div>"
      ],
      "text/plain": [
       "   pay_grade  position  value\n",
       "0         L1  Accounts      0\n",
       "1         L2  Accounts      0\n",
       "2         L3  Accounts      7\n",
       "3         L4  Accounts      0\n",
       "4         L1  Engineer      0\n",
       "5         L2  Engineer     34\n",
       "6         L3  Engineer     37\n",
       "7         L4  Engineer     17\n",
       "8         L1        HR      0\n",
       "9         L2        HR      4\n",
       "10        L3        HR      1\n",
       "11        L4        HR      0\n",
       "12        L1  Mechanic     20\n",
       "13        L2  Mechanic     10\n",
       "14        L3  Mechanic     27\n",
       "15        L4  Mechanic      0"
      ]
     },
     "execution_count": 120,
     "metadata": {},
     "output_type": "execute_result"
    }
   ],
   "source": [
    "# Wide to long\n",
    "print(\"starting table:\")\n",
    "print(df2.head())\n",
    "\n",
    "# first add new index with reset_index\n",
    "print(\"\\n\\nafter reset_index:\")\n",
    "df2 = df2.reset_index()\n",
    "\n",
    "print(df2.head())\n",
    "\n",
    "df2.melt(id_vars = 'pay_grade')"
   ]
  },
  {
   "cell_type": "markdown",
   "id": "500467b5-819c-49ca-b235-094d420d16df",
   "metadata": {
    "jp-MarkdownHeadingCollapsed": true
   },
   "source": [
    "## rbind & cbind equivalents"
   ]
  },
  {
   "cell_type": "code",
   "execution_count": 122,
   "id": "eae785de-f6b7-4bf9-96e9-af12794a0919",
   "metadata": {},
   "outputs": [],
   "source": [
    "# Concatenate along axis 0 (same as rbind in R)\n",
    "\n",
    "# Long to wide (no aggregation, only rearranging)\n",
    "data_a = [\n",
    "    ['A', 'Engineer', 20],\n",
    "    ['A', 'Mechanic', 34],\n",
    "    ['A', 'HR', 1]\n",
    "]\n",
    "company_a_data = pd.DataFrame(data = data_a, columns=[\"company\", \"position\", \"head_count\"])\n",
    "\n",
    "data_b = [\n",
    "    ['B', 'Engineer', 12],\n",
    "    ['B', 'HR', 4],\n",
    "    ['B', 'Accounts', 6]\n",
    "]\n",
    "company_b_data = pd.DataFrame(data = data_b, columns=[\"company\", \"position\", \"head_count\"])\n",
    "\n",
    "data_c = [\n",
    "    ['C', 'Engineer', 56],\n",
    "    ['C', 'Mechanic', 23],\n",
    "    ['C', 'Accounts', 1]\n",
    "]\n",
    "company_c_data = pd.DataFrame(data = data_c, columns=[\"company\", \"position\", \"head_count\"])"
   ]
  },
  {
   "cell_type": "code",
   "execution_count": 123,
   "id": "2b8f80b9-fe06-4f14-b793-9800f06f6095",
   "metadata": {},
   "outputs": [
    {
     "data": {
      "text/html": [
       "<div>\n",
       "<style scoped>\n",
       "    .dataframe tbody tr th:only-of-type {\n",
       "        vertical-align: middle;\n",
       "    }\n",
       "\n",
       "    .dataframe tbody tr th {\n",
       "        vertical-align: top;\n",
       "    }\n",
       "\n",
       "    .dataframe thead th {\n",
       "        text-align: right;\n",
       "    }\n",
       "</style>\n",
       "<table border=\"1\" class=\"dataframe\">\n",
       "  <thead>\n",
       "    <tr style=\"text-align: right;\">\n",
       "      <th></th>\n",
       "      <th>company</th>\n",
       "      <th>position</th>\n",
       "      <th>head_count</th>\n",
       "    </tr>\n",
       "  </thead>\n",
       "  <tbody>\n",
       "    <tr>\n",
       "      <th>0</th>\n",
       "      <td>A</td>\n",
       "      <td>Engineer</td>\n",
       "      <td>20</td>\n",
       "    </tr>\n",
       "    <tr>\n",
       "      <th>1</th>\n",
       "      <td>A</td>\n",
       "      <td>Mechanic</td>\n",
       "      <td>34</td>\n",
       "    </tr>\n",
       "    <tr>\n",
       "      <th>2</th>\n",
       "      <td>A</td>\n",
       "      <td>HR</td>\n",
       "      <td>1</td>\n",
       "    </tr>\n",
       "  </tbody>\n",
       "</table>\n",
       "</div>"
      ],
      "text/plain": [
       "  company  position  head_count\n",
       "0       A  Engineer          20\n",
       "1       A  Mechanic          34\n",
       "2       A        HR           1"
      ]
     },
     "execution_count": 123,
     "metadata": {},
     "output_type": "execute_result"
    }
   ],
   "source": [
    "company_a_data"
   ]
  },
  {
   "cell_type": "code",
   "execution_count": 124,
   "id": "079b29f4-d5e5-4c3a-afff-fc1e1335103e",
   "metadata": {},
   "outputs": [
    {
     "data": {
      "text/html": [
       "<div>\n",
       "<style scoped>\n",
       "    .dataframe tbody tr th:only-of-type {\n",
       "        vertical-align: middle;\n",
       "    }\n",
       "\n",
       "    .dataframe tbody tr th {\n",
       "        vertical-align: top;\n",
       "    }\n",
       "\n",
       "    .dataframe thead th {\n",
       "        text-align: right;\n",
       "    }\n",
       "</style>\n",
       "<table border=\"1\" class=\"dataframe\">\n",
       "  <thead>\n",
       "    <tr style=\"text-align: right;\">\n",
       "      <th></th>\n",
       "      <th>company</th>\n",
       "      <th>position</th>\n",
       "      <th>head_count</th>\n",
       "    </tr>\n",
       "  </thead>\n",
       "  <tbody>\n",
       "    <tr>\n",
       "      <th>0</th>\n",
       "      <td>B</td>\n",
       "      <td>Engineer</td>\n",
       "      <td>12</td>\n",
       "    </tr>\n",
       "    <tr>\n",
       "      <th>1</th>\n",
       "      <td>B</td>\n",
       "      <td>HR</td>\n",
       "      <td>4</td>\n",
       "    </tr>\n",
       "    <tr>\n",
       "      <th>2</th>\n",
       "      <td>B</td>\n",
       "      <td>Accounts</td>\n",
       "      <td>6</td>\n",
       "    </tr>\n",
       "  </tbody>\n",
       "</table>\n",
       "</div>"
      ],
      "text/plain": [
       "  company  position  head_count\n",
       "0       B  Engineer          12\n",
       "1       B        HR           4\n",
       "2       B  Accounts           6"
      ]
     },
     "execution_count": 124,
     "metadata": {},
     "output_type": "execute_result"
    }
   ],
   "source": [
    "company_b_data"
   ]
  },
  {
   "cell_type": "code",
   "execution_count": 125,
   "id": "a269dd54-0932-4239-ba1a-7b824aafd604",
   "metadata": {},
   "outputs": [
    {
     "data": {
      "text/html": [
       "<div>\n",
       "<style scoped>\n",
       "    .dataframe tbody tr th:only-of-type {\n",
       "        vertical-align: middle;\n",
       "    }\n",
       "\n",
       "    .dataframe tbody tr th {\n",
       "        vertical-align: top;\n",
       "    }\n",
       "\n",
       "    .dataframe thead th {\n",
       "        text-align: right;\n",
       "    }\n",
       "</style>\n",
       "<table border=\"1\" class=\"dataframe\">\n",
       "  <thead>\n",
       "    <tr style=\"text-align: right;\">\n",
       "      <th></th>\n",
       "      <th>company</th>\n",
       "      <th>position</th>\n",
       "      <th>head_count</th>\n",
       "    </tr>\n",
       "  </thead>\n",
       "  <tbody>\n",
       "    <tr>\n",
       "      <th>0</th>\n",
       "      <td>C</td>\n",
       "      <td>Engineer</td>\n",
       "      <td>56</td>\n",
       "    </tr>\n",
       "    <tr>\n",
       "      <th>1</th>\n",
       "      <td>C</td>\n",
       "      <td>Mechanic</td>\n",
       "      <td>23</td>\n",
       "    </tr>\n",
       "    <tr>\n",
       "      <th>2</th>\n",
       "      <td>C</td>\n",
       "      <td>Accounts</td>\n",
       "      <td>1</td>\n",
       "    </tr>\n",
       "  </tbody>\n",
       "</table>\n",
       "</div>"
      ],
      "text/plain": [
       "  company  position  head_count\n",
       "0       C  Engineer          56\n",
       "1       C  Mechanic          23\n",
       "2       C  Accounts           1"
      ]
     },
     "execution_count": 125,
     "metadata": {},
     "output_type": "execute_result"
    }
   ],
   "source": [
    "company_c_data"
   ]
  },
  {
   "cell_type": "code",
   "execution_count": 127,
   "id": "2053b35e-4343-4488-a8e4-ff1070faab75",
   "metadata": {},
   "outputs": [
    {
     "data": {
      "text/html": [
       "<div>\n",
       "<style scoped>\n",
       "    .dataframe tbody tr th:only-of-type {\n",
       "        vertical-align: middle;\n",
       "    }\n",
       "\n",
       "    .dataframe tbody tr th {\n",
       "        vertical-align: top;\n",
       "    }\n",
       "\n",
       "    .dataframe thead th {\n",
       "        text-align: right;\n",
       "    }\n",
       "</style>\n",
       "<table border=\"1\" class=\"dataframe\">\n",
       "  <thead>\n",
       "    <tr style=\"text-align: right;\">\n",
       "      <th></th>\n",
       "      <th>company</th>\n",
       "      <th>position</th>\n",
       "      <th>head_count</th>\n",
       "    </tr>\n",
       "  </thead>\n",
       "  <tbody>\n",
       "    <tr>\n",
       "      <th>0</th>\n",
       "      <td>A</td>\n",
       "      <td>Engineer</td>\n",
       "      <td>20</td>\n",
       "    </tr>\n",
       "    <tr>\n",
       "      <th>1</th>\n",
       "      <td>A</td>\n",
       "      <td>Mechanic</td>\n",
       "      <td>34</td>\n",
       "    </tr>\n",
       "    <tr>\n",
       "      <th>2</th>\n",
       "      <td>A</td>\n",
       "      <td>HR</td>\n",
       "      <td>1</td>\n",
       "    </tr>\n",
       "    <tr>\n",
       "      <th>0</th>\n",
       "      <td>B</td>\n",
       "      <td>Engineer</td>\n",
       "      <td>12</td>\n",
       "    </tr>\n",
       "    <tr>\n",
       "      <th>1</th>\n",
       "      <td>B</td>\n",
       "      <td>HR</td>\n",
       "      <td>4</td>\n",
       "    </tr>\n",
       "    <tr>\n",
       "      <th>2</th>\n",
       "      <td>B</td>\n",
       "      <td>Accounts</td>\n",
       "      <td>6</td>\n",
       "    </tr>\n",
       "    <tr>\n",
       "      <th>0</th>\n",
       "      <td>C</td>\n",
       "      <td>Engineer</td>\n",
       "      <td>56</td>\n",
       "    </tr>\n",
       "    <tr>\n",
       "      <th>1</th>\n",
       "      <td>C</td>\n",
       "      <td>Mechanic</td>\n",
       "      <td>23</td>\n",
       "    </tr>\n",
       "    <tr>\n",
       "      <th>2</th>\n",
       "      <td>C</td>\n",
       "      <td>Accounts</td>\n",
       "      <td>1</td>\n",
       "    </tr>\n",
       "  </tbody>\n",
       "</table>\n",
       "</div>"
      ],
      "text/plain": [
       "  company  position  head_count\n",
       "0       A  Engineer          20\n",
       "1       A  Mechanic          34\n",
       "2       A        HR           1\n",
       "0       B  Engineer          12\n",
       "1       B        HR           4\n",
       "2       B  Accounts           6\n",
       "0       C  Engineer          56\n",
       "1       C  Mechanic          23\n",
       "2       C  Accounts           1"
      ]
     },
     "execution_count": 127,
     "metadata": {},
     "output_type": "execute_result"
    }
   ],
   "source": [
    "pd.concat([company_a_data, company_b_data, company_c_data], axis = 0)"
   ]
  },
  {
   "cell_type": "code",
   "execution_count": 133,
   "id": "d43ba8e7-0e07-42c5-b354-6922ee09f7b1",
   "metadata": {},
   "outputs": [
    {
     "name": "stdout",
     "output_type": "stream",
     "text": [
      "  company  position\n",
      "0       A  Engineer\n",
      "1       A  Mechanic\n",
      "2       A        HR\n",
      "   head_count\n",
      "0          20\n",
      "1          34\n",
      "2           1\n"
     ]
    }
   ],
   "source": [
    "# Concatenate along axis 1 (same as cbind)\n",
    "\n",
    "company_a_data_attributes = company_a_data[['company', 'position']]\n",
    "company_a_data_values = company_a_data[['head_count']]\n",
    "\n",
    "print(company_a_data_attributes)\n",
    "print(company_a_data_values)"
   ]
  },
  {
   "cell_type": "code",
   "execution_count": 134,
   "id": "5bcc9887-6b73-4c87-a380-c9684039c214",
   "metadata": {},
   "outputs": [
    {
     "data": {
      "text/html": [
       "<div>\n",
       "<style scoped>\n",
       "    .dataframe tbody tr th:only-of-type {\n",
       "        vertical-align: middle;\n",
       "    }\n",
       "\n",
       "    .dataframe tbody tr th {\n",
       "        vertical-align: top;\n",
       "    }\n",
       "\n",
       "    .dataframe thead th {\n",
       "        text-align: right;\n",
       "    }\n",
       "</style>\n",
       "<table border=\"1\" class=\"dataframe\">\n",
       "  <thead>\n",
       "    <tr style=\"text-align: right;\">\n",
       "      <th></th>\n",
       "      <th>company</th>\n",
       "      <th>position</th>\n",
       "      <th>head_count</th>\n",
       "    </tr>\n",
       "  </thead>\n",
       "  <tbody>\n",
       "    <tr>\n",
       "      <th>0</th>\n",
       "      <td>A</td>\n",
       "      <td>Engineer</td>\n",
       "      <td>20</td>\n",
       "    </tr>\n",
       "    <tr>\n",
       "      <th>1</th>\n",
       "      <td>A</td>\n",
       "      <td>Mechanic</td>\n",
       "      <td>34</td>\n",
       "    </tr>\n",
       "    <tr>\n",
       "      <th>2</th>\n",
       "      <td>A</td>\n",
       "      <td>HR</td>\n",
       "      <td>1</td>\n",
       "    </tr>\n",
       "  </tbody>\n",
       "</table>\n",
       "</div>"
      ],
      "text/plain": [
       "  company  position  head_count\n",
       "0       A  Engineer          20\n",
       "1       A  Mechanic          34\n",
       "2       A        HR           1"
      ]
     },
     "execution_count": 134,
     "metadata": {},
     "output_type": "execute_result"
    }
   ],
   "source": [
    "pd.concat([company_a_data_attributes, company_a_data_values], axis = 1)"
   ]
  },
  {
   "cell_type": "markdown",
   "id": "6f9c19e0-19c5-416c-9cc3-7ad7a90a5940",
   "metadata": {
    "jp-MarkdownHeadingCollapsed": true
   },
   "source": [
    "## Joining"
   ]
  },
  {
   "cell_type": "code",
   "execution_count": 138,
   "id": "dd8ff57f-ec0d-448e-9839-182c2a73d2d8",
   "metadata": {},
   "outputs": [],
   "source": [
    "head_count_data_a = [\n",
    "    ['A', 'Engineer', 20],\n",
    "    ['A', 'Mechanic', 34],\n",
    "    ['A', 'HR', 1]\n",
    "]\n",
    "company_a_head_count_data = pd.DataFrame(data = head_count_data_a, columns=[\"company\", \"position\", \"head_count\"])\n",
    "\n",
    "avg_salary_data_a = [\n",
    "    ['A', 'Engineer', 41000],\n",
    "    ['A', 'Mechanic', 32000],\n",
    "    ['A', 'HR', 33000]\n",
    "]\n",
    "company_a_salary_data = pd.DataFrame(data = avg_salary_data_a, columns=[\"company\", \"position\", \"salary\"])"
   ]
  },
  {
   "cell_type": "code",
   "execution_count": 139,
   "id": "f37ff5da-710b-4f57-b99e-d3a4cbac7044",
   "metadata": {},
   "outputs": [
    {
     "data": {
      "text/html": [
       "<div>\n",
       "<style scoped>\n",
       "    .dataframe tbody tr th:only-of-type {\n",
       "        vertical-align: middle;\n",
       "    }\n",
       "\n",
       "    .dataframe tbody tr th {\n",
       "        vertical-align: top;\n",
       "    }\n",
       "\n",
       "    .dataframe thead th {\n",
       "        text-align: right;\n",
       "    }\n",
       "</style>\n",
       "<table border=\"1\" class=\"dataframe\">\n",
       "  <thead>\n",
       "    <tr style=\"text-align: right;\">\n",
       "      <th></th>\n",
       "      <th>company</th>\n",
       "      <th>position</th>\n",
       "      <th>head_count</th>\n",
       "    </tr>\n",
       "  </thead>\n",
       "  <tbody>\n",
       "    <tr>\n",
       "      <th>0</th>\n",
       "      <td>A</td>\n",
       "      <td>Engineer</td>\n",
       "      <td>20</td>\n",
       "    </tr>\n",
       "    <tr>\n",
       "      <th>1</th>\n",
       "      <td>A</td>\n",
       "      <td>Mechanic</td>\n",
       "      <td>34</td>\n",
       "    </tr>\n",
       "    <tr>\n",
       "      <th>2</th>\n",
       "      <td>A</td>\n",
       "      <td>HR</td>\n",
       "      <td>1</td>\n",
       "    </tr>\n",
       "  </tbody>\n",
       "</table>\n",
       "</div>"
      ],
      "text/plain": [
       "  company  position  head_count\n",
       "0       A  Engineer          20\n",
       "1       A  Mechanic          34\n",
       "2       A        HR           1"
      ]
     },
     "execution_count": 139,
     "metadata": {},
     "output_type": "execute_result"
    }
   ],
   "source": [
    "company_a_head_count_data"
   ]
  },
  {
   "cell_type": "code",
   "execution_count": 140,
   "id": "0ecab239-c64d-439c-8c29-1650c847fecd",
   "metadata": {},
   "outputs": [
    {
     "data": {
      "text/html": [
       "<div>\n",
       "<style scoped>\n",
       "    .dataframe tbody tr th:only-of-type {\n",
       "        vertical-align: middle;\n",
       "    }\n",
       "\n",
       "    .dataframe tbody tr th {\n",
       "        vertical-align: top;\n",
       "    }\n",
       "\n",
       "    .dataframe thead th {\n",
       "        text-align: right;\n",
       "    }\n",
       "</style>\n",
       "<table border=\"1\" class=\"dataframe\">\n",
       "  <thead>\n",
       "    <tr style=\"text-align: right;\">\n",
       "      <th></th>\n",
       "      <th>company</th>\n",
       "      <th>position</th>\n",
       "      <th>salary</th>\n",
       "    </tr>\n",
       "  </thead>\n",
       "  <tbody>\n",
       "    <tr>\n",
       "      <th>0</th>\n",
       "      <td>A</td>\n",
       "      <td>Engineer</td>\n",
       "      <td>41000</td>\n",
       "    </tr>\n",
       "    <tr>\n",
       "      <th>1</th>\n",
       "      <td>A</td>\n",
       "      <td>Mechanic</td>\n",
       "      <td>32000</td>\n",
       "    </tr>\n",
       "    <tr>\n",
       "      <th>2</th>\n",
       "      <td>A</td>\n",
       "      <td>HR</td>\n",
       "      <td>33000</td>\n",
       "    </tr>\n",
       "  </tbody>\n",
       "</table>\n",
       "</div>"
      ],
      "text/plain": [
       "  company  position  salary\n",
       "0       A  Engineer   41000\n",
       "1       A  Mechanic   32000\n",
       "2       A        HR   33000"
      ]
     },
     "execution_count": 140,
     "metadata": {},
     "output_type": "execute_result"
    }
   ],
   "source": [
    "company_a_salary_data"
   ]
  },
  {
   "cell_type": "code",
   "execution_count": 144,
   "id": "183d3b93-4f84-4ce3-9fa8-ead3cc397cd4",
   "metadata": {},
   "outputs": [
    {
     "data": {
      "text/html": [
       "<div>\n",
       "<style scoped>\n",
       "    .dataframe tbody tr th:only-of-type {\n",
       "        vertical-align: middle;\n",
       "    }\n",
       "\n",
       "    .dataframe tbody tr th {\n",
       "        vertical-align: top;\n",
       "    }\n",
       "\n",
       "    .dataframe thead th {\n",
       "        text-align: right;\n",
       "    }\n",
       "</style>\n",
       "<table border=\"1\" class=\"dataframe\">\n",
       "  <thead>\n",
       "    <tr style=\"text-align: right;\">\n",
       "      <th></th>\n",
       "      <th>company</th>\n",
       "      <th>position</th>\n",
       "      <th>head_count</th>\n",
       "      <th>salary</th>\n",
       "    </tr>\n",
       "  </thead>\n",
       "  <tbody>\n",
       "    <tr>\n",
       "      <th>0</th>\n",
       "      <td>A</td>\n",
       "      <td>Engineer</td>\n",
       "      <td>20</td>\n",
       "      <td>41000</td>\n",
       "    </tr>\n",
       "    <tr>\n",
       "      <th>1</th>\n",
       "      <td>A</td>\n",
       "      <td>HR</td>\n",
       "      <td>1</td>\n",
       "      <td>33000</td>\n",
       "    </tr>\n",
       "    <tr>\n",
       "      <th>2</th>\n",
       "      <td>A</td>\n",
       "      <td>Mechanic</td>\n",
       "      <td>34</td>\n",
       "      <td>32000</td>\n",
       "    </tr>\n",
       "  </tbody>\n",
       "</table>\n",
       "</div>"
      ],
      "text/plain": [
       "  company  position  head_count  salary\n",
       "0       A  Engineer          20   41000\n",
       "1       A        HR           1   33000\n",
       "2       A  Mechanic          34   32000"
      ]
     },
     "execution_count": 144,
     "metadata": {},
     "output_type": "execute_result"
    }
   ],
   "source": [
    "pd.merge(company_a_head_count_data, company_a_salary_data,\n",
    "         how = \"outer\", # left, right, outer, inner, cross\n",
    "         left_on = [\"company\", \"position\"],\n",
    "         right_on = [\"company\", \"position\"])"
   ]
  },
  {
   "cell_type": "code",
   "execution_count": 147,
   "id": "e98405f2-3492-438f-ad9e-8627669f9092",
   "metadata": {},
   "outputs": [
    {
     "data": {
      "text/html": [
       "<div>\n",
       "<style scoped>\n",
       "    .dataframe tbody tr th:only-of-type {\n",
       "        vertical-align: middle;\n",
       "    }\n",
       "\n",
       "    .dataframe tbody tr th {\n",
       "        vertical-align: top;\n",
       "    }\n",
       "\n",
       "    .dataframe thead th {\n",
       "        text-align: right;\n",
       "    }\n",
       "</style>\n",
       "<table border=\"1\" class=\"dataframe\">\n",
       "  <thead>\n",
       "    <tr style=\"text-align: right;\">\n",
       "      <th></th>\n",
       "      <th>company_x</th>\n",
       "      <th>position_x</th>\n",
       "      <th>head_count</th>\n",
       "      <th>company_y</th>\n",
       "      <th>position_y</th>\n",
       "      <th>salary</th>\n",
       "    </tr>\n",
       "  </thead>\n",
       "  <tbody>\n",
       "    <tr>\n",
       "      <th>0</th>\n",
       "      <td>A</td>\n",
       "      <td>Engineer</td>\n",
       "      <td>20</td>\n",
       "      <td>A</td>\n",
       "      <td>Engineer</td>\n",
       "      <td>41000</td>\n",
       "    </tr>\n",
       "    <tr>\n",
       "      <th>1</th>\n",
       "      <td>A</td>\n",
       "      <td>Engineer</td>\n",
       "      <td>20</td>\n",
       "      <td>A</td>\n",
       "      <td>Mechanic</td>\n",
       "      <td>32000</td>\n",
       "    </tr>\n",
       "    <tr>\n",
       "      <th>2</th>\n",
       "      <td>A</td>\n",
       "      <td>Engineer</td>\n",
       "      <td>20</td>\n",
       "      <td>A</td>\n",
       "      <td>HR</td>\n",
       "      <td>33000</td>\n",
       "    </tr>\n",
       "    <tr>\n",
       "      <th>3</th>\n",
       "      <td>A</td>\n",
       "      <td>Mechanic</td>\n",
       "      <td>34</td>\n",
       "      <td>A</td>\n",
       "      <td>Engineer</td>\n",
       "      <td>41000</td>\n",
       "    </tr>\n",
       "    <tr>\n",
       "      <th>4</th>\n",
       "      <td>A</td>\n",
       "      <td>Mechanic</td>\n",
       "      <td>34</td>\n",
       "      <td>A</td>\n",
       "      <td>Mechanic</td>\n",
       "      <td>32000</td>\n",
       "    </tr>\n",
       "    <tr>\n",
       "      <th>5</th>\n",
       "      <td>A</td>\n",
       "      <td>Mechanic</td>\n",
       "      <td>34</td>\n",
       "      <td>A</td>\n",
       "      <td>HR</td>\n",
       "      <td>33000</td>\n",
       "    </tr>\n",
       "    <tr>\n",
       "      <th>6</th>\n",
       "      <td>A</td>\n",
       "      <td>HR</td>\n",
       "      <td>1</td>\n",
       "      <td>A</td>\n",
       "      <td>Engineer</td>\n",
       "      <td>41000</td>\n",
       "    </tr>\n",
       "    <tr>\n",
       "      <th>7</th>\n",
       "      <td>A</td>\n",
       "      <td>HR</td>\n",
       "      <td>1</td>\n",
       "      <td>A</td>\n",
       "      <td>Mechanic</td>\n",
       "      <td>32000</td>\n",
       "    </tr>\n",
       "    <tr>\n",
       "      <th>8</th>\n",
       "      <td>A</td>\n",
       "      <td>HR</td>\n",
       "      <td>1</td>\n",
       "      <td>A</td>\n",
       "      <td>HR</td>\n",
       "      <td>33000</td>\n",
       "    </tr>\n",
       "  </tbody>\n",
       "</table>\n",
       "</div>"
      ],
      "text/plain": [
       "  company_x position_x  head_count company_y position_y  salary\n",
       "0         A   Engineer          20         A   Engineer   41000\n",
       "1         A   Engineer          20         A   Mechanic   32000\n",
       "2         A   Engineer          20         A         HR   33000\n",
       "3         A   Mechanic          34         A   Engineer   41000\n",
       "4         A   Mechanic          34         A   Mechanic   32000\n",
       "5         A   Mechanic          34         A         HR   33000\n",
       "6         A         HR           1         A   Engineer   41000\n",
       "7         A         HR           1         A   Mechanic   32000\n",
       "8         A         HR           1         A         HR   33000"
      ]
     },
     "execution_count": 147,
     "metadata": {},
     "output_type": "execute_result"
    }
   ],
   "source": [
    "pd.merge(company_a_head_count_data, company_a_salary_data,\n",
    "         how = \"cross\" # left, right, outer, inner, cross\n",
    "        )"
   ]
  },
  {
   "cell_type": "markdown",
   "id": "e81818a7",
   "metadata": {
    "jp-MarkdownHeadingCollapsed": true
   },
   "source": [
    "## Piping (equivalent of %>%)"
   ]
  },
  {
   "cell_type": "markdown",
   "id": "efd4db29-8d42-47e4-ba59-766498fbaf8b",
   "metadata": {},
   "source": [
    "The .pipe() funcition can be used to take the output of one operation and pass it on to the next operation"
   ]
  },
  {
   "cell_type": "code",
   "execution_count": 544,
   "id": "fc6e73bf",
   "metadata": {},
   "outputs": [],
   "source": [
    "ser1 = pd.Series(['a', 'b', 'c', 'a', 'b', 'c'], name = \"v1\")\n",
    "ser2 = pd.Series(['foo', 'boo', 'foo', 'boo', 'foo', 'boo'], name = \"v1\")\n",
    "ser3 = pd.Series([200, 4565, 343, 34, 324, 543], name = \"v2\")\n",
    "ser4 = pd.Series([1.2, 4.5, 3.6, 3.3, 2.2, 1.1])"
   ]
  },
  {
   "cell_type": "code",
   "execution_count": 545,
   "id": "315820b9-f3e5-41e3-b18a-587d224365a0",
   "metadata": {},
   "outputs": [],
   "source": [
    "df = pd.DataFrame({\"col1\": ser1, \"col2\": ser2, \"col3\": ser3, \"col4\": ser4})"
   ]
  },
  {
   "cell_type": "code",
   "execution_count": 546,
   "id": "d22b38ad-00d9-4145-bdeb-d29496e9ef41",
   "metadata": {},
   "outputs": [
    {
     "data": {
      "text/html": [
       "<div>\n",
       "<style scoped>\n",
       "    .dataframe tbody tr th:only-of-type {\n",
       "        vertical-align: middle;\n",
       "    }\n",
       "\n",
       "    .dataframe tbody tr th {\n",
       "        vertical-align: top;\n",
       "    }\n",
       "\n",
       "    .dataframe thead th {\n",
       "        text-align: right;\n",
       "    }\n",
       "</style>\n",
       "<table border=\"1\" class=\"dataframe\">\n",
       "  <thead>\n",
       "    <tr style=\"text-align: right;\">\n",
       "      <th></th>\n",
       "      <th>col1</th>\n",
       "      <th>col2</th>\n",
       "      <th>col3</th>\n",
       "      <th>col4</th>\n",
       "    </tr>\n",
       "  </thead>\n",
       "  <tbody>\n",
       "    <tr>\n",
       "      <th>0</th>\n",
       "      <td>a</td>\n",
       "      <td>foo</td>\n",
       "      <td>200</td>\n",
       "      <td>1.2</td>\n",
       "    </tr>\n",
       "    <tr>\n",
       "      <th>1</th>\n",
       "      <td>b</td>\n",
       "      <td>boo</td>\n",
       "      <td>4565</td>\n",
       "      <td>4.5</td>\n",
       "    </tr>\n",
       "    <tr>\n",
       "      <th>2</th>\n",
       "      <td>c</td>\n",
       "      <td>foo</td>\n",
       "      <td>343</td>\n",
       "      <td>3.6</td>\n",
       "    </tr>\n",
       "    <tr>\n",
       "      <th>3</th>\n",
       "      <td>a</td>\n",
       "      <td>boo</td>\n",
       "      <td>34</td>\n",
       "      <td>3.3</td>\n",
       "    </tr>\n",
       "    <tr>\n",
       "      <th>4</th>\n",
       "      <td>b</td>\n",
       "      <td>foo</td>\n",
       "      <td>324</td>\n",
       "      <td>2.2</td>\n",
       "    </tr>\n",
       "    <tr>\n",
       "      <th>5</th>\n",
       "      <td>c</td>\n",
       "      <td>boo</td>\n",
       "      <td>543</td>\n",
       "      <td>1.1</td>\n",
       "    </tr>\n",
       "  </tbody>\n",
       "</table>\n",
       "</div>"
      ],
      "text/plain": [
       "  col1 col2  col3  col4\n",
       "0    a  foo   200   1.2\n",
       "1    b  boo  4565   4.5\n",
       "2    c  foo   343   3.6\n",
       "3    a  boo    34   3.3\n",
       "4    b  foo   324   2.2\n",
       "5    c  boo   543   1.1"
      ]
     },
     "execution_count": 546,
     "metadata": {},
     "output_type": "execute_result"
    }
   ],
   "source": [
    "df"
   ]
  },
  {
   "cell_type": "code",
   "execution_count": 609,
   "id": "bd468ab1-d5f3-45ca-b449-9fecf063de06",
   "metadata": {},
   "outputs": [
    {
     "data": {
      "text/html": [
       "<div>\n",
       "<style scoped>\n",
       "    .dataframe tbody tr th:only-of-type {\n",
       "        vertical-align: middle;\n",
       "    }\n",
       "\n",
       "    .dataframe tbody tr th {\n",
       "        vertical-align: top;\n",
       "    }\n",
       "\n",
       "    .dataframe thead tr th {\n",
       "        text-align: left;\n",
       "    }\n",
       "\n",
       "    .dataframe thead tr:last-of-type th {\n",
       "        text-align: right;\n",
       "    }\n",
       "</style>\n",
       "<table border=\"1\" class=\"dataframe\">\n",
       "  <thead>\n",
       "    <tr>\n",
       "      <th></th>\n",
       "      <th>col3</th>\n",
       "      <th colspan=\"2\" halign=\"left\">col4</th>\n",
       "    </tr>\n",
       "    <tr>\n",
       "      <th>col2</th>\n",
       "      <th>foo</th>\n",
       "      <th>foo</th>\n",
       "      <th>boo</th>\n",
       "    </tr>\n",
       "    <tr>\n",
       "      <th>name</th>\n",
       "      <th></th>\n",
       "      <th></th>\n",
       "      <th></th>\n",
       "    </tr>\n",
       "  </thead>\n",
       "  <tbody>\n",
       "    <tr>\n",
       "      <th>a</th>\n",
       "      <td>200</td>\n",
       "      <td>1.2</td>\n",
       "      <td>3.3</td>\n",
       "    </tr>\n",
       "    <tr>\n",
       "      <th>b</th>\n",
       "      <td>324</td>\n",
       "      <td>2.2</td>\n",
       "      <td>4.5</td>\n",
       "    </tr>\n",
       "    <tr>\n",
       "      <th>c</th>\n",
       "      <td>343</td>\n",
       "      <td>3.6</td>\n",
       "      <td>1.1</td>\n",
       "    </tr>\n",
       "  </tbody>\n",
       "</table>\n",
       "</div>"
      ],
      "text/plain": [
       "     col3 col4     \n",
       "col2  foo  foo  boo\n",
       "name               \n",
       "a     200  1.2  3.3\n",
       "b     324  2.2  4.5\n",
       "c     343  3.6  1.1"
      ]
     },
     "execution_count": 609,
     "metadata": {},
     "output_type": "execute_result"
    }
   ],
   "source": [
    "(df\n",
    " .rename(columns = {'col1': 'name'})\n",
    " .pipe(lambda x: x.assign(new_col1 = x['name'] + x['col2']))\n",
    " .pipe(lambda x: x.pivot(index = ['name'], columns = 'col2'))\n",
    " .groupby(['name'])\n",
    " .agg({('col3', 'foo'):'max',\n",
    "       ('col4', 'foo'):'max',\n",
    "       ('col4', 'boo'):'sum'})\n",
    ")"
   ]
  },
  {
   "cell_type": "markdown",
   "id": "f0720814-1d0e-4f03-89f7-d814ee525288",
   "metadata": {
    "jp-MarkdownHeadingCollapsed": true
   },
   "source": [
    "## Timeseries data"
   ]
  },
  {
   "cell_type": "code",
   "execution_count": null,
   "id": "e921288d-0c1b-436e-9fad-2eea1d36d066",
   "metadata": {},
   "outputs": [],
   "source": [
    "# Working with open AQ (air quality) data\n",
    "# Downloaded in the notebook working_with_json_in_python.ipynb\n",
    "\n",
    "# https://docs.openaq.org/docs/introduction"
   ]
  },
  {
   "cell_type": "code",
   "execution_count": null,
   "id": "732419d1-7630-4eef-99af-7ef93674a202",
   "metadata": {},
   "outputs": [],
   "source": []
  },
  {
   "cell_type": "markdown",
   "id": "44ed6d06-d772-4b2e-9c8f-8d9902b04827",
   "metadata": {
    "jp-MarkdownHeadingCollapsed": true
   },
   "source": [
    "## Plotting"
   ]
  },
  {
   "cell_type": "code",
   "execution_count": 55,
   "id": "56e49a7e-9b98-4014-b18e-25cf4905d2c8",
   "metadata": {},
   "outputs": [
    {
     "data": {
      "text/plain": [
       "<Axes: >"
      ]
     },
     "execution_count": 55,
     "metadata": {},
     "output_type": "execute_result"
    },
    {
     "data": {
      "image/png": "[encoded data removed]",
      "text/plain": [
       "<Figure size 1400x300 with 1 Axes>"
      ]
     },
     "metadata": {},
     "output_type": "display_data"
    }
   ],
   "source": [
    "# Plotting\n",
    "# requires matplotlib to be installed\n",
    "df['score'].plot(kind = 'box', vert = False, figsize = (14, 3))"
   ]
  },
  {
   "cell_type": "code",
   "execution_count": 56,
   "id": "75ad826a-16c3-47f0-8423-0c2165138499",
   "metadata": {},
   "outputs": [
    {
     "data": {
      "text/plain": [
       "<Axes: ylabel='Density'>"
      ]
     },
     "execution_count": 56,
     "metadata": {},
     "output_type": "execute_result"
    },
    {
     "data": {
      "image/png": "[encoded data removed]",
      "text/plain": [
       "<Figure size 1400x300 with 1 Axes>"
      ]
     },
     "metadata": {},
     "output_type": "display_data"
    }
   ],
   "source": [
    "## requires matplotlib and scipy to be installed\n",
    "df['score'].plot(kind = 'density', figsize = (14, 3))"
   ]
  },
  {
   "cell_type": "code",
   "execution_count": 57,
   "id": "5576c20f-02b9-4fba-b590-f1dbdaa39daf",
   "metadata": {},
   "outputs": [
    {
     "data": {
      "text/plain": [
       "Text(0.5, 0, 'Score')"
      ]
     },
     "execution_count": 57,
     "metadata": {},
     "output_type": "execute_result"
    },
    {
     "data": {
      "image/png": "[encoded data removed]",
      "text/plain": [
       "<Figure size 1400x300 with 1 Axes>"
      ]
     },
     "metadata": {},
     "output_type": "display_data"
    }
   ],
   "source": [
    "## requires matplotlib to be installed\n",
    "p = df['score'].plot(kind = 'hist', figsize = (14, 3))\n",
    "p.axvline(df['score'].mean(), color = 'green')\n",
    "p.axvline(df['score'].median(), color = 'red')\n",
    "p.set_ylabel('Absolute Frequency')\n",
    "p.set_xlabel('Score')"
   ]
  },
  {
   "cell_type": "code",
   "execution_count": 58,
   "id": "2bda2028-9785-4050-b932-a46aa6144262",
   "metadata": {},
   "outputs": [
    {
     "data": {
      "text/plain": [
       "level\n",
       "1     3\n",
       "2     2\n",
       "3     1\n",
       "6     1\n",
       "12    1\n",
       "24    1\n",
       "34    1\n",
       "Name: count, dtype: int64"
      ]
     },
     "execution_count": 58,
     "metadata": {},
     "output_type": "execute_result"
    }
   ],
   "source": [
    "df['level'].value_counts()"
   ]
  },
  {
   "cell_type": "code",
   "execution_count": 59,
   "id": "2f314320-9562-4fc9-b2b7-1083bc24028f",
   "metadata": {},
   "outputs": [
    {
     "data": {
      "text/plain": [
       "<Axes: ylabel='count'>"
      ]
     },
     "execution_count": 59,
     "metadata": {},
     "output_type": "execute_result"
    },
    {
     "data": {
      "image/png": "[encoded data removed]",
      "text/plain": [
       "<Figure size 400x400 with 1 Axes>"
      ]
     },
     "metadata": {},
     "output_type": "display_data"
    }
   ],
   "source": [
    "df['level'].value_counts().plot(kind = 'pie', figsize = (4,4))"
   ]
  },
  {
   "cell_type": "code",
   "execution_count": 60,
   "id": "4e998f74-8497-458c-b728-9fcd09eceb45",
   "metadata": {},
   "outputs": [
    {
     "data": {
      "text/plain": [
       "Text(0, 0.5, 'frequency')"
      ]
     },
     "execution_count": 60,
     "metadata": {},
     "output_type": "execute_result"
    },
    {
     "data": {
      "image/png": "[encoded data removed]",
      "text/plain": [
       "<Figure size 400x400 with 1 Axes>"
      ]
     },
     "metadata": {},
     "output_type": "display_data"
    }
   ],
   "source": [
    "p = df['level'].value_counts().plot(kind = 'bar', figsize = (4,4))\n",
    "p.set_xlabel(\"level\")\n",
    "p.set_ylabel(\"frequency\")"
   ]
  },
  {
   "cell_type": "code",
   "execution_count": 61,
   "id": "53078405-0b44-4776-a10b-8fdb23cbb1c6",
   "metadata": {},
   "outputs": [
    {
     "data": {
      "text/html": [
       "<div>\n",
       "<style scoped>\n",
       "    .dataframe tbody tr th:only-of-type {\n",
       "        vertical-align: middle;\n",
       "    }\n",
       "\n",
       "    .dataframe tbody tr th {\n",
       "        vertical-align: top;\n",
       "    }\n",
       "\n",
       "    .dataframe thead th {\n",
       "        text-align: right;\n",
       "    }\n",
       "</style>\n",
       "<table border=\"1\" class=\"dataframe\">\n",
       "  <thead>\n",
       "    <tr style=\"text-align: right;\">\n",
       "      <th></th>\n",
       "      <th>score</th>\n",
       "      <th>level</th>\n",
       "    </tr>\n",
       "  </thead>\n",
       "  <tbody>\n",
       "    <tr>\n",
       "      <th>score</th>\n",
       "      <td>1.000000</td>\n",
       "      <td>0.845471</td>\n",
       "    </tr>\n",
       "    <tr>\n",
       "      <th>level</th>\n",
       "      <td>0.845471</td>\n",
       "      <td>1.000000</td>\n",
       "    </tr>\n",
       "  </tbody>\n",
       "</table>\n",
       "</div>"
      ],
      "text/plain": [
       "          score     level\n",
       "score  1.000000  0.845471\n",
       "level  0.845471  1.000000"
      ]
     },
     "execution_count": 61,
     "metadata": {},
     "output_type": "execute_result"
    }
   ],
   "source": [
    "correlation_mat = df[['score', 'level']].corr()\n",
    "\n",
    "correlation_mat"
   ]
  },
  {
   "cell_type": "markdown",
   "id": "2e6b9995-ded9-453d-a6a4-4c27ebd7b1cb",
   "metadata": {
    "jp-MarkdownHeadingCollapsed": true
   },
   "source": [
    "## *** End of File ***"
   ]
  },
  {
   "cell_type": "code",
   "execution_count": null,
   "id": "a63a4809-7ba8-46c2-bac6-c47d970c1f74",
   "metadata": {},
   "outputs": [],
   "source": []
  },
  {
   "cell_type": "code",
   "execution_count": null,
   "id": "7c0fc68b-d0f7-41b3-92f8-c2826309c091",
   "metadata": {},
   "outputs": [],
   "source": []
  },
  {
   "cell_type": "code",
   "execution_count": null,
   "id": "504d897b-1518-4475-b57c-b78c644deefc",
   "metadata": {},
   "outputs": [],
   "source": []
  },
  {
   "cell_type": "code",
   "execution_count": null,
   "id": "cfbec940-254f-4d22-a022-314d36d96270",
   "metadata": {},
   "outputs": [],
   "source": []
  }
 ],
 "metadata": {
  "kernelspec": {
   "display_name": "Python 3 (ipykernel)",
   "language": "python",
   "name": "python3"
  },
  "language_info": {
   "codemirror_mode": {
    "name": "ipython",
    "version": 3
   },
   "file_extension": ".py",
   "mimetype": "text/x-python",
   "name": "python",
   "nbconvert_exporter": "python",
   "pygments_lexer": "ipython3",
   "version": "3.13.2"
  }
 },
 "nbformat": 4,
 "nbformat_minor": 5
}
