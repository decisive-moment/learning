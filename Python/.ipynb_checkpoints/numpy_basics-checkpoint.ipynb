{
 "cells": [
  {
   "cell_type": "markdown",
   "id": "6b2d12ed-bbdf-48bd-bcfa-84e91386c78f",
   "metadata": {},
   "source": [
    "## NumPy Basics"
   ]
  },
  {
   "cell_type": "code",
   "execution_count": 1,
   "id": "0cf9b18e-8560-489d-8e58-d0ce7b5e392f",
   "metadata": {},
   "outputs": [],
   "source": [
    "import numpy as np"
   ]
  },
  {
   "cell_type": "markdown",
   "id": "b209b501-e596-478c-a621-a014435251b6",
   "metadata": {
    "jp-MarkdownHeadingCollapsed": true
   },
   "source": [
    "### Introduction to NumPy"
   ]
  },
  {
   "cell_type": "code",
   "execution_count": 2,
   "id": "51b751c9-492a-4316-9e48-66aa1ae3d444",
   "metadata": {},
   "outputs": [],
   "source": [
    "# Why NumPy?\n",
    "\n",
    "# - Python has inbuilt lists data type\n",
    "# - Inbuilt lists allow heterogeneous data\n",
    "# - Numpy was built for the use cases where we are dealing with data of homogenous type\n",
    "# - Allowing for faster and memory efficient computation\n",
    "# - numpy also defines high level syntax for commonly performed computation on these kinds of data\n",
    "\n",
    "\n",
    "# - Most operations of Numpy are vectorised and employ broadcasting\n",
    "#   - Vectorisation is the absence of explicit looping while performing operations\n",
    "#     (these looping operations are implemented behind the scenes using precompiled C code)\n",
    "#   - The term broadcasting (this is known as recycling in R) describes how NumPy treats arrays with different shapes during arithmetic operations.\n",
    "#     Subject to certain constraints, the smaller array is “broadcast” across the larger array so that they have compatible shapes"
   ]
  },
  {
   "cell_type": "code",
   "execution_count": 3,
   "id": "88ea90ca-2439-4814-a592-1b01397e55f4",
   "metadata": {},
   "outputs": [],
   "source": [
    "# Most NumPy arrays have some restrictions. For instance:\n",
    "\n",
    "# - All elements of the array must be of the same type of data.\n",
    "# - Once created, the total size of the array can’t change.\n",
    "# - The shape must be “rectangular”, not “jagged”; e.g., each row of a two-dimensional array must have the same number of columns.\n",
    "\n",
    "# When these conditions are met, NumPy exploits these characteristics to make the array faster, more memory efficient,\n",
    "# and more convenient to use than less restrictive data structures."
   ]
  },
  {
   "cell_type": "markdown",
   "id": "bf972543-870b-47c1-aaee-c5f6935060be",
   "metadata": {
    "jp-MarkdownHeadingCollapsed": true
   },
   "source": [
    "### Initialising Arrays"
   ]
  },
  {
   "cell_type": "code",
   "execution_count": 4,
   "id": "3c64cb5a-bdfc-4447-a612-3b15d5fcbab2",
   "metadata": {},
   "outputs": [
    {
     "name": "stdout",
     "output_type": "stream",
     "text": [
      "[1 2 3 4 5 6]\n"
     ]
    },
    {
     "data": {
      "text/plain": [
       "numpy.ndarray"
      ]
     },
     "execution_count": 4,
     "metadata": {},
     "output_type": "execute_result"
    }
   ],
   "source": [
    "# One way to initialize an array is using a Python sequence, such as a list. For example:\n",
    "\n",
    "a = np.array([1, 2, 3, 4, 5, 6])\n",
    "\n",
    "print(a)\n",
    "type(a)"
   ]
  },
  {
   "cell_type": "code",
   "execution_count": 5,
   "id": "e1433cc6-9fee-448a-ab36-7c2c3e78553a",
   "metadata": {},
   "outputs": [
    {
     "name": "stdout",
     "output_type": "stream",
     "text": [
      "[[1 2 3]\n",
      " [4 5 6]]\n"
     ]
    },
    {
     "data": {
      "text/plain": [
       "numpy.ndarray"
      ]
     },
     "execution_count": 5,
     "metadata": {},
     "output_type": "execute_result"
    }
   ],
   "source": [
    "# 2 dimensional array\n",
    "\n",
    "b = np.array([[1, 2, 3], [4, 5, 6]])\n",
    "\n",
    "print(b)\n",
    "type(b)"
   ]
  },
  {
   "cell_type": "code",
   "execution_count": 6,
   "id": "066aa9a0-49e2-46f5-901a-1a41a98a5c57",
   "metadata": {},
   "outputs": [
    {
     "name": "stdout",
     "output_type": "stream",
     "text": [
      "(3,)\n",
      "(1, 3)\n",
      "(3, 1)\n"
     ]
    }
   ],
   "source": [
    "#### IMPORTANT!\n",
    "\n",
    "# Note that this 1 dimensional array\n",
    "a = np.array([1, 2, 3])\n",
    "\n",
    "# Is different from this 2 dimensional array with just 1 row\n",
    "b = np.array([[1, 2, 3]])\n",
    "\n",
    "# Is different from this 2 dimensional array with just 1 column\n",
    "c = np.array([[1], [2], [3]])\n",
    "\n",
    "print(a.shape)\n",
    "print(b.shape)\n",
    "print(c.shape)"
   ]
  },
  {
   "cell_type": "code",
   "execution_count": 13,
   "id": "f9e9725c-fa6d-4a33-bf08-d9ea7847e58d",
   "metadata": {},
   "outputs": [
    {
     "data": {
      "text/plain": [
       "array([0., 0., 0., 0., 0.])"
      ]
     },
     "execution_count": 13,
     "metadata": {},
     "output_type": "execute_result"
    }
   ],
   "source": [
    "# Zeros\n",
    "\n",
    "np.zeros(5)"
   ]
  },
  {
   "cell_type": "code",
   "execution_count": 14,
   "id": "19e4d654-3a25-4f6b-8068-a0840d300ad1",
   "metadata": {},
   "outputs": [
    {
     "data": {
      "text/plain": [
       "array([1., 1., 1., 1., 1., 1., 1., 1., 1., 1., 1., 1.])"
      ]
     },
     "execution_count": 14,
     "metadata": {},
     "output_type": "execute_result"
    }
   ],
   "source": [
    "# Ones\n",
    "\n",
    "np.ones(12)"
   ]
  },
  {
   "cell_type": "code",
   "execution_count": 15,
   "id": "bd7c8248-ed63-4e09-a7cc-f22dc9cc1837",
   "metadata": {},
   "outputs": [
    {
     "data": {
      "text/plain": [
       "array([0., 0., 0., 0., 0.])"
      ]
     },
     "execution_count": 15,
     "metadata": {},
     "output_type": "execute_result"
    }
   ],
   "source": [
    "# Empty (Random values depending on state of the memory)\n",
    "\n",
    "np.empty(5)"
   ]
  },
  {
   "cell_type": "code",
   "execution_count": 16,
   "id": "d87ddcdd-b189-4457-828c-513ff5dc8a34",
   "metadata": {},
   "outputs": [
    {
     "data": {
      "text/plain": [
       "array([ 0,  1,  2,  3,  4,  5,  6,  7,  8,  9, 10, 11])"
      ]
     },
     "execution_count": 16,
     "metadata": {},
     "output_type": "execute_result"
    }
   ],
   "source": [
    "# arange (default starting number 0, default step size = 1)\n",
    "\n",
    "np.arange(12)"
   ]
  },
  {
   "cell_type": "code",
   "execution_count": 17,
   "id": "ecbedebe-4daa-4558-a224-88c7ef94914c",
   "metadata": {},
   "outputs": [
    {
     "data": {
      "text/plain": [
       "array([ 5, 10, 15, 20])"
      ]
     },
     "execution_count": 17,
     "metadata": {},
     "output_type": "execute_result"
    }
   ],
   "source": [
    "# arange (starting number, end number and step size)\n",
    "\n",
    "np.arange(5, 25, 5)"
   ]
  },
  {
   "cell_type": "code",
   "execution_count": 18,
   "id": "add8b5fd-3ace-4ba2-aca4-8be831ec879f",
   "metadata": {},
   "outputs": [
    {
     "data": {
      "text/plain": [
       "array([ 0. ,  2.5,  5. ,  7.5, 10. ])"
      ]
     },
     "execution_count": 18,
     "metadata": {},
     "output_type": "execute_result"
    }
   ],
   "source": [
    "# 5 elements spaced linearly between 0 and 10\n",
    "\n",
    "np.linspace(0, 10, num=5)"
   ]
  },
  {
   "cell_type": "code",
   "execution_count": 19,
   "id": "c0e68572-4e87-4f16-830b-822e71d2b594",
   "metadata": {},
   "outputs": [
    {
     "name": "stdout",
     "output_type": "stream",
     "text": [
      "[1 1 1]\n"
     ]
    }
   ],
   "source": [
    "# specify data type\n",
    "x = np.ones(3, dtype=np.int64)\n",
    "\n",
    "print(x)"
   ]
  },
  {
   "cell_type": "markdown",
   "id": "1a1e6483-2879-42a3-bf8f-63c1f0148779",
   "metadata": {
    "jp-MarkdownHeadingCollapsed": true
   },
   "source": [
    "### Structured (Named) arrays"
   ]
  },
  {
   "cell_type": "code",
   "execution_count": 202,
   "id": "1fef5439-b8ef-46bb-ae3c-410027f77b59",
   "metadata": {},
   "outputs": [
    {
     "data": {
      "text/plain": [
       "[('first_name', numpy.str_, 16),\n",
       " ('last_name', 'S10'),\n",
       " ('age', numpy.int32),\n",
       " ('math_score', numpy.float16),\n",
       " ('physics_score', numpy.float16)]"
      ]
     },
     "execution_count": 202,
     "metadata": {},
     "output_type": "execute_result"
    }
   ],
   "source": [
    "# np.str_ is a string type in numpy, it requires a length to be specified\n",
    "dtype = [(\"first_name\", np.str_, (16)), (\"last_name\", \"S10\"), (\"age\", np.int32), (\"math_score\", np.float16), (\"physics_score\", np.float16)]\n",
    "dtype"
   ]
  },
  {
   "cell_type": "code",
   "execution_count": 203,
   "id": "27896036-7669-469f-8128-f61eb9af7848",
   "metadata": {},
   "outputs": [
    {
     "data": {
      "text/plain": [
       "[('Chaitanya', 'Anand', 34, 60.343, 70.4),\n",
       " ('Bob', 'Marley', 12, 65.4333, 70.456),\n",
       " ('Albert', 'Einstein', 70, 100, 100)]"
      ]
     },
     "execution_count": 203,
     "metadata": {},
     "output_type": "execute_result"
    }
   ],
   "source": [
    "array_values = [(\"Chaitanya\", \"Anand\", 34, 60.343, 70.4),\n",
    "                (\"Bob\", \"Marley\", 12, 65.4333, 70.456),\n",
    "                (\"Albert\", \"Einstein\", 70, 100, 100)]\n",
    "array_values"
   ]
  },
  {
   "cell_type": "code",
   "execution_count": 204,
   "id": "c147c10d-aba7-470a-8b89-02c8ec4198ea",
   "metadata": {},
   "outputs": [
    {
     "data": {
      "text/plain": [
       "array([('Chaitanya', b'Anand', 34,  60.34,  70.4 ),\n",
       "       ('Bob', b'Marley', 12,  65.44,  70.44),\n",
       "       ('Albert', b'Einstein', 70, 100.  , 100.  )],\n",
       "      dtype=[('first_name', '<U16'), ('last_name', 'S10'), ('age', '<i4'), ('math_score', '<f2'), ('physics_score', '<f2')])"
      ]
     },
     "execution_count": 204,
     "metadata": {},
     "output_type": "execute_result"
    }
   ],
   "source": [
    "a = np.array(array_values, dtype = dtype)\n",
    "a"
   ]
  },
  {
   "cell_type": "code",
   "execution_count": 205,
   "id": "400c0e65-3285-4fa5-b012-7cddc0a16ccd",
   "metadata": {},
   "outputs": [
    {
     "data": {
      "text/plain": [
       "array(['Chaitanya', 'Bob', 'Albert'], dtype='<U16')"
      ]
     },
     "execution_count": 205,
     "metadata": {},
     "output_type": "execute_result"
    }
   ],
   "source": [
    "a[\"first_name\"]"
   ]
  },
  {
   "cell_type": "code",
   "execution_count": 206,
   "id": "4b834e38-ab4c-4264-a64a-8e56bb2ecdc7",
   "metadata": {},
   "outputs": [
    {
     "data": {
      "text/plain": [
       "array([ True, False,  True])"
      ]
     },
     "execution_count": 206,
     "metadata": {},
     "output_type": "execute_result"
    }
   ],
   "source": [
    "a[\"age\"] > 20"
   ]
  },
  {
   "cell_type": "code",
   "execution_count": 207,
   "id": "0ea40c5e-a024-4918-9f31-ae96726ff8a2",
   "metadata": {},
   "outputs": [
    {
     "data": {
      "text/plain": [
       "array([('Chaitanya', b'Anand', 34,  60.34,  70.4),\n",
       "       ('Albert', b'Einstein', 70, 100.  , 100. )],\n",
       "      dtype=[('first_name', '<U16'), ('last_name', 'S10'), ('age', '<i4'), ('math_score', '<f2'), ('physics_score', '<f2')])"
      ]
     },
     "execution_count": 207,
     "metadata": {},
     "output_type": "execute_result"
    }
   ],
   "source": [
    "a[a[\"age\"] > 20]"
   ]
  },
  {
   "cell_type": "code",
   "execution_count": 208,
   "id": "69ed8908-12fd-4104-8ae3-078fa5f149bf",
   "metadata": {},
   "outputs": [
    {
     "data": {
      "text/plain": [
       "array([('Albert', b'Einstein', 70, 100., 100.)],\n",
       "      dtype=[('first_name', '<U16'), ('last_name', 'S10'), ('age', '<i4'), ('math_score', '<f2'), ('physics_score', '<f2')])"
      ]
     },
     "execution_count": 208,
     "metadata": {},
     "output_type": "execute_result"
    }
   ],
   "source": [
    "a[a[\"math_score\"] > 80]"
   ]
  },
  {
   "cell_type": "code",
   "execution_count": 209,
   "id": "e687993b-4512-4e4b-b6cf-3f9c32aa5491",
   "metadata": {},
   "outputs": [
    {
     "data": {
      "text/plain": [
       "array([],\n",
       "      dtype=[('first_name', '<U16'), ('last_name', 'S10'), ('age', '<i4'), ('math_score', '<f2'), ('physics_score', '<f2')])"
      ]
     },
     "execution_count": 209,
     "metadata": {},
     "output_type": "execute_result"
    }
   ],
   "source": [
    "# NOTE: This won't work with byte string\n",
    "a[a[\"last_name\"] == \"Anand\"]"
   ]
  },
  {
   "cell_type": "code",
   "execution_count": 210,
   "id": "c7e26d9c-d62e-4d59-8fad-87b4e3a12998",
   "metadata": {},
   "outputs": [
    {
     "data": {
      "text/plain": [
       "array([('Chaitanya', b'Anand', 34, 60.34, 70.4)],\n",
       "      dtype=[('first_name', '<U16'), ('last_name', 'S10'), ('age', '<i4'), ('math_score', '<f2'), ('physics_score', '<f2')])"
      ]
     },
     "execution_count": 210,
     "metadata": {},
     "output_type": "execute_result"
    }
   ],
   "source": [
    "a[a[\"last_name\"] == b\"Anand\"]"
   ]
  },
  {
   "cell_type": "code",
   "execution_count": 211,
   "id": "eec8181a-4f00-4df4-a713-cb84b6576cbd",
   "metadata": {},
   "outputs": [
    {
     "data": {
      "text/plain": [
       "array([('Chaitanya', b'Anand', 34, 60.34, 70.4)],\n",
       "      dtype=[('first_name', '<U16'), ('last_name', 'S10'), ('age', '<i4'), ('math_score', '<f2'), ('physics_score', '<f2')])"
      ]
     },
     "execution_count": 211,
     "metadata": {},
     "output_type": "execute_result"
    }
   ],
   "source": [
    "# First name is not a byte string\n",
    "a[a[\"first_name\"] == \"Chaitanya\"]"
   ]
  },
  {
   "cell_type": "markdown",
   "id": "5eb7c193-fef1-436b-911f-25a139fc5733",
   "metadata": {
    "jp-MarkdownHeadingCollapsed": true
   },
   "source": [
    "### Indexing and slicing and dicing"
   ]
  },
  {
   "cell_type": "code",
   "execution_count": 262,
   "id": "0cdb1472-4064-4657-b621-d137b825e604",
   "metadata": {},
   "outputs": [
    {
     "data": {
      "text/plain": [
       "array([1, 2, 3, 4, 5, 6])"
      ]
     },
     "execution_count": 262,
     "metadata": {},
     "output_type": "execute_result"
    }
   ],
   "source": [
    "a = np.array([1, 2, 3, 4, 5, 6])\n",
    "a"
   ]
  },
  {
   "cell_type": "code",
   "execution_count": 266,
   "id": "0a81cd1f-23b7-4b0b-afe5-fdfc26cceb28",
   "metadata": {},
   "outputs": [
    {
     "data": {
      "text/plain": [
       "array([[1, 2, 3],\n",
       "       [4, 5, 6]])"
      ]
     },
     "execution_count": 266,
     "metadata": {},
     "output_type": "execute_result"
    }
   ],
   "source": [
    "# 2 dimensional array\n",
    "\n",
    "b = np.array([[1, 2, 3], [4, 5, 6]])\n",
    "b"
   ]
  },
  {
   "cell_type": "code",
   "execution_count": 267,
   "id": "e8f9c5ce-048e-40fb-baf0-98ee192d6624",
   "metadata": {},
   "outputs": [
    {
     "name": "stdout",
     "output_type": "stream",
     "text": [
      "1\n",
      "1\n",
      "[3 4 5 6]\n",
      "[2 3]\n",
      "[[5 6]]\n",
      "[3 4]\n"
     ]
    }
   ],
   "source": [
    "# Indexing starts at 0 and slicing and dicing is possible as follows\n",
    "\n",
    "# Access a single element\n",
    "print(a[0])\n",
    "print(b[0, 0])\n",
    "\n",
    "# Slice notation\n",
    "print(a[2:])\n",
    "print(b[0, 1:])\n",
    "print(b[1:, 1:])\n",
    "\n",
    "# Dicing notation\n",
    "print(a[2:4])\n",
    "\n"
   ]
  },
  {
   "cell_type": "code",
   "execution_count": 268,
   "id": "795b5aab-efa5-40d0-81c0-86025a215ea2",
   "metadata": {},
   "outputs": [],
   "source": [
    "b = np.array([[-1, -2, -3, -4], [9, 10, 11, 12], [300, 400, 500, 600], [23, 56, 32, 87]])"
   ]
  },
  {
   "cell_type": "code",
   "execution_count": 269,
   "id": "3736c7e1-4c76-48ac-9352-0a13abbf3685",
   "metadata": {},
   "outputs": [
    {
     "data": {
      "text/plain": [
       "array([[ -1,  -2,  -3,  -4],\n",
       "       [  9,  10,  11,  12],\n",
       "       [300, 400, 500, 600],\n",
       "       [ 23,  56,  32,  87]])"
      ]
     },
     "execution_count": 269,
     "metadata": {},
     "output_type": "execute_result"
    }
   ],
   "source": [
    "b"
   ]
  },
  {
   "cell_type": "code",
   "execution_count": 273,
   "id": "b6179efd-a352-425c-a257-813b8e874dcd",
   "metadata": {},
   "outputs": [
    {
     "data": {
      "text/plain": [
       "array([ 9, 10, 11, 12])"
      ]
     },
     "execution_count": 273,
     "metadata": {},
     "output_type": "execute_result"
    }
   ],
   "source": [
    "b[1]"
   ]
  },
  {
   "cell_type": "code",
   "execution_count": 275,
   "id": "e92e6396-d3bd-4aa0-91c5-a4d21b36060c",
   "metadata": {},
   "outputs": [
    {
     "data": {
      "text/plain": [
       "array([ -2,  10, 400,  56])"
      ]
     },
     "execution_count": 275,
     "metadata": {},
     "output_type": "execute_result"
    }
   ],
   "source": [
    "b[:,1]"
   ]
  },
  {
   "cell_type": "code",
   "execution_count": 277,
   "id": "7dca581a-8254-433c-93a4-823bcf61775c",
   "metadata": {},
   "outputs": [
    {
     "data": {
      "text/plain": [
       "array([[  9,  10,  11,  12],\n",
       "       [300, 400, 500, 600],\n",
       "       [ 23,  56,  32,  87]])"
      ]
     },
     "execution_count": 277,
     "metadata": {},
     "output_type": "execute_result"
    }
   ],
   "source": [
    "b[1:]"
   ]
  },
  {
   "cell_type": "code",
   "execution_count": 278,
   "id": "c4ae8723-8793-4c1d-b93f-66597e552c4a",
   "metadata": {},
   "outputs": [
    {
     "data": {
      "text/plain": [
       "array([[  9,  10,  11,  12],\n",
       "       [300, 400, 500, 600],\n",
       "       [ 23,  56,  32,  87]])"
      ]
     },
     "execution_count": 278,
     "metadata": {},
     "output_type": "execute_result"
    }
   ],
   "source": [
    "# same thing\n",
    "b[1:,:]"
   ]
  },
  {
   "cell_type": "code",
   "execution_count": 279,
   "id": "8dca26a7-a133-45fc-a483-4592770bbe02",
   "metadata": {},
   "outputs": [
    {
     "data": {
      "text/plain": [
       "array([[-1, -2, -3, -4]])"
      ]
     },
     "execution_count": 279,
     "metadata": {},
     "output_type": "execute_result"
    }
   ],
   "source": [
    "b[:1]"
   ]
  },
  {
   "cell_type": "code",
   "execution_count": 280,
   "id": "c2c5395d-0603-4b16-9b4d-cd90bac66bca",
   "metadata": {},
   "outputs": [
    {
     "data": {
      "text/plain": [
       "array([-1, -2, -3, -4])"
      ]
     },
     "execution_count": 280,
     "metadata": {},
     "output_type": "execute_result"
    }
   ],
   "source": [
    "b[0]"
   ]
  },
  {
   "cell_type": "code",
   "execution_count": 281,
   "id": "4b8919c4-b3e9-4f8b-be28-b7ca9a448dac",
   "metadata": {},
   "outputs": [
    {
     "data": {
      "text/plain": [
       "array([ 9, 10, 11, 12])"
      ]
     },
     "execution_count": 281,
     "metadata": {},
     "output_type": "execute_result"
    }
   ],
   "source": [
    "b[1]"
   ]
  },
  {
   "cell_type": "code",
   "execution_count": 282,
   "id": "ac83b12f-720a-48bd-ad0f-f106c66a6700",
   "metadata": {},
   "outputs": [
    {
     "data": {
      "text/plain": [
       "np.int64(11)"
      ]
     },
     "execution_count": 282,
     "metadata": {},
     "output_type": "execute_result"
    }
   ],
   "source": [
    "b[1, 2]"
   ]
  },
  {
   "cell_type": "code",
   "execution_count": 283,
   "id": "f24d6728-613b-4e74-9830-750c6d42a247",
   "metadata": {},
   "outputs": [
    {
     "data": {
      "text/plain": [
       "array([[ 11,  12],\n",
       "       [500, 600],\n",
       "       [ 32,  87]])"
      ]
     },
     "execution_count": 283,
     "metadata": {},
     "output_type": "execute_result"
    }
   ],
   "source": [
    "b[1:, 2:]"
   ]
  },
  {
   "cell_type": "code",
   "execution_count": 284,
   "id": "17b303f8-607c-42e5-8fc4-9bb5b60c244a",
   "metadata": {},
   "outputs": [
    {
     "data": {
      "text/plain": [
       "array([[  9,  10,  11,  12],\n",
       "       [300, 400, 500, 600]])"
      ]
     },
     "execution_count": 284,
     "metadata": {},
     "output_type": "execute_result"
    }
   ],
   "source": [
    "b[1:3]"
   ]
  },
  {
   "cell_type": "code",
   "execution_count": 285,
   "id": "3811719c-da06-4d49-a1e2-842e80981aff",
   "metadata": {},
   "outputs": [
    {
     "data": {
      "text/plain": [
       "array([[ -3,  -4],\n",
       "       [ 11,  12],\n",
       "       [500, 600],\n",
       "       [ 32,  87]])"
      ]
     },
     "execution_count": 285,
     "metadata": {},
     "output_type": "execute_result"
    }
   ],
   "source": [
    "b[:,2:]"
   ]
  },
  {
   "cell_type": "code",
   "execution_count": 291,
   "id": "615974a5-d1cc-493b-b656-24cb300329ef",
   "metadata": {},
   "outputs": [
    {
     "data": {
      "text/plain": [
       "array([1, 2, 3, 4, 5, 6])"
      ]
     },
     "execution_count": 291,
     "metadata": {},
     "output_type": "execute_result"
    }
   ],
   "source": [
    "a"
   ]
  },
  {
   "cell_type": "code",
   "execution_count": 287,
   "id": "bfc9268f-f6f7-4065-b158-5704430c76d8",
   "metadata": {},
   "outputs": [
    {
     "data": {
      "text/plain": [
       "np.int64(3)"
      ]
     },
     "execution_count": 287,
     "metadata": {},
     "output_type": "execute_result"
    }
   ],
   "source": [
    "a[2]"
   ]
  },
  {
   "cell_type": "code",
   "execution_count": 289,
   "id": "fb00369b-e459-4b60-a662-a5f38b7fb5e4",
   "metadata": {},
   "outputs": [
    {
     "data": {
      "text/plain": [
       "array([3, 4, 5, 6])"
      ]
     },
     "execution_count": 289,
     "metadata": {},
     "output_type": "execute_result"
    }
   ],
   "source": [
    "a[2:]"
   ]
  },
  {
   "cell_type": "code",
   "execution_count": 290,
   "id": "1cdd52ed-b5d0-4f5b-b01f-62bcd331eed8",
   "metadata": {},
   "outputs": [
    {
     "data": {
      "text/plain": [
       "array([1, 2])"
      ]
     },
     "execution_count": 290,
     "metadata": {},
     "output_type": "execute_result"
    }
   ],
   "source": [
    "a[:2]"
   ]
  },
  {
   "cell_type": "code",
   "execution_count": 295,
   "id": "26d9d4bf-9be7-4152-9be2-865a7bb0dc93",
   "metadata": {},
   "outputs": [
    {
     "data": {
      "text/plain": [
       "array([3, 4, 5])"
      ]
     },
     "execution_count": 295,
     "metadata": {},
     "output_type": "execute_result"
    }
   ],
   "source": [
    "a[2:5]"
   ]
  },
  {
   "cell_type": "markdown",
   "id": "9813bf6e-6d79-4fdf-8898-fae94424a988",
   "metadata": {
    "jp-MarkdownHeadingCollapsed": true
   },
   "source": [
    "### Attributes of an array object"
   ]
  },
  {
   "cell_type": "code",
   "execution_count": 15,
   "id": "997af304-ff6a-4683-bda3-145f37ca3bbf",
   "metadata": {},
   "outputs": [],
   "source": [
    " # ndim, shape, size, and dtype"
   ]
  },
  {
   "cell_type": "code",
   "execution_count": 16,
   "id": "bb3e4d2f-e2b5-4d72-852a-528a179f2661",
   "metadata": {},
   "outputs": [
    {
     "name": "stdout",
     "output_type": "stream",
     "text": [
      "1\n",
      "2\n"
     ]
    }
   ],
   "source": [
    "# Number of dimensions in the array (ndim)\n",
    "print(a.ndim)\n",
    "print(b.ndim)"
   ]
  },
  {
   "cell_type": "code",
   "execution_count": 17,
   "id": "6f209bb5-be6d-4443-9936-288f19b4a7fa",
   "metadata": {},
   "outputs": [
    {
     "name": "stdout",
     "output_type": "stream",
     "text": [
      "(3,)\n",
      "(1, 3)\n"
     ]
    }
   ],
   "source": [
    "# Shape of the array (lenght of each dimension)\n",
    "\n",
    "print(a.shape)\n",
    "print(b.shape)"
   ]
  },
  {
   "cell_type": "code",
   "execution_count": 18,
   "id": "777be865-27f0-4af2-adcf-d78f1b0239e8",
   "metadata": {},
   "outputs": [
    {
     "name": "stdout",
     "output_type": "stream",
     "text": [
      "3\n",
      "3\n"
     ]
    }
   ],
   "source": [
    "# Size of the array (total number of elements)\n",
    "\n",
    "print(a.size)\n",
    "print(b.size)"
   ]
  },
  {
   "cell_type": "code",
   "execution_count": 19,
   "id": "db2bcc14-b21d-40f4-a0e0-f6a5150775a0",
   "metadata": {},
   "outputs": [
    {
     "name": "stdout",
     "output_type": "stream",
     "text": [
      "int64\n",
      "int64\n"
     ]
    }
   ],
   "source": [
    "# Data type of the elements of the array\n",
    "\n",
    "print(a.dtype)\n",
    "print(b.dtype)"
   ]
  },
  {
   "cell_type": "markdown",
   "id": "86175573-5d3d-4941-98ae-10c8c1108be0",
   "metadata": {
    "jp-MarkdownHeadingCollapsed": true
   },
   "source": [
    "### Sorting the array (Sorting 1 Dimensional Arrays)"
   ]
  },
  {
   "cell_type": "code",
   "execution_count": 3,
   "id": "b9b0ecba-e7e4-4001-804e-aaca71b68974",
   "metadata": {},
   "outputs": [],
   "source": [
    "a = np.array([45,345,3563,23,324,5,3234,12,234,2,23,2,21,1])"
   ]
  },
  {
   "cell_type": "code",
   "execution_count": 4,
   "id": "e7759487-7c51-4a0c-b995-fd2bdc9d2757",
   "metadata": {},
   "outputs": [],
   "source": [
    "# Note that the sort function modifies the array itself and does not create a copy\n",
    "a.sort()"
   ]
  },
  {
   "cell_type": "code",
   "execution_count": 5,
   "id": "1be6a540-010f-426f-af36-1cc659a62cfc",
   "metadata": {},
   "outputs": [
    {
     "name": "stdout",
     "output_type": "stream",
     "text": [
      "[   1    2    2    5   12   21   23   23   45  234  324  345 3234 3563]\n"
     ]
    }
   ],
   "source": [
    "print(a)"
   ]
  },
  {
   "cell_type": "code",
   "execution_count": 6,
   "id": "bbe443fb-3c7a-4d20-b658-4e1506731aea",
   "metadata": {},
   "outputs": [
    {
     "data": {
      "text/plain": [
       "array([   1,    2,    2,    5,   12,   21,   23,   23,   45,  234,  324,\n",
       "        345, 3234, 3563])"
      ]
     },
     "execution_count": 6,
     "metadata": {},
     "output_type": "execute_result"
    }
   ],
   "source": [
    "a = np.array([45,345,3563,23,324,5,3234,12,234,2,23,2,21,1])\n",
    "np.sort(a)"
   ]
  },
  {
   "cell_type": "code",
   "execution_count": 7,
   "id": "3d8bdd64-1650-4ab8-8187-0d1a94bceb95",
   "metadata": {},
   "outputs": [
    {
     "name": "stdout",
     "output_type": "stream",
     "text": [
      "[  45  345 3563   23  324    5 3234   12  234    2   23    2   21    1]\n"
     ]
    }
   ],
   "source": [
    "# Note that using np.sort instead did not modify the original array\n",
    "print(a)"
   ]
  },
  {
   "cell_type": "markdown",
   "id": "2659dbba-3196-4af5-8317-0267c9a0da35",
   "metadata": {
    "jp-MarkdownHeadingCollapsed": true
   },
   "source": [
    "### Sorting the array (Sorting 2 Dimensional Arrays)"
   ]
  },
  {
   "cell_type": "code",
   "execution_count": 86,
   "id": "272db73b-9463-47e8-a86f-0bc49ec1bdc3",
   "metadata": {},
   "outputs": [
    {
     "data": {
      "text/plain": [
       "array([[ -1, 400,  -3,  87],\n",
       "       [  9,  10,  11,  12],\n",
       "       [300,  -2, 500, 600],\n",
       "       [ 23,  56,  32,  -4]])"
      ]
     },
     "execution_count": 86,
     "metadata": {},
     "output_type": "execute_result"
    }
   ],
   "source": [
    "b = np.array([[-1, 400, -3, 87], [9, 10, 11, 12], [300, -2, 500, 600], [23, 56, 32, -4]])\n",
    "b"
   ]
  },
  {
   "cell_type": "code",
   "execution_count": 87,
   "id": "1f5437a3-85e2-49c9-815a-f8916925d1d3",
   "metadata": {},
   "outputs": [],
   "source": [
    "# in place sorting\n",
    "# by default each row gets sorted (axis = 0)\n",
    "b.sort()"
   ]
  },
  {
   "cell_type": "code",
   "execution_count": 88,
   "id": "514e2a24-8339-4fd4-b309-ed01d6783d65",
   "metadata": {},
   "outputs": [
    {
     "data": {
      "text/plain": [
       "array([[ -3,  -1,  87, 400],\n",
       "       [  9,  10,  11,  12],\n",
       "       [ -2, 300, 500, 600],\n",
       "       [ -4,  23,  32,  56]])"
      ]
     },
     "execution_count": 88,
     "metadata": {},
     "output_type": "execute_result"
    }
   ],
   "source": [
    "b"
   ]
  },
  {
   "cell_type": "code",
   "execution_count": 89,
   "id": "aafcb167-0ae0-45db-92ad-effe46e65180",
   "metadata": {},
   "outputs": [
    {
     "data": {
      "text/plain": [
       "array([[ -1, 400,  -3,  87],\n",
       "       [  9,  10,  11,  12],\n",
       "       [300,  -2, 500, 600],\n",
       "       [ 23,  56,  32,  -4]])"
      ]
     },
     "execution_count": 89,
     "metadata": {},
     "output_type": "execute_result"
    }
   ],
   "source": [
    "b = np.array([[-1, 400, -3, 87], [9, 10, 11, 12], [300, -2, 500, 600], [23, 56, 32, -4]])\n",
    "b"
   ]
  },
  {
   "cell_type": "code",
   "execution_count": 90,
   "id": "8a1800e9-306c-47b9-bff9-e6a8d0c03c33",
   "metadata": {},
   "outputs": [
    {
     "data": {
      "text/plain": [
       "array([[ -3,  -1,  87, 400],\n",
       "       [  9,  10,  11,  12],\n",
       "       [ -2, 300, 500, 600],\n",
       "       [ -4,  23,  32,  56]])"
      ]
     },
     "execution_count": 90,
     "metadata": {},
     "output_type": "execute_result"
    }
   ],
   "source": [
    "# orginal array left untouched and new array returned (np.sort())\n",
    "# again by default each row is sorted (axis = 0)\n",
    "np.sort(b)"
   ]
  },
  {
   "cell_type": "code",
   "execution_count": 91,
   "id": "069f8015-50f3-4634-b1f4-aef18b03e0af",
   "metadata": {},
   "outputs": [
    {
     "data": {
      "text/plain": [
       "array([[ -1, 400,  -3,  87],\n",
       "       [  9,  10,  11,  12],\n",
       "       [300,  -2, 500, 600],\n",
       "       [ 23,  56,  32,  -4]])"
      ]
     },
     "execution_count": 91,
     "metadata": {},
     "output_type": "execute_result"
    }
   ],
   "source": [
    "b"
   ]
  },
  {
   "cell_type": "code",
   "execution_count": 93,
   "id": "725af91e-26f1-4cbb-bf3c-afac3c606e08",
   "metadata": {},
   "outputs": [
    {
     "data": {
      "text/plain": [
       "array([[ -1, 400,  -3,  87],\n",
       "       [  9,  10,  11,  12],\n",
       "       [300,  -2, 500, 600],\n",
       "       [ 23,  56,  32,  -4]])"
      ]
     },
     "execution_count": 93,
     "metadata": {},
     "output_type": "execute_result"
    }
   ],
   "source": [
    "b = np.array([[-1, 400, -3, 87], [9, 10, 11, 12], [300, -2, 500, 600], [23, 56, 32, -4]])\n",
    "b"
   ]
  },
  {
   "cell_type": "code",
   "execution_count": 94,
   "id": "962025c0-cbb2-48a6-8da8-32ffe9b59959",
   "metadata": {},
   "outputs": [
    {
     "data": {
      "text/plain": [
       "array([[ -1,  -2,  -3,  -4],\n",
       "       [  9,  10,  11,  12],\n",
       "       [ 23,  56,  32,  87],\n",
       "       [300, 400, 500, 600]])"
      ]
     },
     "execution_count": 94,
     "metadata": {},
     "output_type": "execute_result"
    }
   ],
   "source": [
    "np.sort(b, axis = 0) # axis = 0 each column gets sorted"
   ]
  },
  {
   "cell_type": "code",
   "execution_count": 300,
   "id": "121d3597-5066-4b3a-8fc1-63cf4c8b5c58",
   "metadata": {},
   "outputs": [
    {
     "data": {
      "text/plain": [
       "array([[ -1, 400,  -3,  87],\n",
       "       [  9,  10,  11,  12],\n",
       "       [300,  -2, 500, 600],\n",
       "       [ 23,  56,  32,  -4]])"
      ]
     },
     "execution_count": 300,
     "metadata": {},
     "output_type": "execute_result"
    }
   ],
   "source": [
    "b = np.array([[-1, 400, -3, 87], [9, 10, 11, 12], [300, -2, 500, 600], [23, 56, 32, -4]])\n",
    "b"
   ]
  },
  {
   "cell_type": "code",
   "execution_count": 332,
   "id": "9dd3a627-d887-45b5-afce-6df39764e4f5",
   "metadata": {},
   "outputs": [
    {
     "data": {
      "text/plain": [
       "array([[2, 0, 3, 1],\n",
       "       [0, 1, 2, 3],\n",
       "       [1, 0, 2, 3],\n",
       "       [3, 0, 2, 1]])"
      ]
     },
     "execution_count": 332,
     "metadata": {},
     "output_type": "execute_result"
    }
   ],
   "source": [
    "sorted_indices = np.argsort(b)\n",
    "sorted_indices"
   ]
  },
  {
   "cell_type": "code",
   "execution_count": 343,
   "id": "7e114d07-fccf-4006-93ec-a4ba6660b985",
   "metadata": {},
   "outputs": [
    {
     "data": {
      "text/plain": [
       "np.int64(-1)"
      ]
     },
     "execution_count": 343,
     "metadata": {},
     "output_type": "execute_result"
    }
   ],
   "source": [
    "b[0,sorted_indices[0,0]]"
   ]
  },
  {
   "cell_type": "code",
   "execution_count": 335,
   "id": "2900087f-95f1-4293-b14e-b0274c535c8d",
   "metadata": {},
   "outputs": [
    {
     "data": {
      "text/plain": [
       "array([[0, 2, 0, 3],\n",
       "       [1, 1, 1, 1],\n",
       "       [3, 3, 3, 0],\n",
       "       [2, 0, 2, 2]])"
      ]
     },
     "execution_count": 335,
     "metadata": {},
     "output_type": "execute_result"
    }
   ],
   "source": [
    "sorted_indices = np.argsort(b, axis = 0)\n",
    "sorted_indices"
   ]
  },
  {
   "cell_type": "code",
   "execution_count": 419,
   "id": "c34ce253-c104-49fc-b391-91a3fd7e25eb",
   "metadata": {},
   "outputs": [
    {
     "data": {
      "text/plain": [
       "array([[ -1, 400,  -3,  87],\n",
       "       [  9,  10,  11,  12],\n",
       "       [300,  -2, 500, 600],\n",
       "       [ 23,  56,  32,  -4],\n",
       "       [  0,   0,  90,  12]])"
      ]
     },
     "execution_count": 419,
     "metadata": {},
     "output_type": "execute_result"
    }
   ],
   "source": [
    "b = np.array([[-1, 400, -3, 87],\n",
    "              [9, 10, 11, 12],\n",
    "              [300, -2, 500, 600],\n",
    "              [23, 56, 32, -4],\n",
    "              [0, 0, 90, 12]\n",
    "             ]\n",
    "            )\n",
    "b"
   ]
  },
  {
   "cell_type": "code",
   "execution_count": 432,
   "id": "cde3a1d7-80c1-4a67-ad8f-c3cc0e1ee4bc",
   "metadata": {},
   "outputs": [
    {
     "data": {
      "text/plain": [
       "array([ -1,   9, 300,  23,   0])"
      ]
     },
     "execution_count": 432,
     "metadata": {},
     "output_type": "execute_result"
    }
   ],
   "source": [
    "b[:,0]"
   ]
  },
  {
   "cell_type": "code",
   "execution_count": 480,
   "id": "bbf73082-4fc4-4390-91e6-d829b9d1c58c",
   "metadata": {},
   "outputs": [
    {
     "data": {
      "text/plain": [
       "array([0, 1, 3, 4, 2])"
      ]
     },
     "execution_count": 480,
     "metadata": {},
     "output_type": "execute_result"
    }
   ],
   "source": [
    "# Sort by 0th column, then by 1st column and then by 2nd column\n",
    "sorted_indices = np.lexsort((b[:,0], b[:,1], b[:,2]))\n",
    "sorted_indices"
   ]
  },
  {
   "cell_type": "code",
   "execution_count": 460,
   "id": "da4233f0-ba8f-45c3-8266-1f59f1b142f6",
   "metadata": {},
   "outputs": [
    {
     "data": {
      "text/plain": [
       "array([[ -1, 400,  -3,  87],\n",
       "       [  9,  10,  11,  12],\n",
       "       [ 23,  56,  32,  -4],\n",
       "       [  0,   0,  90,  12],\n",
       "       [300,  -2, 500, 600]])"
      ]
     },
     "execution_count": 460,
     "metadata": {},
     "output_type": "execute_result"
    }
   ],
   "source": [
    "b[sorted_indices]"
   ]
  },
  {
   "cell_type": "code",
   "execution_count": 473,
   "id": "a89a673d-57fa-4117-8e0d-bb9fb1ab3be1",
   "metadata": {},
   "outputs": [
    {
     "data": {
      "text/plain": [
       "array([0, 4, 1, 3, 2])"
      ]
     },
     "execution_count": 473,
     "metadata": {},
     "output_type": "execute_result"
    }
   ],
   "source": [
    "# Sort by 2nd column, then by 1st column and then by 0th column\n",
    "sorted_indices = np.lexsort((b[:,2], b[:,1], b[:,0]))\n",
    "sorted_indices"
   ]
  },
  {
   "cell_type": "code",
   "execution_count": 474,
   "id": "0bda277a-2b51-4e91-863f-0bd6a7cdb3ef",
   "metadata": {},
   "outputs": [
    {
     "data": {
      "text/plain": [
       "array([[ -1, 400,  -3,  87],\n",
       "       [  0,   0,  90,  12],\n",
       "       [  9,  10,  11,  12],\n",
       "       [ 23,  56,  32,  -4],\n",
       "       [300,  -2, 500, 600]])"
      ]
     },
     "execution_count": 474,
     "metadata": {},
     "output_type": "execute_result"
    }
   ],
   "source": [
    "b[sorted_indices]"
   ]
  },
  {
   "cell_type": "code",
   "execution_count": 477,
   "id": "e0e5165a-7247-4a44-ba38-d6248cb1a50d",
   "metadata": {},
   "outputs": [
    {
     "data": {
      "text/plain": [
       "array([2, 3, 1, 4, 0])"
      ]
     },
     "execution_count": 477,
     "metadata": {},
     "output_type": "execute_result"
    }
   ],
   "source": [
    "# Sort by 2nd column, then by 1st column and then by 0th column\n",
    "# in descending order\n",
    "sorted_indices = np.lexsort((b[:,2], b[:,1], b[:,0]))[::-1]\n",
    "sorted_indices"
   ]
  },
  {
   "cell_type": "code",
   "execution_count": 478,
   "id": "bdb15dc4-c5a3-4c55-ad55-227fc6337cbe",
   "metadata": {},
   "outputs": [
    {
     "data": {
      "text/plain": [
       "array([[300,  -2, 500, 600],\n",
       "       [ 23,  56,  32,  -4],\n",
       "       [  9,  10,  11,  12],\n",
       "       [  0,   0,  90,  12],\n",
       "       [ -1, 400,  -3,  87]])"
      ]
     },
     "execution_count": 478,
     "metadata": {},
     "output_type": "execute_result"
    }
   ],
   "source": [
    "b[sorted_indices]"
   ]
  },
  {
   "cell_type": "code",
   "execution_count": 479,
   "id": "abf4ca22-03cc-42fa-9128-a1c7e3140e92",
   "metadata": {},
   "outputs": [
    {
     "data": {
      "text/plain": [
       "[('first_name', numpy.str_, 16),\n",
       " ('last_name', 'S10'),\n",
       " ('age', numpy.int32),\n",
       " ('math_score', numpy.float16),\n",
       " ('physics_score', numpy.float16)]"
      ]
     },
     "execution_count": 479,
     "metadata": {},
     "output_type": "execute_result"
    }
   ],
   "source": [
    "# np.str_ is a string type in numpy, it requires a length to be specified\n",
    "dtype = [(\"first_name\", np.str_, (16)), (\"last_name\", \"S10\"), (\"age\", np.int32), (\"math_score\", np.float16), (\"physics_score\", np.float16)]\n",
    "dtype"
   ]
  },
  {
   "cell_type": "code",
   "execution_count": 307,
   "id": "694bbde7-91b2-4a68-9083-d9e625330708",
   "metadata": {},
   "outputs": [
    {
     "data": {
      "text/plain": [
       "[('Chaitanya', 'Anand', 34, 60.343, 70.4),\n",
       " ('Bob', 'Marley', 12, 65.4333, 70.456),\n",
       " ('Bob', 'Dylan', 5, 99, 99),\n",
       " ('Albert', 'Einstein', 70, 100, 100),\n",
       " ('Bob', 'Dylan', 30, 99, 99),\n",
       " ('Albert', 'Dylan', 32, 45, 46)]"
      ]
     },
     "execution_count": 307,
     "metadata": {},
     "output_type": "execute_result"
    }
   ],
   "source": [
    "array_values = [(\"Chaitanya\", \"Anand\", 34, 60.343, 70.4),\n",
    "                (\"Bob\", \"Marley\", 12, 65.4333, 70.456),\n",
    "                (\"Bob\", \"Dylan\", 5, 99, 99),\n",
    "                (\"Albert\", \"Einstein\", 70, 100, 100),\n",
    "                (\"Bob\", \"Dylan\", 30, 99, 99),\n",
    "                (\"Albert\", \"Dylan\", 32, 45, 46),]\n",
    "array_values"
   ]
  },
  {
   "cell_type": "code",
   "execution_count": 308,
   "id": "c7b141db-40bb-4c34-9f18-ab06069ef01c",
   "metadata": {},
   "outputs": [
    {
     "data": {
      "text/plain": [
       "array([('Chaitanya', b'Anand', 34,  60.34,  70.4 ),\n",
       "       ('Bob', b'Marley', 12,  65.44,  70.44),\n",
       "       ('Bob', b'Dylan',  5,  99.  ,  99.  ),\n",
       "       ('Albert', b'Einstein', 70, 100.  , 100.  ),\n",
       "       ('Bob', b'Dylan', 30,  99.  ,  99.  ),\n",
       "       ('Albert', b'Dylan', 32,  45.  ,  46.  )],\n",
       "      dtype=[('first_name', '<U16'), ('last_name', 'S10'), ('age', '<i4'), ('math_score', '<f2'), ('physics_score', '<f2')])"
      ]
     },
     "execution_count": 308,
     "metadata": {},
     "output_type": "execute_result"
    }
   ],
   "source": [
    "a = np.array(array_values, dtype = dtype)\n",
    "a"
   ]
  },
  {
   "cell_type": "code",
   "execution_count": 309,
   "id": "ecc971a9-0b68-4032-ba56-b26cb0772c97",
   "metadata": {},
   "outputs": [
    {
     "data": {
      "text/plain": [
       "array([('Albert', b'Dylan', 32,  45.  ,  46.  ),\n",
       "       ('Albert', b'Einstein', 70, 100.  , 100.  ),\n",
       "       ('Bob', b'Dylan',  5,  99.  ,  99.  ),\n",
       "       ('Bob', b'Dylan', 30,  99.  ,  99.  ),\n",
       "       ('Bob', b'Marley', 12,  65.44,  70.44),\n",
       "       ('Chaitanya', b'Anand', 34,  60.34,  70.4 )],\n",
       "      dtype=[('first_name', '<U16'), ('last_name', 'S10'), ('age', '<i4'), ('math_score', '<f2'), ('physics_score', '<f2')])"
      ]
     },
     "execution_count": 309,
     "metadata": {},
     "output_type": "execute_result"
    }
   ],
   "source": [
    "# Note that for structured arrays the default behavior is different (rows get sorted by first, second ... column respectively) i.e. axis = 0\n",
    "np.sort(a)"
   ]
  },
  {
   "cell_type": "code",
   "execution_count": 310,
   "id": "da14e70d-29e6-4268-be54-e3f663bd7fda",
   "metadata": {},
   "outputs": [
    {
     "name": "stdout",
     "output_type": "stream",
     "text": [
      "error\n"
     ]
    }
   ],
   "source": [
    "# Note that axis one gives an error for structured arrays\n",
    "# i.e. the array is like a data table with records\n",
    "try:\n",
    "    np.sort(a, axis = 1)\n",
    "except:\n",
    "    print(\"error\")"
   ]
  },
  {
   "cell_type": "code",
   "execution_count": 311,
   "id": "a4da8e23-6dc5-438d-a77c-345a8c0b25e6",
   "metadata": {},
   "outputs": [
    {
     "data": {
      "text/plain": [
       "array([('Chaitanya', b'Anand', 34,  60.34,  70.4 ),\n",
       "       ('Bob', b'Marley', 12,  65.44,  70.44),\n",
       "       ('Bob', b'Dylan',  5,  99.  ,  99.  ),\n",
       "       ('Albert', b'Einstein', 70, 100.  , 100.  ),\n",
       "       ('Bob', b'Dylan', 30,  99.  ,  99.  ),\n",
       "       ('Albert', b'Dylan', 32,  45.  ,  46.  )],\n",
       "      dtype=[('first_name', '<U16'), ('last_name', 'S10'), ('age', '<i4'), ('math_score', '<f2'), ('physics_score', '<f2')])"
      ]
     },
     "execution_count": 311,
     "metadata": {},
     "output_type": "execute_result"
    }
   ],
   "source": [
    "a"
   ]
  },
  {
   "cell_type": "code",
   "execution_count": 312,
   "id": "80812690-9aa8-4da1-8d97-25b9b37fd4ec",
   "metadata": {},
   "outputs": [
    {
     "data": {
      "text/plain": [
       "array([('Albert', b'Dylan', 32,  45.  ,  46.  ),\n",
       "       ('Chaitanya', b'Anand', 34,  60.34,  70.4 ),\n",
       "       ('Bob', b'Marley', 12,  65.44,  70.44),\n",
       "       ('Bob', b'Dylan',  5,  99.  ,  99.  ),\n",
       "       ('Bob', b'Dylan', 30,  99.  ,  99.  ),\n",
       "       ('Albert', b'Einstein', 70, 100.  , 100.  )],\n",
       "      dtype=[('first_name', '<U16'), ('last_name', 'S10'), ('age', '<i4'), ('math_score', '<f2'), ('physics_score', '<f2')])"
      ]
     },
     "execution_count": 312,
     "metadata": {},
     "output_type": "execute_result"
    }
   ],
   "source": [
    "np.sort(a, order = [\"math_score\"])"
   ]
  },
  {
   "cell_type": "code",
   "execution_count": 331,
   "id": "bacc47dd-9549-426f-b873-1c18443da1d4",
   "metadata": {},
   "outputs": [
    {
     "data": {
      "text/plain": [
       "array([3, 4, 2, 1, 0, 5])"
      ]
     },
     "execution_count": 331,
     "metadata": {},
     "output_type": "execute_result"
    }
   ],
   "source": [
    "# argsort will return the indices of the original array in their sorted order\n",
    "math_rank = np.argsort(a, order= [\"math_score\"])[::-1]\n",
    "math_rank"
   ]
  },
  {
   "cell_type": "code",
   "execution_count": 327,
   "id": "b68fb363-befe-482b-ba64-e59f5824602b",
   "metadata": {},
   "outputs": [
    {
     "data": {
      "text/plain": [
       "array([3, 4, 2, 1, 0, 5])"
      ]
     },
     "execution_count": 327,
     "metadata": {},
     "output_type": "execute_result"
    }
   ],
   "source": [
    "# [::-1] reverses the order and sorts by descending order\n",
    "math_rank = np.argsort(a, order= [\"math_score\"])[::-1]\n",
    "math_rank"
   ]
  },
  {
   "cell_type": "code",
   "execution_count": 328,
   "id": "379e05a9-abdb-4704-b167-090ba57caa0a",
   "metadata": {},
   "outputs": [
    {
     "data": {
      "text/plain": [
       "np.str_('Albert')"
      ]
     },
     "execution_count": 328,
     "metadata": {},
     "output_type": "execute_result"
    }
   ],
   "source": [
    "# Top rank person\n",
    "a[math_rank[0]]['first_name']"
   ]
  },
  {
   "cell_type": "code",
   "execution_count": 329,
   "id": "3fa81f40-4f35-409c-8412-f71fd39f732b",
   "metadata": {},
   "outputs": [
    {
     "data": {
      "text/plain": [
       "np.float16(100.0)"
      ]
     },
     "execution_count": 329,
     "metadata": {},
     "output_type": "execute_result"
    }
   ],
   "source": [
    "# What did the top math scorer score in Physics\n",
    "a[math_rank[0]]['physics_score']"
   ]
  },
  {
   "cell_type": "code",
   "execution_count": 330,
   "id": "34eca2df-8e27-4cca-9e5e-00b1f54ea525",
   "metadata": {},
   "outputs": [
    {
     "data": {
      "text/plain": [
       "np.str_('Bob')"
      ]
     },
     "execution_count": 330,
     "metadata": {},
     "output_type": "execute_result"
    }
   ],
   "source": [
    "# Second rank person\n",
    "a[math_rank[1]]['first_name']"
   ]
  },
  {
   "cell_type": "markdown",
   "id": "330d3797-bf11-4920-8757-f6d2e834617e",
   "metadata": {
    "jp-MarkdownHeadingCollapsed": true
   },
   "source": [
    "### Adding elements"
   ]
  },
  {
   "cell_type": "code",
   "execution_count": 237,
   "id": "624f2e76-527d-4140-a5df-2731da73593c",
   "metadata": {},
   "outputs": [],
   "source": [
    "a = np.array([1, 2, 3])\n",
    "b = np.array([4, 5, 6])"
   ]
  },
  {
   "cell_type": "code",
   "execution_count": 238,
   "id": "fcedc26f-e013-4bb2-88d3-1f321ad2bd3d",
   "metadata": {},
   "outputs": [
    {
     "data": {
      "text/plain": [
       "array([1, 2, 3, 4, 5, 6])"
      ]
     },
     "execution_count": 238,
     "metadata": {},
     "output_type": "execute_result"
    }
   ],
   "source": [
    "np.concat((a, b))"
   ]
  },
  {
   "cell_type": "code",
   "execution_count": 27,
   "id": "0ac78ef7-e187-40d6-b8d3-bb01e8e1cbcc",
   "metadata": {},
   "outputs": [
    {
     "name": "stdout",
     "output_type": "stream",
     "text": [
      "[1 2 3]\n",
      "[4 5 6]\n"
     ]
    }
   ],
   "source": [
    "print(a)\n",
    "print(b)"
   ]
  },
  {
   "cell_type": "code",
   "execution_count": 28,
   "id": "2b896269-2063-4913-bfda-b6f42752eac3",
   "metadata": {},
   "outputs": [
    {
     "data": {
      "text/plain": [
       "array([[1, 2],\n",
       "       [3, 4],\n",
       "       [5, 6]])"
      ]
     },
     "execution_count": 28,
     "metadata": {},
     "output_type": "execute_result"
    }
   ],
   "source": [
    "x = np.array([[1, 2], [3, 4]])\n",
    "y = np.array([[5, 6]])\n",
    "\n",
    "np.concatenate((x, y), axis=0)"
   ]
  },
  {
   "cell_type": "code",
   "execution_count": 29,
   "id": "12634ec1-0162-4b6a-a65b-9115b9743084",
   "metadata": {},
   "outputs": [],
   "source": [
    "# Concat with multi dimensional arrays\n",
    "\n",
    "a = np.array([[1, 2, 3], [4, 5, 6]])\n",
    "b = np.array([[7, 8, 9]]) # <-- Note that we have defined a 2 dimensional array b here. Concatenate will give an error with b = np.array([7, 8, 9])\n",
    "\n",
    "c = np.array([[8], [9]]) # <-- Also note how a row is initialises vs. a column which would have been np.array([[8, 9]]).This would give an error"
   ]
  },
  {
   "cell_type": "code",
   "execution_count": 30,
   "id": "aff53053-5871-4b73-9db5-1c55ae2ca0e5",
   "metadata": {},
   "outputs": [
    {
     "data": {
      "text/plain": [
       "array([[1, 2, 3],\n",
       "       [4, 5, 6],\n",
       "       [7, 8, 9]])"
      ]
     },
     "execution_count": 30,
     "metadata": {},
     "output_type": "execute_result"
    }
   ],
   "source": [
    "np.concatenate((a, b), axis=0)"
   ]
  },
  {
   "cell_type": "code",
   "execution_count": 31,
   "id": "e6d6022d-c1a7-4f7d-9d1b-3bbdcb59b352",
   "metadata": {},
   "outputs": [
    {
     "data": {
      "text/plain": [
       "array([[8],\n",
       "       [9]])"
      ]
     },
     "execution_count": 31,
     "metadata": {},
     "output_type": "execute_result"
    }
   ],
   "source": [
    "c"
   ]
  },
  {
   "cell_type": "code",
   "execution_count": 32,
   "id": "94e37ede-74ac-4864-8010-716ef35b875e",
   "metadata": {},
   "outputs": [
    {
     "data": {
      "text/plain": [
       "array([[1, 2, 3, 8],\n",
       "       [4, 5, 6, 9]])"
      ]
     },
     "execution_count": 32,
     "metadata": {},
     "output_type": "execute_result"
    }
   ],
   "source": [
    "np.concatenate((a, c), axis=1)"
   ]
  },
  {
   "cell_type": "markdown",
   "id": "d6b3281c-b441-4c66-affe-2536d0cfdaca",
   "metadata": {
    "jp-MarkdownHeadingCollapsed": true
   },
   "source": [
    "### Reshaping arrays"
   ]
  },
  {
   "cell_type": "code",
   "execution_count": 481,
   "id": "ccc5f896-bdd0-459c-a24e-16b8745e8b93",
   "metadata": {},
   "outputs": [],
   "source": [
    "a = np.array([1, 2, 3, 4, 5, 6, 7 , 8, 9, 10])"
   ]
  },
  {
   "cell_type": "code",
   "execution_count": 482,
   "id": "dd8fa8ae-6420-4a05-b5d5-22943717713c",
   "metadata": {},
   "outputs": [
    {
     "name": "stdout",
     "output_type": "stream",
     "text": [
      "[ 1  2  3  4  5  6  7  8  9 10]\n"
     ]
    }
   ],
   "source": [
    "print(a)"
   ]
  },
  {
   "cell_type": "code",
   "execution_count": 485,
   "id": "0aae4c48-ac45-45e9-b6a4-8c41f1bf61f5",
   "metadata": {},
   "outputs": [
    {
     "data": {
      "text/plain": [
       "array([[ 1,  2],\n",
       "       [ 3,  4],\n",
       "       [ 5,  6],\n",
       "       [ 7,  8],\n",
       "       [ 9, 10]])"
      ]
     },
     "execution_count": 485,
     "metadata": {},
     "output_type": "execute_result"
    }
   ],
   "source": [
    "# Default is row major ordering\n",
    "np.reshape(a, shape = (5, 2))"
   ]
  },
  {
   "cell_type": "code",
   "execution_count": 486,
   "id": "e4bd4ae6-f217-4602-872b-7a0201e9a358",
   "metadata": {},
   "outputs": [
    {
     "data": {
      "text/plain": [
       "array([[ 1,  2],\n",
       "       [ 3,  4],\n",
       "       [ 5,  6],\n",
       "       [ 7,  8],\n",
       "       [ 9, 10]])"
      ]
     },
     "execution_count": 486,
     "metadata": {},
     "output_type": "execute_result"
    }
   ],
   "source": [
    "# read or write in C type order. i.e. row major\n",
    "np.reshape(a, shape = (5, 2), order = 'C')"
   ]
  },
  {
   "cell_type": "code",
   "execution_count": 487,
   "id": "90e1c0a7-f7c6-40cf-a932-ef90ebd1f5c5",
   "metadata": {},
   "outputs": [
    {
     "data": {
      "text/plain": [
       "array([[ 1,  6],\n",
       "       [ 2,  7],\n",
       "       [ 3,  8],\n",
       "       [ 4,  9],\n",
       "       [ 5, 10]])"
      ]
     },
     "execution_count": 487,
     "metadata": {},
     "output_type": "execute_result"
    }
   ],
   "source": [
    "# read or write in Fortran type order. i.e. row major\n",
    "np.reshape(a, shape = (5, 2), order = 'F')"
   ]
  },
  {
   "cell_type": "code",
   "execution_count": 488,
   "id": "17238eef-fa95-4bd3-900e-59c809482d22",
   "metadata": {},
   "outputs": [],
   "source": [
    "b = np.reshape(a, shape = (5, 2))"
   ]
  },
  {
   "cell_type": "code",
   "execution_count": 489,
   "id": "be065830-27e3-4622-896b-e30c8959fb51",
   "metadata": {},
   "outputs": [
    {
     "name": "stdout",
     "output_type": "stream",
     "text": [
      "[ 1  2  3  4  5  6  7  8  9 10]\n",
      "[[ 1  2]\n",
      " [ 3  4]\n",
      " [ 5  6]\n",
      " [ 7  8]\n",
      " [ 9 10]]\n"
     ]
    }
   ],
   "source": [
    "# The original array is unmodified\n",
    "print(a)\n",
    "print(b)"
   ]
  },
  {
   "cell_type": "code",
   "execution_count": 490,
   "id": "5fcbcb5a-37e1-4e66-8ba5-b4b9b51d998d",
   "metadata": {},
   "outputs": [
    {
     "data": {
      "text/plain": [
       "array([[ 1,  2,  3,  4,  5,  6,  7,  8,  9, 10]])"
      ]
     },
     "execution_count": 490,
     "metadata": {},
     "output_type": "execute_result"
    }
   ],
   "source": [
    "# Reshape 2 D back to original shape (note that the array remains 2 dimensional after reventing)\n",
    "np.reshape(b, shape = (1, 10))"
   ]
  },
  {
   "cell_type": "code",
   "execution_count": 491,
   "id": "9b246951-9c68-482b-9781-2c0760da8df9",
   "metadata": {},
   "outputs": [
    {
     "data": {
      "text/plain": [
       "array([[ 1],\n",
       "       [ 2],\n",
       "       [ 3],\n",
       "       [ 4],\n",
       "       [ 5],\n",
       "       [ 6],\n",
       "       [ 7],\n",
       "       [ 8],\n",
       "       [ 9],\n",
       "       [10]])"
      ]
     },
     "execution_count": 491,
     "metadata": {},
     "output_type": "execute_result"
    }
   ],
   "source": [
    "# Reshape 2 D back to a row instead of column\n",
    "np.reshape(b, shape = (10, 1))"
   ]
  },
  {
   "cell_type": "markdown",
   "id": "8894a68a-be0b-4068-a89f-379854ac047a",
   "metadata": {
    "jp-MarkdownHeadingCollapsed": true
   },
   "source": [
    "### Changing the number of dimensions"
   ]
  },
  {
   "cell_type": "code",
   "execution_count": 42,
   "id": "5d01a681-189c-4c28-a53f-30b48950e6c4",
   "metadata": {},
   "outputs": [],
   "source": [
    "# here is a1 dimensional array\n",
    "\n",
    "a = np.array([1, 2, 3])"
   ]
  },
  {
   "cell_type": "code",
   "execution_count": 43,
   "id": "ff9f210d-f10b-499e-b436-06d39568bcf4",
   "metadata": {},
   "outputs": [
    {
     "data": {
      "text/plain": [
       "(3,)"
      ]
     },
     "execution_count": 43,
     "metadata": {},
     "output_type": "execute_result"
    }
   ],
   "source": [
    "a.shape"
   ]
  },
  {
   "cell_type": "code",
   "execution_count": 44,
   "id": "8a72a9f6-aa0a-4723-b2f7-e00fbf56371f",
   "metadata": {},
   "outputs": [
    {
     "data": {
      "text/plain": [
       "array([[1, 2, 3]])"
      ]
     },
     "execution_count": 44,
     "metadata": {},
     "output_type": "execute_result"
    }
   ],
   "source": [
    "# We can turn this into a 2 dimensional array as follows. Weird syntax!\n",
    "\n",
    "a[np.newaxis, :]"
   ]
  },
  {
   "cell_type": "code",
   "execution_count": 45,
   "id": "a6497051-31a1-42c0-add4-565f54e8edfb",
   "metadata": {},
   "outputs": [
    {
     "data": {
      "text/plain": [
       "array([[1],\n",
       "       [2],\n",
       "       [3]])"
      ]
     },
     "execution_count": 45,
     "metadata": {},
     "output_type": "execute_result"
    }
   ],
   "source": [
    "# Adding the axis on column\n",
    "\n",
    "a[:, np.newaxis]"
   ]
  },
  {
   "cell_type": "code",
   "execution_count": 46,
   "id": "bcd9b425-574e-43ce-a774-93497ff314fc",
   "metadata": {},
   "outputs": [
    {
     "name": "stdout",
     "output_type": "stream",
     "text": [
      "[[1 2 3]]\n",
      "[[1]\n",
      " [2]\n",
      " [3]]\n"
     ]
    }
   ],
   "source": [
    "# We can also expand the dimensions using the expanddims function\n",
    "\n",
    "c = np.expand_dims(a, axis = 0)\n",
    "d = np.expand_dims(a, axis = 1)\n",
    "\n",
    "print(c)\n",
    "print(d)"
   ]
  },
  {
   "cell_type": "markdown",
   "id": "0a00c6fe-60ef-45a4-b305-37244e63f175",
   "metadata": {
    "jp-MarkdownHeadingCollapsed": true
   },
   "source": [
    "### Subsetting the array"
   ]
  },
  {
   "cell_type": "code",
   "execution_count": 47,
   "id": "6a55222e-262a-4661-be10-49f3e2446a81",
   "metadata": {},
   "outputs": [
    {
     "data": {
      "text/plain": [
       "array([5, 6, 7])"
      ]
     },
     "execution_count": 47,
     "metadata": {},
     "output_type": "execute_result"
    }
   ],
   "source": [
    "# The slicing and dicing functionality are the basic subsetting methods in Numpy\n",
    "\n",
    "a = np.array([1, 2, 3, 4, 5, 6, 7, 8])\n",
    "\n",
    "a[4:7]"
   ]
  },
  {
   "cell_type": "code",
   "execution_count": 48,
   "id": "4c1ca015-f279-4cee-8ea1-1ea15169515c",
   "metadata": {},
   "outputs": [
    {
     "data": {
      "text/plain": [
       "array([4, 5])"
      ]
     },
     "execution_count": 48,
     "metadata": {},
     "output_type": "execute_result"
    }
   ],
   "source": [
    "# Negative index\n",
    "\n",
    "a[-5:]\n",
    "a[-5:-3]"
   ]
  },
  {
   "cell_type": "code",
   "execution_count": 49,
   "id": "c4058e01-7918-43fa-ba56-c49ad6ee2576",
   "metadata": {},
   "outputs": [
    {
     "name": "stdout",
     "output_type": "stream",
     "text": [
      "Index out of bounds error\n",
      "Index out of bounds error with negative index\n"
     ]
    }
   ],
   "source": [
    "# Index out of bounds\n",
    "\n",
    "try:\n",
    "    a[8]\n",
    "except IndexError:\n",
    "    print(\"Index out of bounds error\")\n",
    "\n",
    "\n",
    "try:\n",
    "    a[-9]\n",
    "except IndexError:\n",
    "    print(\"Index out of bounds error with negative index\")"
   ]
  },
  {
   "cell_type": "code",
   "execution_count": 50,
   "id": "2660c603-11b1-49d1-b617-1badce866942",
   "metadata": {},
   "outputs": [
    {
     "name": "stdout",
     "output_type": "stream",
     "text": [
      "[ True  True  True  True  True False False False]\n"
     ]
    }
   ],
   "source": [
    "# A logical statement on the array is applied element wise and a boolean array is generated\n",
    "# This boolean array can be used to subset another array\n",
    "less_than_6  = a<6\n",
    "\n",
    "print(less_than_6)"
   ]
  },
  {
   "cell_type": "code",
   "execution_count": 51,
   "id": "9b6ad2c0-b0fc-4b28-a796-b225874f0bbd",
   "metadata": {},
   "outputs": [
    {
     "data": {
      "text/plain": [
       "array([1, 2, 3, 4, 5])"
      ]
     },
     "execution_count": 51,
     "metadata": {},
     "output_type": "execute_result"
    }
   ],
   "source": [
    "# We can also subset based on a condition\n",
    "\n",
    "a[less_than_6]\n",
    "\n",
    "# Or just directly use\n",
    "a[a<6]"
   ]
  },
  {
   "cell_type": "code",
   "execution_count": 52,
   "id": "c166a97f-c4ae-49a2-a534-7c70223c3429",
   "metadata": {},
   "outputs": [
    {
     "data": {
      "text/plain": [
       "array([6, 8])"
      ]
     },
     "execution_count": 52,
     "metadata": {},
     "output_type": "execute_result"
    }
   ],
   "source": [
    "a[a%2==0]\n",
    "\n",
    "a[(a%2==0) & (a > 4)]"
   ]
  },
  {
   "cell_type": "code",
   "execution_count": 53,
   "id": "59fcac7a-5776-4363-b3f2-2ad370e1f361",
   "metadata": {},
   "outputs": [
    {
     "name": "stdout",
     "output_type": "stream",
     "text": [
      "(array([0, 1, 2, 3, 4, 5, 6, 7]),)\n"
     ]
    },
    {
     "data": {
      "text/plain": [
       "array([1, 2, 3, 4, 5, 6, 7, 8])"
      ]
     },
     "execution_count": 53,
     "metadata": {},
     "output_type": "execute_result"
    }
   ],
   "source": [
    "# We can also use the np.nonzero() function for subsetting\n",
    "# np.nonzero returns the indices of the elements that are non zero\n",
    "a = np.array([1, 2, 3, 4, 5, 6, 7, 8])\n",
    "\n",
    "print(np.nonzero(a))\n",
    "\n",
    "a[np.nonzero(a)]"
   ]
  },
  {
   "cell_type": "code",
   "execution_count": 54,
   "id": "41ecca8e-ff74-485b-9cd2-199b9f364c4d",
   "metadata": {},
   "outputs": [
    {
     "data": {
      "text/plain": [
       "array([6, 7, 8])"
      ]
     },
     "execution_count": 54,
     "metadata": {},
     "output_type": "execute_result"
    }
   ],
   "source": [
    "# Subsetting using nonzero\n",
    "\n",
    "a[np.nonzero(a>5)]"
   ]
  },
  {
   "cell_type": "markdown",
   "id": "70ab20b7-77f0-4539-9fa4-7a18ad666628",
   "metadata": {
    "jp-MarkdownHeadingCollapsed": true
   },
   "source": [
    "### Stacking arrays"
   ]
  },
  {
   "cell_type": "code",
   "execution_count": 55,
   "id": "e629ee54-a518-401e-bb40-e416b2db42e0",
   "metadata": {},
   "outputs": [],
   "source": [
    "a = np.array([1, 2, 3, 4, 5, 6])\n",
    "b = np.array([24, 34, 56, 76, 324, 54])"
   ]
  },
  {
   "cell_type": "code",
   "execution_count": 56,
   "id": "e7d3d3f1-e119-4f2c-bc25-f52f69d753d7",
   "metadata": {},
   "outputs": [
    {
     "name": "stdout",
     "output_type": "stream",
     "text": [
      "[  1   2   3   4   5   6  24  34  56  76 324  54]\n",
      "[[  1   2   3   4   5   6]\n",
      " [ 24  34  56  76 324  54]]\n"
     ]
    }
   ],
   "source": [
    "print(np.hstack((a, b)))\n",
    "print(np.vstack((a, b)))"
   ]
  },
  {
   "cell_type": "code",
   "execution_count": 57,
   "id": "f0debbd9-9062-4ede-9d5d-cb919b0e21fb",
   "metadata": {},
   "outputs": [],
   "source": [
    "# Note the slight difference when doing the same thing with 2 dimensional arrays\n",
    "a = np.array([[1, 2, 3, 4, 5, 6]])\n",
    "b = np.array([[24, 34, 56, 76, 324, 54]])"
   ]
  },
  {
   "cell_type": "code",
   "execution_count": 58,
   "id": "8cdfec67-5a38-40c4-9e8b-80410b8d9817",
   "metadata": {},
   "outputs": [
    {
     "name": "stdout",
     "output_type": "stream",
     "text": [
      "[[  1   2   3   4   5   6  24  34  56  76 324  54]]\n",
      "[[  1   2   3   4   5   6]\n",
      " [ 24  34  56  76 324  54]]\n"
     ]
    }
   ],
   "source": [
    "print(np.hstack((a, b))) # <-- this output is different in terms of its dimensionality\n",
    "print(np.vstack((a, b))) # <- this output is similar to the case above"
   ]
  },
  {
   "cell_type": "markdown",
   "id": "4566c00e-084e-4bb0-8d21-1b02c4b71503",
   "metadata": {
    "jp-MarkdownHeadingCollapsed": true
   },
   "source": [
    "### Splitting arrays"
   ]
  },
  {
   "cell_type": "code",
   "execution_count": 59,
   "id": "274bbe59-e7a9-4376-ae21-d27c0b68ccf9",
   "metadata": {},
   "outputs": [],
   "source": [
    "a = np.array([[1, 2, 3, 4, 5, 6], [24, 34, 56, 76, 324, 54], [23, 2, 2, 1, 1, 6]])"
   ]
  },
  {
   "cell_type": "code",
   "execution_count": 60,
   "id": "0f5bc92c-9476-462f-b422-f1e3144d5ec6",
   "metadata": {},
   "outputs": [
    {
     "data": {
      "text/plain": [
       "array([[  1,   2,   3,   4,   5,   6],\n",
       "       [ 24,  34,  56,  76, 324,  54],\n",
       "       [ 23,   2,   2,   1,   1,   6]])"
      ]
     },
     "execution_count": 60,
     "metadata": {},
     "output_type": "execute_result"
    }
   ],
   "source": [
    "a"
   ]
  },
  {
   "cell_type": "code",
   "execution_count": 61,
   "id": "37ead98a-acb3-4f45-8b51-955cdae72242",
   "metadata": {},
   "outputs": [
    {
     "name": "stdout",
     "output_type": "stream",
     "text": [
      "[array([[ 1,  2,  3],\n",
      "       [24, 34, 56],\n",
      "       [23,  2,  2]]), array([[  4,   5,   6],\n",
      "       [ 76, 324,  54],\n",
      "       [  1,   1,   6]])]\n",
      "[array([[ 1,  2],\n",
      "       [24, 34],\n",
      "       [23,  2]]), array([[ 3,  4],\n",
      "       [56, 76],\n",
      "       [ 2,  1]]), array([[  5,   6],\n",
      "       [324,  54],\n",
      "       [  1,   6]])]\n",
      "Not possible to split into 4 equal parts\n"
     ]
    }
   ],
   "source": [
    "# Split into n equal parts\n",
    "\n",
    "print(np.hsplit(a, 2))\n",
    "\n",
    "print(np.hsplit(a, 3))\n",
    "try:\n",
    "    np.hsplit(a, 4)\n",
    "except:\n",
    "    print('Not possible to split into 4 equal parts')"
   ]
  },
  {
   "cell_type": "code",
   "execution_count": 62,
   "id": "49c7a4e5-a718-48c6-8850-3ed95ae4a837",
   "metadata": {},
   "outputs": [
    {
     "data": {
      "text/plain": [
       "[array([[1, 2, 3, 4, 5, 6]]),\n",
       " array([[ 24,  34,  56,  76, 324,  54]]),\n",
       " array([[23,  2,  2,  1,  1,  6]])]"
      ]
     },
     "execution_count": 62,
     "metadata": {},
     "output_type": "execute_result"
    }
   ],
   "source": [
    "# Same but with v split\n",
    "np.vsplit(a, 3)"
   ]
  },
  {
   "cell_type": "code",
   "execution_count": 63,
   "id": "a76a5ee3-2fa2-4871-be9d-64ccdc3bfa06",
   "metadata": {},
   "outputs": [
    {
     "name": "stdout",
     "output_type": "stream",
     "text": [
      "[[  1   2   3   4   5   6]\n",
      " [ 24  34  56  76 324  54]\n",
      " [ 23   2   2   1   1   6]]\n",
      "[array([[ 1],\n",
      "       [24],\n",
      "       [23]]), array([[ 2,  3,  4],\n",
      "       [34, 56, 76],\n",
      "       [ 2,  2,  1]]), array([[  5,   6],\n",
      "       [324,  54],\n",
      "       [  1,   6]])]\n"
     ]
    }
   ],
   "source": [
    "# Split at a particular rows\n",
    "print(a)\n",
    "print(np.hsplit(a, (1, 4)))"
   ]
  },
  {
   "cell_type": "code",
   "execution_count": 64,
   "id": "5a8c9668-ec32-4ffd-a283-4cb5780376b5",
   "metadata": {},
   "outputs": [
    {
     "name": "stdout",
     "output_type": "stream",
     "text": [
      "[[  1   2   3   4   5   6]\n",
      " [ 24  34  56  76 324  54]\n",
      " [ 23   2   2   1   1   6]]\n",
      "[array([[1, 2, 3, 4, 5, 6]]), array([[ 24,  34,  56,  76, 324,  54]]), array([[23,  2,  2,  1,  1,  6]])]\n"
     ]
    }
   ],
   "source": [
    "# Split at a particular rows\n",
    "print(a)\n",
    "print(np.vsplit(a, (1, 2)))"
   ]
  },
  {
   "cell_type": "markdown",
   "id": "115d4855-3fe2-4f86-97d5-589d4cb3ce9e",
   "metadata": {
    "jp-MarkdownHeadingCollapsed": true
   },
   "source": [
    "### Views and copies"
   ]
  },
  {
   "cell_type": "code",
   "execution_count": 65,
   "id": "3fe15d1d-12ec-4e76-b17f-0373586e9ed7",
   "metadata": {},
   "outputs": [],
   "source": [
    "# A view is another variable pointing to the same array. Modifying the view changes the original\n",
    "\n",
    "a = np.array([1, 3, 4])\n",
    "\n",
    "b = a.view()"
   ]
  },
  {
   "cell_type": "code",
   "execution_count": 66,
   "id": "b249a1aa-a1a4-43d4-82e5-0f76eb141a0f",
   "metadata": {},
   "outputs": [
    {
     "name": "stdout",
     "output_type": "stream",
     "text": [
      "[1 3 4]\n",
      "[1 3 4]\n"
     ]
    }
   ],
   "source": [
    "print(a)\n",
    "print(b)"
   ]
  },
  {
   "cell_type": "code",
   "execution_count": 67,
   "id": "52522b6b-5c62-4884-8f41-f5e4b963275a",
   "metadata": {},
   "outputs": [],
   "source": [
    "b[2] = 200"
   ]
  },
  {
   "cell_type": "code",
   "execution_count": 68,
   "id": "87927c12-975c-42df-b583-80994cdc6fe4",
   "metadata": {},
   "outputs": [
    {
     "name": "stdout",
     "output_type": "stream",
     "text": [
      "[  1   3 200]\n",
      "[  1   3 200]\n"
     ]
    }
   ],
   "source": [
    "print(a)\n",
    "print(b)"
   ]
  },
  {
   "cell_type": "code",
   "execution_count": 69,
   "id": "81e259ed-70cf-486a-8c25-1117a4f471f4",
   "metadata": {},
   "outputs": [],
   "source": [
    "# A copy on the other hand is an exact replica. Modifying the replica does not modify the original\n",
    "\n",
    "a = np.array([1, 3, 4])\n",
    "\n",
    "b = a.copy()"
   ]
  },
  {
   "cell_type": "code",
   "execution_count": 70,
   "id": "a3d20327-fa9f-4bf6-8852-cf7f20c21a71",
   "metadata": {},
   "outputs": [
    {
     "name": "stdout",
     "output_type": "stream",
     "text": [
      "[1 3 4]\n",
      "[1 3 4]\n"
     ]
    }
   ],
   "source": [
    "print(a)\n",
    "print(b)"
   ]
  },
  {
   "cell_type": "code",
   "execution_count": 71,
   "id": "09f58990-5c09-4cdb-bc6c-8368906ca3e2",
   "metadata": {},
   "outputs": [],
   "source": [
    "b[2] = 200"
   ]
  },
  {
   "cell_type": "code",
   "execution_count": 72,
   "id": "33218ea5-925b-416e-894a-761e7faf3a2a",
   "metadata": {},
   "outputs": [
    {
     "name": "stdout",
     "output_type": "stream",
     "text": [
      "[1 3 4]\n",
      "[  1   3 200]\n"
     ]
    }
   ],
   "source": [
    "print(a)\n",
    "print(b)"
   ]
  },
  {
   "cell_type": "markdown",
   "id": "7aa7d62a-d922-48ae-a88c-cc83dfd720d8",
   "metadata": {
    "jp-MarkdownHeadingCollapsed": true
   },
   "source": [
    "### Basic array operations"
   ]
  },
  {
   "cell_type": "code",
   "execution_count": 73,
   "id": "8c43946f-56e3-47c9-9733-9fd22232bb04",
   "metadata": {},
   "outputs": [],
   "source": [
    "a = np.array([1, 3, 4])\n",
    "b = np.array([3, 5, 7])"
   ]
  },
  {
   "cell_type": "code",
   "execution_count": 74,
   "id": "80876614-84f9-4b9b-9137-ff8d40fb93d8",
   "metadata": {},
   "outputs": [
    {
     "data": {
      "text/plain": [
       "array([ 4,  8, 11])"
      ]
     },
     "execution_count": 74,
     "metadata": {},
     "output_type": "execute_result"
    }
   ],
   "source": [
    "a + b"
   ]
  },
  {
   "cell_type": "code",
   "execution_count": 75,
   "id": "1a8761f7-5670-4be5-bee6-fa64a3f07469",
   "metadata": {},
   "outputs": [
    {
     "data": {
      "text/plain": [
       "array([-2, -2, -3])"
      ]
     },
     "execution_count": 75,
     "metadata": {},
     "output_type": "execute_result"
    }
   ],
   "source": [
    "a - b"
   ]
  },
  {
   "cell_type": "code",
   "execution_count": 76,
   "id": "d380083e-b195-4617-9b35-499f8a952e62",
   "metadata": {},
   "outputs": [
    {
     "data": {
      "text/plain": [
       "array([ 3, 15, 28])"
      ]
     },
     "execution_count": 76,
     "metadata": {},
     "output_type": "execute_result"
    }
   ],
   "source": [
    "a * b"
   ]
  },
  {
   "cell_type": "code",
   "execution_count": 77,
   "id": "3a8a5cb0-09a6-44ae-b2eb-3876ce51ffb9",
   "metadata": {},
   "outputs": [
    {
     "data": {
      "text/plain": [
       "array([    1,   243, 16384])"
      ]
     },
     "execution_count": 77,
     "metadata": {},
     "output_type": "execute_result"
    }
   ],
   "source": [
    "# Matric Multiplication\n",
    "a ** b"
   ]
  },
  {
   "cell_type": "code",
   "execution_count": 78,
   "id": "54faa487-0bc9-4070-b422-80117755c54c",
   "metadata": {},
   "outputs": [
    {
     "data": {
      "text/plain": [
       "array([0.33333333, 0.6       , 0.57142857])"
      ]
     },
     "execution_count": 78,
     "metadata": {},
     "output_type": "execute_result"
    }
   ],
   "source": [
    "a / b"
   ]
  },
  {
   "cell_type": "markdown",
   "id": "94791d93-9bcf-4101-bbe5-53d902d6e152",
   "metadata": {
    "jp-MarkdownHeadingCollapsed": true
   },
   "source": [
    "### Summarising"
   ]
  },
  {
   "cell_type": "code",
   "execution_count": 79,
   "id": "78071389-2cc6-4aa5-8282-5b3f5c475f50",
   "metadata": {},
   "outputs": [],
   "source": [
    "a = np.array([1, 3, 4])"
   ]
  },
  {
   "cell_type": "code",
   "execution_count": 80,
   "id": "add536bf-3a30-4164-8252-06d02be60c2c",
   "metadata": {},
   "outputs": [
    {
     "name": "stdout",
     "output_type": "stream",
     "text": [
      "8\n"
     ]
    }
   ],
   "source": [
    "print(a.sum())"
   ]
  },
  {
   "cell_type": "code",
   "execution_count": 81,
   "id": "1ba5159d-fa0a-433b-9eee-8256495d1899",
   "metadata": {},
   "outputs": [
    {
     "name": "stdout",
     "output_type": "stream",
     "text": [
      "4\n"
     ]
    }
   ],
   "source": [
    "print(a.max())"
   ]
  },
  {
   "cell_type": "code",
   "execution_count": 82,
   "id": "f1b6bdd4-29b0-4ca9-bfa9-3c4220fb3a56",
   "metadata": {},
   "outputs": [
    {
     "name": "stdout",
     "output_type": "stream",
     "text": [
      "1\n"
     ]
    }
   ],
   "source": [
    "print(a.min())"
   ]
  },
  {
   "cell_type": "code",
   "execution_count": 83,
   "id": "f40a4b14-06cd-4200-8e29-eb8cacad4164",
   "metadata": {},
   "outputs": [],
   "source": [
    "a = np.array([[1, 3, 4], [23,45,67]])"
   ]
  },
  {
   "cell_type": "code",
   "execution_count": 84,
   "id": "9320c909-bd40-48d0-a605-312e214c988e",
   "metadata": {},
   "outputs": [
    {
     "name": "stdout",
     "output_type": "stream",
     "text": [
      "[[ 1  3  4]\n",
      " [23 45 67]]\n",
      "143\n",
      "[24 48 71]\n",
      "[  8 135]\n"
     ]
    }
   ],
   "source": [
    "print(a)\n",
    "\n",
    "print(a.sum())\n",
    "print(a.sum(axis = 0))\n",
    "print(a.sum(axis = 1))"
   ]
  },
  {
   "cell_type": "markdown",
   "id": "d4a4c9ee-b45f-418d-bd60-c9f469c6b843",
   "metadata": {
    "jp-MarkdownHeadingCollapsed": true
   },
   "source": [
    "### Generating random numbers"
   ]
  },
  {
   "cell_type": "code",
   "execution_count": 85,
   "id": "2ca76b03-4648-4e04-89f7-6f1252c257b0",
   "metadata": {},
   "outputs": [],
   "source": [
    "rng = np.random.default_rng()"
   ]
  },
  {
   "cell_type": "code",
   "execution_count": 86,
   "id": "d00ebfda-8f73-4f00-8276-8f4567a3c7d7",
   "metadata": {},
   "outputs": [
    {
     "data": {
      "text/plain": [
       "0.2031875875964987"
      ]
     },
     "execution_count": 86,
     "metadata": {},
     "output_type": "execute_result"
    }
   ],
   "source": [
    "rng.random()"
   ]
  },
  {
   "cell_type": "code",
   "execution_count": 87,
   "id": "0e0d5459-f79d-4ccc-9788-a07a2ef0c738",
   "metadata": {},
   "outputs": [
    {
     "data": {
      "text/plain": [
       "array([-0.88676708, -2.49986395,  2.10836967, -0.00665488, -0.58205241,\n",
       "        0.30839614, -0.51152656, -0.63360813,  0.89272959, -1.89943904])"
      ]
     },
     "execution_count": 87,
     "metadata": {},
     "output_type": "execute_result"
    }
   ],
   "source": [
    "rng.standard_normal(10)"
   ]
  },
  {
   "cell_type": "code",
   "execution_count": 88,
   "id": "a3309e65-1712-4ebf-82b8-89fd183f9369",
   "metadata": {},
   "outputs": [
    {
     "data": {
      "text/plain": [
       "array([3, 4, 1, 1, 0])"
      ]
     },
     "execution_count": 88,
     "metadata": {},
     "output_type": "execute_result"
    }
   ],
   "source": [
    "rng.integers(low=0, high=10, size=5)"
   ]
  },
  {
   "cell_type": "code",
   "execution_count": 89,
   "id": "4faeb14f-7a8c-4cf2-a884-ecb62772981b",
   "metadata": {},
   "outputs": [
    {
     "data": {
      "text/plain": [
       "array([[6, 5, 3, 2],\n",
       "       [5, 9, 7, 9]])"
      ]
     },
     "execution_count": 89,
     "metadata": {},
     "output_type": "execute_result"
    }
   ],
   "source": [
    "rng.integers(low=0, high=10, size=(2, 4))"
   ]
  },
  {
   "cell_type": "markdown",
   "id": "21093677-650a-41be-be3e-64eb51d84f8f",
   "metadata": {
    "jp-MarkdownHeadingCollapsed": true
   },
   "source": [
    "### Uniques and counts"
   ]
  },
  {
   "cell_type": "code",
   "execution_count": 90,
   "id": "4a385ce0-40a7-41eb-9185-0ab6a4940fed",
   "metadata": {},
   "outputs": [],
   "source": [
    "a = np.array([1,2,34,34,4,6536,1, 12, 12, 12])"
   ]
  },
  {
   "cell_type": "code",
   "execution_count": 91,
   "id": "1cd75770-34b8-4c2a-a9a8-ccfe468f693a",
   "metadata": {},
   "outputs": [
    {
     "name": "stdout",
     "output_type": "stream",
     "text": [
      "[   1    2    4   12   34 6536]\n",
      "(array([   1,    2,    4,   12,   34, 6536]), array([2, 1, 1, 3, 2, 1]))\n",
      "(array([   1,    2,    4,   12,   34, 6536]), array([0, 1, 4, 7, 2, 5]))\n"
     ]
    }
   ],
   "source": [
    "print(np.unique(a))\n",
    "\n",
    "# Count of occurrances of each unique value\n",
    "print(np.unique(a, return_counts=True))\n",
    "\n",
    "# First index position of the unique value\n",
    "print(np.unique(a, return_index=True))"
   ]
  },
  {
   "cell_type": "markdown",
   "id": "e3d6067a-07d1-4de0-84aa-1fffba925e63",
   "metadata": {
    "jp-MarkdownHeadingCollapsed": true
   },
   "source": [
    "### Transposing"
   ]
  },
  {
   "cell_type": "code",
   "execution_count": 92,
   "id": "bc48c6de-b666-4d70-ab72-2c40500a9e84",
   "metadata": {},
   "outputs": [],
   "source": [
    "a = np.array([[1,2,34,34,4], [6536,1, 12, 12, 12]])"
   ]
  },
  {
   "cell_type": "code",
   "execution_count": 93,
   "id": "ec040d3a-6dc9-4d73-90ab-a2278557de87",
   "metadata": {},
   "outputs": [
    {
     "data": {
      "text/plain": [
       "array([[   1,    2,   34,   34,    4],\n",
       "       [6536,    1,   12,   12,   12]])"
      ]
     },
     "execution_count": 93,
     "metadata": {},
     "output_type": "execute_result"
    }
   ],
   "source": [
    "a"
   ]
  },
  {
   "cell_type": "code",
   "execution_count": 94,
   "id": "eb5b8bf5-a49f-4ce8-b957-9c407045c69d",
   "metadata": {},
   "outputs": [
    {
     "data": {
      "text/plain": [
       "array([[   1, 6536],\n",
       "       [   2,    1],\n",
       "       [  34,   12],\n",
       "       [  34,   12],\n",
       "       [   4,   12]])"
      ]
     },
     "execution_count": 94,
     "metadata": {},
     "output_type": "execute_result"
    }
   ],
   "source": [
    "a.T"
   ]
  },
  {
   "cell_type": "code",
   "execution_count": 95,
   "id": "1ebb1bfc-339a-4681-b278-5ebdbf86c999",
   "metadata": {},
   "outputs": [
    {
     "data": {
      "text/plain": [
       "array([[   1, 6536],\n",
       "       [   2,    1],\n",
       "       [  34,   12],\n",
       "       [  34,   12],\n",
       "       [   4,   12]])"
      ]
     },
     "execution_count": 95,
     "metadata": {},
     "output_type": "execute_result"
    }
   ],
   "source": [
    "a.transpose()"
   ]
  },
  {
   "cell_type": "markdown",
   "id": "cb3f13d7-5315-48c9-a99c-d9c922004721",
   "metadata": {
    "jp-MarkdownHeadingCollapsed": true
   },
   "source": [
    "### Reversing"
   ]
  },
  {
   "cell_type": "code",
   "execution_count": 96,
   "id": "51c0374e-fa2d-424d-a46f-57fadf1ad733",
   "metadata": {},
   "outputs": [],
   "source": [
    "a = np.array([1,2,34,34,4, 6536,1, 12, 12, 12])"
   ]
  },
  {
   "cell_type": "code",
   "execution_count": 97,
   "id": "d8816a3b-d934-47b2-ab49-878e54c6ddd5",
   "metadata": {},
   "outputs": [
    {
     "data": {
      "text/plain": [
       "array([  12,   12,   12,    1, 6536,    4,   34,   34,    2,    1])"
      ]
     },
     "execution_count": 97,
     "metadata": {},
     "output_type": "execute_result"
    }
   ],
   "source": [
    "np.flip(a)"
   ]
  },
  {
   "cell_type": "code",
   "execution_count": 98,
   "id": "62ab98a5-a462-4ece-bbcb-d05157d814dd",
   "metadata": {},
   "outputs": [],
   "source": [
    "a = np.array([[1,2,34,34,4], [6536,1, 12, 12, 12]])"
   ]
  },
  {
   "cell_type": "code",
   "execution_count": 99,
   "id": "f0323d2d-18c4-4ca8-b7f6-304fd79a1dce",
   "metadata": {},
   "outputs": [
    {
     "data": {
      "text/plain": [
       "array([[   1,    2,   34,   34,    4],\n",
       "       [6536,    1,   12,   12,   12]])"
      ]
     },
     "execution_count": 99,
     "metadata": {},
     "output_type": "execute_result"
    }
   ],
   "source": [
    "a"
   ]
  },
  {
   "cell_type": "code",
   "execution_count": 100,
   "id": "83c32511-b9e3-494f-90fd-0303ebd241d3",
   "metadata": {},
   "outputs": [
    {
     "data": {
      "text/plain": [
       "array([[  12,   12,   12,    1, 6536],\n",
       "       [   4,   34,   34,    2,    1]])"
      ]
     },
     "execution_count": 100,
     "metadata": {},
     "output_type": "execute_result"
    }
   ],
   "source": [
    "np.flip(a)"
   ]
  },
  {
   "cell_type": "code",
   "execution_count": 101,
   "id": "7f259407-f860-4ecb-b3ef-a4e2db83ae1f",
   "metadata": {},
   "outputs": [
    {
     "name": "stdout",
     "output_type": "stream",
     "text": [
      "[[   1    2   34   34    4]\n",
      " [6536    1   12   12   12]]\n"
     ]
    },
    {
     "data": {
      "text/plain": [
       "array([[6536,    1,   12,   12,   12],\n",
       "       [   1,    2,   34,   34,    4]])"
      ]
     },
     "execution_count": 101,
     "metadata": {},
     "output_type": "execute_result"
    }
   ],
   "source": [
    "print(a)\n",
    "# Reverse each column\n",
    "np.flip(a, axis = 0)"
   ]
  },
  {
   "cell_type": "code",
   "execution_count": 102,
   "id": "783c7611-1081-4200-ab3e-55331f12f166",
   "metadata": {},
   "outputs": [
    {
     "name": "stdout",
     "output_type": "stream",
     "text": [
      "[[   1    2   34   34    4]\n",
      " [6536    1   12   12   12]]\n"
     ]
    },
    {
     "data": {
      "text/plain": [
       "array([[   4,   34,   34,    2,    1],\n",
       "       [  12,   12,   12,    1, 6536]])"
      ]
     },
     "execution_count": 102,
     "metadata": {},
     "output_type": "execute_result"
    }
   ],
   "source": [
    "print(a)\n",
    "# Reverse each row\n",
    "np.flip(a, axis = 1)"
   ]
  },
  {
   "cell_type": "markdown",
   "id": "fce5305f-6b56-4043-be55-3201499a8809",
   "metadata": {
    "jp-MarkdownHeadingCollapsed": true
   },
   "source": [
    "### Flattening the array"
   ]
  },
  {
   "cell_type": "code",
   "execution_count": 103,
   "id": "6b98da5c-0a7c-4eea-9d22-a3b099957cfd",
   "metadata": {},
   "outputs": [],
   "source": [
    "x = np.array([[1 , 2, 3, 4], [5, 6, 7, 8], [9, 10, 11, 12]])"
   ]
  },
  {
   "cell_type": "code",
   "execution_count": 104,
   "id": "bbb044a0-d30d-4cb5-bd35-3db45dc540a2",
   "metadata": {},
   "outputs": [
    {
     "data": {
      "text/plain": [
       "array([ 1,  2,  3,  4,  5,  6,  7,  8,  9, 10, 11, 12])"
      ]
     },
     "execution_count": 104,
     "metadata": {},
     "output_type": "execute_result"
    }
   ],
   "source": [
    "# Creates a new array. Original unaffected by any changes\n",
    "x.flatten()"
   ]
  },
  {
   "cell_type": "code",
   "execution_count": 105,
   "id": "0bb39600-e7e5-4f29-a400-b9cd463e4f58",
   "metadata": {},
   "outputs": [
    {
     "data": {
      "text/plain": [
       "array([[ 1,  2,  3,  4],\n",
       "       [ 5,  6,  7,  8],\n",
       "       [ 9, 10, 11, 12]])"
      ]
     },
     "execution_count": 105,
     "metadata": {},
     "output_type": "execute_result"
    }
   ],
   "source": [
    "x"
   ]
  },
  {
   "cell_type": "code",
   "execution_count": 106,
   "id": "9d169ad3-9e5f-4f89-8975-703253d16bbc",
   "metadata": {},
   "outputs": [],
   "source": [
    "a = x.flatten()"
   ]
  },
  {
   "cell_type": "code",
   "execution_count": 107,
   "id": "440e1d8e-7709-485d-b704-85e11ca17e3d",
   "metadata": {},
   "outputs": [],
   "source": [
    "a[0] = 2000"
   ]
  },
  {
   "cell_type": "code",
   "execution_count": 108,
   "id": "496768e0-7869-48e3-b8ed-8b18288043f1",
   "metadata": {},
   "outputs": [
    {
     "name": "stdout",
     "output_type": "stream",
     "text": [
      "[[ 1  2  3  4]\n",
      " [ 5  6  7  8]\n",
      " [ 9 10 11 12]]\n",
      "[2000    2    3    4    5    6    7    8    9   10   11   12]\n"
     ]
    }
   ],
   "source": [
    "print(x) # <- Original unaffected\n",
    "print(a)"
   ]
  },
  {
   "cell_type": "code",
   "execution_count": 109,
   "id": "c7e175dc-b0b8-4e54-8d88-e07dab0f71fc",
   "metadata": {},
   "outputs": [
    {
     "data": {
      "text/plain": [
       "array([ 1,  2,  3,  4,  5,  6,  7,  8,  9, 10, 11, 12])"
      ]
     },
     "execution_count": 109,
     "metadata": {},
     "output_type": "execute_result"
    }
   ],
   "source": [
    "# Creates a flat view of the original. Any changes changes the original\n",
    "x.ravel()"
   ]
  },
  {
   "cell_type": "code",
   "execution_count": 110,
   "id": "8b55b7ea-5722-42bd-8fc6-f29e45bdb603",
   "metadata": {},
   "outputs": [
    {
     "data": {
      "text/plain": [
       "array([[ 1,  2,  3,  4],\n",
       "       [ 5,  6,  7,  8],\n",
       "       [ 9, 10, 11, 12]])"
      ]
     },
     "execution_count": 110,
     "metadata": {},
     "output_type": "execute_result"
    }
   ],
   "source": [
    "x"
   ]
  },
  {
   "cell_type": "code",
   "execution_count": 111,
   "id": "9300997d-5893-4e4d-82e3-ab728dcfa2bc",
   "metadata": {},
   "outputs": [],
   "source": [
    "a = x.ravel()"
   ]
  },
  {
   "cell_type": "code",
   "execution_count": 112,
   "id": "9ef3f0ec-cc1e-4d30-92ac-de8471c34f18",
   "metadata": {},
   "outputs": [],
   "source": [
    "a[0] = 2000"
   ]
  },
  {
   "cell_type": "code",
   "execution_count": 113,
   "id": "5b7ae676-a083-4a9d-9629-05a97d5b0e94",
   "metadata": {},
   "outputs": [
    {
     "name": "stdout",
     "output_type": "stream",
     "text": [
      "[[2000    2    3    4]\n",
      " [   5    6    7    8]\n",
      " [   9   10   11   12]]\n",
      "[2000    2    3    4    5    6    7    8    9   10   11   12]\n"
     ]
    }
   ],
   "source": [
    "print(x) # <- Original also changes\n",
    "print(a)"
   ]
  },
  {
   "cell_type": "markdown",
   "id": "c7540b55-a228-4837-9665-1aa062440ffc",
   "metadata": {
    "jp-MarkdownHeadingCollapsed": true
   },
   "source": [
    "### Saving and loading NumPy Objects"
   ]
  },
  {
   "cell_type": "markdown",
   "id": "94672b8d-f3d6-4d70-aca1-c049ba2597ca",
   "metadata": {},
   "source": [
    "np.save, np.savez, np.savetxt, np.load, np.loadtxt\n",
    "\n",
    "You will, at some point, want to save your arrays to disk and load them back without having to re-run the code. Fortunately, there are several ways to save and load objects with NumPy. The ndarray objects can be saved to and loaded from the disk files with loadtxt and savetxt functions that handle normal text files, load and save functions that handle NumPy binary files with a .npy file extension, and a savez function that handles NumPy files with a .npz file extension.\n",
    "\n",
    "The .npy and .npz files store data, shape, dtype, and other information required to reconstruct the ndarray in a way that allows the array to be correctly retrieved, even when the file is on another machine with different architecture."
   ]
  },
  {
   "cell_type": "code",
   "execution_count": 114,
   "id": "8a33cfd6-fbc6-438e-bd3b-09256b3c73e4",
   "metadata": {},
   "outputs": [],
   "source": [
    "a = np.array([1, 2, 3, 4, 5, 6])"
   ]
  },
  {
   "cell_type": "code",
   "execution_count": 118,
   "id": "717efad3-41b5-4349-9bec-fefacc79ddfc",
   "metadata": {},
   "outputs": [],
   "source": [
    "np.save('data/npy_saved_file', a)"
   ]
  },
  {
   "cell_type": "code",
   "execution_count": 119,
   "id": "b5408ea3-a6c7-4f2b-9131-d5226e355e2f",
   "metadata": {},
   "outputs": [],
   "source": [
    "b = np.load('data/npy_saved_file.npy')"
   ]
  },
  {
   "cell_type": "code",
   "execution_count": null,
   "id": "cc8014dd-097f-4a36-8b93-785ab16ce0d5",
   "metadata": {},
   "outputs": [],
   "source": [
    "print(b)"
   ]
  },
  {
   "cell_type": "code",
   "execution_count": 120,
   "id": "dbdd0073-393c-4cd7-9451-c94ac7d5fcac",
   "metadata": {},
   "outputs": [],
   "source": [
    "# csvs result in some datatype differences\n",
    "np.savetxt('data/np_saved_csv.csv', a)"
   ]
  },
  {
   "cell_type": "code",
   "execution_count": 121,
   "id": "b559b36b-ffbf-4020-bf5f-77ec240a874e",
   "metadata": {},
   "outputs": [
    {
     "data": {
      "text/plain": [
       "array([1., 2., 3., 4., 5., 6.])"
      ]
     },
     "execution_count": 121,
     "metadata": {},
     "output_type": "execute_result"
    }
   ],
   "source": [
    "np.loadtxt('data/np_saved_csv.csv')"
   ]
  },
  {
   "cell_type": "markdown",
   "id": "b30dee0e-c764-4f42-b9c0-c923d886e60e",
   "metadata": {},
   "source": [
    "### *** End of File ***"
   ]
  },
  {
   "cell_type": "code",
   "execution_count": null,
   "id": "efd105b2-ff75-41b0-89aa-e6122faa4cf9",
   "metadata": {},
   "outputs": [],
   "source": []
  },
  {
   "cell_type": "code",
   "execution_count": null,
   "id": "5f883a4f-59b5-4759-910f-fbe1c85d1873",
   "metadata": {},
   "outputs": [],
   "source": []
  },
  {
   "cell_type": "code",
   "execution_count": null,
   "id": "105568ff-a17c-49d6-9a6b-5b0cb5d6b3fb",
   "metadata": {},
   "outputs": [],
   "source": []
  },
  {
   "cell_type": "code",
   "execution_count": null,
   "id": "d7291b30-328d-40ce-a735-388831b15df1",
   "metadata": {},
   "outputs": [],
   "source": []
  }
 ],
 "metadata": {
  "kernelspec": {
   "display_name": "Python 3 (ipykernel)",
   "language": "python",
   "name": "python3"
  },
  "language_info": {
   "codemirror_mode": {
    "name": "ipython",
    "version": 3
   },
   "file_extension": ".py",
   "mimetype": "text/x-python",
   "name": "python",
   "nbconvert_exporter": "python",
   "pygments_lexer": "ipython3",
   "version": "3.11.3"
  }
 },
 "nbformat": 4,
 "nbformat_minor": 5
}
