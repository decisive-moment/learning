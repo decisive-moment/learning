{
 "cells": [
  {
   "cell_type": "markdown",
   "id": "d01d1621-566b-43bd-8f80-27336fd2bc85",
   "metadata": {},
   "source": [
    "# Introduction to Neural Networks"
   ]
  },
  {
   "cell_type": "code",
   "execution_count": null,
   "id": "8cdd3af7-192b-4a0e-869c-9c1f05055ec9",
   "metadata": {},
   "outputs": [],
   "source": []
  },
  {
   "cell_type": "markdown",
   "id": "c4a7e37b-8ce4-4893-9776-9ccad6cc58f1",
   "metadata": {},
   "source": [
    "A useful tool for playing around with simple neural networks and gaining an intuition of their functioning <br>\n",
    "https://playground.tensorflow.org/"
   ]
  },
  {
   "cell_type": "code",
   "execution_count": null,
   "id": "e6cefbef-bcb7-419b-bc62-ccacdda6b913",
   "metadata": {},
   "outputs": [],
   "source": []
  },
  {
   "cell_type": "code",
   "execution_count": null,
   "id": "72d9f45b-2c31-4c65-a22a-8f43833de5e2",
   "metadata": {},
   "outputs": [],
   "source": []
  }
 ],
 "metadata": {
  "kernelspec": {
   "display_name": "Python 3 (ipykernel)",
   "language": "python",
   "name": "python3"
  },
  "language_info": {
   "codemirror_mode": {
    "name": "ipython",
    "version": 3
   },
   "file_extension": ".py",
   "mimetype": "text/x-python",
   "name": "python",
   "nbconvert_exporter": "python",
   "pygments_lexer": "ipython3",
   "version": "3.9.19"
  }
 },
 "nbformat": 4,
 "nbformat_minor": 5
}
